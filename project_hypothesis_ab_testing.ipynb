{
 "cells": [
  {
   "cell_type": "markdown",
   "metadata": {},
   "source": [
    "# Исследование гипотез и анализ результатов A/B теста для интернет-магазина"
   ]
  },
  {
   "cell_type": "markdown",
   "metadata": {},
   "source": [
    "**Описание проекта**\n",
    "\n",
    "В рамках проекта проводится маркетинговое исследование для крупного интернет-магазина.\n",
    "\n",
    "Основа исследования - список гипотез с мероприятиями по увеличению выручки интернет-магазина, а также информация о заказах и посещениях пользователей по результатам проведения A/B тестирования.\n",
    "\n",
    "**Цели проекта**: \n",
    "1. Провести приоритизацию гипотез, направленных на увеличение выручки интернет-магазина;\n",
    "2. Провести анализ результатов А/В-теста;\n",
    "3. Сформировать и аргументировать решение об остановке или продолжении тестирования."
   ]
  },
  {
   "cell_type": "markdown",
   "metadata": {},
   "source": [
    "**Описание исходных данных**\n",
    "\n",
    "*Гипотезы — ‘[hypothesis.csv](https://code.s3.yandex.net/datasets/hypothesis.csv)':*\n",
    "\n",
    "'Hypothesis' — краткое описание гипотезы;\\\n",
    "'Reach' — охват пользователей по 10-балльной шкале;\\\n",
    "'Impact' — влияние на пользователей по 10-балльной шкале;\\\n",
    "'Confidence' — уверенность в гипотезе по 10-балльной шкале;\\\n",
    "'Efforts' — затраты ресурсов на проверку гипотезы по 10-балльной шкале. Чем больше значение Efforts, тем дороже проверка гипотезы.\n",
    "\n",
    "*Заказы — ‘[orders.csv](https://code.s3.yandex.net/datasets/orders.csv)’:*\n",
    "\n",
    "'transactionId' — идентификатор заказа;\\\n",
    "'visitorId' — идентификатор пользователя, совершившего заказ;\\\n",
    "'date' — дата, когда был совершён заказ;\\\n",
    "'revenue' — выручка заказа;\\\n",
    "'group' — группа A/B-теста, в которую попал заказ.\n",
    "\n",
    "*Посещения — ‘[visitors.csv](https://code.s3.yandex.net/datasets/visitors.csv)’:*\n",
    "\n",
    "'date' — дата;\\\n",
    "'group' — группа A/B-теста;\\\n",
    "'visitors' — количество пользователей в указанную дату в указанной группе A/B-теста."
   ]
  },
  {
   "cell_type": "markdown",
   "metadata": {},
   "source": [
    "**Цели исследования**\n",
    "\n",
    "1. Изучить следующие параметры оценки гипотез и A/B тестирования: \n",
    "    * *гипотезы*: описание гипотезы, охват пользователей, влияние на пользователей, уверенность в оценке, трудозатраты на реализацию;\n",
    "    * *заказы*: дата и стоимость заказа, группа A/B-теста, в которую попал заказ;\n",
    "    * *посещения*: дата и количество посещений пользователей, группа A/B-теста.\n",
    "2. Произвести предобработку данных: корректировка типов данных, поиск пропусков, дубликатов, выбивающихся значений и проверка пересечений пользователей в группах A/B-теста.\n",
    "3. Осуществить расчет оценки приоритета гипотез методами ICE и RICE, определить наиболее перспективные с учетом различных факторов.\n",
    "4. Сформировать агрегированный датафрейм с кумулятивными данными по заказам и пользователям в разрезе групп тестирования.\n",
    "5. Изучить и визуализировать динамику изменения кумулятивных метрик по группам тестирования:\n",
    "    - кумулятивная выручка;\n",
    "    - кумулятивный средний чек;\n",
    "    - относительное изменение кумулятивного среднего чека группы B к группе A;\n",
    "    - кумулятивное среднее количество заказов на посетителя;\n",
    "    - относительное изменение кумулятивного среднего количества заказов на посетителя группы B к группе A;\n",
    "6. Проследить распределение количества заказов по пользователям, а также распределение стоимостей заказов.\n",
    "7. Рассчитать 95-й и 99-й перцентили количества заказов на пользователя и стоимости заказов в целях отсечения аномальных значений.\n",
    "8. Определить наиболее подходящий статистический тест для проверки гипотез с учетом специфики распределения данных.\n",
    "9. Выдвинуть нулевую и альтернативную гипотезы для проведения статистических тестов на основе \"сырых\" и \"очищенных\" данных для оценки статистической значимости следующих параметров:\n",
    "    - различия в среднем количестве заказов на посетителя между группами A/B-теста;\n",
    "    - различия в среднем чеке заказа между группами A/B-теста.\n",
    "10. Проанализировать результаты статистического теста.\n",
    "11. Сформировать и аргументировать решение о продолжении/остановке A/B-теста.\n",
    "10. Подготовить итоговые выводы исследования."
   ]
  },
  {
   "cell_type": "markdown",
   "metadata": {},
   "source": [
    "## Загрузка и первичный анализ данных"
   ]
  },
  {
   "cell_type": "code",
   "execution_count": 1,
   "metadata": {},
   "outputs": [],
   "source": [
    "# импортируем библиотеки\n",
    "\n",
    "import pandas as pd\n",
    "import datetime as dt\n",
    "import numpy as np\n",
    "import scipy.stats as st\n",
    "import matplotlib.pyplot as plt"
   ]
  },
  {
   "cell_type": "code",
   "execution_count": 2,
   "metadata": {},
   "outputs": [],
   "source": [
    "# создаем датафреймы с данными\n",
    "try:\n",
    "    hypothesis, orders, visitors = ( #гипотезы, заказы, посещения\n",
    "        pd.read_csv('/datasets/hypothesis.csv', sep = ','),\n",
    "        pd.read_csv('/datasets/orders.csv', sep = ',', parse_dates=['date']),\n",
    "        pd.read_csv('/datasets/visitors.csv', sep = ',', parse_dates=['date']))\n",
    "except:\n",
    "    hypothesis, orders, visitors = (\n",
    "        pd.read_csv('hypothesis.csv', sep = ','),\n",
    "        pd.read_csv('orders.csv', sep = ',', parse_dates=['date']),\n",
    "        pd.read_csv('visitors.csv', sep = ',', parse_dates=['date']))"
   ]
  },
  {
   "cell_type": "code",
   "execution_count": 3,
   "metadata": {},
   "outputs": [],
   "source": [
    "# убираем ограничения по ширине столбцов\n",
    "pd.set_option('display.max_colwidth', None)\n",
    "\n",
    "# убираем ограничения на количество столбцов\n",
    "pd.set_option('display.max_columns', None)"
   ]
  },
  {
   "cell_type": "code",
   "execution_count": 4,
   "metadata": {},
   "outputs": [],
   "source": [
    "# задаем функцию для получения базовой информации о датафреймах\n",
    "def basic_data_info(df):\n",
    "    display(df, df.info())\n",
    "    print('-' * 50)\n",
    "    print('Количество пропусков:')\n",
    "    display(df.isna().sum())\n",
    "    print('-' * 50)\n",
    "    print('Количество явных дубликатов:')\n",
    "    display(df.duplicated().sum())\n",
    "    print('-' * 50)\n",
    "    print('Проверка корректности наименований столбцов:')\n",
    "    display(df.columns)"
   ]
  },
  {
   "cell_type": "code",
   "execution_count": 5,
   "metadata": {},
   "outputs": [
    {
     "name": "stdout",
     "output_type": "stream",
     "text": [
      "<class 'pandas.core.frame.DataFrame'>\n",
      "RangeIndex: 62 entries, 0 to 61\n",
      "Data columns (total 3 columns):\n",
      " #   Column    Non-Null Count  Dtype         \n",
      "---  ------    --------------  -----         \n",
      " 0   date      62 non-null     datetime64[ns]\n",
      " 1   group     62 non-null     object        \n",
      " 2   visitors  62 non-null     int64         \n",
      "dtypes: datetime64[ns](1), int64(1), object(1)\n",
      "memory usage: 1.6+ KB\n"
     ]
    },
    {
     "data": {
      "text/html": [
       "<div>\n",
       "<style scoped>\n",
       "    .dataframe tbody tr th:only-of-type {\n",
       "        vertical-align: middle;\n",
       "    }\n",
       "\n",
       "    .dataframe tbody tr th {\n",
       "        vertical-align: top;\n",
       "    }\n",
       "\n",
       "    .dataframe thead th {\n",
       "        text-align: right;\n",
       "    }\n",
       "</style>\n",
       "<table border=\"1\" class=\"dataframe\">\n",
       "  <thead>\n",
       "    <tr style=\"text-align: right;\">\n",
       "      <th></th>\n",
       "      <th>date</th>\n",
       "      <th>group</th>\n",
       "      <th>visitors</th>\n",
       "    </tr>\n",
       "  </thead>\n",
       "  <tbody>\n",
       "    <tr>\n",
       "      <th>0</th>\n",
       "      <td>2019-08-01</td>\n",
       "      <td>A</td>\n",
       "      <td>719</td>\n",
       "    </tr>\n",
       "    <tr>\n",
       "      <th>1</th>\n",
       "      <td>2019-08-02</td>\n",
       "      <td>A</td>\n",
       "      <td>619</td>\n",
       "    </tr>\n",
       "    <tr>\n",
       "      <th>2</th>\n",
       "      <td>2019-08-03</td>\n",
       "      <td>A</td>\n",
       "      <td>507</td>\n",
       "    </tr>\n",
       "    <tr>\n",
       "      <th>3</th>\n",
       "      <td>2019-08-04</td>\n",
       "      <td>A</td>\n",
       "      <td>717</td>\n",
       "    </tr>\n",
       "    <tr>\n",
       "      <th>4</th>\n",
       "      <td>2019-08-05</td>\n",
       "      <td>A</td>\n",
       "      <td>756</td>\n",
       "    </tr>\n",
       "    <tr>\n",
       "      <th>...</th>\n",
       "      <td>...</td>\n",
       "      <td>...</td>\n",
       "      <td>...</td>\n",
       "    </tr>\n",
       "    <tr>\n",
       "      <th>57</th>\n",
       "      <td>2019-08-27</td>\n",
       "      <td>B</td>\n",
       "      <td>720</td>\n",
       "    </tr>\n",
       "    <tr>\n",
       "      <th>58</th>\n",
       "      <td>2019-08-28</td>\n",
       "      <td>B</td>\n",
       "      <td>654</td>\n",
       "    </tr>\n",
       "    <tr>\n",
       "      <th>59</th>\n",
       "      <td>2019-08-29</td>\n",
       "      <td>B</td>\n",
       "      <td>531</td>\n",
       "    </tr>\n",
       "    <tr>\n",
       "      <th>60</th>\n",
       "      <td>2019-08-30</td>\n",
       "      <td>B</td>\n",
       "      <td>490</td>\n",
       "    </tr>\n",
       "    <tr>\n",
       "      <th>61</th>\n",
       "      <td>2019-08-31</td>\n",
       "      <td>B</td>\n",
       "      <td>718</td>\n",
       "    </tr>\n",
       "  </tbody>\n",
       "</table>\n",
       "<p>62 rows × 3 columns</p>\n",
       "</div>"
      ],
      "text/plain": [
       "         date group  visitors\n",
       "0  2019-08-01     A       719\n",
       "1  2019-08-02     A       619\n",
       "2  2019-08-03     A       507\n",
       "3  2019-08-04     A       717\n",
       "4  2019-08-05     A       756\n",
       "..        ...   ...       ...\n",
       "57 2019-08-27     B       720\n",
       "58 2019-08-28     B       654\n",
       "59 2019-08-29     B       531\n",
       "60 2019-08-30     B       490\n",
       "61 2019-08-31     B       718\n",
       "\n",
       "[62 rows x 3 columns]"
      ]
     },
     "metadata": {},
     "output_type": "display_data"
    },
    {
     "data": {
      "text/plain": [
       "None"
      ]
     },
     "metadata": {},
     "output_type": "display_data"
    },
    {
     "name": "stdout",
     "output_type": "stream",
     "text": [
      "--------------------------------------------------\n",
      "Количество пропусков:\n"
     ]
    },
    {
     "data": {
      "text/plain": [
       "date        0\n",
       "group       0\n",
       "visitors    0\n",
       "dtype: int64"
      ]
     },
     "metadata": {},
     "output_type": "display_data"
    },
    {
     "name": "stdout",
     "output_type": "stream",
     "text": [
      "--------------------------------------------------\n",
      "Количество явных дубликатов:\n"
     ]
    },
    {
     "data": {
      "text/plain": [
       "0"
      ]
     },
     "metadata": {},
     "output_type": "display_data"
    },
    {
     "name": "stdout",
     "output_type": "stream",
     "text": [
      "--------------------------------------------------\n",
      "Проверка корректности наименований столбцов:\n"
     ]
    },
    {
     "data": {
      "text/plain": [
       "Index(['date', 'group', 'visitors'], dtype='object')"
      ]
     },
     "metadata": {},
     "output_type": "display_data"
    }
   ],
   "source": [
    "# получаем информацию о датафрейме 'visitors'\n",
    "basic_data_info(visitors)"
   ]
  },
  {
   "cell_type": "code",
   "execution_count": 6,
   "metadata": {},
   "outputs": [
    {
     "name": "stdout",
     "output_type": "stream",
     "text": [
      "<class 'pandas.core.frame.DataFrame'>\n",
      "RangeIndex: 1197 entries, 0 to 1196\n",
      "Data columns (total 5 columns):\n",
      " #   Column         Non-Null Count  Dtype         \n",
      "---  ------         --------------  -----         \n",
      " 0   transactionId  1197 non-null   int64         \n",
      " 1   visitorId      1197 non-null   int64         \n",
      " 2   date           1197 non-null   datetime64[ns]\n",
      " 3   revenue        1197 non-null   int64         \n",
      " 4   group          1197 non-null   object        \n",
      "dtypes: datetime64[ns](1), int64(3), object(1)\n",
      "memory usage: 46.9+ KB\n"
     ]
    },
    {
     "data": {
      "text/html": [
       "<div>\n",
       "<style scoped>\n",
       "    .dataframe tbody tr th:only-of-type {\n",
       "        vertical-align: middle;\n",
       "    }\n",
       "\n",
       "    .dataframe tbody tr th {\n",
       "        vertical-align: top;\n",
       "    }\n",
       "\n",
       "    .dataframe thead th {\n",
       "        text-align: right;\n",
       "    }\n",
       "</style>\n",
       "<table border=\"1\" class=\"dataframe\">\n",
       "  <thead>\n",
       "    <tr style=\"text-align: right;\">\n",
       "      <th></th>\n",
       "      <th>transactionId</th>\n",
       "      <th>visitorId</th>\n",
       "      <th>date</th>\n",
       "      <th>revenue</th>\n",
       "      <th>group</th>\n",
       "    </tr>\n",
       "  </thead>\n",
       "  <tbody>\n",
       "    <tr>\n",
       "      <th>0</th>\n",
       "      <td>3667963787</td>\n",
       "      <td>3312258926</td>\n",
       "      <td>2019-08-15</td>\n",
       "      <td>1650</td>\n",
       "      <td>B</td>\n",
       "    </tr>\n",
       "    <tr>\n",
       "      <th>1</th>\n",
       "      <td>2804400009</td>\n",
       "      <td>3642806036</td>\n",
       "      <td>2019-08-15</td>\n",
       "      <td>730</td>\n",
       "      <td>B</td>\n",
       "    </tr>\n",
       "    <tr>\n",
       "      <th>2</th>\n",
       "      <td>2961555356</td>\n",
       "      <td>4069496402</td>\n",
       "      <td>2019-08-15</td>\n",
       "      <td>400</td>\n",
       "      <td>A</td>\n",
       "    </tr>\n",
       "    <tr>\n",
       "      <th>3</th>\n",
       "      <td>3797467345</td>\n",
       "      <td>1196621759</td>\n",
       "      <td>2019-08-15</td>\n",
       "      <td>9759</td>\n",
       "      <td>B</td>\n",
       "    </tr>\n",
       "    <tr>\n",
       "      <th>4</th>\n",
       "      <td>2282983706</td>\n",
       "      <td>2322279887</td>\n",
       "      <td>2019-08-15</td>\n",
       "      <td>2308</td>\n",
       "      <td>B</td>\n",
       "    </tr>\n",
       "    <tr>\n",
       "      <th>...</th>\n",
       "      <td>...</td>\n",
       "      <td>...</td>\n",
       "      <td>...</td>\n",
       "      <td>...</td>\n",
       "      <td>...</td>\n",
       "    </tr>\n",
       "    <tr>\n",
       "      <th>1192</th>\n",
       "      <td>2662137336</td>\n",
       "      <td>3733762160</td>\n",
       "      <td>2019-08-14</td>\n",
       "      <td>6490</td>\n",
       "      <td>B</td>\n",
       "    </tr>\n",
       "    <tr>\n",
       "      <th>1193</th>\n",
       "      <td>2203539145</td>\n",
       "      <td>370388673</td>\n",
       "      <td>2019-08-14</td>\n",
       "      <td>3190</td>\n",
       "      <td>A</td>\n",
       "    </tr>\n",
       "    <tr>\n",
       "      <th>1194</th>\n",
       "      <td>1807773912</td>\n",
       "      <td>573423106</td>\n",
       "      <td>2019-08-14</td>\n",
       "      <td>10550</td>\n",
       "      <td>A</td>\n",
       "    </tr>\n",
       "    <tr>\n",
       "      <th>1195</th>\n",
       "      <td>1947021204</td>\n",
       "      <td>1614305549</td>\n",
       "      <td>2019-08-14</td>\n",
       "      <td>100</td>\n",
       "      <td>A</td>\n",
       "    </tr>\n",
       "    <tr>\n",
       "      <th>1196</th>\n",
       "      <td>3936777065</td>\n",
       "      <td>2108080724</td>\n",
       "      <td>2019-08-15</td>\n",
       "      <td>202740</td>\n",
       "      <td>B</td>\n",
       "    </tr>\n",
       "  </tbody>\n",
       "</table>\n",
       "<p>1197 rows × 5 columns</p>\n",
       "</div>"
      ],
      "text/plain": [
       "      transactionId   visitorId       date  revenue group\n",
       "0        3667963787  3312258926 2019-08-15     1650     B\n",
       "1        2804400009  3642806036 2019-08-15      730     B\n",
       "2        2961555356  4069496402 2019-08-15      400     A\n",
       "3        3797467345  1196621759 2019-08-15     9759     B\n",
       "4        2282983706  2322279887 2019-08-15     2308     B\n",
       "...             ...         ...        ...      ...   ...\n",
       "1192     2662137336  3733762160 2019-08-14     6490     B\n",
       "1193     2203539145   370388673 2019-08-14     3190     A\n",
       "1194     1807773912   573423106 2019-08-14    10550     A\n",
       "1195     1947021204  1614305549 2019-08-14      100     A\n",
       "1196     3936777065  2108080724 2019-08-15   202740     B\n",
       "\n",
       "[1197 rows x 5 columns]"
      ]
     },
     "metadata": {},
     "output_type": "display_data"
    },
    {
     "data": {
      "text/plain": [
       "None"
      ]
     },
     "metadata": {},
     "output_type": "display_data"
    },
    {
     "name": "stdout",
     "output_type": "stream",
     "text": [
      "--------------------------------------------------\n",
      "Количество пропусков:\n"
     ]
    },
    {
     "data": {
      "text/plain": [
       "transactionId    0\n",
       "visitorId        0\n",
       "date             0\n",
       "revenue          0\n",
       "group            0\n",
       "dtype: int64"
      ]
     },
     "metadata": {},
     "output_type": "display_data"
    },
    {
     "name": "stdout",
     "output_type": "stream",
     "text": [
      "--------------------------------------------------\n",
      "Количество явных дубликатов:\n"
     ]
    },
    {
     "data": {
      "text/plain": [
       "0"
      ]
     },
     "metadata": {},
     "output_type": "display_data"
    },
    {
     "name": "stdout",
     "output_type": "stream",
     "text": [
      "--------------------------------------------------\n",
      "Проверка корректности наименований столбцов:\n"
     ]
    },
    {
     "data": {
      "text/plain": [
       "Index(['transactionId', 'visitorId', 'date', 'revenue', 'group'], dtype='object')"
      ]
     },
     "metadata": {},
     "output_type": "display_data"
    }
   ],
   "source": [
    "# получаем информацию о датафрейме 'orders'\n",
    "basic_data_info(orders)"
   ]
  },
  {
   "cell_type": "code",
   "execution_count": 7,
   "metadata": {
    "scrolled": false
   },
   "outputs": [
    {
     "name": "stdout",
     "output_type": "stream",
     "text": [
      "<class 'pandas.core.frame.DataFrame'>\n",
      "RangeIndex: 9 entries, 0 to 8\n",
      "Data columns (total 5 columns):\n",
      " #   Column      Non-Null Count  Dtype \n",
      "---  ------      --------------  ----- \n",
      " 0   Hypothesis  9 non-null      object\n",
      " 1   Reach       9 non-null      int64 \n",
      " 2   Impact      9 non-null      int64 \n",
      " 3   Confidence  9 non-null      int64 \n",
      " 4   Efforts     9 non-null      int64 \n",
      "dtypes: int64(4), object(1)\n",
      "memory usage: 488.0+ bytes\n"
     ]
    },
    {
     "data": {
      "text/html": [
       "<div>\n",
       "<style scoped>\n",
       "    .dataframe tbody tr th:only-of-type {\n",
       "        vertical-align: middle;\n",
       "    }\n",
       "\n",
       "    .dataframe tbody tr th {\n",
       "        vertical-align: top;\n",
       "    }\n",
       "\n",
       "    .dataframe thead th {\n",
       "        text-align: right;\n",
       "    }\n",
       "</style>\n",
       "<table border=\"1\" class=\"dataframe\">\n",
       "  <thead>\n",
       "    <tr style=\"text-align: right;\">\n",
       "      <th></th>\n",
       "      <th>Hypothesis</th>\n",
       "      <th>Reach</th>\n",
       "      <th>Impact</th>\n",
       "      <th>Confidence</th>\n",
       "      <th>Efforts</th>\n",
       "    </tr>\n",
       "  </thead>\n",
       "  <tbody>\n",
       "    <tr>\n",
       "      <th>0</th>\n",
       "      <td>Добавить два новых канала привлечения трафика, что позволит привлекать на 30% больше пользователей</td>\n",
       "      <td>3</td>\n",
       "      <td>10</td>\n",
       "      <td>8</td>\n",
       "      <td>6</td>\n",
       "    </tr>\n",
       "    <tr>\n",
       "      <th>1</th>\n",
       "      <td>Запустить собственную службу доставки, что сократит срок доставки заказов</td>\n",
       "      <td>2</td>\n",
       "      <td>5</td>\n",
       "      <td>4</td>\n",
       "      <td>10</td>\n",
       "    </tr>\n",
       "    <tr>\n",
       "      <th>2</th>\n",
       "      <td>Добавить блоки рекомендаций товаров на сайт интернет магазина, чтобы повысить конверсию и средний чек заказа</td>\n",
       "      <td>8</td>\n",
       "      <td>3</td>\n",
       "      <td>7</td>\n",
       "      <td>3</td>\n",
       "    </tr>\n",
       "    <tr>\n",
       "      <th>3</th>\n",
       "      <td>Изменить структура категорий, что увеличит конверсию, т.к. пользователи быстрее найдут нужный товар</td>\n",
       "      <td>8</td>\n",
       "      <td>3</td>\n",
       "      <td>3</td>\n",
       "      <td>8</td>\n",
       "    </tr>\n",
       "    <tr>\n",
       "      <th>4</th>\n",
       "      <td>Изменить цвет фона главной страницы, чтобы увеличить вовлеченность пользователей</td>\n",
       "      <td>3</td>\n",
       "      <td>1</td>\n",
       "      <td>1</td>\n",
       "      <td>1</td>\n",
       "    </tr>\n",
       "    <tr>\n",
       "      <th>5</th>\n",
       "      <td>Добавить страницу отзывов клиентов о магазине, что позволит увеличить количество заказов</td>\n",
       "      <td>3</td>\n",
       "      <td>2</td>\n",
       "      <td>2</td>\n",
       "      <td>3</td>\n",
       "    </tr>\n",
       "    <tr>\n",
       "      <th>6</th>\n",
       "      <td>Показать на главной странице баннеры с актуальными акциями и распродажами, чтобы увеличить конверсию</td>\n",
       "      <td>5</td>\n",
       "      <td>3</td>\n",
       "      <td>8</td>\n",
       "      <td>3</td>\n",
       "    </tr>\n",
       "    <tr>\n",
       "      <th>7</th>\n",
       "      <td>Добавить форму подписки на все основные страницы, чтобы собрать базу клиентов для email-рассылок</td>\n",
       "      <td>10</td>\n",
       "      <td>7</td>\n",
       "      <td>8</td>\n",
       "      <td>5</td>\n",
       "    </tr>\n",
       "    <tr>\n",
       "      <th>8</th>\n",
       "      <td>Запустить акцию, дающую скидку на товар в день рождения</td>\n",
       "      <td>1</td>\n",
       "      <td>9</td>\n",
       "      <td>9</td>\n",
       "      <td>5</td>\n",
       "    </tr>\n",
       "  </tbody>\n",
       "</table>\n",
       "</div>"
      ],
      "text/plain": [
       "                                                                                                     Hypothesis  \\\n",
       "0            Добавить два новых канала привлечения трафика, что позволит привлекать на 30% больше пользователей   \n",
       "1                                     Запустить собственную службу доставки, что сократит срок доставки заказов   \n",
       "2  Добавить блоки рекомендаций товаров на сайт интернет магазина, чтобы повысить конверсию и средний чек заказа   \n",
       "3           Изменить структура категорий, что увеличит конверсию, т.к. пользователи быстрее найдут нужный товар   \n",
       "4                              Изменить цвет фона главной страницы, чтобы увеличить вовлеченность пользователей   \n",
       "5                      Добавить страницу отзывов клиентов о магазине, что позволит увеличить количество заказов   \n",
       "6          Показать на главной странице баннеры с актуальными акциями и распродажами, чтобы увеличить конверсию   \n",
       "7              Добавить форму подписки на все основные страницы, чтобы собрать базу клиентов для email-рассылок   \n",
       "8                                                       Запустить акцию, дающую скидку на товар в день рождения   \n",
       "\n",
       "   Reach  Impact  Confidence  Efforts  \n",
       "0      3      10           8        6  \n",
       "1      2       5           4       10  \n",
       "2      8       3           7        3  \n",
       "3      8       3           3        8  \n",
       "4      3       1           1        1  \n",
       "5      3       2           2        3  \n",
       "6      5       3           8        3  \n",
       "7     10       7           8        5  \n",
       "8      1       9           9        5  "
      ]
     },
     "metadata": {},
     "output_type": "display_data"
    },
    {
     "data": {
      "text/plain": [
       "None"
      ]
     },
     "metadata": {},
     "output_type": "display_data"
    },
    {
     "name": "stdout",
     "output_type": "stream",
     "text": [
      "--------------------------------------------------\n",
      "Количество пропусков:\n"
     ]
    },
    {
     "data": {
      "text/plain": [
       "Hypothesis    0\n",
       "Reach         0\n",
       "Impact        0\n",
       "Confidence    0\n",
       "Efforts       0\n",
       "dtype: int64"
      ]
     },
     "metadata": {},
     "output_type": "display_data"
    },
    {
     "name": "stdout",
     "output_type": "stream",
     "text": [
      "--------------------------------------------------\n",
      "Количество явных дубликатов:\n"
     ]
    },
    {
     "data": {
      "text/plain": [
       "0"
      ]
     },
     "metadata": {},
     "output_type": "display_data"
    },
    {
     "name": "stdout",
     "output_type": "stream",
     "text": [
      "--------------------------------------------------\n",
      "Проверка корректности наименований столбцов:\n"
     ]
    },
    {
     "data": {
      "text/plain": [
       "Index(['Hypothesis', 'Reach', 'Impact', 'Confidence', 'Efforts'], dtype='object')"
      ]
     },
     "metadata": {},
     "output_type": "display_data"
    }
   ],
   "source": [
    "# получаем информацию о датафрейме 'hypothesis'\n",
    "basic_data_info(hypothesis)"
   ]
  },
  {
   "cell_type": "markdown",
   "metadata": {},
   "source": [
    "**Первичные итоги ознакомления с данными:**\n",
    "\n",
    "1. Датафрейм \"Посещения\" содержит 62 строки с информацией о посещениях сайта, собранных на основе 3 характеристик (дата посещения, группа A/B теста и количество пользователей в указанную дату в разрезе данной группы A/B-теста).\n",
    "2. Датафрейм \"Заказы\" содержит информацию по 1197 заказам пользователей с учетом 3 характеристик (идентификатор заказа, идентификатор пользователя, совершившего заказ, дата заказа, объем выручки с заказа и группа A/B-теста, в которую попал заказ).\n",
    "3. Датафрейм \"Гипотезы\" содержит информацию по 9 гипотезам, которые можно оценить на основе 4 параметров: 'reach', impact', 'confidence', 'efforts'.\n",
    "4. Во всех датафреймах отсутствуют пропуски. Явные дубликаты не выявлены.\n",
    "5. Наименования столбцов имеют корректный вид и пригодны для дальнейшей работы. Однако есть смысл переименовать столбцы в соответствии со стилем snake_case (приведение к строчному регистру)."
   ]
  },
  {
   "cell_type": "markdown",
   "metadata": {},
   "source": [
    "## Предобработка данных"
   ]
  },
  {
   "cell_type": "markdown",
   "metadata": {},
   "source": [
    "Скорректируем наименования столбцов в соответствии с предложенными рекомендациями."
   ]
  },
  {
   "cell_type": "code",
   "execution_count": 8,
   "metadata": {},
   "outputs": [
    {
     "data": {
      "text/plain": [
       "Index(['hypothesis', 'reach', 'impact', 'confidence', 'efforts'], dtype='object')"
      ]
     },
     "metadata": {},
     "output_type": "display_data"
    },
    {
     "data": {
      "text/plain": [
       "Index(['transaction_id', 'visitor_id', 'date', 'revenue', 'group'], dtype='object')"
      ]
     },
     "metadata": {},
     "output_type": "display_data"
    }
   ],
   "source": [
    "# корректировка названий столбцов в датафреймах 'hypothesis' и 'orders'\n",
    "hypothesis.columns = hypothesis.columns.str.lower()\n",
    "orders.columns = [name.replace('Id', '_id') for name in orders.columns]\n",
    "\n",
    "# проверка результатов\n",
    "display(hypothesis.columns, orders.columns)"
   ]
  },
  {
   "cell_type": "code",
   "execution_count": 9,
   "metadata": {},
   "outputs": [
    {
     "name": "stdout",
     "output_type": "stream",
     "text": [
      "Количество совпадающих пользователей в двух группах A/B теста: 58\n",
      "Доля совпадающих пользователей в двух группах A/B теста: 5.63%\n"
     ]
    }
   ],
   "source": [
    "# проверим группы A/B теста на совпадения пользователей\n",
    "\n",
    "a_group = orders.query('group == \"A\"')['visitor_id']\n",
    "b_group = orders.query('group == \"B\"')['visitor_id']\n",
    "ab_match = b_group[b_group.isin(a_group)]\n",
    "print('Количество совпадающих пользователей в двух группах A/B теста:', ab_match.nunique())\n",
    "print('Доля совпадающих пользователей в двух группах A/B теста: {0:.2f}%'.format((ab_match.nunique()/orders['visitor_id'].nunique()) * 100))"
   ]
  },
  {
   "cell_type": "markdown",
   "metadata": {},
   "source": [
    "В целях соблюдения одного из главных принципов A/B теста, где один уникальный пользователь видит только одну версию сайта на протяжении всего периода тестирования, удалим из анализа информацию об активности пользователей, оказавшихся сразу в двух группах."
   ]
  },
  {
   "cell_type": "code",
   "execution_count": 10,
   "metadata": {},
   "outputs": [
    {
     "name": "stdout",
     "output_type": "stream",
     "text": [
      "Количество уникальных пользователей после корректировки: 973\n"
     ]
    }
   ],
   "source": [
    "# исключаем наблюдения о совпадающих пользователях в двух группах A/B теста\n",
    "orders = orders.query('visitor_id not in @ab_match')\n",
    "print('Количество уникальных пользователей после корректировки:', orders['visitor_id'].nunique())"
   ]
  },
  {
   "cell_type": "markdown",
   "metadata": {},
   "source": [
    "Посмотрим соотношение количества пользователей по группам тестирования."
   ]
  },
  {
   "cell_type": "code",
   "execution_count": 11,
   "metadata": {},
   "outputs": [
    {
     "data": {
      "text/html": [
       "<div>\n",
       "<style scoped>\n",
       "    .dataframe tbody tr th:only-of-type {\n",
       "        vertical-align: middle;\n",
       "    }\n",
       "\n",
       "    .dataframe tbody tr th {\n",
       "        vertical-align: top;\n",
       "    }\n",
       "\n",
       "    .dataframe thead th {\n",
       "        text-align: right;\n",
       "    }\n",
       "</style>\n",
       "<table border=\"1\" class=\"dataframe\">\n",
       "  <thead>\n",
       "    <tr style=\"text-align: right;\">\n",
       "      <th></th>\n",
       "      <th>total_orders</th>\n",
       "      <th>unique_users</th>\n",
       "      <th>share, %</th>\n",
       "    </tr>\n",
       "    <tr>\n",
       "      <th>group</th>\n",
       "      <th></th>\n",
       "      <th></th>\n",
       "      <th></th>\n",
       "    </tr>\n",
       "  </thead>\n",
       "  <tbody>\n",
       "    <tr>\n",
       "      <th>A</th>\n",
       "      <td>468</td>\n",
       "      <td>445</td>\n",
       "      <td>46.06</td>\n",
       "    </tr>\n",
       "    <tr>\n",
       "      <th>B</th>\n",
       "      <td>548</td>\n",
       "      <td>528</td>\n",
       "      <td>53.94</td>\n",
       "    </tr>\n",
       "  </tbody>\n",
       "</table>\n",
       "</div>"
      ],
      "text/plain": [
       "       total_orders  unique_users  share, %\n",
       "group                                      \n",
       "A               468           445     46.06\n",
       "B               548           528     53.94"
      ]
     },
     "metadata": {},
     "output_type": "display_data"
    }
   ],
   "source": [
    "ab_distribution = (\n",
    "        orders.groupby('group')\n",
    "        .agg({'transaction_id': 'count', 'visitor_id': 'nunique'})\n",
    "        .rename(columns={'transaction_id': 'total_orders', 'visitor_id':'unique_users'})\n",
    ")\n",
    "ab_distribution['share, %'] = round((ab_distribution['total_orders'] / ab_distribution['total_orders'].sum() *100), 2)\n",
    "display(ab_distribution)"
   ]
  },
  {
   "cell_type": "markdown",
   "metadata": {},
   "source": [
    "Разница в количестве наблюдений между группами составляет порядка 8% с перевесом группы В. При этом не представляется возможным привести выборки к равному количеству пользователей, не нарушив результаты тестирования. Поэтому оставим выявленную погрешность без изменений."
   ]
  },
  {
   "cell_type": "code",
   "execution_count": 12,
   "metadata": {},
   "outputs": [
    {
     "name": "stdout",
     "output_type": "stream",
     "text": [
      "Минимальная дата тестирования: 2019-08-01 00:00:00\n",
      "Максимальная дата тестирования: 2019-08-31 00:00:00\n"
     ]
    }
   ],
   "source": [
    "# определим минимальную и максимальную даты тестирования\n",
    "\n",
    "print('Минимальная дата тестирования:', orders['date'].min())\n",
    "print('Максимальная дата тестирования:', orders['date'].max())"
   ]
  },
  {
   "cell_type": "markdown",
   "metadata": {},
   "source": [
    "Проверим **результаты** предобработки данных."
   ]
  },
  {
   "cell_type": "code",
   "execution_count": 13,
   "metadata": {},
   "outputs": [
    {
     "name": "stdout",
     "output_type": "stream",
     "text": [
      "<class 'pandas.core.frame.DataFrame'>\n",
      "RangeIndex: 62 entries, 0 to 61\n",
      "Data columns (total 3 columns):\n",
      " #   Column    Non-Null Count  Dtype         \n",
      "---  ------    --------------  -----         \n",
      " 0   date      62 non-null     datetime64[ns]\n",
      " 1   group     62 non-null     object        \n",
      " 2   visitors  62 non-null     int64         \n",
      "dtypes: datetime64[ns](1), int64(1), object(1)\n",
      "memory usage: 1.6+ KB\n",
      "--------------------------------------------------\n",
      "\n",
      "<class 'pandas.core.frame.DataFrame'>\n",
      "Int64Index: 1016 entries, 0 to 1196\n",
      "Data columns (total 5 columns):\n",
      " #   Column          Non-Null Count  Dtype         \n",
      "---  ------          --------------  -----         \n",
      " 0   transaction_id  1016 non-null   int64         \n",
      " 1   visitor_id      1016 non-null   int64         \n",
      " 2   date            1016 non-null   datetime64[ns]\n",
      " 3   revenue         1016 non-null   int64         \n",
      " 4   group           1016 non-null   object        \n",
      "dtypes: datetime64[ns](1), int64(3), object(1)\n",
      "memory usage: 47.6+ KB\n",
      "--------------------------------------------------\n",
      "\n",
      "<class 'pandas.core.frame.DataFrame'>\n",
      "RangeIndex: 9 entries, 0 to 8\n",
      "Data columns (total 5 columns):\n",
      " #   Column      Non-Null Count  Dtype \n",
      "---  ------      --------------  ----- \n",
      " 0   hypothesis  9 non-null      object\n",
      " 1   reach       9 non-null      int64 \n",
      " 2   impact      9 non-null      int64 \n",
      " 3   confidence  9 non-null      int64 \n",
      " 4   efforts     9 non-null      int64 \n",
      "dtypes: int64(4), object(1)\n",
      "memory usage: 488.0+ bytes\n"
     ]
    }
   ],
   "source": [
    "# выводим результаты предобработки данных по датафреймам\n",
    "visitors.info()\n",
    "print('-'* 50)\n",
    "print()\n",
    "orders.info()\n",
    "print('-'* 50)\n",
    "print()\n",
    "hypothesis.info()"
   ]
  },
  {
   "cell_type": "markdown",
   "metadata": {},
   "source": [
    "**Итоги предобработки данных:**\n",
    "1. Скорректированы наименования столбцов в соответствии со змеиным стилем.\n",
    "2. Исключены из анализа сведения о пользователях, попавших сразу в две группы A/B теста. Сформирован обновленный датафрейм с заказами, содержащий 1016 записей об активности 973 уникальных пользователей.\n",
    "3. Наблюдения для A/B теста представлены за период **с 1 по 31 августа 2019 года**."
   ]
  },
  {
   "cell_type": "markdown",
   "metadata": {},
   "source": [
    "## Приоритизация гипотез"
   ]
  },
  {
   "cell_type": "markdown",
   "metadata": {},
   "source": [
    "В целях отбора и запуска тестирования только наиболее перспективных бизнес-идей, предложенных отделом маркетинга, обратимся к следующим методам `ICE` и `RICE` для приоритизации гипотез.\\\n",
    "Выбор метода ранжирования гипотез зависит от степени влияния фактора *охвата пользователей* на рост финансовых показателей компании."
   ]
  },
  {
   "cell_type": "markdown",
   "metadata": {},
   "source": [
    "### Оценка гипотез методом ICE"
   ]
  },
  {
   "cell_type": "markdown",
   "metadata": {},
   "source": [
    "В концепции метода ICE расчёт оценки приоритета осуществляется по формуле:\n",
    "\n",
    "**`ICE = Impact x Confidence / Efforts`**\n",
    "\n",
    "*Impact - влияние на пользователей;\\\n",
    "Confidence - уверенность в оценке;\\\n",
    "Efforts - трудозатраты на реализацию.*"
   ]
  },
  {
   "cell_type": "code",
   "execution_count": 14,
   "metadata": {
    "scrolled": false
   },
   "outputs": [
    {
     "data": {
      "text/html": [
       "<div>\n",
       "<style scoped>\n",
       "    .dataframe tbody tr th:only-of-type {\n",
       "        vertical-align: middle;\n",
       "    }\n",
       "\n",
       "    .dataframe tbody tr th {\n",
       "        vertical-align: top;\n",
       "    }\n",
       "\n",
       "    .dataframe thead th {\n",
       "        text-align: right;\n",
       "    }\n",
       "</style>\n",
       "<table border=\"1\" class=\"dataframe\">\n",
       "  <thead>\n",
       "    <tr style=\"text-align: right;\">\n",
       "      <th></th>\n",
       "      <th>hypothesis</th>\n",
       "      <th>reach</th>\n",
       "      <th>impact</th>\n",
       "      <th>confidence</th>\n",
       "      <th>efforts</th>\n",
       "      <th>ice</th>\n",
       "    </tr>\n",
       "  </thead>\n",
       "  <tbody>\n",
       "    <tr>\n",
       "      <th>8</th>\n",
       "      <td>Запустить акцию, дающую скидку на товар в день рождения</td>\n",
       "      <td>1</td>\n",
       "      <td>9</td>\n",
       "      <td>9</td>\n",
       "      <td>5</td>\n",
       "      <td>16.20</td>\n",
       "    </tr>\n",
       "    <tr>\n",
       "      <th>0</th>\n",
       "      <td>Добавить два новых канала привлечения трафика, что позволит привлекать на 30% больше пользователей</td>\n",
       "      <td>3</td>\n",
       "      <td>10</td>\n",
       "      <td>8</td>\n",
       "      <td>6</td>\n",
       "      <td>13.33</td>\n",
       "    </tr>\n",
       "    <tr>\n",
       "      <th>7</th>\n",
       "      <td>Добавить форму подписки на все основные страницы, чтобы собрать базу клиентов для email-рассылок</td>\n",
       "      <td>10</td>\n",
       "      <td>7</td>\n",
       "      <td>8</td>\n",
       "      <td>5</td>\n",
       "      <td>11.20</td>\n",
       "    </tr>\n",
       "    <tr>\n",
       "      <th>6</th>\n",
       "      <td>Показать на главной странице баннеры с актуальными акциями и распродажами, чтобы увеличить конверсию</td>\n",
       "      <td>5</td>\n",
       "      <td>3</td>\n",
       "      <td>8</td>\n",
       "      <td>3</td>\n",
       "      <td>8.00</td>\n",
       "    </tr>\n",
       "    <tr>\n",
       "      <th>2</th>\n",
       "      <td>Добавить блоки рекомендаций товаров на сайт интернет магазина, чтобы повысить конверсию и средний чек заказа</td>\n",
       "      <td>8</td>\n",
       "      <td>3</td>\n",
       "      <td>7</td>\n",
       "      <td>3</td>\n",
       "      <td>7.00</td>\n",
       "    </tr>\n",
       "    <tr>\n",
       "      <th>1</th>\n",
       "      <td>Запустить собственную службу доставки, что сократит срок доставки заказов</td>\n",
       "      <td>2</td>\n",
       "      <td>5</td>\n",
       "      <td>4</td>\n",
       "      <td>10</td>\n",
       "      <td>2.00</td>\n",
       "    </tr>\n",
       "    <tr>\n",
       "      <th>5</th>\n",
       "      <td>Добавить страницу отзывов клиентов о магазине, что позволит увеличить количество заказов</td>\n",
       "      <td>3</td>\n",
       "      <td>2</td>\n",
       "      <td>2</td>\n",
       "      <td>3</td>\n",
       "      <td>1.33</td>\n",
       "    </tr>\n",
       "    <tr>\n",
       "      <th>3</th>\n",
       "      <td>Изменить структура категорий, что увеличит конверсию, т.к. пользователи быстрее найдут нужный товар</td>\n",
       "      <td>8</td>\n",
       "      <td>3</td>\n",
       "      <td>3</td>\n",
       "      <td>8</td>\n",
       "      <td>1.12</td>\n",
       "    </tr>\n",
       "    <tr>\n",
       "      <th>4</th>\n",
       "      <td>Изменить цвет фона главной страницы, чтобы увеличить вовлеченность пользователей</td>\n",
       "      <td>3</td>\n",
       "      <td>1</td>\n",
       "      <td>1</td>\n",
       "      <td>1</td>\n",
       "      <td>1.00</td>\n",
       "    </tr>\n",
       "  </tbody>\n",
       "</table>\n",
       "</div>"
      ],
      "text/plain": [
       "                                                                                                     hypothesis  \\\n",
       "8                                                       Запустить акцию, дающую скидку на товар в день рождения   \n",
       "0            Добавить два новых канала привлечения трафика, что позволит привлекать на 30% больше пользователей   \n",
       "7              Добавить форму подписки на все основные страницы, чтобы собрать базу клиентов для email-рассылок   \n",
       "6          Показать на главной странице баннеры с актуальными акциями и распродажами, чтобы увеличить конверсию   \n",
       "2  Добавить блоки рекомендаций товаров на сайт интернет магазина, чтобы повысить конверсию и средний чек заказа   \n",
       "1                                     Запустить собственную службу доставки, что сократит срок доставки заказов   \n",
       "5                      Добавить страницу отзывов клиентов о магазине, что позволит увеличить количество заказов   \n",
       "3           Изменить структура категорий, что увеличит конверсию, т.к. пользователи быстрее найдут нужный товар   \n",
       "4                              Изменить цвет фона главной страницы, чтобы увеличить вовлеченность пользователей   \n",
       "\n",
       "   reach  impact  confidence  efforts    ice  \n",
       "8      1       9           9        5  16.20  \n",
       "0      3      10           8        6  13.33  \n",
       "7     10       7           8        5  11.20  \n",
       "6      5       3           8        3   8.00  \n",
       "2      8       3           7        3   7.00  \n",
       "1      2       5           4       10   2.00  \n",
       "5      3       2           2        3   1.33  \n",
       "3      8       3           3        8   1.12  \n",
       "4      3       1           1        1   1.00  "
      ]
     },
     "metadata": {},
     "output_type": "display_data"
    }
   ],
   "source": [
    "# добавим новый столбец с расчетом оценки ICE\n",
    "hypothesis['ice'] = round((hypothesis['impact'] * hypothesis['confidence']) / hypothesis['efforts'], 2)\n",
    "display(hypothesis.sort_values(by='ice', ascending=False))"
   ]
  },
  {
   "cell_type": "markdown",
   "metadata": {},
   "source": [
    "### Оценка гипотез методом RICE"
   ]
  },
  {
   "cell_type": "markdown",
   "metadata": {},
   "source": [
    "В концепции метода RICE расчёт оценки приоритета осуществляется по формуле:\n",
    "\n",
    "**`RICE = Reach x Impact x Confidence / Efforts`**\n",
    "\n",
    "*Reach - охват пользователей;\\\n",
    "Impact - влияние на пользователей;\\\n",
    "Confidence - уверенность в оценке;\\\n",
    "Efforts - трудозатраты на реализацию.*"
   ]
  },
  {
   "cell_type": "code",
   "execution_count": 15,
   "metadata": {},
   "outputs": [
    {
     "data": {
      "text/html": [
       "<div>\n",
       "<style scoped>\n",
       "    .dataframe tbody tr th:only-of-type {\n",
       "        vertical-align: middle;\n",
       "    }\n",
       "\n",
       "    .dataframe tbody tr th {\n",
       "        vertical-align: top;\n",
       "    }\n",
       "\n",
       "    .dataframe thead th {\n",
       "        text-align: right;\n",
       "    }\n",
       "</style>\n",
       "<table border=\"1\" class=\"dataframe\">\n",
       "  <thead>\n",
       "    <tr style=\"text-align: right;\">\n",
       "      <th></th>\n",
       "      <th>hypothesis</th>\n",
       "      <th>reach</th>\n",
       "      <th>impact</th>\n",
       "      <th>confidence</th>\n",
       "      <th>efforts</th>\n",
       "      <th>rice</th>\n",
       "    </tr>\n",
       "  </thead>\n",
       "  <tbody>\n",
       "    <tr>\n",
       "      <th>7</th>\n",
       "      <td>Добавить форму подписки на все основные страницы, чтобы собрать базу клиентов для email-рассылок</td>\n",
       "      <td>10</td>\n",
       "      <td>7</td>\n",
       "      <td>8</td>\n",
       "      <td>5</td>\n",
       "      <td>112.0</td>\n",
       "    </tr>\n",
       "    <tr>\n",
       "      <th>2</th>\n",
       "      <td>Добавить блоки рекомендаций товаров на сайт интернет магазина, чтобы повысить конверсию и средний чек заказа</td>\n",
       "      <td>8</td>\n",
       "      <td>3</td>\n",
       "      <td>7</td>\n",
       "      <td>3</td>\n",
       "      <td>56.0</td>\n",
       "    </tr>\n",
       "    <tr>\n",
       "      <th>0</th>\n",
       "      <td>Добавить два новых канала привлечения трафика, что позволит привлекать на 30% больше пользователей</td>\n",
       "      <td>3</td>\n",
       "      <td>10</td>\n",
       "      <td>8</td>\n",
       "      <td>6</td>\n",
       "      <td>40.0</td>\n",
       "    </tr>\n",
       "    <tr>\n",
       "      <th>6</th>\n",
       "      <td>Показать на главной странице баннеры с актуальными акциями и распродажами, чтобы увеличить конверсию</td>\n",
       "      <td>5</td>\n",
       "      <td>3</td>\n",
       "      <td>8</td>\n",
       "      <td>3</td>\n",
       "      <td>40.0</td>\n",
       "    </tr>\n",
       "    <tr>\n",
       "      <th>8</th>\n",
       "      <td>Запустить акцию, дающую скидку на товар в день рождения</td>\n",
       "      <td>1</td>\n",
       "      <td>9</td>\n",
       "      <td>9</td>\n",
       "      <td>5</td>\n",
       "      <td>16.2</td>\n",
       "    </tr>\n",
       "    <tr>\n",
       "      <th>3</th>\n",
       "      <td>Изменить структура категорий, что увеличит конверсию, т.к. пользователи быстрее найдут нужный товар</td>\n",
       "      <td>8</td>\n",
       "      <td>3</td>\n",
       "      <td>3</td>\n",
       "      <td>8</td>\n",
       "      <td>9.0</td>\n",
       "    </tr>\n",
       "    <tr>\n",
       "      <th>1</th>\n",
       "      <td>Запустить собственную службу доставки, что сократит срок доставки заказов</td>\n",
       "      <td>2</td>\n",
       "      <td>5</td>\n",
       "      <td>4</td>\n",
       "      <td>10</td>\n",
       "      <td>4.0</td>\n",
       "    </tr>\n",
       "    <tr>\n",
       "      <th>5</th>\n",
       "      <td>Добавить страницу отзывов клиентов о магазине, что позволит увеличить количество заказов</td>\n",
       "      <td>3</td>\n",
       "      <td>2</td>\n",
       "      <td>2</td>\n",
       "      <td>3</td>\n",
       "      <td>4.0</td>\n",
       "    </tr>\n",
       "    <tr>\n",
       "      <th>4</th>\n",
       "      <td>Изменить цвет фона главной страницы, чтобы увеличить вовлеченность пользователей</td>\n",
       "      <td>3</td>\n",
       "      <td>1</td>\n",
       "      <td>1</td>\n",
       "      <td>1</td>\n",
       "      <td>3.0</td>\n",
       "    </tr>\n",
       "  </tbody>\n",
       "</table>\n",
       "</div>"
      ],
      "text/plain": [
       "                                                                                                     hypothesis  \\\n",
       "7              Добавить форму подписки на все основные страницы, чтобы собрать базу клиентов для email-рассылок   \n",
       "2  Добавить блоки рекомендаций товаров на сайт интернет магазина, чтобы повысить конверсию и средний чек заказа   \n",
       "0            Добавить два новых канала привлечения трафика, что позволит привлекать на 30% больше пользователей   \n",
       "6          Показать на главной странице баннеры с актуальными акциями и распродажами, чтобы увеличить конверсию   \n",
       "8                                                       Запустить акцию, дающую скидку на товар в день рождения   \n",
       "3           Изменить структура категорий, что увеличит конверсию, т.к. пользователи быстрее найдут нужный товар   \n",
       "1                                     Запустить собственную службу доставки, что сократит срок доставки заказов   \n",
       "5                      Добавить страницу отзывов клиентов о магазине, что позволит увеличить количество заказов   \n",
       "4                              Изменить цвет фона главной страницы, чтобы увеличить вовлеченность пользователей   \n",
       "\n",
       "   reach  impact  confidence  efforts   rice  \n",
       "7     10       7           8        5  112.0  \n",
       "2      8       3           7        3   56.0  \n",
       "0      3      10           8        6   40.0  \n",
       "6      5       3           8        3   40.0  \n",
       "8      1       9           9        5   16.2  \n",
       "3      8       3           3        8    9.0  \n",
       "1      2       5           4       10    4.0  \n",
       "5      3       2           2        3    4.0  \n",
       "4      3       1           1        1    3.0  "
      ]
     },
     "metadata": {},
     "output_type": "display_data"
    }
   ],
   "source": [
    "# добавим новый столбец с расчетом оценки RICE\n",
    "hypothesis['rice'] = round((hypothesis['reach'] * hypothesis['impact'] * hypothesis['confidence']) / hypothesis['efforts'], 2)\n",
    "display(hypothesis.drop(['ice'], axis = 1).sort_values(by='rice', ascending=False))"
   ]
  },
  {
   "cell_type": "markdown",
   "metadata": {},
   "source": [
    "**Выводы о приоритизации гипотез**\n",
    "\n",
    "\n",
    "В соответствии с проведенной оценкой приоритетности методами ICE и RICE в топ-3 гипотезы по каждому методу вошли следующие маркетинговые предложения:\n",
    "\n",
    "1. *Оценка методом ICE:*\n",
    "\n",
    "- скидка в день рождения (гипотеза № 8);\n",
    "- охват новых рекламных каналов для привлечения пользователей (гипотеза №0);\n",
    "- внедрение формы подписки пользователей для рекламных email-рассылок (гипотеза № 7).\n",
    "\n",
    "Все эти гипотезы характеризуются максимальными значениями параметров *влияния* (impact: 7-10 баллов) и *уверенности* (confidence: 8-9 баллов). В то же время для них фиксируется существенный уровень *трудозатрат* (efforts: 5-6 баллов), который нивелируется высокими баллами по влиянию и уверенности в оценке.\n",
    "\n",
    "2. *Оценка методом RICE:*\n",
    "\n",
    "- внедрение формы подписки пользователей для рекламных email-рассылок (гипотеза № 7);\n",
    "- добавление блока с рекомендациями товаров (гипотеза № 2);\n",
    "- охват новых рекламных каналов для привлечения пользователей (гипотеза №0).\n",
    "\n",
    "В случае применения фреймворка RICE порядок и состав топ-3 гипотез меняется с учетом параметра *охвата* (reach).\\\n",
    "Так, гипотеза №8, лидирующая в оценке методом ICE, опустилась на 5 место в связи с минимальной оценкой охвата (1 балл). Это связано с тем, что акция скидки ко дню рождения может быть доступна пользователям только раз в году, что существенно сужает возможности ее применения.\\\n",
    "Гипотезы №7 и №2 характеризуются максимальным охватом (8-10 баллов), поскольку затрагивают большинство пользователей.\\\n",
    "Гипотеза №0 проигрывает по охвату (всего 3 балла), но имеет максимальное влияние (10 баллов) и значительную уверенность в оценке (8 баллов), что делает ее заметной в общем рейтинге.\n",
    "\n",
    "Таким образом, наиболее приоритетными гипотезами, учитывающими параметр охвата пользователей, являются гипотезы №7, №2 и №0. Именно на них необходимо обратить внимание в случае планирования A/B-теста."
   ]
  },
  {
   "cell_type": "markdown",
   "metadata": {},
   "source": [
    "##  Анализ результатов A/B-теста"
   ]
  },
  {
   "cell_type": "markdown",
   "metadata": {},
   "source": [
    "Для анализа и визуализации результатов A/B теста соберем в агрегированный датафрейм сведения о дате, группе теста, кумулятивные данные о количестве заказов, покупателей, среднем чеке и количестве посетителей за каждый день теста."
   ]
  },
  {
   "cell_type": "code",
   "execution_count": 16,
   "metadata": {},
   "outputs": [
    {
     "data": {
      "text/html": [
       "<div>\n",
       "<style scoped>\n",
       "    .dataframe tbody tr th:only-of-type {\n",
       "        vertical-align: middle;\n",
       "    }\n",
       "\n",
       "    .dataframe tbody tr th {\n",
       "        vertical-align: top;\n",
       "    }\n",
       "\n",
       "    .dataframe thead th {\n",
       "        text-align: right;\n",
       "    }\n",
       "</style>\n",
       "<table border=\"1\" class=\"dataframe\">\n",
       "  <thead>\n",
       "    <tr style=\"text-align: right;\">\n",
       "      <th></th>\n",
       "      <th>date</th>\n",
       "      <th>group</th>\n",
       "      <th>orders</th>\n",
       "      <th>buyers</th>\n",
       "      <th>revenue</th>\n",
       "      <th>visitors</th>\n",
       "    </tr>\n",
       "  </thead>\n",
       "  <tbody>\n",
       "    <tr>\n",
       "      <th>0</th>\n",
       "      <td>2019-08-01</td>\n",
       "      <td>A</td>\n",
       "      <td>23</td>\n",
       "      <td>19</td>\n",
       "      <td>142779</td>\n",
       "      <td>719</td>\n",
       "    </tr>\n",
       "    <tr>\n",
       "      <th>1</th>\n",
       "      <td>2019-08-01</td>\n",
       "      <td>B</td>\n",
       "      <td>17</td>\n",
       "      <td>17</td>\n",
       "      <td>59758</td>\n",
       "      <td>713</td>\n",
       "    </tr>\n",
       "    <tr>\n",
       "      <th>2</th>\n",
       "      <td>2019-08-02</td>\n",
       "      <td>A</td>\n",
       "      <td>42</td>\n",
       "      <td>36</td>\n",
       "      <td>234381</td>\n",
       "      <td>1338</td>\n",
       "    </tr>\n",
       "    <tr>\n",
       "      <th>3</th>\n",
       "      <td>2019-08-02</td>\n",
       "      <td>B</td>\n",
       "      <td>40</td>\n",
       "      <td>39</td>\n",
       "      <td>221801</td>\n",
       "      <td>1294</td>\n",
       "    </tr>\n",
       "    <tr>\n",
       "      <th>4</th>\n",
       "      <td>2019-08-03</td>\n",
       "      <td>A</td>\n",
       "      <td>66</td>\n",
       "      <td>60</td>\n",
       "      <td>346854</td>\n",
       "      <td>1845</td>\n",
       "    </tr>\n",
       "    <tr>\n",
       "      <th>...</th>\n",
       "      <td>...</td>\n",
       "      <td>...</td>\n",
       "      <td>...</td>\n",
       "      <td>...</td>\n",
       "      <td>...</td>\n",
       "      <td>...</td>\n",
       "    </tr>\n",
       "    <tr>\n",
       "      <th>57</th>\n",
       "      <td>2019-08-29</td>\n",
       "      <td>B</td>\n",
       "      <td>510</td>\n",
       "      <td>490</td>\n",
       "      <td>4746610</td>\n",
       "      <td>17708</td>\n",
       "    </tr>\n",
       "    <tr>\n",
       "      <th>58</th>\n",
       "      <td>2019-08-30</td>\n",
       "      <td>A</td>\n",
       "      <td>460</td>\n",
       "      <td>437</td>\n",
       "      <td>3311413</td>\n",
       "      <td>18037</td>\n",
       "    </tr>\n",
       "    <tr>\n",
       "      <th>59</th>\n",
       "      <td>2019-08-30</td>\n",
       "      <td>B</td>\n",
       "      <td>531</td>\n",
       "      <td>511</td>\n",
       "      <td>4955833</td>\n",
       "      <td>18198</td>\n",
       "    </tr>\n",
       "    <tr>\n",
       "      <th>60</th>\n",
       "      <td>2019-08-31</td>\n",
       "      <td>A</td>\n",
       "      <td>468</td>\n",
       "      <td>445</td>\n",
       "      <td>3364656</td>\n",
       "      <td>18736</td>\n",
       "    </tr>\n",
       "    <tr>\n",
       "      <th>61</th>\n",
       "      <td>2019-08-31</td>\n",
       "      <td>B</td>\n",
       "      <td>548</td>\n",
       "      <td>528</td>\n",
       "      <td>5068972</td>\n",
       "      <td>18916</td>\n",
       "    </tr>\n",
       "  </tbody>\n",
       "</table>\n",
       "<p>62 rows × 6 columns</p>\n",
       "</div>"
      ],
      "text/plain": [
       "         date group  orders  buyers  revenue  visitors\n",
       "0  2019-08-01     A      23      19   142779       719\n",
       "1  2019-08-01     B      17      17    59758       713\n",
       "2  2019-08-02     A      42      36   234381      1338\n",
       "3  2019-08-02     B      40      39   221801      1294\n",
       "4  2019-08-03     A      66      60   346854      1845\n",
       "..        ...   ...     ...     ...      ...       ...\n",
       "57 2019-08-29     B     510     490  4746610     17708\n",
       "58 2019-08-30     A     460     437  3311413     18037\n",
       "59 2019-08-30     B     531     511  4955833     18198\n",
       "60 2019-08-31     A     468     445  3364656     18736\n",
       "61 2019-08-31     B     548     528  5068972     18916\n",
       "\n",
       "[62 rows x 6 columns]"
      ]
     },
     "metadata": {},
     "output_type": "display_data"
    }
   ],
   "source": [
    "# создаем массив уникальных пар значений дата-группа теста\n",
    "dates_groups = orders[['date', 'group']].drop_duplicates()\n",
    "\n",
    "# агрегированные кумулятивные по дням данные о заказах\n",
    "orders_agg = (dates_groups.apply(\n",
    "    lambda x: orders[np.logical_and(orders['date'] <= x['date'],\n",
    "                                    orders['group'] == x['group'])]\n",
    "    .agg({\n",
    "        'date': 'max',\n",
    "        'group': 'max',\n",
    "        'transaction_id': 'nunique',\n",
    "        'visitor_id': 'nunique',\n",
    "        'revenue': 'sum'}), axis=1,)\n",
    "    .sort_values(by=['date', 'group']))\n",
    "\n",
    "# агрегированные кумулятивные по дням данные о пользователях\n",
    "visitors_agg = (dates_groups.apply(\n",
    "    lambda x: visitors[np.logical_and(visitors['date'] <= x['date'],\n",
    "                                      visitors['group'] == x['group'])]\n",
    "    .agg({\n",
    "        'date': 'max', \n",
    "        'group': 'max', \n",
    "        'visitors': 'sum'}), axis=1)\n",
    "    .sort_values(by=['date', 'group']))\n",
    "\n",
    "# объединяем кумулятивные данные о заказах и пользователях\n",
    "cumulative_data = orders_agg.merge(visitors_agg, left_on=['date', 'group'], right_on=['date', 'group'])\n",
    "cumulative_data.columns = [\n",
    "    'date',\n",
    "    'group',\n",
    "    'orders',\n",
    "    'buyers',\n",
    "    'revenue',\n",
    "    'visitors']\n",
    "\n",
    "display(cumulative_data)"
   ]
  },
  {
   "cell_type": "markdown",
   "metadata": {},
   "source": [
    "Получили датафрейм, содержащий *62 наблюдения* для обеих групп тестирования - по 31 на каждую группу."
   ]
  },
  {
   "cell_type": "markdown",
   "metadata": {},
   "source": [
    "### Анализ кумулятивных метрик"
   ]
  },
  {
   "cell_type": "markdown",
   "metadata": {},
   "source": [
    "#### График кумулятивной выручки по группам A/B теста"
   ]
  },
  {
   "cell_type": "code",
   "execution_count": 17,
   "metadata": {},
   "outputs": [
    {
     "data": {
      "image/png": "[encoded data removed]",
      "text/plain": [
       "<Figure size 936x504 with 1 Axes>"
      ]
     },
     "metadata": {
      "needs_background": "light"
     },
     "output_type": "display_data"
    }
   ],
   "source": [
    "# кумулятивное количество заказов и кумулятивная выручка в группе А\n",
    "cumulative_revenue_a = cumulative_data[cumulative_data['group'] == 'A'][\n",
    "    ['date', 'revenue', 'orders']\n",
    "]\n",
    "\n",
    "# кумулятивное количество заказов и кумулятивная выручка в группе В\n",
    "cumulative_revenue_b = cumulative_data[cumulative_data['group'] == 'B'][\n",
    "    ['date', 'revenue', 'orders']\n",
    "]\n",
    "\n",
    "#строим графики кумулятивной выручки по дням и группам теста\n",
    "#группа А\n",
    "plt.figure(figsize=(13, 7))\n",
    "plt.plot(cumulative_revenue_a['date'], cumulative_revenue_a['revenue'], label='A', linewidth=3)\n",
    "\n",
    "#группа B\n",
    "plt.plot(cumulative_revenue_b['date'], cumulative_revenue_b['revenue'], label='B', linewidth=3)\n",
    "\n",
    "plt.title('График кумулятивной выручки по группам A/B теста', size = 14)\n",
    "plt.xlabel('Дата', size = 13)\n",
    "plt.ylabel(\"Выручка\", size = 13)\n",
    "plt.grid(True)\n",
    "plt.legend(fontsize=15);"
   ]
  },
  {
   "cell_type": "markdown",
   "metadata": {},
   "source": [
    "Из графика видим, что в первые 2 недели тестирования кумулятивная выручка росла для обеих групп практически линейно с небольшим перевесом для группы B. Однако **19 августа 2019 г.** наблюдается резкий скачок выручки в группе B - это может говорить о всплеске числа заказов, либо о появлении очень дорогих заказов в выборке.\n",
    "После этого обе группы демонстрируют равномерный рост со стабильным разрывом в 2 млн.ед. выручки в пользу покупателей из группы B."
   ]
  },
  {
   "cell_type": "markdown",
   "metadata": {},
   "source": [
    "#### График кумулятивного кумулятивного среднего чека по группам A/B теста"
   ]
  },
  {
   "cell_type": "markdown",
   "metadata": {},
   "source": [
    "Расчёт среднего чека производится по формуле:\n",
    "\n",
    "**`Средний чек = выручка / количество заказов`**"
   ]
  },
  {
   "cell_type": "code",
   "execution_count": 18,
   "metadata": {
    "scrolled": false
   },
   "outputs": [
    {
     "data": {
      "image/png": "[encoded data removed]",
      "text/plain": [
       "<Figure size 936x504 with 1 Axes>"
      ]
     },
     "metadata": {
      "needs_background": "light"
     },
     "output_type": "display_data"
    }
   ],
   "source": [
    "# строим графики кумулятивного среднего чека\n",
    "# группа А\n",
    "plt.figure(figsize=(13, 7))\n",
    "plt.plot(cumulative_revenue_a['date'], cumulative_revenue_a['revenue']/cumulative_revenue_a['orders'], label='A', linewidth=3)\n",
    "\n",
    "# группа В\n",
    "plt.plot(cumulative_revenue_b['date'], cumulative_revenue_b['revenue']/cumulative_revenue_b['orders'], label='B', linewidth=3)\n",
    "\n",
    "\n",
    "plt.title('График кумулятивного среднего чека по группам A/B теста', size = 14)\n",
    "plt.xlabel('Дата', size = 13)\n",
    "plt.ylabel('Средний чек', size = 13)\n",
    "plt.grid(True)\n",
    "plt.legend(fontsize=15);"
   ]
  },
  {
   "cell_type": "markdown",
   "metadata": {},
   "source": [
    "График кумулятивного среднего чека подтверждает предположение о наличии аномалии среди заказов, совершенных в группе B 19 августа 2019 г. - в этот день средний чек вырос на 3.3 млн. ед. и достиг 11.2 млн. ед. в то время как значения группы А начиная с 14 августа установились на уровне 7 млн. ед. Вероятно, в группу B попал крупный заказ, который отразился на динамике роста показателя.\\\n",
    "Для определения реального уровня среднего чека группы B необходимо провести анализ без учета аномально больших покупок."
   ]
  },
  {
   "cell_type": "markdown",
   "metadata": {},
   "source": [
    "#### График относительного изменения кумулятивного среднего чека группы B к группе A"
   ]
  },
  {
   "cell_type": "code",
   "execution_count": 19,
   "metadata": {},
   "outputs": [
    {
     "data": {
      "image/png": "[encoded data removed]",
      "text/plain": [
       "<Figure size 864x432 with 1 Axes>"
      ]
     },
     "metadata": {
      "needs_background": "light"
     },
     "output_type": "display_data"
    }
   ],
   "source": [
    "# объединяем кумулятивные данные по среднему чеку\n",
    "merged_cumulative_revenue  = cumulative_revenue_a.merge(cumulative_revenue_b,\n",
    "                                                        left_on='date',\n",
    "                                                        right_on='date',\n",
    "                                                        how='left',\n",
    "                                                        suffixes=['_a', '_b'])\n",
    "\n",
    "# cтроим график\n",
    "plt.figure(figsize=(12, 6))\n",
    "plt.plot(merged_cumulative_revenue['date'], \n",
    "        (merged_cumulative_revenue['revenue_b']/merged_cumulative_revenue['orders_b'])\n",
    "         /(merged_cumulative_revenue['revenue_a']/merged_cumulative_revenue['orders_a'])-1, linewidth=3);\n",
    "\n",
    "# добавляем вспомогательную ось на значении 0\n",
    "plt.axhline(y=0, color='red', linestyle='--');\n",
    "\n",
    "plt.title('График относительного изменения кумулятивного среднего чека группы B к группе A', size = 14)\n",
    "plt.xlabel('Дата', size = 13)\n",
    "plt.ylabel('Отклонение', size = 13)\n",
    "plt.grid(True)\n",
    "plt.show();"
   ]
  },
  {
   "cell_type": "markdown",
   "metadata": {},
   "source": [
    "На графике относительного изменения кумулятивного среднего чека группы B к группе А выделяются два пика - за 6-7 и 19 августа 2019 г. Для определения характера причин возникших аномалий проверим самые дорогие заказы из группы B, а также рассчитаем разницу в объемах выручки между группами за пиковые даты."
   ]
  },
  {
   "cell_type": "code",
   "execution_count": 20,
   "metadata": {
    "scrolled": false
   },
   "outputs": [
    {
     "data": {
      "text/html": [
       "<div>\n",
       "<style scoped>\n",
       "    .dataframe tbody tr th:only-of-type {\n",
       "        vertical-align: middle;\n",
       "    }\n",
       "\n",
       "    .dataframe tbody tr th {\n",
       "        vertical-align: top;\n",
       "    }\n",
       "\n",
       "    .dataframe thead th {\n",
       "        text-align: right;\n",
       "    }\n",
       "</style>\n",
       "<table border=\"1\" class=\"dataframe\">\n",
       "  <thead>\n",
       "    <tr style=\"text-align: right;\">\n",
       "      <th></th>\n",
       "      <th>transaction_id</th>\n",
       "      <th>visitor_id</th>\n",
       "      <th>date</th>\n",
       "      <th>revenue</th>\n",
       "      <th>group</th>\n",
       "    </tr>\n",
       "  </thead>\n",
       "  <tbody>\n",
       "    <tr>\n",
       "      <th>425</th>\n",
       "      <td>590470918</td>\n",
       "      <td>1920142716</td>\n",
       "      <td>2019-08-19</td>\n",
       "      <td>1294500</td>\n",
       "      <td>B</td>\n",
       "    </tr>\n",
       "    <tr>\n",
       "      <th>1196</th>\n",
       "      <td>3936777065</td>\n",
       "      <td>2108080724</td>\n",
       "      <td>2019-08-15</td>\n",
       "      <td>202740</td>\n",
       "      <td>B</td>\n",
       "    </tr>\n",
       "    <tr>\n",
       "      <th>744</th>\n",
       "      <td>3668308183</td>\n",
       "      <td>888512513</td>\n",
       "      <td>2019-08-27</td>\n",
       "      <td>86620</td>\n",
       "      <td>B</td>\n",
       "    </tr>\n",
       "    <tr>\n",
       "      <th>940</th>\n",
       "      <td>2420050534</td>\n",
       "      <td>4003628586</td>\n",
       "      <td>2019-08-08</td>\n",
       "      <td>58550</td>\n",
       "      <td>B</td>\n",
       "    </tr>\n",
       "    <tr>\n",
       "      <th>613</th>\n",
       "      <td>4071177889</td>\n",
       "      <td>3931967268</td>\n",
       "      <td>2019-08-07</td>\n",
       "      <td>53904</td>\n",
       "      <td>B</td>\n",
       "    </tr>\n",
       "    <tr>\n",
       "      <th>1142</th>\n",
       "      <td>3815014015</td>\n",
       "      <td>2606908679</td>\n",
       "      <td>2019-08-13</td>\n",
       "      <td>52900</td>\n",
       "      <td>B</td>\n",
       "    </tr>\n",
       "    <tr>\n",
       "      <th>755</th>\n",
       "      <td>1234615529</td>\n",
       "      <td>2279926127</td>\n",
       "      <td>2019-08-30</td>\n",
       "      <td>45780</td>\n",
       "      <td>B</td>\n",
       "    </tr>\n",
       "    <tr>\n",
       "      <th>339</th>\n",
       "      <td>2216192667</td>\n",
       "      <td>834731816</td>\n",
       "      <td>2019-08-25</td>\n",
       "      <td>41450</td>\n",
       "      <td>B</td>\n",
       "    </tr>\n",
       "    <tr>\n",
       "      <th>78</th>\n",
       "      <td>773663763</td>\n",
       "      <td>3288820196</td>\n",
       "      <td>2019-08-16</td>\n",
       "      <td>40740</td>\n",
       "      <td>B</td>\n",
       "    </tr>\n",
       "    <tr>\n",
       "      <th>1087</th>\n",
       "      <td>324171086</td>\n",
       "      <td>3590655705</td>\n",
       "      <td>2019-08-12</td>\n",
       "      <td>39500</td>\n",
       "      <td>B</td>\n",
       "    </tr>\n",
       "  </tbody>\n",
       "</table>\n",
       "</div>"
      ],
      "text/plain": [
       "      transaction_id  visitor_id       date  revenue group\n",
       "425        590470918  1920142716 2019-08-19  1294500     B\n",
       "1196      3936777065  2108080724 2019-08-15   202740     B\n",
       "744       3668308183   888512513 2019-08-27    86620     B\n",
       "940       2420050534  4003628586 2019-08-08    58550     B\n",
       "613       4071177889  3931967268 2019-08-07    53904     B\n",
       "1142      3815014015  2606908679 2019-08-13    52900     B\n",
       "755       1234615529  2279926127 2019-08-30    45780     B\n",
       "339       2216192667   834731816 2019-08-25    41450     B\n",
       "78         773663763  3288820196 2019-08-16    40740     B\n",
       "1087       324171086  3590655705 2019-08-12    39500     B"
      ]
     },
     "metadata": {},
     "output_type": "display_data"
    }
   ],
   "source": [
    "# самые дорогие заказы из группы B\n",
    "display(orders.query('group == \"B\"').sort_values(by='revenue', ascending=False).head(10))"
   ]
  },
  {
   "cell_type": "code",
   "execution_count": 21,
   "metadata": {},
   "outputs": [
    {
     "data": {
      "text/html": [
       "<div>\n",
       "<style scoped>\n",
       "    .dataframe tbody tr th:only-of-type {\n",
       "        vertical-align: middle;\n",
       "    }\n",
       "\n",
       "    .dataframe tbody tr th {\n",
       "        vertical-align: top;\n",
       "    }\n",
       "\n",
       "    .dataframe thead th {\n",
       "        text-align: right;\n",
       "    }\n",
       "</style>\n",
       "<table border=\"1\" class=\"dataframe\">\n",
       "  <thead>\n",
       "    <tr style=\"text-align: right;\">\n",
       "      <th>group</th>\n",
       "      <th>date</th>\n",
       "      <th>A</th>\n",
       "      <th>B</th>\n",
       "      <th>ratio</th>\n",
       "    </tr>\n",
       "  </thead>\n",
       "  <tbody>\n",
       "    <tr>\n",
       "      <th>0</th>\n",
       "      <td>2019-08-06</td>\n",
       "      <td>40919</td>\n",
       "      <td>214842</td>\n",
       "      <td>5.25</td>\n",
       "    </tr>\n",
       "    <tr>\n",
       "      <th>1</th>\n",
       "      <td>2019-08-07</td>\n",
       "      <td>123248</td>\n",
       "      <td>219164</td>\n",
       "      <td>1.78</td>\n",
       "    </tr>\n",
       "    <tr>\n",
       "      <th>2</th>\n",
       "      <td>2019-08-19</td>\n",
       "      <td>168193</td>\n",
       "      <td>1429920</td>\n",
       "      <td>8.50</td>\n",
       "    </tr>\n",
       "  </tbody>\n",
       "</table>\n",
       "</div>"
      ],
      "text/plain": [
       "group       date       A        B  ratio\n",
       "0     2019-08-06   40919   214842   5.25\n",
       "1     2019-08-07  123248   219164   1.78\n",
       "2     2019-08-19  168193  1429920   8.50"
      ]
     },
     "metadata": {},
     "output_type": "display_data"
    }
   ],
   "source": [
    "# делаем срез выручки по заказам за 6,7 и 19 августа для обеих групп\n",
    "\n",
    "revenue_6_7_19_august = (\n",
    "                        orders.query('date in [\"2019-08-06\",\"2019-08-07\", \"2019-08-19\"]')\n",
    "                            .pivot_table(index='date', columns = 'group', values='revenue', aggfunc='sum')\n",
    "                            .reset_index()\n",
    "                    )\n",
    "revenue_6_7_19_august['ratio'] = round((revenue_6_7_19_august['B']/revenue_6_7_19_august['A']), 2)\n",
    "display(revenue_6_7_19_august)"
   ]
  },
  {
   "cell_type": "markdown",
   "metadata": {},
   "source": [
    "Таким образом аномальный всплеск 19 августа действительно обусловлен оформлением очень большого заказа - разница среднего чека между группами более чем 8 раз. В случае пика 6-7 августа, колебания на графике связаны, прежде всего, с низкими значениями выручки группы А при стабильно высокой выручке в группе В."
   ]
  },
  {
   "cell_type": "markdown",
   "metadata": {},
   "source": [
    "#### График кумулятивного среднего количества заказов на посетителя по группам"
   ]
  },
  {
   "cell_type": "code",
   "execution_count": 22,
   "metadata": {},
   "outputs": [
    {
     "data": {
      "image/png": "[encoded data removed]",
      "text/plain": [
       "<Figure size 936x360 with 1 Axes>"
      ]
     },
     "metadata": {
      "needs_background": "light"
     },
     "output_type": "display_data"
    }
   ],
   "source": [
    "# считаем среднее количество заказов на посетителя\n",
    "cumulative_data['conversion'] = cumulative_data['orders'] / cumulative_data['visitors']\n",
    "\n",
    "# среднее количество заказов на посетителя группы A\n",
    "cumulative_data_a = cumulative_data[cumulative_data['group'] == 'A']\n",
    "\n",
    "# среднее количество заказов на посетителя группы B\n",
    "cumulative_data_b = cumulative_data[cumulative_data['group'] == 'B']\n",
    "\n",
    "# строим график\n",
    "plt.figure(figsize = (13,5))\n",
    "plt.plot(cumulative_data_a['date'], cumulative_data_a['conversion'], label = 'A', linewidth=3)\n",
    "plt.plot(cumulative_data_b['date'], cumulative_data_b['conversion'], label = 'B', linewidth=3)\n",
    "\n",
    "plt.title('График кумулятивного среднего количества заказов на посетителя по группам', size = 14)\n",
    "plt.xlabel('Дата', size = 13)\n",
    "plt.ylabel(\"Среднее количество заказов\", size = 13)\n",
    "plt.grid(True)\n",
    "plt.legend(fontsize=15)\n",
    "plt.show();"
   ]
  },
  {
   "cell_type": "markdown",
   "metadata": {},
   "source": [
    "По графику кумулятивного среднего количества заказов на посетителя видим сильные колебания в начале теста по обеим группам.\\\n",
    "Во второй половине теста график выравнивается и становится практически симметричным. К этому моменту результаты группы B стабильно превышают значения группы А.\\\n",
    "К концу теста *кумулятивное среднее группы B установилась на уровне 2.9%, кумулятивное среднее группы А - на уровне 2.5%*.\\\n",
    "В целом абсолютные значения колебаний кумулятивного среднего количества заказов на посетителя для обеих групп варьируются в диапазоне от 2.4% до 3.6%."
   ]
  },
  {
   "cell_type": "markdown",
   "metadata": {},
   "source": [
    "#### График относительного изменения кумулятивного среднего количества заказов на посетителя группы B к группе A"
   ]
  },
  {
   "cell_type": "code",
   "execution_count": 23,
   "metadata": {
    "scrolled": true
   },
   "outputs": [
    {
     "data": {
      "image/png": "[encoded data removed]",
      "text/plain": [
       "<Figure size 936x360 with 1 Axes>"
      ]
     },
     "metadata": {
      "needs_background": "light"
     },
     "output_type": "display_data"
    }
   ],
   "source": [
    "# объединяем данные по кумулятивному среднему количеству заказов на посетителя для обеих групп\n",
    "merged_cumulative_conversions = cumulative_data_a[['date','conversion']] \\\n",
    ".merge(cumulative_data_b[['date','conversion']], left_on = 'date', right_on = 'date', how = 'left', suffixes = ['_a', '_b'])\n",
    "\n",
    "# строим график\n",
    "plt.figure(figsize=(13,5))\n",
    "plt.plot(merged_cumulative_conversions['date'], merged_cumulative_conversions['conversion_b'] / merged_cumulative_conversions['conversion_a'] - 1, \\\n",
    "         label = \"Относительный прирост кум. среднего кол-ва заказов на посетителя группы B к группе A\", linewidth=3)\n",
    "\n",
    "# добавляем вспомогательные оси на значении 0 и 0.16\n",
    "plt.axhline(y = 0, color = 'black', linestyle = '--')\n",
    "plt.axhline(y = 0.16, color = 'red', linestyle = '--')\n",
    "\n",
    "plt.title('График относительного изменения кумулятивного среднего количества заказов на посетителя группы B к группе A', size = 13)\n",
    "plt.xlabel('Дата')\n",
    "plt.legend(fontsize=12)\n",
    "plt.ylabel('Отклонение', size = 13)\n",
    "plt.grid(True)\n",
    "plt.show();"
   ]
  },
  {
   "cell_type": "markdown",
   "metadata": {},
   "source": [
    "В начале теста группа В проигрывала группе А, но уже на 7-й день вырвалась вперед.\\\n",
    "По графику видим, что кумулятивное среднее количество заказов на посетителя в группе B относительно группы А на 10 августа уже установилось и колебалось вокруг значения 16%.\\\n",
    "Другие значительные скачки и всплески за период тестирования отсутствуют, что говорит о стабильном приросте кумулятивного среднего группы B над группой А."
   ]
  },
  {
   "cell_type": "markdown",
   "metadata": {},
   "source": [
    "### Анализ распределения количества заказов по пользователям"
   ]
  },
  {
   "cell_type": "markdown",
   "metadata": {},
   "source": [
    "В рамках исследования построим точечный график распределения количества заказов по пользователям."
   ]
  },
  {
   "cell_type": "code",
   "execution_count": 24,
   "metadata": {},
   "outputs": [
    {
     "name": "stdout",
     "output_type": "stream",
     "text": [
      "     visitor_id  orders\n",
      "908  3967698036       3\n",
      "55    249864742       3\n",
      "478  2108163459       3\n",
      "687  2988190573       3\n",
      "890  3908431265       3\n",
      "138   611059232       3\n",
      "632  2742574263       3\n",
      "157   678354126       2\n",
      "323  1404560065       2\n",
      "452  1985475298       2\n"
     ]
    },
    {
     "data": {
      "image/png": "[encoded data removed]",
      "text/plain": [
       "<Figure size 936x432 with 1 Axes>"
      ]
     },
     "metadata": {
      "needs_background": "light"
     },
     "output_type": "display_data"
    }
   ],
   "source": [
    "# создаем датафрейм с распределением количества заказов в разрезе пользователей\n",
    "orders_by_users = (\n",
    "    orders.groupby('visitor_id', as_index=False)\n",
    "    .agg({'transaction_id': 'nunique'})\n",
    ")\n",
    "orders_by_users.columns = ['visitor_id', 'orders']\n",
    "\n",
    "print(orders_by_users.sort_values(by='orders', ascending=False).head(10))\n",
    "\n",
    "# серия из чисел от 0 до количества наблюдений в 'orders_by_users'\n",
    "x_values_orders = pd.Series(range(0, len(orders_by_users)))\n",
    "\n",
    "# строим точеченый график числа заказов на одного пользователя\n",
    "plt.figure(figsize=(13,6))\n",
    "plt.scatter(x_values_orders, orders_by_users['orders']);\n",
    "\n",
    "plt.title('Точечный график количества заказов по пользователям', size = 14)\n",
    "plt.ylabel('Количество заказов', size = 13)\n",
    "plt.show();"
   ]
  },
  {
   "cell_type": "markdown",
   "metadata": {},
   "source": [
    "Основная часть покупателей сделали только **1 заказ**. Однако встречается некоторая доля тех, кто оформил по 2 или 3 заказа. Чтобы конкретизировать их количество и проследить влияние на результаты тестирования, посчитаем 95-й и 99-й перцентили количества заказов на пользователя, после чего установим границу для усечения аномальных значений."
   ]
  },
  {
   "cell_type": "code",
   "execution_count": 25,
   "metadata": {},
   "outputs": [
    {
     "data": {
      "text/plain": [
       "array([1., 2.])"
      ]
     },
     "metadata": {},
     "output_type": "display_data"
    }
   ],
   "source": [
    "# расчет 95 и 99 перцентилей количества заказов на пользователя\n",
    "display(np.percentile(orders_by_users['orders'], [95, 99]))"
   ]
  },
  {
   "cell_type": "markdown",
   "metadata": {},
   "source": [
    "Не более 5% пользователей оформляли больше 1 заказа.\\\n",
    "Не более 1% пользователей заказывали больше 2 раз.\\\n",
    "Таким образом установим 1 заказ как верхнюю границу числа заказов, выше которой - выбросы."
   ]
  },
  {
   "cell_type": "markdown",
   "metadata": {},
   "source": [
    "### Анализ распределения стоимостей заказов"
   ]
  },
  {
   "cell_type": "markdown",
   "metadata": {},
   "source": [
    "В рамках исследования построим точечный график распределения стоимостей заказов."
   ]
  },
  {
   "cell_type": "code",
   "execution_count": 26,
   "metadata": {
    "scrolled": false
   },
   "outputs": [
    {
     "name": "stdout",
     "output_type": "stream",
     "text": [
      "      transaction_id  visitor_id       date  revenue group\n",
      "425        590470918  1920142716 2019-08-19  1294500     B\n",
      "1196      3936777065  2108080724 2019-08-15   202740     B\n",
      "1136       666610489  1307669133 2019-08-13    92550     A\n",
      "744       3668308183   888512513 2019-08-27    86620     B\n",
      "743       3603576309  4133034833 2019-08-09    67990     A\n",
      "1103      1348774318  1164614297 2019-08-12    66350     A\n",
      "1099       316924019   148427295 2019-08-12    65710     A\n",
      "949       1347999392   887908475 2019-08-21    60450     A\n",
      "940       2420050534  4003628586 2019-08-08    58550     B\n",
      "131       3163614039  2254586615 2019-08-22    53904     A\n"
     ]
    },
    {
     "data": {
      "image/png": "[encoded data removed]",
      "text/plain": [
       "<Figure size 936x432 with 1 Axes>"
      ]
     },
     "metadata": {
      "needs_background": "light"
     },
     "output_type": "display_data"
    }
   ],
   "source": [
    "# проверим самые крупные заказы по выручке\n",
    "print(orders.sort_values(by='revenue', ascending=False).head(10))\n",
    "\n",
    "# серия из чисел от 0 до количества наблюдений в 'orders_by_users'\n",
    "x_values_revenue = pd.Series(range(0, len(orders['revenue'])))\n",
    "\n",
    "# строим точеченый график числа заказов на одного пользователя\n",
    "plt.figure(figsize=(13,6))\n",
    "plt.scatter(x_values_revenue, orders['revenue'])\n",
    "plt.title('Точечный график стоимостей заказов', size = 14)\n",
    "plt.ylabel('Стоимость заказа в млн. ед.', size = 13)\n",
    "plt.show();"
   ]
  },
  {
   "cell_type": "markdown",
   "metadata": {},
   "source": [
    "По графику и таблице распределения стоимостей заказов видим аномально дорогой заказ на сумму 1.3 млн.ед, совершенный 19 августа 2019 года.\\\n",
    "На графике так же заметен крупный заказ на 202.7 тыс. ед.\\\n",
    "Все остальные наблюдения варьируются в диапазоне до 92 тыс. ед.\\\n",
    "Для подтверждения статуса аномалии в выборке рассчитаем 95 и 99 перцентили стоимостей заказов, которые могут влиять на результаты исследований."
   ]
  },
  {
   "cell_type": "code",
   "execution_count": 27,
   "metadata": {},
   "outputs": [
    {
     "data": {
      "text/plain": [
       "array([26785., 53904.])"
      ]
     },
     "metadata": {},
     "output_type": "display_data"
    }
   ],
   "source": [
    "# расчет 95 и 99 перцентилей стоимостей заказов\n",
    "display(np.percentile(orders['revenue'], [95, 99]))"
   ]
  },
  {
   "cell_type": "markdown",
   "metadata": {},
   "source": [
    "Не более 5% заказов дороже 26.7 тыс. ед.\\\n",
    "Не более 1% заказов чек выше 53.9 тыс.ед.\\\n",
    "Таким образом границей для определения аномально дорогих заказов обозначим 99-й перцентиль - 53.9 тыс. ед."
   ]
  },
  {
   "cell_type": "markdown",
   "metadata": {},
   "source": [
    "### Анализ статистической значимости"
   ]
  },
  {
   "cell_type": "markdown",
   "metadata": {},
   "source": [
    "По итогам анализа кумулятивных результатов A/B теста и определения границы аномальных значений в исследуемой выборке, рассчитаем статистическую значимость различий в среднем количестве заказов на пользователя и среднем чеке между группами тестирования.\\\n",
    "Для этого сформулируем нулевую и альтернативную гипотезы для каждого параметра.\n",
    "\n",
    "В связи с тем, что в исследуемых данных присутствуют выбросы, для проверки гипотез будем использовать *непараметрический тест Уилкоксона-Манна-Уитни*, который хорошо решает проблему, когда величины распределены ненормально.\n",
    "\n",
    "*Уровень статистической значимости: α = 0.05.*"
   ]
  },
  {
   "cell_type": "markdown",
   "metadata": {},
   "source": [
    "#### Статистическая значимость различий в среднем количестве заказов на посетителя между группами по «сырым» данным"
   ]
  },
  {
   "cell_type": "markdown",
   "metadata": {},
   "source": [
    "Обозначим нулевую и альтернативную гипотезы:\n",
    "\n",
    "* **H0**: статистически значимых различий в среднем количестве заказов на посетителя между группами А и В по «сырым» данным нет.\n",
    "* **H1**: статистически значимые различия в среднем количестве заказов на посетителя между группами А и В по «сырым» данным есть.\n",
    "\n",
    "Перед тем, как перейти к тесту Манна-Уитни, подготовим данные о среднем количестве заказов на посетителя для каждой группы."
   ]
  },
  {
   "cell_type": "code",
   "execution_count": 28,
   "metadata": {},
   "outputs": [],
   "source": [
    "# создаем датафреймы с пользователями, которые совершили хотя бы один заказ, по группам\n",
    "# укажем количество заказов\n",
    "\n",
    "#группа А\n",
    "orders_by_users_a = (\n",
    "    orders[orders['group'] == 'A']\n",
    "    .groupby('visitor_id', as_index=False)\n",
    "    .agg({'transaction_id': pd.Series.nunique})\n",
    ")\n",
    "orders_by_users_a.columns = ['visitor_id', 'orders']\n",
    "\n",
    "#группа В\n",
    "orders_by_users_b = (\n",
    "    orders[orders['group'] == 'B']\n",
    "    .groupby('visitor_id', as_index=False)\n",
    "    .agg({'transaction_id': pd.Series.nunique})\n",
    ")\n",
    "orders_by_users_b.columns = ['visitor_id', 'orders']"
   ]
  },
  {
   "cell_type": "code",
   "execution_count": 29,
   "metadata": {},
   "outputs": [],
   "source": [
    "# готовим выборки к проверке критерием Манна-Уитни\n",
    "# создаем выборки по группам с количеством заказов определенного пользователя\n",
    "# в т.ч. пользователи, у которых 0 заказов\n",
    "\n",
    "# выборка для группы А\n",
    "sample_a = pd.concat([orders_by_users_a['orders'],\n",
    "                      pd.Series(\n",
    "                          0, \n",
    "                          index=np.arange(visitors[visitors['group'] == 'A']['visitors'].sum() - \n",
    "                                          len(orders_by_users_a['orders'])), \n",
    "                          name='orders')],axis=0\n",
    "                    )\n",
    "\n",
    "# выборка для группы В\n",
    "sample_b = pd.concat([orders_by_users_b['orders'],\n",
    "                      pd.Series(\n",
    "                          0, \n",
    "                          index=np.arange(visitors[visitors['group'] == 'B']['visitors'].sum() - \n",
    "                                          len(orders_by_users_b['orders'])), \n",
    "                          name='orders')],axis=0\n",
    "                    )"
   ]
  },
  {
   "cell_type": "code",
   "execution_count": 30,
   "metadata": {},
   "outputs": [
    {
     "name": "stdout",
     "output_type": "stream",
     "text": [
      "p-значение: 0.011\n",
      "Отвергаем нулевую гипотезу: разница статистически значима.\n",
      "Относительный прирост среднего количества заказов на посетителя группы В к группе А: 0.16\n"
     ]
    }
   ],
   "source": [
    "# уровень статистической значимости\n",
    "alpha = 0.05\n",
    "\n",
    "# считаем статистическую значимость различий в количестве заказов на посетителя по сырым данным критерием Манна-Уитни\n",
    "results_1 = st.mannwhitneyu(sample_a, sample_b)\n",
    "\n",
    "print('p-значение: {0:.3f}'.format(results_1.pvalue))\n",
    "\n",
    "if results_1.pvalue < alpha:\n",
    "        print('Отвергаем нулевую гипотезу: разница статистически значима.')\n",
    "else:\n",
    "        print('Не получилось отвергнуть нулевую гипотезу, вывод о различии сделать нельзя.')\n",
    "\n",
    "# считаем относительный прирост среднего количества заказов группы В\n",
    "print('Относительный прирост среднего количества заказов на посетителя группы В к группе А: {0:.2f}'.format(sample_b.mean() / sample_a.mean() - 1))"
   ]
  },
  {
   "cell_type": "markdown",
   "metadata": {},
   "source": [
    "По \"сырым\" данным различия в среднем количестве заказов на посетителя между группами есть: p-значение меньше уровня статистической значимости. Таким образом, *нулевую гипотезу отвергаем в пользу альтернативной*.\\\n",
    "*Относительный выигрыш группы В по среднему количеству заказов на посетителя составляет 16%*. Это говорит о том, что в группе B количество заказов на посетителя в среднем на 16% выше группы А."
   ]
  },
  {
   "cell_type": "markdown",
   "metadata": {},
   "source": [
    "#### Статистическая значимость различий в среднем чеке заказа между группами по «сырым» данным"
   ]
  },
  {
   "cell_type": "markdown",
   "metadata": {},
   "source": [
    "Обозначим нулевую и альтернативную гипотезы:\n",
    "\n",
    "* **H0**: статистически значимых различий в среднем чеке заказа между группами А и В по «сырым» данным нет.\n",
    "* **H1**: статистически значимые различия в среднем чеке заказа между группами А и В по «сырым» данным есть."
   ]
  },
  {
   "cell_type": "code",
   "execution_count": 31,
   "metadata": {
    "scrolled": true
   },
   "outputs": [
    {
     "name": "stdout",
     "output_type": "stream",
     "text": [
      "p-значение: 0.829\n",
      "Не получилось отвергнуть нулевую гипотезу, вывод о различии сделать нельзя.\n",
      "Относительный прирост среднего чека группы В к группе А: 0.287\n"
     ]
    }
   ],
   "source": [
    "# считаем статистическую значимость различий в среднем чеке заказа  по сырым данным критерием Манна-Уитни\n",
    "results_2 = st.mannwhitneyu(orders[orders['group'] =='A']['revenue'], orders[orders['group'] =='B']['revenue'])\n",
    "\n",
    "print('p-значение: {0:.3f}'.format(results_2.pvalue))\n",
    "\n",
    "if results_2.pvalue < alpha:\n",
    "        print('Отвергаем нулевую гипотезу: разница статистически значима.')\n",
    "else:\n",
    "        print('Не получилось отвергнуть нулевую гипотезу, вывод о различии сделать нельзя.')\n",
    "\n",
    "# считаем различия в среднем чеке для группы В относительно группы А\n",
    "print('Относительный прирост среднего чека группы В к группе А: {0:.3f}'\\\n",
    "      .format(orders[orders['group'] =='B']['revenue'].mean()\n",
    "     / orders[orders['group'] =='A']['revenue'].mean() - 1))"
   ]
  },
  {
   "cell_type": "markdown",
   "metadata": {},
   "source": [
    "По \"сырым\" данным различия в среднем чеке между группами отсутствуют: p-значение больше уровня статистической значимости. Таким образом, *нулевую гипотезу не отвергаем*.\\\n",
    "*Относительный выигрыш группы B по среднему чеку составляет 28.7%*. Это говорит о том, что в группе B в среднем на 28.7% заказы дороже по сравнению с группой A."
   ]
  },
  {
   "cell_type": "markdown",
   "metadata": {},
   "source": [
    "#### Статистическая значимость различий в среднем количестве заказов на посетителя между группами по «очищенным» данным"
   ]
  },
  {
   "cell_type": "markdown",
   "metadata": {},
   "source": [
    "Для получения наиболее релевантных результатов теста Манна-Уитни уберем из выборки аномальных пользователей, попадающих под следующие критерии:\n",
    "- те, кто совершил 2 и более заказов (1% пользователей с наибольшим числом заказов);\n",
    "- те, кто совершил заказ на сумму от 54 тысяч ед. (1% пользователей с самыми дорогими заказами)."
   ]
  },
  {
   "cell_type": "code",
   "execution_count": 32,
   "metadata": {},
   "outputs": [
    {
     "name": "stdout",
     "output_type": "stream",
     "text": [
      "1099    148427295\n",
      "33      249864742\n",
      "58      611059232\n",
      "949     887908475\n",
      "744     888512513\n",
      "Name: visitor_id, dtype: int64\n",
      "\n",
      "Количество аномальных пользователей всего: 16\n",
      "Доля аномальных пользователей в общем количестве исследуемых пользователей: 1.64%\n"
     ]
    }
   ],
   "source": [
    "# определяем точные значения для среза аномалий\n",
    "many_orders = np.percentile(orders_by_users['orders'], 99)\n",
    "expensive_orders = np.percentile(orders['revenue'], 99)\n",
    "\n",
    "# пользователи, у которых более 2 заказов\n",
    "users_with_many_orders = pd.concat(\n",
    "    [\n",
    "        orders_by_users_a[orders_by_users_a['orders'] > many_orders]['visitor_id'],\n",
    "        orders_by_users_b[orders_by_users_b['orders'] > many_orders]['visitor_id'],\n",
    "    ],\n",
    "    axis=0,\n",
    ")\n",
    "\n",
    "# пользователи, у которых заказы дороже 54 тысяч\n",
    "users_with_expensive_orders = orders[orders['revenue'] > expensive_orders]['visitor_id']\n",
    "\n",
    "# объединяем аномальных пользователей в единый датафрейм\n",
    "abnormal_users = (\n",
    "    pd.concat([users_with_many_orders, users_with_expensive_orders], axis=0)\n",
    "    .drop_duplicates()\n",
    "    .sort_values()\n",
    ")\n",
    "print(abnormal_users.head())\n",
    "print()\n",
    "print('Количество аномальных пользователей всего:', abnormal_users.shape[0])\n",
    "print('Доля аномальных пользователей в общем количестве исследуемых пользователей: {0:.2f}%'.format((abnormal_users.shape[0]/orders['visitor_id'].nunique())*100))"
   ]
  },
  {
   "cell_type": "markdown",
   "metadata": {},
   "source": [
    "Обозначим нулевую и альтернативную гипотезы:\n",
    "\n",
    "* **H0**: статистически значимых различий в среднем количестве заказов на посетителя между группами А и В по «очищенным» данным нет.\n",
    "* **H1**: статистически значимые различия в среднем количестве заказов на посетителя между группами А и В по «очищенным» данным есть.\n",
    "\n",
    "Перед тем, как перейти к тесту Манна-Уитни, подготовим \"очищенные\" данные о среднем количестве заказов на посетителя для каждой группы."
   ]
  },
  {
   "cell_type": "code",
   "execution_count": 33,
   "metadata": {},
   "outputs": [],
   "source": [
    "# готовим выборки количества заказов по пользователям в разрезе групп\n",
    "\n",
    "# группа А\n",
    "sample_a_filtered = pd.concat(\n",
    "    [\n",
    "        orders_by_users_a[\n",
    "            np.logical_not(orders_by_users_a['visitor_id'].isin(abnormal_users))\n",
    "        ]['orders'],\n",
    "        pd.Series(\n",
    "            0,\n",
    "            index=np.arange(\n",
    "                visitors[visitors['group'] == 'A']['visitors'].sum() - len(orders_by_users_a['orders'])\n",
    "            ),\n",
    "            name='orders',\n",
    "        ),\n",
    "    ],\n",
    "    axis=0,\n",
    ")\n",
    "\n",
    "# группа В\n",
    "sample_b_filtered = pd.concat(\n",
    "    [\n",
    "        orders_by_users_b[\n",
    "            np.logical_not(orders_by_users_b['visitor_id'].isin(abnormal_users))\n",
    "        ]['orders'],\n",
    "        pd.Series(\n",
    "            0,\n",
    "            index=np.arange(\n",
    "                visitors[visitors['group'] == 'B']['visitors'].sum() - len(orders_by_users_b['orders'])\n",
    "            ),\n",
    "            name='orders',\n",
    "        ),\n",
    "    ],\n",
    "    axis=0,\n",
    ")"
   ]
  },
  {
   "cell_type": "code",
   "execution_count": 34,
   "metadata": {},
   "outputs": [
    {
     "name": "stdout",
     "output_type": "stream",
     "text": [
      "p-значение: 0.007\n",
      "Отвергаем нулевую гипотезу: разница статистически значима.\n",
      "Относительный прирост среднего количества заказов на посетителя группы В к группе А: 0.19\n"
     ]
    }
   ],
   "source": [
    "# считаем статистическую значимость различий в количестве заказов по \"очищенным\" данным критерием Манна-Уитни\n",
    "results_3 = st.mannwhitneyu(sample_a_filtered, sample_b_filtered)\n",
    "\n",
    "print('p-значение: {0:.3f}'.format(results_3.pvalue))\n",
    "\n",
    "if results_3.pvalue < alpha:\n",
    "        print('Отвергаем нулевую гипотезу: разница статистически значима.')\n",
    "else:\n",
    "        print('Не получилось отвергнуть нулевую гипотезу, вывод о различии сделать нельзя.')\n",
    "\n",
    "# считаем относительный прирост среднего количества заказов группы В\n",
    "print('Относительный прирост среднего количества заказов на посетителя группы В к группе А: {0:.2f}'.format(sample_b_filtered.mean() / sample_a_filtered.mean() - 1))"
   ]
  },
  {
   "cell_type": "markdown",
   "metadata": {},
   "source": [
    "Результат по \"очищенным\" данным немного отличается от первого теста, но не меняет общий исход эксперимента.\\\n",
    "P-значение осталось меньше уровня статистической значимости, поэтому *нулевая гипотеза отвергается в пользу альтернативной*.\n",
    "*Относительный прирост среднего количества заказов на посетителя группы В составил 19%.* Таким образом в группе B количество заказов на посетителя в среднем на 19% выше, чем в группе A."
   ]
  },
  {
   "cell_type": "markdown",
   "metadata": {},
   "source": [
    "#### Статистическая значимость различий в среднем чеке заказа между группами по «очищенным» данным"
   ]
  },
  {
   "cell_type": "markdown",
   "metadata": {},
   "source": [
    "Обозначим нулевую и альтернативную гипотезы:\n",
    "\n",
    "* **H0**: статистически значимых различий в среднем чеке заказа между группами А и В по «очищенным» данным нет.\n",
    "* **H1**: статистически значимые различия в среднем чеке заказа между группами А и В по «очищенным» данным есть."
   ]
  },
  {
   "cell_type": "code",
   "execution_count": 35,
   "metadata": {},
   "outputs": [
    {
     "name": "stdout",
     "output_type": "stream",
     "text": [
      "p-значение: 0.788\n",
      "Не получилось отвергнуть нулевую гипотезу, вывод о различии сделать нельзя.\n",
      "Относительные различия среднего чека группы В к группе А: -0.032\n"
     ]
    }
   ],
   "source": [
    "# считаем статистическую значимость различий в среднем чеке заказа по \"очищенным\" данным критерием Манна-Уитни\n",
    "results_4 = st.mannwhitneyu(orders[(orders['group']=='A') &\\\n",
    "                                   np.logical_not(orders['visitor_id'].isin(abnormal_users))]['revenue'],\\\n",
    "                            orders[(orders['group']=='B')\\\n",
    "                                   & np.logical_not(orders['visitor_id'].isin(abnormal_users))]['revenue'])\n",
    "\n",
    "print('p-значение: {0:.3f}'.format(results_4.pvalue))\n",
    "\n",
    "if results_4.pvalue < alpha:\n",
    "        print('Отвергаем нулевую гипотезу: разница статистически значима.')\n",
    "else:\n",
    "        print('Не получилось отвергнуть нулевую гипотезу, вывод о различии сделать нельзя.')\n",
    "\n",
    "# считаем различия в среднем чеке для группы В относительно группы А\n",
    "print('Относительные различия среднего чека группы В к группе А: {0:.3f}'\\\n",
    "      .format(orders[(orders['group']=='B') & np.logical_not(orders['visitor_id'].isin(abnormal_users))]['revenue'].mean()\n",
    "     / orders[(orders['group']=='A') & np.logical_not(orders['visitor_id'].isin(abnormal_users))]['revenue'].mean() - 1))"
   ]
  },
  {
   "cell_type": "markdown",
   "metadata": {},
   "source": [
    "Результаты теста по \"очищенным\" данным для среднего чека оказались примерно на том же уровне, что и при оценке \"сырых\" данных. P-значение сильно больше уровня статистической значимости, поэтому *нулевую гипотезу не отвергаем*.\\\n",
    "При этом средний чек сегмента В упал настолько, что оказался в относительном проигрыше к сегменту А: разница составила 3.2%.\\\n",
    "Таким образом чистка очень дорогих заказов, характерных для группы В, привела к *минимизации разрыва по среднему чеку* между группами тестирования."
   ]
  },
  {
   "cell_type": "markdown",
   "metadata": {},
   "source": [
    "**Выводы о результатах A/B теста**\n",
    "1. Есть статистически значимое различие по *среднему количеству заказов на посетителя* между группами как по «сырым», так и по данным после фильтрации аномалий. Количество заказов на посетителя группы B в среднем на 19% выше по сравнению с группой A.\n",
    "2. Нет статистически значимого различия по *среднему чеку* между группами ни по «сырым», ни по данным после фильтрации аномалий. При этом средний чек в группе B после устранения выбросов показал околонулевой относительный проигрыш, уступив группе А 3.2%.\n",
    "3. График *относительного изменения кумулятивного среднего количества заказов на посетителя* группы B к группе A показывает, что результаты группы В стабильно лучше группы А.\n",
    "\n",
    "Таким образом по очищенным данным количество заказов на посетителя группы В в среднем выше, чем у группы А, в то время как средний чек между группами не отличается.\\\n",
    "Исходя из всех вышеобозначенных фактов, **рекомендуется остановить тест, зафиксировав победу группы B**. Продолжение теста при текущем уровне статистической значимости не поменяет картину в целом."
   ]
  },
  {
   "cell_type": "markdown",
   "metadata": {},
   "source": [
    "## Общий вывод"
   ]
  },
  {
   "cell_type": "markdown",
   "metadata": {},
   "source": [
    "В ходе проекта былы проведена приоритизация ряда жизнеспособных для бизнеса гипотез, а также анализ результатов A/B теста с целью увеличения выручки интернет-магазина. Основой реализации A/B тестирования явились записи о заказах и посещениях пользователей интернет-магазина за период с 1 по 31 августа 2019 года.\n",
    "\n",
    "Исследование выполнялось по следующим этапам:\n",
    "1. **Загрузка и первичный анализ данных**:\n",
    "\n",
    "* Датафрейм \"Гипотезы\" содержит 9 гипотез, предложенных отделом маркетинга, которые актуальны и могут поспособствовать увеличению прибыли компании;\n",
    "* Датафрейм \"Посещения\" включает сведения о количестве посещений пользователей интернет-магазина по группам теста в определенные даты;\n",
    "* Датафрейм \"Заказы\" содержит информацию о заказах пользователей по группам теста в определенные даты.\n",
    "\n",
    "\n",
    "2. **Предобработка данных**:\n",
    "* скорректированы наименования столбцов;\n",
    "* пропуски и явные дубликаты не выявлены;\n",
    "* исключены сведения о пользователях, попавших одновременно в обе группы A/B теста.\n",
    "\n",
    "3. **Приоритизация гипотез**\n",
    "\n",
    "* Наиболее приоритетные гипотезы по фреймворку ICE (*без учета охвата пользователей*):\n",
    "     * `запустить акцию, дающую скидку на товар в день рождения (гипотеза № 8);`\n",
    "     * `добавить два новых канала привлечения трафика, что позволит привлекать на 30% больше пользователей (гипотеза № 0);`\n",
    "     * `добавить форму подписки на все основные страницы, чтобы собрать базу клиентов для email-рассылок (гипотеза № 7).`\n",
    "     \n",
    "     \n",
    "* Наиболее приоритетные гипотезы по фреймворку RICE (*с учетом охвата пользователей*):\n",
    "     * `добавить форму подписки на все основные страницы, чтобы собрать базу клиентов для email-рассылок (гипотеза № 7);`\n",
    "     * `добавить блоки рекомендаций товаров на сайт интернет магазина, чтобы повысить конверсию и средний чек заказа (гипотеза № 2);`\n",
    "     * `добавить два новых канала привлечения трафика, что позволит привлекать на 30% больше пользователей (гипотеза № 0).`\n",
    "     \n",
    "Учитывая важность параметра охвата пользователей в стратегии развития интернет-магазина, наиболее приоритетными гипотезами являются гипотезы №7, №2 и №0. Именно на них необходимо обратить внимание в случае планирования A/B-теста. \n",
    "\n",
    "4. **Анализ результатов A/B теста**\\\n",
    "A/B тест рекомендуется *остановить и признать успешным в пользу группы B*, зафиксировав следующие уточнения:\n",
    "\n",
    "    * есть статистически значимое различие по *среднему количеству заказов на посетителя* между группами как по «сырым», так и по данным после фильтрации аномалий. Количество заказов на посетителя группы B в среднем на 19% выше по сравнению с группой A;\n",
    "    * нет статистически значимого различия по *среднему чеку* между группами ни по «сырым», ни по данным после фильтрации аномалий. При этом средний чек в группе B после устранения выбросов показал околонулевой относительный проигрыш, уступив группе А 3.2%;\n",
    "    * график относительного изменения кумулятивного среднего количества заказов на посетителя группы B к группе A показывает, что результаты группы В стабильно лучше группы А.\n",
    "\n",
    "Таким образом по очищенным данным количество заказов на посетителя группы В в среднем выше, чем у группы А, в то время как средний чек между группами не отличается."
   ]
  }
 ],
 "metadata": {
  "ExecuteTimeLog": [
   {
    "duration": 1230,
    "start_time": "2024-05-07T13:14:37.829Z"
   },
   {
    "duration": 283,
    "start_time": "2024-05-07T13:22:12.847Z"
   },
   {
    "duration": 3,
    "start_time": "2024-05-07T13:23:07.176Z"
   },
   {
    "duration": 29,
    "start_time": "2024-05-07T13:23:27.918Z"
   },
   {
    "duration": 26,
    "start_time": "2024-05-07T13:24:47.701Z"
   },
   {
    "duration": 20,
    "start_time": "2024-05-07T13:25:35.714Z"
   },
   {
    "duration": 4,
    "start_time": "2024-05-07T13:30:23.866Z"
   },
   {
    "duration": 26,
    "start_time": "2024-05-07T13:30:25.787Z"
   },
   {
    "duration": 4,
    "start_time": "2024-05-07T13:31:06.101Z"
   },
   {
    "duration": 23,
    "start_time": "2024-05-07T13:31:07.519Z"
   },
   {
    "duration": 33,
    "start_time": "2024-05-07T13:31:21.818Z"
   },
   {
    "duration": 22,
    "start_time": "2024-05-07T13:31:24.868Z"
   },
   {
    "duration": 6,
    "start_time": "2024-05-07T13:52:33.392Z"
   },
   {
    "duration": 23,
    "start_time": "2024-05-07T13:56:11.359Z"
   },
   {
    "duration": 75,
    "start_time": "2024-05-07T13:56:51.349Z"
   },
   {
    "duration": 3,
    "start_time": "2024-05-07T13:56:53.000Z"
   },
   {
    "duration": 22,
    "start_time": "2024-05-07T13:56:54.601Z"
   },
   {
    "duration": 27,
    "start_time": "2024-05-07T13:56:59.281Z"
   },
   {
    "duration": 23,
    "start_time": "2024-05-07T13:57:06.317Z"
   },
   {
    "duration": 75,
    "start_time": "2024-05-07T14:01:45.775Z"
   },
   {
    "duration": 24,
    "start_time": "2024-05-07T14:01:49.610Z"
   },
   {
    "duration": 25,
    "start_time": "2024-05-07T14:01:56.242Z"
   },
   {
    "duration": 23,
    "start_time": "2024-05-07T14:02:01.680Z"
   },
   {
    "duration": 74,
    "start_time": "2024-05-07T14:02:12.474Z"
   },
   {
    "duration": 22,
    "start_time": "2024-05-07T14:02:16.467Z"
   },
   {
    "duration": 75,
    "start_time": "2024-05-07T14:05:13.308Z"
   },
   {
    "duration": 25,
    "start_time": "2024-05-07T14:05:21.394Z"
   },
   {
    "duration": 35,
    "start_time": "2024-05-07T14:05:31.104Z"
   },
   {
    "duration": 2,
    "start_time": "2024-05-07T14:09:52.279Z"
   },
   {
    "duration": 2,
    "start_time": "2024-05-07T14:11:08.697Z"
   },
   {
    "duration": 22,
    "start_time": "2024-05-07T14:11:11.064Z"
   },
   {
    "duration": 23,
    "start_time": "2024-05-07T14:11:18.828Z"
   },
   {
    "duration": 21,
    "start_time": "2024-05-07T14:11:24.979Z"
   },
   {
    "duration": 289,
    "start_time": "2024-05-07T14:39:45.818Z"
   },
   {
    "duration": 2,
    "start_time": "2024-05-07T14:40:34.266Z"
   },
   {
    "duration": 13,
    "start_time": "2024-05-07T14:40:39.837Z"
   },
   {
    "duration": 29,
    "start_time": "2024-05-07T14:46:11.574Z"
   },
   {
    "duration": 3,
    "start_time": "2024-05-07T14:46:34.893Z"
   },
   {
    "duration": 26,
    "start_time": "2024-05-07T14:46:34.898Z"
   },
   {
    "duration": 74,
    "start_time": "2024-05-07T14:46:34.926Z"
   },
   {
    "duration": 3,
    "start_time": "2024-05-07T14:46:35.002Z"
   },
   {
    "duration": 22,
    "start_time": "2024-05-07T14:46:35.007Z"
   },
   {
    "duration": 23,
    "start_time": "2024-05-07T14:46:35.030Z"
   },
   {
    "duration": 20,
    "start_time": "2024-05-07T14:46:35.054Z"
   },
   {
    "duration": 16,
    "start_time": "2024-05-07T14:46:35.076Z"
   },
   {
    "duration": 13,
    "start_time": "2024-05-07T14:46:35.093Z"
   },
   {
    "duration": 26,
    "start_time": "2024-05-07T14:46:35.108Z"
   },
   {
    "duration": 22,
    "start_time": "2024-05-07T14:47:35.269Z"
   },
   {
    "duration": 23,
    "start_time": "2024-05-07T14:47:45.803Z"
   },
   {
    "duration": 20,
    "start_time": "2024-05-07T14:47:52.754Z"
   },
   {
    "duration": 3,
    "start_time": "2024-05-07T16:31:31.638Z"
   },
   {
    "duration": 3,
    "start_time": "2024-05-07T16:35:42.348Z"
   },
   {
    "duration": 3,
    "start_time": "2024-05-07T16:36:02.333Z"
   },
   {
    "duration": 54,
    "start_time": "2024-05-07T16:43:01.490Z"
   },
   {
    "duration": 3,
    "start_time": "2024-05-07T16:44:04.173Z"
   },
   {
    "duration": 22,
    "start_time": "2024-05-07T16:44:27.888Z"
   },
   {
    "duration": 4,
    "start_time": "2024-05-07T16:44:45.851Z"
   },
   {
    "duration": 14,
    "start_time": "2024-05-07T16:44:50.886Z"
   },
   {
    "duration": 3,
    "start_time": "2024-05-07T16:45:16.256Z"
   },
   {
    "duration": 187,
    "start_time": "2024-05-07T16:45:22.518Z"
   },
   {
    "duration": 535,
    "start_time": "2024-05-07T16:45:31.253Z"
   },
   {
    "duration": 3,
    "start_time": "2024-05-07T16:45:38.339Z"
   },
   {
    "duration": 83,
    "start_time": "2024-05-07T16:45:38.347Z"
   },
   {
    "duration": 2,
    "start_time": "2024-05-07T16:45:38.433Z"
   },
   {
    "duration": 17,
    "start_time": "2024-05-07T16:45:38.437Z"
   },
   {
    "duration": 15,
    "start_time": "2024-05-07T16:45:38.456Z"
   },
   {
    "duration": 31,
    "start_time": "2024-05-07T16:45:38.473Z"
   },
   {
    "duration": 28,
    "start_time": "2024-05-07T16:45:38.506Z"
   },
   {
    "duration": 41,
    "start_time": "2024-05-07T16:45:38.536Z"
   },
   {
    "duration": 6,
    "start_time": "2024-05-07T16:45:38.579Z"
   },
   {
    "duration": 20,
    "start_time": "2024-05-07T16:45:38.586Z"
   },
   {
    "duration": 650,
    "start_time": "2024-05-07T16:45:38.607Z"
   },
   {
    "duration": 0,
    "start_time": "2024-05-07T16:45:39.259Z"
   },
   {
    "duration": 9,
    "start_time": "2024-05-07T16:48:00.784Z"
   },
   {
    "duration": 9,
    "start_time": "2024-05-07T16:48:21.878Z"
   },
   {
    "duration": 8,
    "start_time": "2024-05-07T16:50:29.509Z"
   },
   {
    "duration": 3,
    "start_time": "2024-05-07T16:51:12.212Z"
   },
   {
    "duration": 8,
    "start_time": "2024-05-07T16:51:18.225Z"
   },
   {
    "duration": 4,
    "start_time": "2024-05-07T16:52:11.880Z"
   },
   {
    "duration": 8,
    "start_time": "2024-05-07T16:52:15.823Z"
   },
   {
    "duration": 3,
    "start_time": "2024-05-07T16:53:52.012Z"
   },
   {
    "duration": 3,
    "start_time": "2024-05-07T16:56:12.920Z"
   },
   {
    "duration": 9,
    "start_time": "2024-05-07T16:56:16.608Z"
   },
   {
    "duration": 3,
    "start_time": "2024-05-07T16:56:40.332Z"
   },
   {
    "duration": 9,
    "start_time": "2024-05-07T16:56:44.837Z"
   },
   {
    "duration": 7,
    "start_time": "2024-05-07T16:59:13.746Z"
   },
   {
    "duration": 8,
    "start_time": "2024-05-07T17:10:32.383Z"
   },
   {
    "duration": 3,
    "start_time": "2024-05-07T17:10:35.909Z"
   },
   {
    "duration": 113,
    "start_time": "2024-05-07T17:10:35.913Z"
   },
   {
    "duration": 3,
    "start_time": "2024-05-07T17:10:36.027Z"
   },
   {
    "duration": 64,
    "start_time": "2024-05-07T17:10:36.032Z"
   },
   {
    "duration": 27,
    "start_time": "2024-05-07T17:10:36.097Z"
   },
   {
    "duration": 45,
    "start_time": "2024-05-07T17:10:36.126Z"
   },
   {
    "duration": 66,
    "start_time": "2024-05-07T17:10:36.172Z"
   },
   {
    "duration": 41,
    "start_time": "2024-05-07T17:10:36.240Z"
   },
   {
    "duration": 28,
    "start_time": "2024-05-07T17:10:36.282Z"
   },
   {
    "duration": 26,
    "start_time": "2024-05-07T17:10:36.312Z"
   },
   {
    "duration": 40,
    "start_time": "2024-05-07T17:10:36.341Z"
   },
   {
    "duration": 27,
    "start_time": "2024-05-07T17:10:36.383Z"
   },
   {
    "duration": 41,
    "start_time": "2024-05-07T17:10:36.412Z"
   },
   {
    "duration": 4,
    "start_time": "2024-05-07T17:11:35.260Z"
   },
   {
    "duration": 15,
    "start_time": "2024-05-07T17:11:40.323Z"
   },
   {
    "duration": 4,
    "start_time": "2024-05-07T17:11:57.525Z"
   },
   {
    "duration": 16,
    "start_time": "2024-05-07T17:12:01.999Z"
   },
   {
    "duration": 4,
    "start_time": "2024-05-07T17:12:22.659Z"
   },
   {
    "duration": 8,
    "start_time": "2024-05-07T17:12:26.372Z"
   },
   {
    "duration": 3,
    "start_time": "2024-05-07T17:12:35.370Z"
   },
   {
    "duration": 101,
    "start_time": "2024-05-07T17:12:35.375Z"
   },
   {
    "duration": 3,
    "start_time": "2024-05-07T17:12:35.478Z"
   },
   {
    "duration": 33,
    "start_time": "2024-05-07T17:12:35.482Z"
   },
   {
    "duration": 23,
    "start_time": "2024-05-07T17:12:35.517Z"
   },
   {
    "duration": 55,
    "start_time": "2024-05-07T17:12:35.542Z"
   },
   {
    "duration": 26,
    "start_time": "2024-05-07T17:12:35.598Z"
   },
   {
    "duration": 41,
    "start_time": "2024-05-07T17:12:35.626Z"
   },
   {
    "duration": 12,
    "start_time": "2024-05-07T17:12:35.669Z"
   },
   {
    "duration": 48,
    "start_time": "2024-05-07T17:12:35.682Z"
   },
   {
    "duration": 37,
    "start_time": "2024-05-07T17:12:35.732Z"
   },
   {
    "duration": 25,
    "start_time": "2024-05-07T17:12:35.771Z"
   },
   {
    "duration": 41,
    "start_time": "2024-05-07T17:12:35.797Z"
   },
   {
    "duration": 4,
    "start_time": "2024-05-07T17:19:38.529Z"
   },
   {
    "duration": 7,
    "start_time": "2024-05-07T17:23:33.488Z"
   },
   {
    "duration": 4,
    "start_time": "2024-05-07T17:23:38.106Z"
   },
   {
    "duration": 4,
    "start_time": "2024-05-07T17:23:39.216Z"
   },
   {
    "duration": 3,
    "start_time": "2024-05-07T17:23:55.961Z"
   },
   {
    "duration": 90,
    "start_time": "2024-05-07T17:23:55.966Z"
   },
   {
    "duration": 2,
    "start_time": "2024-05-07T17:23:56.058Z"
   },
   {
    "duration": 8,
    "start_time": "2024-05-07T17:23:56.062Z"
   },
   {
    "duration": 5,
    "start_time": "2024-05-07T17:23:56.072Z"
   },
   {
    "duration": 28,
    "start_time": "2024-05-07T17:23:56.078Z"
   },
   {
    "duration": 60,
    "start_time": "2024-05-07T17:23:56.108Z"
   },
   {
    "duration": 23,
    "start_time": "2024-05-07T17:23:56.169Z"
   },
   {
    "duration": 8,
    "start_time": "2024-05-07T17:23:56.194Z"
   },
   {
    "duration": 5,
    "start_time": "2024-05-07T17:23:56.203Z"
   },
   {
    "duration": 59,
    "start_time": "2024-05-07T17:23:56.210Z"
   },
   {
    "duration": 6,
    "start_time": "2024-05-07T17:23:56.271Z"
   },
   {
    "duration": 7,
    "start_time": "2024-05-07T17:23:56.278Z"
   },
   {
    "duration": 23,
    "start_time": "2024-05-07T17:23:56.288Z"
   },
   {
    "duration": 161,
    "start_time": "2024-05-07T17:25:41.051Z"
   },
   {
    "duration": 173,
    "start_time": "2024-05-07T17:26:03.869Z"
   },
   {
    "duration": 4,
    "start_time": "2024-05-07T17:26:21.052Z"
   },
   {
    "duration": 80,
    "start_time": "2024-05-07T17:26:21.057Z"
   },
   {
    "duration": 3,
    "start_time": "2024-05-07T17:26:21.139Z"
   },
   {
    "duration": 5,
    "start_time": "2024-05-07T17:26:21.143Z"
   },
   {
    "duration": 5,
    "start_time": "2024-05-07T17:26:21.150Z"
   },
   {
    "duration": 22,
    "start_time": "2024-05-07T17:26:21.157Z"
   },
   {
    "duration": 26,
    "start_time": "2024-05-07T17:26:21.181Z"
   },
   {
    "duration": 61,
    "start_time": "2024-05-07T17:26:21.209Z"
   },
   {
    "duration": 5,
    "start_time": "2024-05-07T17:26:21.272Z"
   },
   {
    "duration": 12,
    "start_time": "2024-05-07T17:26:21.278Z"
   },
   {
    "duration": 10,
    "start_time": "2024-05-07T17:26:21.292Z"
   },
   {
    "duration": 10,
    "start_time": "2024-05-07T17:26:21.304Z"
   },
   {
    "duration": 4,
    "start_time": "2024-05-07T17:26:21.315Z"
   },
   {
    "duration": 52,
    "start_time": "2024-05-07T17:26:21.320Z"
   },
   {
    "duration": 4,
    "start_time": "2024-05-07T17:27:22.433Z"
   },
   {
    "duration": 3,
    "start_time": "2024-05-07T17:37:50.503Z"
   },
   {
    "duration": 89,
    "start_time": "2024-05-07T17:37:50.508Z"
   },
   {
    "duration": 3,
    "start_time": "2024-05-07T17:37:50.599Z"
   },
   {
    "duration": 9,
    "start_time": "2024-05-07T17:37:50.603Z"
   },
   {
    "duration": 6,
    "start_time": "2024-05-07T17:37:50.614Z"
   },
   {
    "duration": 38,
    "start_time": "2024-05-07T17:37:50.621Z"
   },
   {
    "duration": 28,
    "start_time": "2024-05-07T17:37:50.661Z"
   },
   {
    "duration": 23,
    "start_time": "2024-05-07T17:37:50.691Z"
   },
   {
    "duration": 41,
    "start_time": "2024-05-07T17:37:50.715Z"
   },
   {
    "duration": 12,
    "start_time": "2024-05-07T17:37:50.758Z"
   },
   {
    "duration": 10,
    "start_time": "2024-05-07T17:37:50.772Z"
   },
   {
    "duration": 8,
    "start_time": "2024-05-07T17:37:50.784Z"
   },
   {
    "duration": 10,
    "start_time": "2024-05-07T17:37:50.794Z"
   },
   {
    "duration": 26,
    "start_time": "2024-05-07T17:37:50.806Z"
   },
   {
    "duration": 7,
    "start_time": "2024-05-07T17:38:05.199Z"
   },
   {
    "duration": 6,
    "start_time": "2024-05-07T17:38:16.602Z"
   },
   {
    "duration": 5,
    "start_time": "2024-05-07T17:38:20.832Z"
   },
   {
    "duration": 20,
    "start_time": "2024-05-07T17:38:22.599Z"
   },
   {
    "duration": 6,
    "start_time": "2024-05-07T17:41:42.740Z"
   },
   {
    "duration": 4,
    "start_time": "2024-05-07T17:41:43.974Z"
   },
   {
    "duration": 22,
    "start_time": "2024-05-07T17:41:45.257Z"
   },
   {
    "duration": 1348,
    "start_time": "2024-05-08T10:11:20.589Z"
   },
   {
    "duration": 277,
    "start_time": "2024-05-08T10:11:21.939Z"
   },
   {
    "duration": 3,
    "start_time": "2024-05-08T10:11:22.218Z"
   },
   {
    "duration": 20,
    "start_time": "2024-05-08T10:11:22.223Z"
   },
   {
    "duration": 6,
    "start_time": "2024-05-08T10:11:22.245Z"
   },
   {
    "duration": 33,
    "start_time": "2024-05-08T10:11:22.253Z"
   },
   {
    "duration": 28,
    "start_time": "2024-05-08T10:11:22.287Z"
   },
   {
    "duration": 43,
    "start_time": "2024-05-08T10:11:22.317Z"
   },
   {
    "duration": 11,
    "start_time": "2024-05-08T10:11:22.361Z"
   },
   {
    "duration": 19,
    "start_time": "2024-05-08T10:11:22.391Z"
   },
   {
    "duration": 31,
    "start_time": "2024-05-08T10:11:22.412Z"
   },
   {
    "duration": 16,
    "start_time": "2024-05-08T10:11:22.445Z"
   },
   {
    "duration": 178,
    "start_time": "2024-05-08T10:11:22.463Z"
   },
   {
    "duration": 0,
    "start_time": "2024-05-08T10:11:22.643Z"
   },
   {
    "duration": 0,
    "start_time": "2024-05-08T10:11:22.645Z"
   },
   {
    "duration": 4,
    "start_time": "2024-05-08T10:11:52.258Z"
   },
   {
    "duration": 28,
    "start_time": "2024-05-08T10:11:58.095Z"
   },
   {
    "duration": 13,
    "start_time": "2024-05-08T10:17:47.464Z"
   },
   {
    "duration": 8,
    "start_time": "2024-05-08T10:18:13.307Z"
   },
   {
    "duration": 3,
    "start_time": "2024-05-08T10:18:28.956Z"
   },
   {
    "duration": 93,
    "start_time": "2024-05-08T10:18:28.961Z"
   },
   {
    "duration": 3,
    "start_time": "2024-05-08T10:18:29.056Z"
   },
   {
    "duration": 6,
    "start_time": "2024-05-08T10:18:29.060Z"
   },
   {
    "duration": 30,
    "start_time": "2024-05-08T10:18:29.068Z"
   },
   {
    "duration": 49,
    "start_time": "2024-05-08T10:18:29.100Z"
   },
   {
    "duration": 23,
    "start_time": "2024-05-08T10:18:29.150Z"
   },
   {
    "duration": 9,
    "start_time": "2024-05-08T10:18:29.191Z"
   },
   {
    "duration": 21,
    "start_time": "2024-05-08T10:18:29.201Z"
   },
   {
    "duration": 17,
    "start_time": "2024-05-08T10:18:29.223Z"
   },
   {
    "duration": 21,
    "start_time": "2024-05-08T10:18:29.243Z"
   },
   {
    "duration": 20,
    "start_time": "2024-05-08T10:18:29.266Z"
   },
   {
    "duration": 29,
    "start_time": "2024-05-08T10:18:29.288Z"
   },
   {
    "duration": 11,
    "start_time": "2024-05-08T10:19:33.073Z"
   },
   {
    "duration": 4,
    "start_time": "2024-05-08T10:19:37.707Z"
   },
   {
    "duration": 78,
    "start_time": "2024-05-08T10:19:37.713Z"
   },
   {
    "duration": 3,
    "start_time": "2024-05-08T10:19:37.793Z"
   },
   {
    "duration": 22,
    "start_time": "2024-05-08T10:19:37.798Z"
   },
   {
    "duration": 39,
    "start_time": "2024-05-08T10:19:37.821Z"
   },
   {
    "duration": 44,
    "start_time": "2024-05-08T10:19:37.862Z"
   },
   {
    "duration": 24,
    "start_time": "2024-05-08T10:19:37.907Z"
   },
   {
    "duration": 6,
    "start_time": "2024-05-08T10:19:37.933Z"
   },
   {
    "duration": 14,
    "start_time": "2024-05-08T10:19:37.992Z"
   },
   {
    "duration": 16,
    "start_time": "2024-05-08T10:19:38.009Z"
   },
   {
    "duration": 24,
    "start_time": "2024-05-08T10:19:38.027Z"
   },
   {
    "duration": 31,
    "start_time": "2024-05-08T10:19:38.052Z"
   },
   {
    "duration": 65,
    "start_time": "2024-05-08T10:19:38.085Z"
   },
   {
    "duration": 14,
    "start_time": "2024-05-08T10:58:03.433Z"
   },
   {
    "duration": 11,
    "start_time": "2024-05-08T11:14:50.832Z"
   },
   {
    "duration": 10,
    "start_time": "2024-05-08T11:15:03.655Z"
   },
   {
    "duration": 14,
    "start_time": "2024-05-08T11:35:36.459Z"
   },
   {
    "duration": 14,
    "start_time": "2024-05-08T11:50:36.278Z"
   },
   {
    "duration": 3,
    "start_time": "2024-05-08T11:50:55.888Z"
   },
   {
    "duration": 90,
    "start_time": "2024-05-08T11:50:55.893Z"
   },
   {
    "duration": 4,
    "start_time": "2024-05-08T11:50:55.984Z"
   },
   {
    "duration": 20,
    "start_time": "2024-05-08T11:50:55.990Z"
   },
   {
    "duration": 33,
    "start_time": "2024-05-08T11:50:56.012Z"
   },
   {
    "duration": 51,
    "start_time": "2024-05-08T11:50:56.047Z"
   },
   {
    "duration": 24,
    "start_time": "2024-05-08T11:50:56.099Z"
   },
   {
    "duration": 6,
    "start_time": "2024-05-08T11:50:56.125Z"
   },
   {
    "duration": 19,
    "start_time": "2024-05-08T11:50:56.133Z"
   },
   {
    "duration": 37,
    "start_time": "2024-05-08T11:50:56.162Z"
   },
   {
    "duration": 9,
    "start_time": "2024-05-08T11:50:56.201Z"
   },
   {
    "duration": 8,
    "start_time": "2024-05-08T11:50:56.211Z"
   },
   {
    "duration": 30,
    "start_time": "2024-05-08T11:50:56.221Z"
   },
   {
    "duration": 37,
    "start_time": "2024-05-08T11:50:56.253Z"
   },
   {
    "duration": 73,
    "start_time": "2024-05-08T11:50:56.292Z"
   },
   {
    "duration": 14,
    "start_time": "2024-05-08T11:51:04.755Z"
   },
   {
    "duration": 13,
    "start_time": "2024-05-08T12:09:02.683Z"
   },
   {
    "duration": 72,
    "start_time": "2024-05-08T12:09:22.973Z"
   },
   {
    "duration": 21,
    "start_time": "2024-05-08T12:09:34.487Z"
   },
   {
    "duration": 13,
    "start_time": "2024-05-08T12:09:43.179Z"
   },
   {
    "duration": 17,
    "start_time": "2024-05-08T12:09:50.018Z"
   },
   {
    "duration": 4,
    "start_time": "2024-05-08T12:09:58.808Z"
   },
   {
    "duration": 119,
    "start_time": "2024-05-08T12:09:58.814Z"
   },
   {
    "duration": 4,
    "start_time": "2024-05-08T12:09:58.935Z"
   },
   {
    "duration": 36,
    "start_time": "2024-05-08T12:09:58.941Z"
   },
   {
    "duration": 44,
    "start_time": "2024-05-08T12:09:58.981Z"
   },
   {
    "duration": 37,
    "start_time": "2024-05-08T12:09:59.027Z"
   },
   {
    "duration": 51,
    "start_time": "2024-05-08T12:09:59.066Z"
   },
   {
    "duration": 9,
    "start_time": "2024-05-08T12:09:59.119Z"
   },
   {
    "duration": 25,
    "start_time": "2024-05-08T12:09:59.129Z"
   },
   {
    "duration": 45,
    "start_time": "2024-05-08T12:09:59.156Z"
   },
   {
    "duration": 30,
    "start_time": "2024-05-08T12:09:59.204Z"
   },
   {
    "duration": 37,
    "start_time": "2024-05-08T12:09:59.236Z"
   },
   {
    "duration": 30,
    "start_time": "2024-05-08T12:09:59.275Z"
   },
   {
    "duration": 11,
    "start_time": "2024-05-08T12:09:59.308Z"
   },
   {
    "duration": 51,
    "start_time": "2024-05-08T12:09:59.321Z"
   },
   {
    "duration": 4,
    "start_time": "2024-05-08T13:56:43.846Z"
   },
   {
    "duration": 81,
    "start_time": "2024-05-08T13:56:43.871Z"
   },
   {
    "duration": 3,
    "start_time": "2024-05-08T13:56:43.954Z"
   },
   {
    "duration": 24,
    "start_time": "2024-05-08T13:56:43.958Z"
   },
   {
    "duration": 76,
    "start_time": "2024-05-08T13:56:43.984Z"
   },
   {
    "duration": 46,
    "start_time": "2024-05-08T13:56:44.063Z"
   },
   {
    "duration": 24,
    "start_time": "2024-05-08T13:56:44.111Z"
   },
   {
    "duration": 15,
    "start_time": "2024-05-08T13:56:44.137Z"
   },
   {
    "duration": 40,
    "start_time": "2024-05-08T13:56:44.153Z"
   },
   {
    "duration": 25,
    "start_time": "2024-05-08T13:56:44.195Z"
   },
   {
    "duration": 21,
    "start_time": "2024-05-08T13:56:44.222Z"
   },
   {
    "duration": 17,
    "start_time": "2024-05-08T13:56:44.245Z"
   },
   {
    "duration": 14,
    "start_time": "2024-05-08T13:56:44.264Z"
   },
   {
    "duration": 5,
    "start_time": "2024-05-08T13:56:44.292Z"
   },
   {
    "duration": 19,
    "start_time": "2024-05-08T13:56:44.300Z"
   },
   {
    "duration": 6,
    "start_time": "2024-05-08T14:11:38.403Z"
   },
   {
    "duration": 73,
    "start_time": "2024-05-08T14:17:59.740Z"
   },
   {
    "duration": 7,
    "start_time": "2024-05-08T14:18:06.916Z"
   },
   {
    "duration": 10,
    "start_time": "2024-05-08T14:18:15.303Z"
   },
   {
    "duration": 12,
    "start_time": "2024-05-08T14:19:27.176Z"
   },
   {
    "duration": 10,
    "start_time": "2024-05-08T14:19:47.133Z"
   },
   {
    "duration": 11,
    "start_time": "2024-05-08T14:19:57.548Z"
   },
   {
    "duration": 10,
    "start_time": "2024-05-08T14:20:41.880Z"
   },
   {
    "duration": 1182,
    "start_time": "2024-05-08T14:27:17.929Z"
   },
   {
    "duration": 1217,
    "start_time": "2024-05-08T14:27:32.690Z"
   },
   {
    "duration": 9,
    "start_time": "2024-05-08T14:28:14.944Z"
   },
   {
    "duration": 1064,
    "start_time": "2024-05-08T14:29:41.503Z"
   },
   {
    "duration": 1068,
    "start_time": "2024-05-08T14:29:43.830Z"
   },
   {
    "duration": 1042,
    "start_time": "2024-05-08T14:34:13.451Z"
   },
   {
    "duration": 1150,
    "start_time": "2024-05-08T14:34:37.753Z"
   },
   {
    "duration": 1107,
    "start_time": "2024-05-08T14:34:40.102Z"
   },
   {
    "duration": 1071,
    "start_time": "2024-05-08T14:35:53.301Z"
   },
   {
    "duration": 10,
    "start_time": "2024-05-08T14:36:35.124Z"
   },
   {
    "duration": 1151,
    "start_time": "2024-05-08T14:44:00.985Z"
   },
   {
    "duration": 16,
    "start_time": "2024-05-08T14:44:34.812Z"
   },
   {
    "duration": 1110,
    "start_time": "2024-05-08T14:47:26.803Z"
   },
   {
    "duration": 17,
    "start_time": "2024-05-08T14:49:21.976Z"
   },
   {
    "duration": 12,
    "start_time": "2024-05-08T14:51:11.730Z"
   },
   {
    "duration": 3,
    "start_time": "2024-05-08T15:15:32.018Z"
   },
   {
    "duration": 239,
    "start_time": "2024-05-08T15:15:32.024Z"
   },
   {
    "duration": 185,
    "start_time": "2024-05-08T15:15:32.265Z"
   },
   {
    "duration": 318,
    "start_time": "2024-05-08T15:15:32.451Z"
   },
   {
    "duration": 53,
    "start_time": "2024-05-08T15:15:32.771Z"
   },
   {
    "duration": 35,
    "start_time": "2024-05-08T15:15:32.827Z"
   },
   {
    "duration": 35,
    "start_time": "2024-05-08T15:15:32.892Z"
   },
   {
    "duration": 8,
    "start_time": "2024-05-08T15:15:32.929Z"
   },
   {
    "duration": 23,
    "start_time": "2024-05-08T15:15:32.939Z"
   },
   {
    "duration": 36,
    "start_time": "2024-05-08T15:15:32.964Z"
   },
   {
    "duration": 23,
    "start_time": "2024-05-08T15:15:33.002Z"
   },
   {
    "duration": 18,
    "start_time": "2024-05-08T15:15:33.027Z"
   },
   {
    "duration": 4,
    "start_time": "2024-05-08T15:15:33.047Z"
   },
   {
    "duration": 27,
    "start_time": "2024-05-08T15:15:33.053Z"
   },
   {
    "duration": 12,
    "start_time": "2024-05-08T15:15:33.092Z"
   },
   {
    "duration": 14,
    "start_time": "2024-05-08T15:15:33.106Z"
   },
   {
    "duration": 3,
    "start_time": "2024-05-08T15:24:51.796Z"
   },
   {
    "duration": 100,
    "start_time": "2024-05-08T15:24:51.804Z"
   },
   {
    "duration": 3,
    "start_time": "2024-05-08T15:24:51.907Z"
   },
   {
    "duration": 19,
    "start_time": "2024-05-08T15:24:51.912Z"
   },
   {
    "duration": 31,
    "start_time": "2024-05-08T15:24:51.933Z"
   },
   {
    "duration": 46,
    "start_time": "2024-05-08T15:24:51.967Z"
   },
   {
    "duration": 27,
    "start_time": "2024-05-08T15:24:52.015Z"
   },
   {
    "duration": 15,
    "start_time": "2024-05-08T15:24:52.044Z"
   },
   {
    "duration": 45,
    "start_time": "2024-05-08T15:24:52.061Z"
   },
   {
    "duration": 21,
    "start_time": "2024-05-08T15:24:52.112Z"
   },
   {
    "duration": 8,
    "start_time": "2024-05-08T15:24:52.135Z"
   },
   {
    "duration": 60,
    "start_time": "2024-05-08T15:24:52.145Z"
   },
   {
    "duration": 27,
    "start_time": "2024-05-08T15:24:52.207Z"
   },
   {
    "duration": 49,
    "start_time": "2024-05-08T15:24:52.235Z"
   },
   {
    "duration": 22,
    "start_time": "2024-05-08T15:24:52.286Z"
   },
   {
    "duration": 19,
    "start_time": "2024-05-08T15:24:52.310Z"
   },
   {
    "duration": 323,
    "start_time": "2024-05-08T15:44:02.191Z"
   },
   {
    "duration": 278,
    "start_time": "2024-05-08T15:44:53.491Z"
   },
   {
    "duration": 18,
    "start_time": "2024-05-08T16:07:52.016Z"
   },
   {
    "duration": 281,
    "start_time": "2024-05-08T16:08:17.599Z"
   },
   {
    "duration": 248,
    "start_time": "2024-05-08T16:08:47.645Z"
   },
   {
    "duration": 222,
    "start_time": "2024-05-08T16:08:55.443Z"
   },
   {
    "duration": 190,
    "start_time": "2024-05-08T16:10:03.761Z"
   },
   {
    "duration": 211,
    "start_time": "2024-05-08T16:10:58.297Z"
   },
   {
    "duration": 219,
    "start_time": "2024-05-08T16:26:01.546Z"
   },
   {
    "duration": 216,
    "start_time": "2024-05-08T16:27:20.831Z"
   },
   {
    "duration": 215,
    "start_time": "2024-05-08T16:27:28.340Z"
   },
   {
    "duration": 16,
    "start_time": "2024-05-08T16:27:43.123Z"
   },
   {
    "duration": 308,
    "start_time": "2024-05-08T16:27:52.023Z"
   },
   {
    "duration": 227,
    "start_time": "2024-05-08T16:29:04.540Z"
   },
   {
    "duration": 185,
    "start_time": "2024-05-08T16:30:02.653Z"
   },
   {
    "duration": 187,
    "start_time": "2024-05-08T16:30:43.269Z"
   },
   {
    "duration": 168,
    "start_time": "2024-05-08T16:30:55.611Z"
   },
   {
    "duration": 241,
    "start_time": "2024-05-08T16:33:51.863Z"
   },
   {
    "duration": 198,
    "start_time": "2024-05-08T16:34:15.112Z"
   },
   {
    "duration": 204,
    "start_time": "2024-05-08T16:34:24.628Z"
   },
   {
    "duration": 248,
    "start_time": "2024-05-08T16:34:29.695Z"
   },
   {
    "duration": 234,
    "start_time": "2024-05-08T16:35:15.360Z"
   },
   {
    "duration": 226,
    "start_time": "2024-05-08T16:36:52.644Z"
   },
   {
    "duration": 348,
    "start_time": "2024-05-08T16:37:00.973Z"
   },
   {
    "duration": 223,
    "start_time": "2024-05-08T16:37:14.166Z"
   },
   {
    "duration": 234,
    "start_time": "2024-05-08T16:37:23.811Z"
   },
   {
    "duration": 242,
    "start_time": "2024-05-08T16:37:30.839Z"
   },
   {
    "duration": 231,
    "start_time": "2024-05-08T16:40:36.666Z"
   },
   {
    "duration": 225,
    "start_time": "2024-05-08T16:40:44.417Z"
   },
   {
    "duration": 224,
    "start_time": "2024-05-08T16:41:32.230Z"
   },
   {
    "duration": 219,
    "start_time": "2024-05-08T16:41:39.052Z"
   },
   {
    "duration": 15,
    "start_time": "2024-05-08T18:13:36.869Z"
   },
   {
    "duration": 220,
    "start_time": "2024-05-08T18:14:10.802Z"
   },
   {
    "duration": 216,
    "start_time": "2024-05-08T18:39:20.942Z"
   },
   {
    "duration": 378,
    "start_time": "2024-05-08T18:45:50.027Z"
   },
   {
    "duration": 280,
    "start_time": "2024-05-08T18:47:57.046Z"
   },
   {
    "duration": 344,
    "start_time": "2024-05-08T18:48:15.778Z"
   },
   {
    "duration": 308,
    "start_time": "2024-05-08T18:48:28.398Z"
   },
   {
    "duration": 282,
    "start_time": "2024-05-08T18:48:35.997Z"
   },
   {
    "duration": 275,
    "start_time": "2024-05-08T18:48:43.320Z"
   },
   {
    "duration": 261,
    "start_time": "2024-05-08T18:48:59.430Z"
   },
   {
    "duration": 306,
    "start_time": "2024-05-08T18:49:38.872Z"
   },
   {
    "duration": 253,
    "start_time": "2024-05-08T19:08:33.538Z"
   },
   {
    "duration": 52,
    "start_time": "2024-05-09T13:22:23.945Z"
   },
   {
    "duration": 1241,
    "start_time": "2024-05-09T13:22:32.751Z"
   },
   {
    "duration": 286,
    "start_time": "2024-05-09T13:22:33.994Z"
   },
   {
    "duration": 3,
    "start_time": "2024-05-09T13:22:34.281Z"
   },
   {
    "duration": 4,
    "start_time": "2024-05-09T13:22:34.286Z"
   },
   {
    "duration": 33,
    "start_time": "2024-05-09T13:22:34.292Z"
   },
   {
    "duration": 25,
    "start_time": "2024-05-09T13:22:34.327Z"
   },
   {
    "duration": 23,
    "start_time": "2024-05-09T13:22:34.354Z"
   },
   {
    "duration": 6,
    "start_time": "2024-05-09T13:22:34.378Z"
   },
   {
    "duration": 50,
    "start_time": "2024-05-09T13:22:34.386Z"
   },
   {
    "duration": 12,
    "start_time": "2024-05-09T13:22:34.438Z"
   },
   {
    "duration": 6,
    "start_time": "2024-05-09T13:22:34.451Z"
   },
   {
    "duration": 14,
    "start_time": "2024-05-09T13:22:34.459Z"
   },
   {
    "duration": 6,
    "start_time": "2024-05-09T13:22:34.475Z"
   },
   {
    "duration": 64,
    "start_time": "2024-05-09T13:22:34.484Z"
   },
   {
    "duration": 13,
    "start_time": "2024-05-09T13:22:34.550Z"
   },
   {
    "duration": 16,
    "start_time": "2024-05-09T13:22:34.564Z"
   },
   {
    "duration": 326,
    "start_time": "2024-05-09T13:22:34.582Z"
   },
   {
    "duration": 353,
    "start_time": "2024-05-09T13:22:34.909Z"
   },
   {
    "duration": 268,
    "start_time": "2024-05-09T13:22:35.264Z"
   },
   {
    "duration": 362,
    "start_time": "2024-05-09T13:22:35.534Z"
   },
   {
    "duration": 14,
    "start_time": "2024-05-09T13:22:35.897Z"
   },
   {
    "duration": 13,
    "start_time": "2024-05-09T13:23:09.482Z"
   },
   {
    "duration": 13,
    "start_time": "2024-05-09T13:26:06.862Z"
   },
   {
    "duration": 9,
    "start_time": "2024-05-09T13:29:10.782Z"
   },
   {
    "duration": 9,
    "start_time": "2024-05-09T13:30:29.182Z"
   },
   {
    "duration": 8,
    "start_time": "2024-05-09T13:31:09.740Z"
   },
   {
    "duration": 28,
    "start_time": "2024-05-09T13:32:35.951Z"
   },
   {
    "duration": 15,
    "start_time": "2024-05-09T13:33:33.702Z"
   },
   {
    "duration": 14,
    "start_time": "2024-05-09T13:37:23.141Z"
   },
   {
    "duration": 13,
    "start_time": "2024-05-09T13:37:34.667Z"
   },
   {
    "duration": 16,
    "start_time": "2024-05-09T13:37:59.718Z"
   },
   {
    "duration": 80,
    "start_time": "2024-05-09T13:46:54.706Z"
   },
   {
    "duration": 14,
    "start_time": "2024-05-09T13:50:52.026Z"
   },
   {
    "duration": 19,
    "start_time": "2024-05-09T13:51:39.101Z"
   },
   {
    "duration": 16,
    "start_time": "2024-05-09T13:51:52.611Z"
   },
   {
    "duration": 16,
    "start_time": "2024-05-09T13:52:15.510Z"
   },
   {
    "duration": 3,
    "start_time": "2024-05-09T13:52:41.281Z"
   },
   {
    "duration": 74,
    "start_time": "2024-05-09T13:52:41.475Z"
   },
   {
    "duration": 3,
    "start_time": "2024-05-09T13:52:41.551Z"
   },
   {
    "duration": 7,
    "start_time": "2024-05-09T13:52:41.555Z"
   },
   {
    "duration": 32,
    "start_time": "2024-05-09T13:52:41.563Z"
   },
   {
    "duration": 43,
    "start_time": "2024-05-09T13:52:41.597Z"
   },
   {
    "duration": 26,
    "start_time": "2024-05-09T13:52:41.642Z"
   },
   {
    "duration": 8,
    "start_time": "2024-05-09T13:52:41.670Z"
   },
   {
    "duration": 59,
    "start_time": "2024-05-09T13:52:41.680Z"
   },
   {
    "duration": 15,
    "start_time": "2024-05-09T13:52:41.741Z"
   },
   {
    "duration": 17,
    "start_time": "2024-05-09T13:52:41.758Z"
   },
   {
    "duration": 20,
    "start_time": "2024-05-09T13:52:41.777Z"
   },
   {
    "duration": 14,
    "start_time": "2024-05-09T13:52:41.799Z"
   },
   {
    "duration": 28,
    "start_time": "2024-05-09T13:52:41.815Z"
   },
   {
    "duration": 12,
    "start_time": "2024-05-09T13:52:41.845Z"
   },
   {
    "duration": 23,
    "start_time": "2024-05-09T13:52:41.859Z"
   },
   {
    "duration": 315,
    "start_time": "2024-05-09T13:52:41.884Z"
   },
   {
    "duration": 244,
    "start_time": "2024-05-09T13:52:42.200Z"
   },
   {
    "duration": 253,
    "start_time": "2024-05-09T13:52:42.446Z"
   },
   {
    "duration": 337,
    "start_time": "2024-05-09T13:52:42.701Z"
   },
   {
    "duration": 13,
    "start_time": "2024-05-09T13:52:43.039Z"
   },
   {
    "duration": 53,
    "start_time": "2024-05-09T13:52:43.053Z"
   },
   {
    "duration": 10,
    "start_time": "2024-05-09T13:54:08.109Z"
   },
   {
    "duration": 15,
    "start_time": "2024-05-09T13:54:54.552Z"
   },
   {
    "duration": 12,
    "start_time": "2024-05-09T13:56:46.380Z"
   },
   {
    "duration": 15,
    "start_time": "2024-05-09T13:56:55.227Z"
   },
   {
    "duration": 21,
    "start_time": "2024-05-09T13:57:16.287Z"
   },
   {
    "duration": 21,
    "start_time": "2024-05-09T14:01:03.062Z"
   },
   {
    "duration": 20,
    "start_time": "2024-05-09T14:01:09.214Z"
   },
   {
    "duration": 22,
    "start_time": "2024-05-09T14:01:43.518Z"
   },
   {
    "duration": 44,
    "start_time": "2024-05-09T14:03:12.727Z"
   },
   {
    "duration": 50,
    "start_time": "2024-05-09T14:03:15.440Z"
   },
   {
    "duration": 28,
    "start_time": "2024-05-09T14:03:36.553Z"
   },
   {
    "duration": 19,
    "start_time": "2024-05-09T14:04:42.252Z"
   },
   {
    "duration": 22,
    "start_time": "2024-05-09T14:05:51.862Z"
   },
   {
    "duration": 23,
    "start_time": "2024-05-09T14:06:22.615Z"
   },
   {
    "duration": 28,
    "start_time": "2024-05-09T14:06:37.251Z"
   },
   {
    "duration": 22,
    "start_time": "2024-05-09T14:07:11.369Z"
   },
   {
    "duration": 23,
    "start_time": "2024-05-09T14:07:13.474Z"
   },
   {
    "duration": 22,
    "start_time": "2024-05-09T14:10:58.099Z"
   },
   {
    "duration": 26,
    "start_time": "2024-05-09T14:11:20.730Z"
   },
   {
    "duration": 21,
    "start_time": "2024-05-09T14:13:52.504Z"
   },
   {
    "duration": 22,
    "start_time": "2024-05-09T14:14:00.268Z"
   },
   {
    "duration": 227,
    "start_time": "2024-05-09T14:35:18.371Z"
   },
   {
    "duration": 228,
    "start_time": "2024-05-09T14:37:25.964Z"
   },
   {
    "duration": 320,
    "start_time": "2024-05-09T14:37:51.727Z"
   },
   {
    "duration": 48,
    "start_time": "2024-05-09T14:38:12.959Z"
   },
   {
    "duration": 231,
    "start_time": "2024-05-09T14:38:21.219Z"
   },
   {
    "duration": 22,
    "start_time": "2024-05-09T15:11:36.339Z"
   },
   {
    "duration": 280,
    "start_time": "2024-05-09T15:11:51.163Z"
   },
   {
    "duration": 323,
    "start_time": "2024-05-09T15:12:14.656Z"
   },
   {
    "duration": 288,
    "start_time": "2024-05-09T15:12:22.881Z"
   },
   {
    "duration": 312,
    "start_time": "2024-05-09T15:13:02.488Z"
   },
   {
    "duration": 356,
    "start_time": "2024-05-09T15:13:13.221Z"
   },
   {
    "duration": 315,
    "start_time": "2024-05-09T15:13:19.871Z"
   },
   {
    "duration": 349,
    "start_time": "2024-05-09T15:13:33.025Z"
   },
   {
    "duration": 334,
    "start_time": "2024-05-09T15:14:04.633Z"
   },
   {
    "duration": 265,
    "start_time": "2024-05-09T15:37:11.864Z"
   },
   {
    "duration": 154,
    "start_time": "2024-05-09T15:37:52.297Z"
   },
   {
    "duration": 169,
    "start_time": "2024-05-09T15:38:31.275Z"
   },
   {
    "duration": 199,
    "start_time": "2024-05-09T15:38:54.745Z"
   },
   {
    "duration": 173,
    "start_time": "2024-05-09T15:39:06.646Z"
   },
   {
    "duration": 168,
    "start_time": "2024-05-09T15:39:17.918Z"
   },
   {
    "duration": 175,
    "start_time": "2024-05-09T15:39:40.530Z"
   },
   {
    "duration": 177,
    "start_time": "2024-05-09T15:39:48.595Z"
   },
   {
    "duration": 181,
    "start_time": "2024-05-09T15:39:54.424Z"
   },
   {
    "duration": 8,
    "start_time": "2024-05-09T16:16:04.043Z"
   },
   {
    "duration": 6,
    "start_time": "2024-05-09T16:16:19.495Z"
   },
   {
    "duration": 5,
    "start_time": "2024-05-09T16:16:28.121Z"
   },
   {
    "duration": 6,
    "start_time": "2024-05-09T16:16:33.063Z"
   },
   {
    "duration": 7,
    "start_time": "2024-05-09T16:27:15.395Z"
   },
   {
    "duration": 5,
    "start_time": "2024-05-09T16:27:22.318Z"
   },
   {
    "duration": 162,
    "start_time": "2024-05-09T16:32:07.187Z"
   },
   {
    "duration": 163,
    "start_time": "2024-05-09T16:35:33.675Z"
   },
   {
    "duration": 5,
    "start_time": "2024-05-09T16:46:02.136Z"
   },
   {
    "duration": 345,
    "start_time": "2024-05-09T17:51:48.399Z"
   },
   {
    "duration": 230,
    "start_time": "2024-05-09T17:52:25.540Z"
   },
   {
    "duration": 120,
    "start_time": "2024-05-09T18:02:27.990Z"
   },
   {
    "duration": 7,
    "start_time": "2024-05-09T18:05:14.596Z"
   },
   {
    "duration": 7,
    "start_time": "2024-05-09T18:05:40.587Z"
   },
   {
    "duration": 10,
    "start_time": "2024-05-09T18:10:56.595Z"
   },
   {
    "duration": 10,
    "start_time": "2024-05-09T18:11:21.927Z"
   },
   {
    "duration": 27,
    "start_time": "2024-05-09T18:11:40.873Z"
   },
   {
    "duration": 26,
    "start_time": "2024-05-09T18:11:49.297Z"
   },
   {
    "duration": 26,
    "start_time": "2024-05-09T18:12:02.678Z"
   },
   {
    "duration": 3,
    "start_time": "2024-05-09T18:18:38.842Z"
   },
   {
    "duration": 28,
    "start_time": "2024-05-09T18:18:51.998Z"
   },
   {
    "duration": 30,
    "start_time": "2024-05-09T18:18:54.802Z"
   },
   {
    "duration": 27,
    "start_time": "2024-05-09T18:19:22.001Z"
   },
   {
    "duration": 29,
    "start_time": "2024-05-09T18:57:06.941Z"
   },
   {
    "duration": 26,
    "start_time": "2024-05-09T18:57:43.066Z"
   },
   {
    "duration": 26,
    "start_time": "2024-05-09T18:57:53.206Z"
   },
   {
    "duration": 27,
    "start_time": "2024-05-09T19:01:02.460Z"
   },
   {
    "duration": 12,
    "start_time": "2024-05-09T19:11:01.318Z"
   },
   {
    "duration": 16,
    "start_time": "2024-05-09T19:38:47.998Z"
   },
   {
    "duration": 12,
    "start_time": "2024-05-09T19:44:03.159Z"
   },
   {
    "duration": 10,
    "start_time": "2024-05-09T19:44:16.819Z"
   },
   {
    "duration": 11,
    "start_time": "2024-05-09T19:44:35.945Z"
   },
   {
    "duration": 9,
    "start_time": "2024-05-09T19:48:01.230Z"
   },
   {
    "duration": 29,
    "start_time": "2024-05-09T19:51:35.942Z"
   },
   {
    "duration": 17,
    "start_time": "2024-05-09T20:12:59.583Z"
   },
   {
    "duration": 18,
    "start_time": "2024-05-09T20:24:09.431Z"
   },
   {
    "duration": 19,
    "start_time": "2024-05-09T20:25:27.525Z"
   },
   {
    "duration": 3,
    "start_time": "2024-05-09T20:25:46.504Z"
   },
   {
    "duration": 92,
    "start_time": "2024-05-09T20:25:46.509Z"
   },
   {
    "duration": 3,
    "start_time": "2024-05-09T20:25:46.603Z"
   },
   {
    "duration": 3,
    "start_time": "2024-05-09T20:25:46.690Z"
   },
   {
    "duration": 41,
    "start_time": "2024-05-09T20:25:46.696Z"
   },
   {
    "duration": 34,
    "start_time": "2024-05-09T20:25:46.739Z"
   },
   {
    "duration": 59,
    "start_time": "2024-05-09T20:25:46.775Z"
   },
   {
    "duration": 7,
    "start_time": "2024-05-09T20:25:46.836Z"
   },
   {
    "duration": 41,
    "start_time": "2024-05-09T20:25:46.845Z"
   },
   {
    "duration": 30,
    "start_time": "2024-05-09T20:25:46.888Z"
   },
   {
    "duration": 26,
    "start_time": "2024-05-09T20:25:46.920Z"
   },
   {
    "duration": 23,
    "start_time": "2024-05-09T20:25:46.948Z"
   },
   {
    "duration": 6,
    "start_time": "2024-05-09T20:25:46.973Z"
   },
   {
    "duration": 35,
    "start_time": "2024-05-09T20:25:46.982Z"
   },
   {
    "duration": 20,
    "start_time": "2024-05-09T20:25:47.019Z"
   },
   {
    "duration": 29,
    "start_time": "2024-05-09T20:25:47.040Z"
   },
   {
    "duration": 316,
    "start_time": "2024-05-09T20:25:47.071Z"
   },
   {
    "duration": 290,
    "start_time": "2024-05-09T20:25:47.388Z"
   },
   {
    "duration": 253,
    "start_time": "2024-05-09T20:25:47.680Z"
   },
   {
    "duration": 327,
    "start_time": "2024-05-09T20:25:47.935Z"
   },
   {
    "duration": 11,
    "start_time": "2024-05-09T20:25:48.263Z"
   },
   {
    "duration": 36,
    "start_time": "2024-05-09T20:25:48.276Z"
   },
   {
    "duration": 227,
    "start_time": "2024-05-09T20:25:48.313Z"
   },
   {
    "duration": 340,
    "start_time": "2024-05-09T20:25:48.541Z"
   },
   {
    "duration": 178,
    "start_time": "2024-05-09T20:25:48.883Z"
   },
   {
    "duration": 5,
    "start_time": "2024-05-09T20:25:49.062Z"
   },
   {
    "duration": 174,
    "start_time": "2024-05-09T20:25:49.069Z"
   },
   {
    "duration": 5,
    "start_time": "2024-05-09T20:25:49.245Z"
   },
   {
    "duration": 239,
    "start_time": "2024-05-09T20:25:49.251Z"
   },
   {
    "duration": 146,
    "start_time": "2024-05-09T20:25:49.491Z"
   },
   {
    "duration": 7,
    "start_time": "2024-05-09T20:25:49.638Z"
   },
   {
    "duration": 38,
    "start_time": "2024-05-09T20:25:49.646Z"
   },
   {
    "duration": 12,
    "start_time": "2024-05-09T20:25:49.685Z"
   },
   {
    "duration": 16,
    "start_time": "2024-05-09T20:25:49.698Z"
   },
   {
    "duration": 18,
    "start_time": "2024-05-09T20:25:49.716Z"
   },
   {
    "duration": 25,
    "start_time": "2024-05-09T20:25:49.736Z"
   },
   {
    "duration": 13,
    "start_time": "2024-05-09T20:25:49.763Z"
   },
   {
    "duration": 21,
    "start_time": "2024-05-09T20:34:22.588Z"
   },
   {
    "duration": 1342,
    "start_time": "2024-05-10T09:58:19.944Z"
   },
   {
    "duration": 293,
    "start_time": "2024-05-10T09:58:21.289Z"
   },
   {
    "duration": 3,
    "start_time": "2024-05-10T09:58:21.584Z"
   },
   {
    "duration": 15,
    "start_time": "2024-05-10T09:58:21.588Z"
   },
   {
    "duration": 51,
    "start_time": "2024-05-10T09:58:21.606Z"
   },
   {
    "duration": 29,
    "start_time": "2024-05-10T09:58:21.658Z"
   },
   {
    "duration": 61,
    "start_time": "2024-05-10T09:58:21.689Z"
   },
   {
    "duration": 7,
    "start_time": "2024-05-10T09:58:21.753Z"
   },
   {
    "duration": 28,
    "start_time": "2024-05-10T09:58:21.762Z"
   },
   {
    "duration": 42,
    "start_time": "2024-05-10T09:58:21.793Z"
   },
   {
    "duration": 8,
    "start_time": "2024-05-10T09:58:21.837Z"
   },
   {
    "duration": 18,
    "start_time": "2024-05-10T09:58:21.848Z"
   },
   {
    "duration": 8,
    "start_time": "2024-05-10T09:58:21.867Z"
   },
   {
    "duration": 29,
    "start_time": "2024-05-10T09:58:21.878Z"
   },
   {
    "duration": 12,
    "start_time": "2024-05-10T09:58:21.930Z"
   },
   {
    "duration": 18,
    "start_time": "2024-05-10T09:58:21.944Z"
   },
   {
    "duration": 338,
    "start_time": "2024-05-10T09:58:21.964Z"
   },
   {
    "duration": 338,
    "start_time": "2024-05-10T09:58:22.304Z"
   },
   {
    "duration": 249,
    "start_time": "2024-05-10T09:58:22.644Z"
   },
   {
    "duration": 409,
    "start_time": "2024-05-10T09:58:22.895Z"
   },
   {
    "duration": 14,
    "start_time": "2024-05-10T09:58:23.306Z"
   },
   {
    "duration": 24,
    "start_time": "2024-05-10T09:58:23.330Z"
   },
   {
    "duration": 256,
    "start_time": "2024-05-10T09:58:23.356Z"
   },
   {
    "duration": 369,
    "start_time": "2024-05-10T09:58:23.614Z"
   },
   {
    "duration": 183,
    "start_time": "2024-05-10T09:58:23.984Z"
   },
   {
    "duration": 6,
    "start_time": "2024-05-10T09:58:24.169Z"
   },
   {
    "duration": 191,
    "start_time": "2024-05-10T09:58:24.177Z"
   },
   {
    "duration": 5,
    "start_time": "2024-05-10T09:58:24.370Z"
   },
   {
    "duration": 253,
    "start_time": "2024-05-10T09:58:24.377Z"
   },
   {
    "duration": 142,
    "start_time": "2024-05-10T09:58:24.632Z"
   },
   {
    "duration": 7,
    "start_time": "2024-05-10T09:58:24.776Z"
   },
   {
    "duration": 40,
    "start_time": "2024-05-10T09:58:24.784Z"
   },
   {
    "duration": 15,
    "start_time": "2024-05-10T09:58:24.829Z"
   },
   {
    "duration": 28,
    "start_time": "2024-05-10T09:58:24.846Z"
   },
   {
    "duration": 37,
    "start_time": "2024-05-10T09:58:24.876Z"
   },
   {
    "duration": 27,
    "start_time": "2024-05-10T09:58:24.915Z"
   },
   {
    "duration": 20,
    "start_time": "2024-05-10T09:58:24.945Z"
   },
   {
    "duration": 1108,
    "start_time": "2024-05-10T12:58:36.014Z"
   },
   {
    "duration": 130,
    "start_time": "2024-05-10T12:58:37.124Z"
   },
   {
    "duration": 3,
    "start_time": "2024-05-10T12:58:37.256Z"
   },
   {
    "duration": 10,
    "start_time": "2024-05-10T12:58:37.261Z"
   },
   {
    "duration": 34,
    "start_time": "2024-05-10T12:58:37.273Z"
   },
   {
    "duration": 30,
    "start_time": "2024-05-10T12:58:37.309Z"
   },
   {
    "duration": 25,
    "start_time": "2024-05-10T12:58:37.341Z"
   },
   {
    "duration": 37,
    "start_time": "2024-05-10T12:58:37.368Z"
   },
   {
    "duration": 29,
    "start_time": "2024-05-10T12:58:37.407Z"
   },
   {
    "duration": 27,
    "start_time": "2024-05-10T12:58:37.439Z"
   },
   {
    "duration": 28,
    "start_time": "2024-05-10T12:58:37.468Z"
   },
   {
    "duration": 22,
    "start_time": "2024-05-10T12:58:37.498Z"
   },
   {
    "duration": 5,
    "start_time": "2024-05-10T12:58:37.522Z"
   },
   {
    "duration": 31,
    "start_time": "2024-05-10T12:58:37.529Z"
   },
   {
    "duration": 12,
    "start_time": "2024-05-10T12:58:37.563Z"
   },
   {
    "duration": 16,
    "start_time": "2024-05-10T12:58:37.578Z"
   },
   {
    "duration": 331,
    "start_time": "2024-05-10T12:58:37.596Z"
   },
   {
    "duration": 333,
    "start_time": "2024-05-10T12:58:37.929Z"
   },
   {
    "duration": 252,
    "start_time": "2024-05-10T12:58:38.263Z"
   },
   {
    "duration": 326,
    "start_time": "2024-05-10T12:58:38.517Z"
   },
   {
    "duration": 13,
    "start_time": "2024-05-10T12:58:38.845Z"
   },
   {
    "duration": 23,
    "start_time": "2024-05-10T12:58:38.860Z"
   },
   {
    "duration": 265,
    "start_time": "2024-05-10T12:58:38.885Z"
   },
   {
    "duration": 336,
    "start_time": "2024-05-10T12:58:39.152Z"
   },
   {
    "duration": 192,
    "start_time": "2024-05-10T12:58:39.491Z"
   },
   {
    "duration": 5,
    "start_time": "2024-05-10T12:58:39.685Z"
   },
   {
    "duration": 198,
    "start_time": "2024-05-10T12:58:39.691Z"
   },
   {
    "duration": 5,
    "start_time": "2024-05-10T12:58:39.892Z"
   },
   {
    "duration": 243,
    "start_time": "2024-05-10T12:58:39.899Z"
   },
   {
    "duration": 186,
    "start_time": "2024-05-10T12:58:40.144Z"
   },
   {
    "duration": 7,
    "start_time": "2024-05-10T12:58:40.332Z"
   },
   {
    "duration": 34,
    "start_time": "2024-05-10T12:58:40.340Z"
   },
   {
    "duration": 11,
    "start_time": "2024-05-10T12:58:40.376Z"
   },
   {
    "duration": 14,
    "start_time": "2024-05-10T12:58:40.388Z"
   },
   {
    "duration": 32,
    "start_time": "2024-05-10T12:58:40.404Z"
   },
   {
    "duration": 32,
    "start_time": "2024-05-10T12:58:40.438Z"
   },
   {
    "duration": 15,
    "start_time": "2024-05-10T12:58:40.473Z"
   },
   {
    "duration": 72,
    "start_time": "2024-05-10T15:18:00.442Z"
   },
   {
    "duration": 9,
    "start_time": "2024-05-10T15:18:00.642Z"
   },
   {
    "duration": 1255,
    "start_time": "2024-05-10T15:18:07.472Z"
   },
   {
    "duration": 293,
    "start_time": "2024-05-10T15:18:08.729Z"
   },
   {
    "duration": 3,
    "start_time": "2024-05-10T15:18:09.024Z"
   },
   {
    "duration": 3,
    "start_time": "2024-05-10T15:18:09.029Z"
   },
   {
    "duration": 31,
    "start_time": "2024-05-10T15:18:09.034Z"
   },
   {
    "duration": 29,
    "start_time": "2024-05-10T15:18:09.066Z"
   },
   {
    "duration": 24,
    "start_time": "2024-05-10T15:18:09.097Z"
   },
   {
    "duration": 6,
    "start_time": "2024-05-10T15:18:09.122Z"
   },
   {
    "duration": 57,
    "start_time": "2024-05-10T15:18:09.130Z"
   },
   {
    "duration": 13,
    "start_time": "2024-05-10T15:18:09.189Z"
   },
   {
    "duration": 5,
    "start_time": "2024-05-10T15:18:09.204Z"
   },
   {
    "duration": 15,
    "start_time": "2024-05-10T15:18:09.211Z"
   },
   {
    "duration": 4,
    "start_time": "2024-05-10T15:18:09.228Z"
   },
   {
    "duration": 56,
    "start_time": "2024-05-10T15:18:09.234Z"
   },
   {
    "duration": 12,
    "start_time": "2024-05-10T15:18:09.291Z"
   },
   {
    "duration": 16,
    "start_time": "2024-05-10T15:18:09.305Z"
   },
   {
    "duration": 329,
    "start_time": "2024-05-10T15:18:09.323Z"
   },
   {
    "duration": 335,
    "start_time": "2024-05-10T15:18:09.654Z"
   },
   {
    "duration": 252,
    "start_time": "2024-05-10T15:18:09.991Z"
   },
   {
    "duration": 404,
    "start_time": "2024-05-10T15:18:10.245Z"
   },
   {
    "duration": 12,
    "start_time": "2024-05-10T15:18:10.650Z"
   },
   {
    "duration": 33,
    "start_time": "2024-05-10T15:18:10.663Z"
   },
   {
    "duration": 263,
    "start_time": "2024-05-10T15:18:10.697Z"
   },
   {
    "duration": 366,
    "start_time": "2024-05-10T15:18:10.962Z"
   },
   {
    "duration": 185,
    "start_time": "2024-05-10T15:18:11.329Z"
   },
   {
    "duration": 5,
    "start_time": "2024-05-10T15:18:11.516Z"
   },
   {
    "duration": 189,
    "start_time": "2024-05-10T15:18:11.522Z"
   },
   {
    "duration": 5,
    "start_time": "2024-05-10T15:18:11.714Z"
   },
   {
    "duration": 265,
    "start_time": "2024-05-10T15:18:11.721Z"
   },
   {
    "duration": 138,
    "start_time": "2024-05-10T15:18:11.987Z"
   },
   {
    "duration": 6,
    "start_time": "2024-05-10T15:18:12.127Z"
   },
   {
    "duration": 38,
    "start_time": "2024-05-10T15:18:12.135Z"
   },
   {
    "duration": 13,
    "start_time": "2024-05-10T15:18:12.175Z"
   },
   {
    "duration": 16,
    "start_time": "2024-05-10T15:18:12.190Z"
   },
   {
    "duration": 17,
    "start_time": "2024-05-10T15:18:12.207Z"
   },
   {
    "duration": 27,
    "start_time": "2024-05-10T15:18:12.226Z"
   },
   {
    "duration": 28,
    "start_time": "2024-05-10T15:18:12.254Z"
   },
   {
    "duration": 243,
    "start_time": "2024-05-10T15:18:30.441Z"
   },
   {
    "duration": 296,
    "start_time": "2024-05-10T15:18:45.259Z"
   },
   {
    "duration": 236,
    "start_time": "2024-05-10T15:19:07.630Z"
   },
   {
    "duration": 233,
    "start_time": "2024-05-10T15:19:15.206Z"
   },
   {
    "duration": 335,
    "start_time": "2024-05-10T15:22:34.167Z"
   },
   {
    "duration": 349,
    "start_time": "2024-05-10T15:22:53.634Z"
   },
   {
    "duration": 366,
    "start_time": "2024-05-10T15:23:37.471Z"
   },
   {
    "duration": 319,
    "start_time": "2024-05-10T15:23:46.731Z"
   },
   {
    "duration": 248,
    "start_time": "2024-05-10T15:27:25.678Z"
   },
   {
    "duration": 27,
    "start_time": "2024-05-10T15:56:56.446Z"
   },
   {
    "duration": 480,
    "start_time": "2024-05-10T15:57:05.961Z"
   },
   {
    "duration": 6,
    "start_time": "2024-05-10T15:59:11.011Z"
   },
   {
    "duration": 5,
    "start_time": "2024-05-10T16:02:44.749Z"
   },
   {
    "duration": 15,
    "start_time": "2024-05-10T16:03:19.980Z"
   },
   {
    "duration": 34,
    "start_time": "2024-05-10T16:03:26.769Z"
   },
   {
    "duration": 11,
    "start_time": "2024-05-10T16:04:25.763Z"
   },
   {
    "duration": 28,
    "start_time": "2024-05-10T16:04:31.626Z"
   },
   {
    "duration": 61,
    "start_time": "2024-05-10T16:30:12.777Z"
   },
   {
    "duration": 76,
    "start_time": "2024-05-10T16:30:26.693Z"
   },
   {
    "duration": 18,
    "start_time": "2024-05-10T16:31:02.724Z"
   },
   {
    "duration": 12,
    "start_time": "2024-05-10T16:31:35.736Z"
   },
   {
    "duration": 12,
    "start_time": "2024-05-10T16:31:58.168Z"
   },
   {
    "duration": 1102,
    "start_time": "2024-05-10T16:49:43.996Z"
   },
   {
    "duration": 104,
    "start_time": "2024-05-10T16:49:45.100Z"
   },
   {
    "duration": 2,
    "start_time": "2024-05-10T16:49:45.206Z"
   },
   {
    "duration": 15,
    "start_time": "2024-05-10T16:49:45.210Z"
   },
   {
    "duration": 54,
    "start_time": "2024-05-10T16:49:45.227Z"
   },
   {
    "duration": 32,
    "start_time": "2024-05-10T16:49:45.282Z"
   },
   {
    "duration": 23,
    "start_time": "2024-05-10T16:49:45.316Z"
   },
   {
    "duration": 10,
    "start_time": "2024-05-10T16:49:45.340Z"
   },
   {
    "duration": 42,
    "start_time": "2024-05-10T16:49:45.352Z"
   },
   {
    "duration": 16,
    "start_time": "2024-05-10T16:49:45.396Z"
   },
   {
    "duration": 9,
    "start_time": "2024-05-10T16:49:45.414Z"
   },
   {
    "duration": 23,
    "start_time": "2024-05-10T16:49:45.424Z"
   },
   {
    "duration": 4,
    "start_time": "2024-05-10T16:49:45.449Z"
   },
   {
    "duration": 41,
    "start_time": "2024-05-10T16:49:45.455Z"
   },
   {
    "duration": 11,
    "start_time": "2024-05-10T16:49:45.498Z"
   },
   {
    "duration": 15,
    "start_time": "2024-05-10T16:49:45.510Z"
   },
   {
    "duration": 328,
    "start_time": "2024-05-10T16:49:45.527Z"
   },
   {
    "duration": 360,
    "start_time": "2024-05-10T16:49:45.857Z"
   },
   {
    "duration": 250,
    "start_time": "2024-05-10T16:49:46.219Z"
   },
   {
    "duration": 353,
    "start_time": "2024-05-10T16:49:46.471Z"
   },
   {
    "duration": 12,
    "start_time": "2024-05-10T16:49:46.826Z"
   },
   {
    "duration": 43,
    "start_time": "2024-05-10T16:49:46.840Z"
   },
   {
    "duration": 241,
    "start_time": "2024-05-10T16:49:46.885Z"
   },
   {
    "duration": 322,
    "start_time": "2024-05-10T16:49:47.128Z"
   },
   {
    "duration": 184,
    "start_time": "2024-05-10T16:49:47.452Z"
   },
   {
    "duration": 5,
    "start_time": "2024-05-10T16:49:47.638Z"
   },
   {
    "duration": 191,
    "start_time": "2024-05-10T16:49:47.645Z"
   },
   {
    "duration": 5,
    "start_time": "2024-05-10T16:49:47.841Z"
   },
   {
    "duration": 149,
    "start_time": "2024-05-10T16:49:47.848Z"
   },
   {
    "duration": 8,
    "start_time": "2024-05-10T16:49:47.999Z"
   },
   {
    "duration": 29,
    "start_time": "2024-05-10T16:49:48.008Z"
   },
   {
    "duration": 12,
    "start_time": "2024-05-10T16:49:48.039Z"
   },
   {
    "duration": 37,
    "start_time": "2024-05-10T16:49:48.052Z"
   },
   {
    "duration": 11,
    "start_time": "2024-05-10T16:49:48.091Z"
   },
   {
    "duration": 28,
    "start_time": "2024-05-10T16:49:48.104Z"
   },
   {
    "duration": 14,
    "start_time": "2024-05-10T16:49:48.134Z"
   },
   {
    "duration": 45,
    "start_time": "2024-05-10T16:54:13.498Z"
   },
   {
    "duration": 79,
    "start_time": "2024-05-10T16:54:21.413Z"
   },
   {
    "duration": 1015,
    "start_time": "2024-05-10T16:54:28.938Z"
   },
   {
    "duration": 134,
    "start_time": "2024-05-10T16:54:29.955Z"
   },
   {
    "duration": 3,
    "start_time": "2024-05-10T16:54:30.091Z"
   },
   {
    "duration": 21,
    "start_time": "2024-05-10T16:54:30.096Z"
   },
   {
    "duration": 65,
    "start_time": "2024-05-10T16:54:30.119Z"
   },
   {
    "duration": 45,
    "start_time": "2024-05-10T16:54:30.186Z"
   },
   {
    "duration": 57,
    "start_time": "2024-05-10T16:54:30.232Z"
   },
   {
    "duration": 43,
    "start_time": "2024-05-10T16:54:30.291Z"
   },
   {
    "duration": 377,
    "start_time": "2024-05-10T16:54:30.335Z"
   },
   {
    "duration": 0,
    "start_time": "2024-05-10T16:54:30.714Z"
   },
   {
    "duration": 0,
    "start_time": "2024-05-10T16:54:30.715Z"
   },
   {
    "duration": 0,
    "start_time": "2024-05-10T16:54:30.717Z"
   },
   {
    "duration": 0,
    "start_time": "2024-05-10T16:54:30.718Z"
   },
   {
    "duration": 0,
    "start_time": "2024-05-10T16:54:30.719Z"
   },
   {
    "duration": 0,
    "start_time": "2024-05-10T16:54:30.720Z"
   },
   {
    "duration": 0,
    "start_time": "2024-05-10T16:54:30.722Z"
   },
   {
    "duration": 0,
    "start_time": "2024-05-10T16:54:30.723Z"
   },
   {
    "duration": 0,
    "start_time": "2024-05-10T16:54:30.724Z"
   },
   {
    "duration": 0,
    "start_time": "2024-05-10T16:54:30.726Z"
   },
   {
    "duration": 0,
    "start_time": "2024-05-10T16:54:30.727Z"
   },
   {
    "duration": 0,
    "start_time": "2024-05-10T16:54:30.729Z"
   },
   {
    "duration": 0,
    "start_time": "2024-05-10T16:54:30.730Z"
   },
   {
    "duration": 0,
    "start_time": "2024-05-10T16:54:30.731Z"
   },
   {
    "duration": 0,
    "start_time": "2024-05-10T16:54:30.732Z"
   },
   {
    "duration": 0,
    "start_time": "2024-05-10T16:54:30.734Z"
   },
   {
    "duration": 0,
    "start_time": "2024-05-10T16:54:30.735Z"
   },
   {
    "duration": 0,
    "start_time": "2024-05-10T16:54:30.737Z"
   },
   {
    "duration": 0,
    "start_time": "2024-05-10T16:54:30.738Z"
   },
   {
    "duration": 1,
    "start_time": "2024-05-10T16:54:30.743Z"
   },
   {
    "duration": 0,
    "start_time": "2024-05-10T16:54:30.745Z"
   },
   {
    "duration": 0,
    "start_time": "2024-05-10T16:54:30.746Z"
   },
   {
    "duration": 0,
    "start_time": "2024-05-10T16:54:30.748Z"
   },
   {
    "duration": 0,
    "start_time": "2024-05-10T16:54:30.752Z"
   },
   {
    "duration": 0,
    "start_time": "2024-05-10T16:54:30.753Z"
   },
   {
    "duration": 1,
    "start_time": "2024-05-10T16:54:30.753Z"
   },
   {
    "duration": 0,
    "start_time": "2024-05-10T16:54:30.754Z"
   },
   {
    "duration": 1070,
    "start_time": "2024-05-10T16:56:14.066Z"
   },
   {
    "duration": 142,
    "start_time": "2024-05-10T16:56:15.139Z"
   },
   {
    "duration": 6,
    "start_time": "2024-05-10T16:56:15.283Z"
   },
   {
    "duration": 28,
    "start_time": "2024-05-10T16:56:15.290Z"
   },
   {
    "duration": 38,
    "start_time": "2024-05-10T16:56:15.320Z"
   },
   {
    "duration": 31,
    "start_time": "2024-05-10T16:56:15.360Z"
   },
   {
    "duration": 24,
    "start_time": "2024-05-10T16:56:15.393Z"
   },
   {
    "duration": 7,
    "start_time": "2024-05-10T16:56:15.419Z"
   },
   {
    "duration": 56,
    "start_time": "2024-05-10T16:56:15.427Z"
   },
   {
    "duration": 6,
    "start_time": "2024-05-10T16:56:15.485Z"
   },
   {
    "duration": 14,
    "start_time": "2024-05-10T16:56:15.493Z"
   },
   {
    "duration": 5,
    "start_time": "2024-05-10T16:56:15.508Z"
   },
   {
    "duration": 25,
    "start_time": "2024-05-10T16:56:15.514Z"
   },
   {
    "duration": 40,
    "start_time": "2024-05-10T16:56:15.543Z"
   },
   {
    "duration": 22,
    "start_time": "2024-05-10T16:56:15.585Z"
   },
   {
    "duration": 310,
    "start_time": "2024-05-10T16:56:15.608Z"
   },
   {
    "duration": 337,
    "start_time": "2024-05-10T16:56:15.921Z"
   },
   {
    "duration": 262,
    "start_time": "2024-05-10T16:56:16.260Z"
   },
   {
    "duration": 309,
    "start_time": "2024-05-10T16:56:16.524Z"
   },
   {
    "duration": 11,
    "start_time": "2024-05-10T16:56:16.835Z"
   },
   {
    "duration": 36,
    "start_time": "2024-05-10T16:56:16.847Z"
   },
   {
    "duration": 240,
    "start_time": "2024-05-10T16:56:16.884Z"
   },
   {
    "duration": 334,
    "start_time": "2024-05-10T16:56:17.125Z"
   },
   {
    "duration": 177,
    "start_time": "2024-05-10T16:56:17.462Z"
   },
   {
    "duration": 5,
    "start_time": "2024-05-10T16:56:17.641Z"
   },
   {
    "duration": 184,
    "start_time": "2024-05-10T16:56:17.647Z"
   },
   {
    "duration": 5,
    "start_time": "2024-05-10T16:56:17.833Z"
   },
   {
    "duration": 143,
    "start_time": "2024-05-10T16:56:17.840Z"
   },
   {
    "duration": 8,
    "start_time": "2024-05-10T16:56:17.985Z"
   },
   {
    "duration": 29,
    "start_time": "2024-05-10T16:56:17.994Z"
   },
   {
    "duration": 11,
    "start_time": "2024-05-10T16:56:18.025Z"
   },
   {
    "duration": 15,
    "start_time": "2024-05-10T16:56:18.038Z"
   },
   {
    "duration": 37,
    "start_time": "2024-05-10T16:56:18.055Z"
   },
   {
    "duration": 39,
    "start_time": "2024-05-10T16:56:18.094Z"
   },
   {
    "duration": 14,
    "start_time": "2024-05-10T16:56:18.135Z"
   },
   {
    "duration": 83,
    "start_time": "2024-05-10T16:57:31.577Z"
   },
   {
    "duration": 1071,
    "start_time": "2024-05-10T17:00:41.929Z"
   },
   {
    "duration": 135,
    "start_time": "2024-05-10T17:00:43.002Z"
   },
   {
    "duration": 3,
    "start_time": "2024-05-10T17:00:43.139Z"
   },
   {
    "duration": 11,
    "start_time": "2024-05-10T17:00:43.144Z"
   },
   {
    "duration": 53,
    "start_time": "2024-05-10T17:00:43.158Z"
   },
   {
    "duration": 69,
    "start_time": "2024-05-10T17:00:43.213Z"
   },
   {
    "duration": 26,
    "start_time": "2024-05-10T17:00:43.284Z"
   },
   {
    "duration": 7,
    "start_time": "2024-05-10T17:00:43.311Z"
   },
   {
    "duration": 19,
    "start_time": "2024-05-10T17:00:43.320Z"
   },
   {
    "duration": 41,
    "start_time": "2024-05-10T17:00:43.341Z"
   },
   {
    "duration": 14,
    "start_time": "2024-05-10T17:00:43.383Z"
   },
   {
    "duration": 10,
    "start_time": "2024-05-10T17:00:43.399Z"
   },
   {
    "duration": 37,
    "start_time": "2024-05-10T17:00:43.411Z"
   },
   {
    "duration": 34,
    "start_time": "2024-05-10T17:00:43.451Z"
   },
   {
    "duration": 14,
    "start_time": "2024-05-10T17:00:43.486Z"
   },
   {
    "duration": 314,
    "start_time": "2024-05-10T17:00:43.502Z"
   },
   {
    "duration": 355,
    "start_time": "2024-05-10T17:00:43.818Z"
   },
   {
    "duration": 253,
    "start_time": "2024-05-10T17:00:44.175Z"
   },
   {
    "duration": 321,
    "start_time": "2024-05-10T17:00:44.430Z"
   },
   {
    "duration": 15,
    "start_time": "2024-05-10T17:00:44.753Z"
   },
   {
    "duration": 42,
    "start_time": "2024-05-10T17:00:44.770Z"
   },
   {
    "duration": 255,
    "start_time": "2024-05-10T17:00:44.813Z"
   },
   {
    "duration": 364,
    "start_time": "2024-05-10T17:00:45.070Z"
   },
   {
    "duration": 188,
    "start_time": "2024-05-10T17:00:45.436Z"
   },
   {
    "duration": 5,
    "start_time": "2024-05-10T17:00:45.626Z"
   },
   {
    "duration": 203,
    "start_time": "2024-05-10T17:00:45.633Z"
   },
   {
    "duration": 6,
    "start_time": "2024-05-10T17:00:45.838Z"
   },
   {
    "duration": 224,
    "start_time": "2024-05-10T17:00:45.846Z"
   },
   {
    "duration": 11,
    "start_time": "2024-05-10T17:00:46.072Z"
   },
   {
    "duration": 33,
    "start_time": "2024-05-10T17:00:46.084Z"
   },
   {
    "duration": 13,
    "start_time": "2024-05-10T17:00:46.118Z"
   },
   {
    "duration": 14,
    "start_time": "2024-05-10T17:00:46.132Z"
   },
   {
    "duration": 38,
    "start_time": "2024-05-10T17:00:46.149Z"
   },
   {
    "duration": 28,
    "start_time": "2024-05-10T17:00:46.188Z"
   },
   {
    "duration": 15,
    "start_time": "2024-05-10T17:00:46.218Z"
   }
  ],
  "kernelspec": {
   "display_name": "Python 3 (ipykernel)",
   "language": "python",
   "name": "python3"
  },
  "language_info": {
   "codemirror_mode": {
    "name": "ipython",
    "version": 3
   },
   "file_extension": ".py",
   "mimetype": "text/x-python",
   "name": "python",
   "nbconvert_exporter": "python",
   "pygments_lexer": "ipython3",
   "version": "3.9.5"
  },
  "toc": {
   "base_numbering": 1,
   "nav_menu": {},
   "number_sections": true,
   "sideBar": true,
   "skip_h1_title": true,
   "title_cell": "Table of Contents",
   "title_sidebar": "Contents",
   "toc_cell": false,
   "toc_position": {},
   "toc_section_display": true,
   "toc_window_display": false
  }
 },
 "nbformat": 4,
 "nbformat_minor": 2
}
