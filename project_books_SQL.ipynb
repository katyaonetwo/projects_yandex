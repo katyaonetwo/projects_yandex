{
 "cells": [
  {
   "cell_type": "markdown",
   "metadata": {},
   "source": [
    "# Проект по SQL. Анализ издательской индустрии"
   ]
  },
  {
   "cell_type": "markdown",
   "metadata": {},
   "source": [
    "**Описание проекта**\n",
    "\n",
    "В рамках проекта проводится анализ данных в сфере издательской индустрии с целью проработки ценностного предложения нового онлайн-сервиса для чтения книг.\n",
    "\n",
    "Основа исследования - данные о книгах, издательствах, авторах, а также пользовательские обзоры книг.\n",
    "\n",
    "**Задачи исследования**:\n",
    "1) посчитать количество книг, выпущенных после 1 января 2000 года;\\\n",
    "2) посчитать количество пользовательских обзоров и среднюю оценку для каждой книги;\\\n",
    "3) определить издательство, которое выпустило наибольшее число книг толще 50 страниц, чтобы исключить из анализа брошюры;\\\n",
    "4) определить автора с самой высокой средней оценкой книг с учетом только тех книг, у которых 50 и более пользовательских оценок;\\\n",
    "5) посчитать среднее количество обзоров пользователей, которые поставили более 48 оценок."
   ]
  },
  {
   "cell_type": "markdown",
   "metadata": {},
   "source": [
    "**Описание исходных данных**\n",
    "\n",
    "- `Таблица books`\\\n",
    "Содержит данные о книгах:\\\n",
    "book_id — идентификатор книги;\\\n",
    "author_id — идентификатор автора;\\\n",
    "title — название книги;\\\n",
    "num_pages — количество страниц;\\\n",
    "publication_date — дата публикации книги;\\\n",
    "publisher_id — идентификатор издателя.\n",
    "\n",
    "\n",
    "- `Таблица authors`\\\n",
    "Содержит данные об авторах:\\\n",
    "author_id — идентификатор автора;\\\n",
    "author — имя автора.\n",
    "\n",
    "\n",
    "- `Таблица publishers`\\\n",
    "Содержит данные об издательствах:\\\n",
    "publisher_id — идентификатор издательства;\\\n",
    "publisher — название издательства.\n",
    "\n",
    "\n",
    "- `Таблица ratings`\\\n",
    "Содержит данные о пользовательских оценках книг:\\\n",
    "rating_id — идентификатор оценки;\\\n",
    "book_id — идентификатор книги;\\\n",
    "username — имя пользователя, оставившего оценку;\\\n",
    "rating — оценка книги.\n",
    "\n",
    "\n",
    "- `Таблица reviews`\\\n",
    "Содержит данные о пользовательских обзорах на книги:\\\n",
    "review_id — идентификатор обзора;\\\n",
    "book_id — идентификатор книги;\\\n",
    "username — имя пользователя, написавшего обзор;\\\n",
    "text — текст обзора."
   ]
  },
  {
   "cell_type": "markdown",
   "metadata": {},
   "source": [
    "**Структура данных**"
   ]
  },
  {
   "cell_type": "markdown",
   "metadata": {},
   "source": [
    "![ER-диаграмма](https://pictures.s3.yandex.net/resources/scheme_1589269096.png)"
   ]
  },
  {
   "cell_type": "markdown",
   "metadata": {},
   "source": [
    "## Подключение к базе данных"
   ]
  },
  {
   "cell_type": "code",
   "execution_count": 1,
   "metadata": {},
   "outputs": [],
   "source": [
    "# импортируем библиотеки\n",
    "import pandas as pd\n",
    "import sqlalchemy as sa"
   ]
  },
  {
   "cell_type": "code",
   "execution_count": 2,
   "metadata": {},
   "outputs": [],
   "source": [
    "# устанавливаем параметры подключения к базе данных\n",
    "db_config = {\n",
    "'user': 'praktikum_student', # имя пользователя\n",
    "'pwd': 'Sdf4$2;d-d30pp', # пароль\n",
    "'host': 'rc1b-wcoijxj3yxfsf3fs.mdb.yandexcloud.net',\n",
    "'port': 6432, # порт подключения\n",
    "'db': 'data-analyst-final-project-db' # название базы данных\n",
    "}\n",
    "connection_string = 'postgresql://{user}:{pwd}@{host}:{port}/{db}'.format(**db_config)"
   ]
  },
  {
   "cell_type": "code",
   "execution_count": 3,
   "metadata": {},
   "outputs": [],
   "source": [
    "# сохраняем коннектор\n",
    "engine = sa.create_engine(connection_string, connect_args={'sslmode':'require'})"
   ]
  },
  {
   "cell_type": "code",
   "execution_count": 4,
   "metadata": {},
   "outputs": [],
   "source": [
    "# функция для выполнения SQL-запросов с использованием Pandas\n",
    "def get_sql_data(query:str, engine:sa.engine.base.Engine=engine) -> pd.DataFrame:\n",
    "    '''Открываем соединение, получаем данные из sql, закрываем соединение'''\n",
    "    with engine.connect() as con:\n",
    "        return pd.read_sql(sql=sa.text(query), con = con)"
   ]
  },
  {
   "cell_type": "code",
   "execution_count": 5,
   "metadata": {
    "scrolled": false
   },
   "outputs": [
    {
     "data": {
      "text/html": [
       "<div>\n",
       "<style scoped>\n",
       "    .dataframe tbody tr th:only-of-type {\n",
       "        vertical-align: middle;\n",
       "    }\n",
       "\n",
       "    .dataframe tbody tr th {\n",
       "        vertical-align: top;\n",
       "    }\n",
       "\n",
       "    .dataframe thead th {\n",
       "        text-align: right;\n",
       "    }\n",
       "</style>\n",
       "<table border=\"1\" class=\"dataframe\">\n",
       "  <thead>\n",
       "    <tr style=\"text-align: right;\">\n",
       "      <th></th>\n",
       "      <th>book_id</th>\n",
       "      <th>author_id</th>\n",
       "      <th>title</th>\n",
       "      <th>num_pages</th>\n",
       "      <th>publication_date</th>\n",
       "      <th>publisher_id</th>\n",
       "    </tr>\n",
       "  </thead>\n",
       "  <tbody>\n",
       "    <tr>\n",
       "      <th>0</th>\n",
       "      <td>1</td>\n",
       "      <td>546</td>\n",
       "      <td>'Salem's Lot</td>\n",
       "      <td>594</td>\n",
       "      <td>2005-11-01</td>\n",
       "      <td>93</td>\n",
       "    </tr>\n",
       "    <tr>\n",
       "      <th>1</th>\n",
       "      <td>2</td>\n",
       "      <td>465</td>\n",
       "      <td>1 000 Places to See Before You Die</td>\n",
       "      <td>992</td>\n",
       "      <td>2003-05-22</td>\n",
       "      <td>336</td>\n",
       "    </tr>\n",
       "    <tr>\n",
       "      <th>2</th>\n",
       "      <td>3</td>\n",
       "      <td>407</td>\n",
       "      <td>13 Little Blue Envelopes (Little Blue Envelope...</td>\n",
       "      <td>322</td>\n",
       "      <td>2010-12-21</td>\n",
       "      <td>135</td>\n",
       "    </tr>\n",
       "    <tr>\n",
       "      <th>3</th>\n",
       "      <td>4</td>\n",
       "      <td>82</td>\n",
       "      <td>1491: New Revelations of the Americas Before C...</td>\n",
       "      <td>541</td>\n",
       "      <td>2006-10-10</td>\n",
       "      <td>309</td>\n",
       "    </tr>\n",
       "    <tr>\n",
       "      <th>4</th>\n",
       "      <td>5</td>\n",
       "      <td>125</td>\n",
       "      <td>1776</td>\n",
       "      <td>386</td>\n",
       "      <td>2006-07-04</td>\n",
       "      <td>268</td>\n",
       "    </tr>\n",
       "    <tr>\n",
       "      <th>...</th>\n",
       "      <td>...</td>\n",
       "      <td>...</td>\n",
       "      <td>...</td>\n",
       "      <td>...</td>\n",
       "      <td>...</td>\n",
       "      <td>...</td>\n",
       "    </tr>\n",
       "    <tr>\n",
       "      <th>995</th>\n",
       "      <td>996</td>\n",
       "      <td>571</td>\n",
       "      <td>Wyrd Sisters (Discworld  #6; Witches #2)</td>\n",
       "      <td>265</td>\n",
       "      <td>2001-02-06</td>\n",
       "      <td>147</td>\n",
       "    </tr>\n",
       "    <tr>\n",
       "      <th>996</th>\n",
       "      <td>997</td>\n",
       "      <td>454</td>\n",
       "      <td>Xenocide (Ender's Saga  #3)</td>\n",
       "      <td>592</td>\n",
       "      <td>1996-07-15</td>\n",
       "      <td>297</td>\n",
       "    </tr>\n",
       "    <tr>\n",
       "      <th>997</th>\n",
       "      <td>998</td>\n",
       "      <td>201</td>\n",
       "      <td>Year of Wonders</td>\n",
       "      <td>358</td>\n",
       "      <td>2002-04-30</td>\n",
       "      <td>212</td>\n",
       "    </tr>\n",
       "    <tr>\n",
       "      <th>998</th>\n",
       "      <td>999</td>\n",
       "      <td>94</td>\n",
       "      <td>You Suck (A Love Story  #2)</td>\n",
       "      <td>328</td>\n",
       "      <td>2007-01-16</td>\n",
       "      <td>331</td>\n",
       "    </tr>\n",
       "    <tr>\n",
       "      <th>999</th>\n",
       "      <td>1000</td>\n",
       "      <td>509</td>\n",
       "      <td>Zen and the Art of Motorcycle Maintenance: An ...</td>\n",
       "      <td>540</td>\n",
       "      <td>2006-04-25</td>\n",
       "      <td>143</td>\n",
       "    </tr>\n",
       "  </tbody>\n",
       "</table>\n",
       "<p>1000 rows × 6 columns</p>\n",
       "</div>"
      ],
      "text/plain": [
       "     book_id  author_id                                              title  \\\n",
       "0          1        546                                       'Salem's Lot   \n",
       "1          2        465                 1 000 Places to See Before You Die   \n",
       "2          3        407  13 Little Blue Envelopes (Little Blue Envelope...   \n",
       "3          4         82  1491: New Revelations of the Americas Before C...   \n",
       "4          5        125                                               1776   \n",
       "..       ...        ...                                                ...   \n",
       "995      996        571           Wyrd Sisters (Discworld  #6; Witches #2)   \n",
       "996      997        454                        Xenocide (Ender's Saga  #3)   \n",
       "997      998        201                                    Year of Wonders   \n",
       "998      999         94                        You Suck (A Love Story  #2)   \n",
       "999     1000        509  Zen and the Art of Motorcycle Maintenance: An ...   \n",
       "\n",
       "     num_pages publication_date  publisher_id  \n",
       "0          594       2005-11-01            93  \n",
       "1          992       2003-05-22           336  \n",
       "2          322       2010-12-21           135  \n",
       "3          541       2006-10-10           309  \n",
       "4          386       2006-07-04           268  \n",
       "..         ...              ...           ...  \n",
       "995        265       2001-02-06           147  \n",
       "996        592       1996-07-15           297  \n",
       "997        358       2002-04-30           212  \n",
       "998        328       2007-01-16           331  \n",
       "999        540       2006-04-25           143  \n",
       "\n",
       "[1000 rows x 6 columns]"
      ]
     },
     "metadata": {},
     "output_type": "display_data"
    },
    {
     "data": {
      "text/html": [
       "<div>\n",
       "<style scoped>\n",
       "    .dataframe tbody tr th:only-of-type {\n",
       "        vertical-align: middle;\n",
       "    }\n",
       "\n",
       "    .dataframe tbody tr th {\n",
       "        vertical-align: top;\n",
       "    }\n",
       "\n",
       "    .dataframe thead th {\n",
       "        text-align: right;\n",
       "    }\n",
       "</style>\n",
       "<table border=\"1\" class=\"dataframe\">\n",
       "  <thead>\n",
       "    <tr style=\"text-align: right;\">\n",
       "      <th></th>\n",
       "      <th>author_id</th>\n",
       "      <th>author</th>\n",
       "    </tr>\n",
       "  </thead>\n",
       "  <tbody>\n",
       "    <tr>\n",
       "      <th>0</th>\n",
       "      <td>1</td>\n",
       "      <td>A.S. Byatt</td>\n",
       "    </tr>\n",
       "    <tr>\n",
       "      <th>1</th>\n",
       "      <td>2</td>\n",
       "      <td>Aesop/Laura Harris/Laura Gibbs</td>\n",
       "    </tr>\n",
       "    <tr>\n",
       "      <th>2</th>\n",
       "      <td>3</td>\n",
       "      <td>Agatha Christie</td>\n",
       "    </tr>\n",
       "    <tr>\n",
       "      <th>3</th>\n",
       "      <td>4</td>\n",
       "      <td>Alan Brennert</td>\n",
       "    </tr>\n",
       "    <tr>\n",
       "      <th>4</th>\n",
       "      <td>5</td>\n",
       "      <td>Alan Moore/David   Lloyd</td>\n",
       "    </tr>\n",
       "    <tr>\n",
       "      <th>...</th>\n",
       "      <td>...</td>\n",
       "      <td>...</td>\n",
       "    </tr>\n",
       "    <tr>\n",
       "      <th>631</th>\n",
       "      <td>632</td>\n",
       "      <td>William Strunk Jr./E.B. White</td>\n",
       "    </tr>\n",
       "    <tr>\n",
       "      <th>632</th>\n",
       "      <td>633</td>\n",
       "      <td>Zadie Smith</td>\n",
       "    </tr>\n",
       "    <tr>\n",
       "      <th>633</th>\n",
       "      <td>634</td>\n",
       "      <td>Zilpha Keatley Snyder</td>\n",
       "    </tr>\n",
       "    <tr>\n",
       "      <th>634</th>\n",
       "      <td>635</td>\n",
       "      <td>Zora Neale Hurston</td>\n",
       "    </tr>\n",
       "    <tr>\n",
       "      <th>635</th>\n",
       "      <td>636</td>\n",
       "      <td>Åsne Seierstad/Ingrid Christopherson</td>\n",
       "    </tr>\n",
       "  </tbody>\n",
       "</table>\n",
       "<p>636 rows × 2 columns</p>\n",
       "</div>"
      ],
      "text/plain": [
       "     author_id                                author\n",
       "0            1                            A.S. Byatt\n",
       "1            2        Aesop/Laura Harris/Laura Gibbs\n",
       "2            3                       Agatha Christie\n",
       "3            4                         Alan Brennert\n",
       "4            5              Alan Moore/David   Lloyd\n",
       "..         ...                                   ...\n",
       "631        632         William Strunk Jr./E.B. White\n",
       "632        633                           Zadie Smith\n",
       "633        634                 Zilpha Keatley Snyder\n",
       "634        635                    Zora Neale Hurston\n",
       "635        636  Åsne Seierstad/Ingrid Christopherson\n",
       "\n",
       "[636 rows x 2 columns]"
      ]
     },
     "metadata": {},
     "output_type": "display_data"
    },
    {
     "data": {
      "text/html": [
       "<div>\n",
       "<style scoped>\n",
       "    .dataframe tbody tr th:only-of-type {\n",
       "        vertical-align: middle;\n",
       "    }\n",
       "\n",
       "    .dataframe tbody tr th {\n",
       "        vertical-align: top;\n",
       "    }\n",
       "\n",
       "    .dataframe thead th {\n",
       "        text-align: right;\n",
       "    }\n",
       "</style>\n",
       "<table border=\"1\" class=\"dataframe\">\n",
       "  <thead>\n",
       "    <tr style=\"text-align: right;\">\n",
       "      <th></th>\n",
       "      <th>publisher_id</th>\n",
       "      <th>publisher</th>\n",
       "    </tr>\n",
       "  </thead>\n",
       "  <tbody>\n",
       "    <tr>\n",
       "      <th>0</th>\n",
       "      <td>1</td>\n",
       "      <td>Ace</td>\n",
       "    </tr>\n",
       "    <tr>\n",
       "      <th>1</th>\n",
       "      <td>2</td>\n",
       "      <td>Ace Book</td>\n",
       "    </tr>\n",
       "    <tr>\n",
       "      <th>2</th>\n",
       "      <td>3</td>\n",
       "      <td>Ace Books</td>\n",
       "    </tr>\n",
       "    <tr>\n",
       "      <th>3</th>\n",
       "      <td>4</td>\n",
       "      <td>Ace Hardcover</td>\n",
       "    </tr>\n",
       "    <tr>\n",
       "      <th>4</th>\n",
       "      <td>5</td>\n",
       "      <td>Addison Wesley Publishing Company</td>\n",
       "    </tr>\n",
       "    <tr>\n",
       "      <th>...</th>\n",
       "      <td>...</td>\n",
       "      <td>...</td>\n",
       "    </tr>\n",
       "    <tr>\n",
       "      <th>335</th>\n",
       "      <td>336</td>\n",
       "      <td>Workman Publishing Company</td>\n",
       "    </tr>\n",
       "    <tr>\n",
       "      <th>336</th>\n",
       "      <td>337</td>\n",
       "      <td>Wyatt Book</td>\n",
       "    </tr>\n",
       "    <tr>\n",
       "      <th>337</th>\n",
       "      <td>338</td>\n",
       "      <td>Yale University Press</td>\n",
       "    </tr>\n",
       "    <tr>\n",
       "      <th>338</th>\n",
       "      <td>339</td>\n",
       "      <td>Yearling</td>\n",
       "    </tr>\n",
       "    <tr>\n",
       "      <th>339</th>\n",
       "      <td>340</td>\n",
       "      <td>Yearling Books</td>\n",
       "    </tr>\n",
       "  </tbody>\n",
       "</table>\n",
       "<p>340 rows × 2 columns</p>\n",
       "</div>"
      ],
      "text/plain": [
       "     publisher_id                          publisher\n",
       "0               1                                Ace\n",
       "1               2                           Ace Book\n",
       "2               3                          Ace Books\n",
       "3               4                      Ace Hardcover\n",
       "4               5  Addison Wesley Publishing Company\n",
       "..            ...                                ...\n",
       "335           336         Workman Publishing Company\n",
       "336           337                         Wyatt Book\n",
       "337           338              Yale University Press\n",
       "338           339                           Yearling\n",
       "339           340                     Yearling Books\n",
       "\n",
       "[340 rows x 2 columns]"
      ]
     },
     "metadata": {},
     "output_type": "display_data"
    },
    {
     "data": {
      "text/html": [
       "<div>\n",
       "<style scoped>\n",
       "    .dataframe tbody tr th:only-of-type {\n",
       "        vertical-align: middle;\n",
       "    }\n",
       "\n",
       "    .dataframe tbody tr th {\n",
       "        vertical-align: top;\n",
       "    }\n",
       "\n",
       "    .dataframe thead th {\n",
       "        text-align: right;\n",
       "    }\n",
       "</style>\n",
       "<table border=\"1\" class=\"dataframe\">\n",
       "  <thead>\n",
       "    <tr style=\"text-align: right;\">\n",
       "      <th></th>\n",
       "      <th>rating_id</th>\n",
       "      <th>book_id</th>\n",
       "      <th>username</th>\n",
       "      <th>rating</th>\n",
       "    </tr>\n",
       "  </thead>\n",
       "  <tbody>\n",
       "    <tr>\n",
       "      <th>0</th>\n",
       "      <td>1</td>\n",
       "      <td>1</td>\n",
       "      <td>ryanfranco</td>\n",
       "      <td>4</td>\n",
       "    </tr>\n",
       "    <tr>\n",
       "      <th>1</th>\n",
       "      <td>2</td>\n",
       "      <td>1</td>\n",
       "      <td>grantpatricia</td>\n",
       "      <td>2</td>\n",
       "    </tr>\n",
       "    <tr>\n",
       "      <th>2</th>\n",
       "      <td>3</td>\n",
       "      <td>1</td>\n",
       "      <td>brandtandrea</td>\n",
       "      <td>5</td>\n",
       "    </tr>\n",
       "    <tr>\n",
       "      <th>3</th>\n",
       "      <td>4</td>\n",
       "      <td>2</td>\n",
       "      <td>lorichen</td>\n",
       "      <td>3</td>\n",
       "    </tr>\n",
       "    <tr>\n",
       "      <th>4</th>\n",
       "      <td>5</td>\n",
       "      <td>2</td>\n",
       "      <td>mariokeller</td>\n",
       "      <td>2</td>\n",
       "    </tr>\n",
       "    <tr>\n",
       "      <th>...</th>\n",
       "      <td>...</td>\n",
       "      <td>...</td>\n",
       "      <td>...</td>\n",
       "      <td>...</td>\n",
       "    </tr>\n",
       "    <tr>\n",
       "      <th>6451</th>\n",
       "      <td>6452</td>\n",
       "      <td>1000</td>\n",
       "      <td>carolrodriguez</td>\n",
       "      <td>4</td>\n",
       "    </tr>\n",
       "    <tr>\n",
       "      <th>6452</th>\n",
       "      <td>6453</td>\n",
       "      <td>1000</td>\n",
       "      <td>wendy18</td>\n",
       "      <td>4</td>\n",
       "    </tr>\n",
       "    <tr>\n",
       "      <th>6453</th>\n",
       "      <td>6454</td>\n",
       "      <td>1000</td>\n",
       "      <td>jarvispaul</td>\n",
       "      <td>5</td>\n",
       "    </tr>\n",
       "    <tr>\n",
       "      <th>6454</th>\n",
       "      <td>6455</td>\n",
       "      <td>1000</td>\n",
       "      <td>zross</td>\n",
       "      <td>2</td>\n",
       "    </tr>\n",
       "    <tr>\n",
       "      <th>6455</th>\n",
       "      <td>6456</td>\n",
       "      <td>1000</td>\n",
       "      <td>fharris</td>\n",
       "      <td>5</td>\n",
       "    </tr>\n",
       "  </tbody>\n",
       "</table>\n",
       "<p>6456 rows × 4 columns</p>\n",
       "</div>"
      ],
      "text/plain": [
       "      rating_id  book_id        username  rating\n",
       "0             1        1      ryanfranco       4\n",
       "1             2        1   grantpatricia       2\n",
       "2             3        1    brandtandrea       5\n",
       "3             4        2        lorichen       3\n",
       "4             5        2     mariokeller       2\n",
       "...         ...      ...             ...     ...\n",
       "6451       6452     1000  carolrodriguez       4\n",
       "6452       6453     1000         wendy18       4\n",
       "6453       6454     1000      jarvispaul       5\n",
       "6454       6455     1000           zross       2\n",
       "6455       6456     1000         fharris       5\n",
       "\n",
       "[6456 rows x 4 columns]"
      ]
     },
     "metadata": {},
     "output_type": "display_data"
    },
    {
     "data": {
      "text/html": [
       "<div>\n",
       "<style scoped>\n",
       "    .dataframe tbody tr th:only-of-type {\n",
       "        vertical-align: middle;\n",
       "    }\n",
       "\n",
       "    .dataframe tbody tr th {\n",
       "        vertical-align: top;\n",
       "    }\n",
       "\n",
       "    .dataframe thead th {\n",
       "        text-align: right;\n",
       "    }\n",
       "</style>\n",
       "<table border=\"1\" class=\"dataframe\">\n",
       "  <thead>\n",
       "    <tr style=\"text-align: right;\">\n",
       "      <th></th>\n",
       "      <th>review_id</th>\n",
       "      <th>book_id</th>\n",
       "      <th>username</th>\n",
       "      <th>text</th>\n",
       "    </tr>\n",
       "  </thead>\n",
       "  <tbody>\n",
       "    <tr>\n",
       "      <th>0</th>\n",
       "      <td>1</td>\n",
       "      <td>1</td>\n",
       "      <td>brandtandrea</td>\n",
       "      <td>Mention society tell send professor analysis. ...</td>\n",
       "    </tr>\n",
       "    <tr>\n",
       "      <th>1</th>\n",
       "      <td>2</td>\n",
       "      <td>1</td>\n",
       "      <td>ryanfranco</td>\n",
       "      <td>Foot glass pretty audience hit themselves. Amo...</td>\n",
       "    </tr>\n",
       "    <tr>\n",
       "      <th>2</th>\n",
       "      <td>3</td>\n",
       "      <td>2</td>\n",
       "      <td>lorichen</td>\n",
       "      <td>Listen treat keep worry. Miss husband tax but ...</td>\n",
       "    </tr>\n",
       "    <tr>\n",
       "      <th>3</th>\n",
       "      <td>4</td>\n",
       "      <td>3</td>\n",
       "      <td>johnsonamanda</td>\n",
       "      <td>Finally month interesting blue could nature cu...</td>\n",
       "    </tr>\n",
       "    <tr>\n",
       "      <th>4</th>\n",
       "      <td>5</td>\n",
       "      <td>3</td>\n",
       "      <td>scotttamara</td>\n",
       "      <td>Nation purpose heavy give wait song will. List...</td>\n",
       "    </tr>\n",
       "    <tr>\n",
       "      <th>...</th>\n",
       "      <td>...</td>\n",
       "      <td>...</td>\n",
       "      <td>...</td>\n",
       "      <td>...</td>\n",
       "    </tr>\n",
       "    <tr>\n",
       "      <th>2788</th>\n",
       "      <td>2789</td>\n",
       "      <td>999</td>\n",
       "      <td>martinadam</td>\n",
       "      <td>Later hospital turn easy community. Fact same ...</td>\n",
       "    </tr>\n",
       "    <tr>\n",
       "      <th>2789</th>\n",
       "      <td>2790</td>\n",
       "      <td>1000</td>\n",
       "      <td>wknight</td>\n",
       "      <td>Change lose answer close pressure. Spend so now.</td>\n",
       "    </tr>\n",
       "    <tr>\n",
       "      <th>2790</th>\n",
       "      <td>2791</td>\n",
       "      <td>1000</td>\n",
       "      <td>carolrodriguez</td>\n",
       "      <td>Authority go who television entire hair guy po...</td>\n",
       "    </tr>\n",
       "    <tr>\n",
       "      <th>2791</th>\n",
       "      <td>2792</td>\n",
       "      <td>1000</td>\n",
       "      <td>wendy18</td>\n",
       "      <td>Or western offer wonder ask. More hear phone f...</td>\n",
       "    </tr>\n",
       "    <tr>\n",
       "      <th>2792</th>\n",
       "      <td>2793</td>\n",
       "      <td>1000</td>\n",
       "      <td>jarvispaul</td>\n",
       "      <td>Republican staff bit eat material measure plan...</td>\n",
       "    </tr>\n",
       "  </tbody>\n",
       "</table>\n",
       "<p>2793 rows × 4 columns</p>\n",
       "</div>"
      ],
      "text/plain": [
       "      review_id  book_id        username  \\\n",
       "0             1        1    brandtandrea   \n",
       "1             2        1      ryanfranco   \n",
       "2             3        2        lorichen   \n",
       "3             4        3   johnsonamanda   \n",
       "4             5        3     scotttamara   \n",
       "...         ...      ...             ...   \n",
       "2788       2789      999      martinadam   \n",
       "2789       2790     1000         wknight   \n",
       "2790       2791     1000  carolrodriguez   \n",
       "2791       2792     1000         wendy18   \n",
       "2792       2793     1000      jarvispaul   \n",
       "\n",
       "                                                   text  \n",
       "0     Mention society tell send professor analysis. ...  \n",
       "1     Foot glass pretty audience hit themselves. Amo...  \n",
       "2     Listen treat keep worry. Miss husband tax but ...  \n",
       "3     Finally month interesting blue could nature cu...  \n",
       "4     Nation purpose heavy give wait song will. List...  \n",
       "...                                                 ...  \n",
       "2788  Later hospital turn easy community. Fact same ...  \n",
       "2789   Change lose answer close pressure. Spend so now.  \n",
       "2790  Authority go who television entire hair guy po...  \n",
       "2791  Or western offer wonder ask. More hear phone f...  \n",
       "2792  Republican staff bit eat material measure plan...  \n",
       "\n",
       "[2793 rows x 4 columns]"
      ]
     },
     "metadata": {},
     "output_type": "display_data"
    }
   ],
   "source": [
    "# формируем запросы и выводим данные по каждой таблице\n",
    "\n",
    "#Книги\n",
    "query = '''SELECT * FROM books'''\n",
    "books = get_sql_data(query)\n",
    "display(books)\n",
    "\n",
    "#Авторы\n",
    "query = '''SELECT * FROM authors'''\n",
    "authors = get_sql_data(query)\n",
    "display(authors)\n",
    "\n",
    "#Издательства\n",
    "query = '''SELECT * FROM publishers'''\n",
    "publishers = get_sql_data(query)\n",
    "display(publishers)\n",
    "\n",
    "#Пользовательские рейтинги\n",
    "query = '''SELECT * FROM ratings'''\n",
    "ratings = get_sql_data(query)\n",
    "display(ratings)\n",
    "\n",
    "#Пользовательские обзоры\n",
    "query = '''SELECT * FROM reviews'''\n",
    "reviews = get_sql_data(query)\n",
    "display(reviews)"
   ]
  },
  {
   "cell_type": "markdown",
   "metadata": {},
   "source": [
    "## Анализ данных"
   ]
  },
  {
   "cell_type": "markdown",
   "metadata": {},
   "source": [
    "### Количество книг, выпущенных после 1 января 2000 года"
   ]
  },
  {
   "cell_type": "code",
   "execution_count": 6,
   "metadata": {},
   "outputs": [
    {
     "data": {
      "text/html": [
       "<div>\n",
       "<style scoped>\n",
       "    .dataframe tbody tr th:only-of-type {\n",
       "        vertical-align: middle;\n",
       "    }\n",
       "\n",
       "    .dataframe tbody tr th {\n",
       "        vertical-align: top;\n",
       "    }\n",
       "\n",
       "    .dataframe thead th {\n",
       "        text-align: right;\n",
       "    }\n",
       "</style>\n",
       "<table border=\"1\" class=\"dataframe\">\n",
       "  <thead>\n",
       "    <tr style=\"text-align: right;\">\n",
       "      <th></th>\n",
       "      <th>count</th>\n",
       "    </tr>\n",
       "  </thead>\n",
       "  <tbody>\n",
       "    <tr>\n",
       "      <th>0</th>\n",
       "      <td>819</td>\n",
       "    </tr>\n",
       "  </tbody>\n",
       "</table>\n",
       "</div>"
      ],
      "text/plain": [
       "   count\n",
       "0    819"
      ]
     },
     "metadata": {},
     "output_type": "display_data"
    }
   ],
   "source": [
    "books_count = '''\n",
    "SELECT COUNT(*)\n",
    "FROM books\n",
    "WHERE publication_date > '2000-01-01'\n",
    "'''\n",
    "display(get_sql_data(books_count))"
   ]
  },
  {
   "cell_type": "markdown",
   "metadata": {},
   "source": [
    "Всего в базе данных есть информация о 1000 книгах, 819 из которых изданы после 1 января 2000 года."
   ]
  },
  {
   "cell_type": "markdown",
   "metadata": {},
   "source": [
    "### Количество пользовательских обзоров и средняя оценка для каждой книги"
   ]
  },
  {
   "cell_type": "code",
   "execution_count": 7,
   "metadata": {},
   "outputs": [
    {
     "data": {
      "text/html": [
       "<div>\n",
       "<style scoped>\n",
       "    .dataframe tbody tr th:only-of-type {\n",
       "        vertical-align: middle;\n",
       "    }\n",
       "\n",
       "    .dataframe tbody tr th {\n",
       "        vertical-align: top;\n",
       "    }\n",
       "\n",
       "    .dataframe thead th {\n",
       "        text-align: right;\n",
       "    }\n",
       "</style>\n",
       "<table border=\"1\" class=\"dataframe\">\n",
       "  <thead>\n",
       "    <tr style=\"text-align: right;\">\n",
       "      <th></th>\n",
       "      <th>book_name</th>\n",
       "      <th>id</th>\n",
       "      <th>reviews_count</th>\n",
       "      <th>avg_rating</th>\n",
       "    </tr>\n",
       "  </thead>\n",
       "  <tbody>\n",
       "    <tr>\n",
       "      <th>0</th>\n",
       "      <td>Twilight (Twilight  #1)</td>\n",
       "      <td>948</td>\n",
       "      <td>7</td>\n",
       "      <td>3.662500</td>\n",
       "    </tr>\n",
       "    <tr>\n",
       "      <th>1</th>\n",
       "      <td>Water for Elephants</td>\n",
       "      <td>963</td>\n",
       "      <td>6</td>\n",
       "      <td>3.977273</td>\n",
       "    </tr>\n",
       "    <tr>\n",
       "      <th>2</th>\n",
       "      <td>The Glass Castle</td>\n",
       "      <td>734</td>\n",
       "      <td>6</td>\n",
       "      <td>4.206897</td>\n",
       "    </tr>\n",
       "    <tr>\n",
       "      <th>3</th>\n",
       "      <td>Harry Potter and the Prisoner of Azkaban (Harr...</td>\n",
       "      <td>302</td>\n",
       "      <td>6</td>\n",
       "      <td>4.414634</td>\n",
       "    </tr>\n",
       "    <tr>\n",
       "      <th>4</th>\n",
       "      <td>The Curious Incident of the Dog in the Night-Time</td>\n",
       "      <td>695</td>\n",
       "      <td>6</td>\n",
       "      <td>4.081081</td>\n",
       "    </tr>\n",
       "    <tr>\n",
       "      <th>...</th>\n",
       "      <td>...</td>\n",
       "      <td>...</td>\n",
       "      <td>...</td>\n",
       "      <td>...</td>\n",
       "    </tr>\n",
       "    <tr>\n",
       "      <th>995</th>\n",
       "      <td>Anne Rice's The Vampire Lestat: A Graphic Novel</td>\n",
       "      <td>83</td>\n",
       "      <td>0</td>\n",
       "      <td>3.666667</td>\n",
       "    </tr>\n",
       "    <tr>\n",
       "      <th>996</th>\n",
       "      <td>The Natural Way to Draw</td>\n",
       "      <td>808</td>\n",
       "      <td>0</td>\n",
       "      <td>3.000000</td>\n",
       "    </tr>\n",
       "    <tr>\n",
       "      <th>997</th>\n",
       "      <td>The Cat in the Hat and Other Dr. Seuss Favorites</td>\n",
       "      <td>672</td>\n",
       "      <td>0</td>\n",
       "      <td>5.000000</td>\n",
       "    </tr>\n",
       "    <tr>\n",
       "      <th>998</th>\n",
       "      <td>Essential Tales and Poems</td>\n",
       "      <td>221</td>\n",
       "      <td>0</td>\n",
       "      <td>4.000000</td>\n",
       "    </tr>\n",
       "    <tr>\n",
       "      <th>999</th>\n",
       "      <td>Disney's Beauty and the Beast (A Little Golden...</td>\n",
       "      <td>191</td>\n",
       "      <td>0</td>\n",
       "      <td>4.000000</td>\n",
       "    </tr>\n",
       "  </tbody>\n",
       "</table>\n",
       "<p>1000 rows × 4 columns</p>\n",
       "</div>"
      ],
      "text/plain": [
       "                                             book_name   id  reviews_count  \\\n",
       "0                              Twilight (Twilight  #1)  948              7   \n",
       "1                                  Water for Elephants  963              6   \n",
       "2                                     The Glass Castle  734              6   \n",
       "3    Harry Potter and the Prisoner of Azkaban (Harr...  302              6   \n",
       "4    The Curious Incident of the Dog in the Night-Time  695              6   \n",
       "..                                                 ...  ...            ...   \n",
       "995    Anne Rice's The Vampire Lestat: A Graphic Novel   83              0   \n",
       "996                            The Natural Way to Draw  808              0   \n",
       "997   The Cat in the Hat and Other Dr. Seuss Favorites  672              0   \n",
       "998                          Essential Tales and Poems  221              0   \n",
       "999  Disney's Beauty and the Beast (A Little Golden...  191              0   \n",
       "\n",
       "     avg_rating  \n",
       "0      3.662500  \n",
       "1      3.977273  \n",
       "2      4.206897  \n",
       "3      4.414634  \n",
       "4      4.081081  \n",
       "..          ...  \n",
       "995    3.666667  \n",
       "996    3.000000  \n",
       "997    5.000000  \n",
       "998    4.000000  \n",
       "999    4.000000  \n",
       "\n",
       "[1000 rows x 4 columns]"
      ]
     },
     "metadata": {},
     "output_type": "display_data"
    }
   ],
   "source": [
    "reviews_count_avg_rating = '''\n",
    "SELECT b.title AS book_name,\n",
    "        b.book_id AS id,\n",
    "        COUNT(DISTINCT re.review_id) AS reviews_count,\n",
    "        AVG(ra.rating) AS avg_rating\n",
    "FROM books AS b\n",
    "LEFT JOIN reviews AS re ON b.book_id = re.book_id\n",
    "LEFT JOIN ratings AS ra ON b.book_id = ra.book_id\n",
    "GROUP BY id\n",
    "ORDER BY reviews_count DESC\n",
    "'''\n",
    "display(get_sql_data(reviews_count_avg_rating))"
   ]
  },
  {
   "cell_type": "markdown",
   "metadata": {},
   "source": [
    "Книга с наибольшим количеством пользовательских обзоров - \"Сумерки\", на которую писали ревью 7 раз. Также в базе есть 6 книг без обзора. Для 44 книг отмечен наивысший рейтинг (5.0), включая книгу, на которую в базе нет ни одного обзора."
   ]
  },
  {
   "cell_type": "markdown",
   "metadata": {},
   "source": [
    "### Издательство, которое выпустило наибольшее число книг толще 50 страниц"
   ]
  },
  {
   "cell_type": "code",
   "execution_count": 8,
   "metadata": {},
   "outputs": [
    {
     "data": {
      "text/html": [
       "<div>\n",
       "<style scoped>\n",
       "    .dataframe tbody tr th:only-of-type {\n",
       "        vertical-align: middle;\n",
       "    }\n",
       "\n",
       "    .dataframe tbody tr th {\n",
       "        vertical-align: top;\n",
       "    }\n",
       "\n",
       "    .dataframe thead th {\n",
       "        text-align: right;\n",
       "    }\n",
       "</style>\n",
       "<table border=\"1\" class=\"dataframe\">\n",
       "  <thead>\n",
       "    <tr style=\"text-align: right;\">\n",
       "      <th></th>\n",
       "      <th>publisher_id</th>\n",
       "      <th>publisher</th>\n",
       "      <th>books_count</th>\n",
       "    </tr>\n",
       "  </thead>\n",
       "  <tbody>\n",
       "    <tr>\n",
       "      <th>0</th>\n",
       "      <td>212</td>\n",
       "      <td>Penguin Books</td>\n",
       "      <td>42</td>\n",
       "    </tr>\n",
       "    <tr>\n",
       "      <th>1</th>\n",
       "      <td>309</td>\n",
       "      <td>Vintage</td>\n",
       "      <td>31</td>\n",
       "    </tr>\n",
       "    <tr>\n",
       "      <th>2</th>\n",
       "      <td>116</td>\n",
       "      <td>Grand Central Publishing</td>\n",
       "      <td>25</td>\n",
       "    </tr>\n",
       "    <tr>\n",
       "      <th>3</th>\n",
       "      <td>217</td>\n",
       "      <td>Penguin Classics</td>\n",
       "      <td>24</td>\n",
       "    </tr>\n",
       "    <tr>\n",
       "      <th>4</th>\n",
       "      <td>33</td>\n",
       "      <td>Ballantine Books</td>\n",
       "      <td>19</td>\n",
       "    </tr>\n",
       "    <tr>\n",
       "      <th>5</th>\n",
       "      <td>35</td>\n",
       "      <td>Bantam</td>\n",
       "      <td>19</td>\n",
       "    </tr>\n",
       "    <tr>\n",
       "      <th>6</th>\n",
       "      <td>45</td>\n",
       "      <td>Berkley</td>\n",
       "      <td>17</td>\n",
       "    </tr>\n",
       "    <tr>\n",
       "      <th>7</th>\n",
       "      <td>284</td>\n",
       "      <td>St. Martin's Press</td>\n",
       "      <td>14</td>\n",
       "    </tr>\n",
       "    <tr>\n",
       "      <th>8</th>\n",
       "      <td>46</td>\n",
       "      <td>Berkley Books</td>\n",
       "      <td>14</td>\n",
       "    </tr>\n",
       "    <tr>\n",
       "      <th>9</th>\n",
       "      <td>83</td>\n",
       "      <td>Delta</td>\n",
       "      <td>13</td>\n",
       "    </tr>\n",
       "  </tbody>\n",
       "</table>\n",
       "</div>"
      ],
      "text/plain": [
       "   publisher_id                 publisher  books_count\n",
       "0           212             Penguin Books           42\n",
       "1           309                   Vintage           31\n",
       "2           116  Grand Central Publishing           25\n",
       "3           217          Penguin Classics           24\n",
       "4            33          Ballantine Books           19\n",
       "5            35                    Bantam           19\n",
       "6            45                   Berkley           17\n",
       "7           284        St. Martin's Press           14\n",
       "8            46             Berkley Books           14\n",
       "9            83                     Delta           13"
      ]
     },
     "metadata": {},
     "output_type": "display_data"
    }
   ],
   "source": [
    "top_publishers = '''\n",
    "SELECT p.publisher_id,\n",
    "        p.publisher,\n",
    "        COUNT(b.book_id) AS books_count\n",
    "FROM publishers AS p\n",
    "LEFT JOIN books AS b ON b.publisher_id = p.publisher_id\n",
    "WHERE b.num_pages > 50\n",
    "GROUP BY p.publisher_id, p.publisher\n",
    "ORDER BY books_count DESC\n",
    "LIMIT 10\n",
    "'''\n",
    "display(get_sql_data(top_publishers))"
   ]
  },
  {
   "cell_type": "markdown",
   "metadata": {},
   "source": [
    "В топе издательств, выпустивших самое большое количество книг объемом более 50 страниц - Penguin Books (42 книги). Далее со значительным отрывом следуют издательства Vintage (31 книга), Grand Central Publishing (25 книг) и Penguin Classics (24 книги)."
   ]
  },
  {
   "cell_type": "markdown",
   "metadata": {},
   "source": [
    "### Автор с самой высокой средней оценкой книг с учетом только тех книг, у которых 50 и более пользовательских оценок"
   ]
  },
  {
   "cell_type": "code",
   "execution_count": 9,
   "metadata": {},
   "outputs": [
    {
     "data": {
      "text/html": [
       "<div>\n",
       "<style scoped>\n",
       "    .dataframe tbody tr th:only-of-type {\n",
       "        vertical-align: middle;\n",
       "    }\n",
       "\n",
       "    .dataframe tbody tr th {\n",
       "        vertical-align: top;\n",
       "    }\n",
       "\n",
       "    .dataframe thead th {\n",
       "        text-align: right;\n",
       "    }\n",
       "</style>\n",
       "<table border=\"1\" class=\"dataframe\">\n",
       "  <thead>\n",
       "    <tr style=\"text-align: right;\">\n",
       "      <th></th>\n",
       "      <th>author</th>\n",
       "      <th>avg_rating</th>\n",
       "    </tr>\n",
       "  </thead>\n",
       "  <tbody>\n",
       "    <tr>\n",
       "      <th>0</th>\n",
       "      <td>J.K. Rowling/Mary GrandPré</td>\n",
       "      <td>4.28</td>\n",
       "    </tr>\n",
       "    <tr>\n",
       "      <th>1</th>\n",
       "      <td>Markus Zusak/Cao Xuân Việt Khương</td>\n",
       "      <td>4.26</td>\n",
       "    </tr>\n",
       "    <tr>\n",
       "      <th>2</th>\n",
       "      <td>J.R.R. Tolkien</td>\n",
       "      <td>4.26</td>\n",
       "    </tr>\n",
       "    <tr>\n",
       "      <th>3</th>\n",
       "      <td>Louisa May Alcott</td>\n",
       "      <td>4.19</td>\n",
       "    </tr>\n",
       "    <tr>\n",
       "      <th>4</th>\n",
       "      <td>Rick Riordan</td>\n",
       "      <td>4.08</td>\n",
       "    </tr>\n",
       "    <tr>\n",
       "      <th>5</th>\n",
       "      <td>William Golding</td>\n",
       "      <td>3.90</td>\n",
       "    </tr>\n",
       "    <tr>\n",
       "      <th>6</th>\n",
       "      <td>J.D. Salinger</td>\n",
       "      <td>3.83</td>\n",
       "    </tr>\n",
       "    <tr>\n",
       "      <th>7</th>\n",
       "      <td>William Shakespeare/Paul Werstine/Barbara A. M...</td>\n",
       "      <td>3.79</td>\n",
       "    </tr>\n",
       "    <tr>\n",
       "      <th>8</th>\n",
       "      <td>Paulo Coelho/Alan R. Clarke/Özdemir İnce</td>\n",
       "      <td>3.79</td>\n",
       "    </tr>\n",
       "    <tr>\n",
       "      <th>9</th>\n",
       "      <td>Lois Lowry</td>\n",
       "      <td>3.75</td>\n",
       "    </tr>\n",
       "    <tr>\n",
       "      <th>10</th>\n",
       "      <td>Dan Brown</td>\n",
       "      <td>3.75</td>\n",
       "    </tr>\n",
       "    <tr>\n",
       "      <th>11</th>\n",
       "      <td>George Orwell/Boris Grabnar/Peter Škerl</td>\n",
       "      <td>3.73</td>\n",
       "    </tr>\n",
       "    <tr>\n",
       "      <th>12</th>\n",
       "      <td>Stephenie Meyer</td>\n",
       "      <td>3.66</td>\n",
       "    </tr>\n",
       "    <tr>\n",
       "      <th>13</th>\n",
       "      <td>John Steinbeck</td>\n",
       "      <td>3.62</td>\n",
       "    </tr>\n",
       "  </tbody>\n",
       "</table>\n",
       "</div>"
      ],
      "text/plain": [
       "                                               author  avg_rating\n",
       "0                          J.K. Rowling/Mary GrandPré        4.28\n",
       "1                   Markus Zusak/Cao Xuân Việt Khương        4.26\n",
       "2                                      J.R.R. Tolkien        4.26\n",
       "3                                   Louisa May Alcott        4.19\n",
       "4                                        Rick Riordan        4.08\n",
       "5                                     William Golding        3.90\n",
       "6                                       J.D. Salinger        3.83\n",
       "7   William Shakespeare/Paul Werstine/Barbara A. M...        3.79\n",
       "8            Paulo Coelho/Alan R. Clarke/Özdemir İnce        3.79\n",
       "9                                          Lois Lowry        3.75\n",
       "10                                          Dan Brown        3.75\n",
       "11            George Orwell/Boris Grabnar/Peter Škerl        3.73\n",
       "12                                    Stephenie Meyer        3.66\n",
       "13                                     John Steinbeck        3.62"
      ]
     },
     "metadata": {},
     "output_type": "display_data"
    }
   ],
   "source": [
    "author_rating = '''\n",
    "WITH avg_rating_author AS (SELECT a.author AS author,\n",
    "                                    b.book_id AS id,\n",
    "                            AVG(ra.rating) AS avg_rating\n",
    "                            FROM authors AS a\n",
    "                            JOIN books AS b ON b.author_id = a.author_id\n",
    "                            JOIN ratings AS ra ON b.book_id = ra.book_id\n",
    "                            GROUP BY author, id\n",
    "                            HAVING COUNT(ra.rating) >=50)\n",
    "\n",
    "SELECT avg_rating_author.author AS author,\n",
    "        ROUND(AVG(avg_rating_author.avg_rating), 2) AS avg_rating\n",
    "FROM avg_rating_author\n",
    "GROUP BY author\n",
    "ORDER BY avg_rating DESC\n",
    "'''\n",
    "display(get_sql_data(author_rating))"
   ]
  },
  {
   "cell_type": "markdown",
   "metadata": {},
   "source": [
    "Автором с самой высокой средней оценкой книг среди тех, которых пользователи оценивали 50 и более раз, является Джоан Роулинг со средней оценкой 4.28 по всем её работам. Помимо автора-лидера, в перечень авторов со средним рейтингом выше 4.0 входят Маркус Зусак, Дж.Р.Р. Толкин, Луиза Мэй Олкотт и Рик Риордан."
   ]
  },
  {
   "cell_type": "markdown",
   "metadata": {},
   "source": [
    "### Среднее количество обзоров пользователей, которые поставили более 48 оценок"
   ]
  },
  {
   "cell_type": "code",
   "execution_count": 10,
   "metadata": {},
   "outputs": [
    {
     "data": {
      "text/html": [
       "<div>\n",
       "<style scoped>\n",
       "    .dataframe tbody tr th:only-of-type {\n",
       "        vertical-align: middle;\n",
       "    }\n",
       "\n",
       "    .dataframe tbody tr th {\n",
       "        vertical-align: top;\n",
       "    }\n",
       "\n",
       "    .dataframe thead th {\n",
       "        text-align: right;\n",
       "    }\n",
       "</style>\n",
       "<table border=\"1\" class=\"dataframe\">\n",
       "  <thead>\n",
       "    <tr style=\"text-align: right;\">\n",
       "      <th></th>\n",
       "      <th>review_avg_count</th>\n",
       "    </tr>\n",
       "  </thead>\n",
       "  <tbody>\n",
       "    <tr>\n",
       "      <th>0</th>\n",
       "      <td>24.0</td>\n",
       "    </tr>\n",
       "  </tbody>\n",
       "</table>\n",
       "</div>"
      ],
      "text/plain": [
       "   review_avg_count\n",
       "0              24.0"
      ]
     },
     "metadata": {},
     "output_type": "display_data"
    }
   ],
   "source": [
    "review_avg_count = '''\n",
    "WITH user_review_count AS (SELECT username, COUNT(review_id) AS review_count\n",
    "                        FROM reviews\n",
    "                        WHERE username IN (SELECT username\n",
    "                        FROM ratings\n",
    "                        GROUP BY username\n",
    "                        HAVING COUNT(username) > 48)\n",
    "                        GROUP BY username)\n",
    "\n",
    "SELECT AVG(user_review_count.review_count) AS review_avg_count\n",
    "FROM user_review_count\n",
    "'''\n",
    "display(get_sql_data(review_avg_count))"
   ]
  },
  {
   "cell_type": "markdown",
   "metadata": {},
   "source": [
    "В среднем пользователи, которые ставят более 48 оценок, пишут по 24 отзыва."
   ]
  },
  {
   "cell_type": "markdown",
   "metadata": {},
   "source": [
    " <div class=\"alert alert-success\">\n",
    " <b>👍 Успех:</b> Все верно!\n",
    " </div>"
   ]
  },
  {
   "cell_type": "markdown",
   "metadata": {},
   "source": [
    "## Выводы исследования"
   ]
  },
  {
   "cell_type": "markdown",
   "metadata": {},
   "source": [
    "1. Всего в базе данных собрана информация о 1000 книгах, 819 из которых изданы после 1 января 2000 года.\n",
    "2. Книга с наибольшим количеством пользовательских обзоров - \"**Сумерки**\", на которую писали ревью 7 раз. Также в базе есть 6 книг без обзора. Для 44 книг отмечен наивысший рейтинг (5.0), включая книгу, на которую в базе нет ни одного обзора.\n",
    "3. В топе издательств, выпустивших самое большое количество книг объемом более 50 страниц - **Penguin Books** (42 книги). Далее со значительным отрывом следуют издательства Vintage (31 книга), Grand Central Publishing (25 книг) и Penguin Classics (24 книги).\n",
    "4. Автором с наиболее высокой средней оценкой книг среди тех, которые пользователи оценивали 50 и более раз, является **Джоан Роулинг**. Средний рейтинг ее работ составляет 4.28. Помимо автора-лидера, в перечень авторов со средним рейтингом выше 4.0 входят Маркус Зусак, Дж.Р.Р. Толкин, Луиза Мэй Олкотт и Рик Риордан.\n",
    "5. В среднем пользователи, которые ставят более 48 оценок, пишут по 24 отзыва."
   ]
  }
 ],
 "metadata": {
  "ExecuteTimeLog": [
   {
    "duration": 72,
    "start_time": "2024-07-10T08:57:09.733Z"
   },
   {
    "duration": 84,
    "start_time": "2024-07-10T09:00:06.970Z"
   },
   {
    "duration": 76,
    "start_time": "2024-07-10T09:01:41.001Z"
   },
   {
    "duration": 73,
    "start_time": "2024-07-10T09:01:52.998Z"
   },
   {
    "duration": 60,
    "start_time": "2024-07-10T09:02:01.642Z"
   },
   {
    "duration": 1088,
    "start_time": "2024-07-10T09:04:07.147Z"
   },
   {
    "duration": 1088,
    "start_time": "2024-07-10T09:04:20.770Z"
   },
   {
    "duration": 1101,
    "start_time": "2024-07-10T09:04:37.940Z"
   },
   {
    "duration": 494,
    "start_time": "2024-07-10T09:07:06.623Z"
   },
   {
    "duration": 2,
    "start_time": "2024-07-10T09:07:17.616Z"
   },
   {
    "duration": 7216,
    "start_time": "2024-07-10T09:07:28.471Z"
   },
   {
    "duration": 66,
    "start_time": "2024-07-10T09:07:44.407Z"
   },
   {
    "duration": 68,
    "start_time": "2024-07-10T09:07:55.000Z"
   },
   {
    "duration": 3,
    "start_time": "2024-07-10T09:08:39.881Z"
   },
   {
    "duration": 2,
    "start_time": "2024-07-10T09:08:58.551Z"
   },
   {
    "duration": 61,
    "start_time": "2024-07-10T09:10:36.216Z"
   },
   {
    "duration": 33,
    "start_time": "2024-07-10T09:13:53.210Z"
   },
   {
    "duration": 50,
    "start_time": "2024-07-10T09:23:33.353Z"
   },
   {
    "duration": 73,
    "start_time": "2024-07-10T09:24:06.995Z"
   },
   {
    "duration": 11,
    "start_time": "2024-07-10T09:26:09.190Z"
   },
   {
    "duration": 8,
    "start_time": "2024-07-10T09:26:22.968Z"
   },
   {
    "duration": 106,
    "start_time": "2024-07-10T09:26:32.037Z"
   },
   {
    "duration": 22,
    "start_time": "2024-07-10T09:35:19.260Z"
   },
   {
    "duration": 8,
    "start_time": "2024-07-10T09:35:35.527Z"
   },
   {
    "duration": 8,
    "start_time": "2024-07-10T09:35:47.173Z"
   },
   {
    "duration": 9,
    "start_time": "2024-07-10T09:36:33.868Z"
   },
   {
    "duration": 911,
    "start_time": "2024-07-10T09:37:02.101Z"
   },
   {
    "duration": 7,
    "start_time": "2024-07-10T09:37:19.151Z"
   },
   {
    "duration": 9,
    "start_time": "2024-07-10T09:37:26.093Z"
   },
   {
    "duration": 8,
    "start_time": "2024-07-10T09:37:34.035Z"
   },
   {
    "duration": 26,
    "start_time": "2024-07-10T10:26:01.802Z"
   },
   {
    "duration": 24,
    "start_time": "2024-07-10T10:26:12.810Z"
   },
   {
    "duration": 24,
    "start_time": "2024-07-10T10:26:38.848Z"
   },
   {
    "duration": 25,
    "start_time": "2024-07-10T10:28:46.298Z"
   },
   {
    "duration": 25,
    "start_time": "2024-07-10T10:28:53.620Z"
   },
   {
    "duration": 25,
    "start_time": "2024-07-10T10:31:21.366Z"
   },
   {
    "duration": 22,
    "start_time": "2024-07-10T10:36:55.260Z"
   },
   {
    "duration": 22,
    "start_time": "2024-07-10T10:37:30.058Z"
   },
   {
    "duration": 21,
    "start_time": "2024-07-10T10:37:43.392Z"
   },
   {
    "duration": 26,
    "start_time": "2024-07-10T10:38:08.839Z"
   },
   {
    "duration": 25,
    "start_time": "2024-07-10T10:42:14.713Z"
   },
   {
    "duration": 24,
    "start_time": "2024-07-10T10:42:31.487Z"
   },
   {
    "duration": 23,
    "start_time": "2024-07-10T10:44:47.832Z"
   },
   {
    "duration": 25,
    "start_time": "2024-07-10T10:44:53.198Z"
   },
   {
    "duration": 24,
    "start_time": "2024-07-10T10:45:02.232Z"
   },
   {
    "duration": 23,
    "start_time": "2024-07-10T10:46:44.192Z"
   },
   {
    "duration": 24,
    "start_time": "2024-07-10T10:48:37.682Z"
   },
   {
    "duration": 24,
    "start_time": "2024-07-10T10:58:41.917Z"
   },
   {
    "duration": 19,
    "start_time": "2024-07-10T10:59:27.414Z"
   },
   {
    "duration": 20,
    "start_time": "2024-07-10T11:00:10.697Z"
   },
   {
    "duration": 10,
    "start_time": "2024-07-10T11:00:54.203Z"
   },
   {
    "duration": 10,
    "start_time": "2024-07-10T11:01:36.961Z"
   },
   {
    "duration": 11,
    "start_time": "2024-07-10T11:02:11.974Z"
   },
   {
    "duration": 10,
    "start_time": "2024-07-10T11:02:50.041Z"
   },
   {
    "duration": 10,
    "start_time": "2024-07-10T11:03:07.506Z"
   },
   {
    "duration": 11,
    "start_time": "2024-07-10T11:14:30.101Z"
   },
   {
    "duration": 10,
    "start_time": "2024-07-10T11:14:37.597Z"
   },
   {
    "duration": 22,
    "start_time": "2024-07-10T11:36:37.224Z"
   },
   {
    "duration": 20,
    "start_time": "2024-07-10T11:37:26.121Z"
   },
   {
    "duration": 20,
    "start_time": "2024-07-10T11:38:16.989Z"
   },
   {
    "duration": 23,
    "start_time": "2024-07-10T11:39:03.414Z"
   },
   {
    "duration": 22,
    "start_time": "2024-07-10T11:40:03.525Z"
   },
   {
    "duration": 20,
    "start_time": "2024-07-10T11:40:10.898Z"
   },
   {
    "duration": 20,
    "start_time": "2024-07-10T11:40:55.184Z"
   },
   {
    "duration": 21,
    "start_time": "2024-07-10T11:43:36.284Z"
   },
   {
    "duration": 20,
    "start_time": "2024-07-10T11:43:50.132Z"
   },
   {
    "duration": 15,
    "start_time": "2024-07-10T11:44:17.080Z"
   },
   {
    "duration": 10,
    "start_time": "2024-07-10T11:44:44.695Z"
   },
   {
    "duration": 10,
    "start_time": "2024-07-10T11:47:56.529Z"
   },
   {
    "duration": 11,
    "start_time": "2024-07-10T11:49:03.667Z"
   },
   {
    "duration": 18,
    "start_time": "2024-07-10T11:56:30.213Z"
   },
   {
    "duration": 22,
    "start_time": "2024-07-10T11:57:41.833Z"
   },
   {
    "duration": 19,
    "start_time": "2024-07-10T11:58:17.773Z"
   },
   {
    "duration": 19,
    "start_time": "2024-07-10T11:59:00.490Z"
   },
   {
    "duration": 19,
    "start_time": "2024-07-10T11:59:12.954Z"
   },
   {
    "duration": 19,
    "start_time": "2024-07-10T11:59:46.593Z"
   },
   {
    "duration": 12,
    "start_time": "2024-07-10T12:00:04.632Z"
   },
   {
    "duration": 18,
    "start_time": "2024-07-10T12:01:51.508Z"
   },
   {
    "duration": 12,
    "start_time": "2024-07-10T12:01:57.712Z"
   },
   {
    "duration": 19,
    "start_time": "2024-07-10T12:08:52.448Z"
   },
   {
    "duration": 19,
    "start_time": "2024-07-10T12:09:01.710Z"
   },
   {
    "duration": 20,
    "start_time": "2024-07-10T12:09:14.450Z"
   },
   {
    "duration": 32,
    "start_time": "2024-07-10T12:09:59.736Z"
   },
   {
    "duration": 14,
    "start_time": "2024-07-10T12:10:08.903Z"
   },
   {
    "duration": 14,
    "start_time": "2024-07-10T12:12:39.106Z"
   },
   {
    "duration": 16,
    "start_time": "2024-07-10T12:12:52.070Z"
   },
   {
    "duration": 12,
    "start_time": "2024-07-10T12:13:12.461Z"
   },
   {
    "duration": 12,
    "start_time": "2024-07-10T12:49:26.702Z"
   },
   {
    "duration": 18,
    "start_time": "2024-07-10T13:07:13.258Z"
   },
   {
    "duration": 15,
    "start_time": "2024-07-10T13:08:11.339Z"
   },
   {
    "duration": 14,
    "start_time": "2024-07-10T13:09:28.214Z"
   },
   {
    "duration": 20,
    "start_time": "2024-07-10T13:11:23.228Z"
   },
   {
    "duration": 14,
    "start_time": "2024-07-10T13:26:01.407Z"
   },
   {
    "duration": 19,
    "start_time": "2024-07-10T13:26:21.543Z"
   },
   {
    "duration": 19,
    "start_time": "2024-07-10T13:30:16.303Z"
   },
   {
    "duration": 20,
    "start_time": "2024-07-10T13:31:25.433Z"
   },
   {
    "duration": 13,
    "start_time": "2024-07-10T13:32:03.362Z"
   },
   {
    "duration": 20,
    "start_time": "2024-07-10T13:32:20.502Z"
   },
   {
    "duration": 13,
    "start_time": "2024-07-10T13:32:42.349Z"
   },
   {
    "duration": 19,
    "start_time": "2024-07-10T13:34:35.408Z"
   },
   {
    "duration": 14,
    "start_time": "2024-07-10T13:36:12.046Z"
   },
   {
    "duration": 11,
    "start_time": "2024-07-10T13:37:43.056Z"
   },
   {
    "duration": 11,
    "start_time": "2024-07-10T13:39:43.066Z"
   },
   {
    "duration": 66,
    "start_time": "2024-07-10T13:43:00.339Z"
   },
   {
    "duration": 515,
    "start_time": "2024-07-10T14:25:15.179Z"
   },
   {
    "duration": 3,
    "start_time": "2024-07-10T14:25:15.696Z"
   },
   {
    "duration": 7065,
    "start_time": "2024-07-10T14:25:15.700Z"
   },
   {
    "duration": 3,
    "start_time": "2024-07-10T14:25:22.767Z"
   },
   {
    "duration": 143,
    "start_time": "2024-07-10T14:25:22.772Z"
   },
   {
    "duration": 9,
    "start_time": "2024-07-10T14:25:22.916Z"
   },
   {
    "duration": 24,
    "start_time": "2024-07-10T14:25:22.926Z"
   },
   {
    "duration": 11,
    "start_time": "2024-07-10T14:25:22.951Z"
   },
   {
    "duration": 33,
    "start_time": "2024-07-10T14:25:22.963Z"
   },
   {
    "duration": 20,
    "start_time": "2024-07-10T14:25:22.997Z"
   },
   {
    "duration": 11,
    "start_time": "2024-07-10T14:26:40.520Z"
   },
   {
    "duration": 525,
    "start_time": "2024-07-10T14:27:37.517Z"
   },
   {
    "duration": 3,
    "start_time": "2024-07-10T14:27:38.044Z"
   },
   {
    "duration": 7777,
    "start_time": "2024-07-10T14:27:38.048Z"
   },
   {
    "duration": 4,
    "start_time": "2024-07-10T14:27:45.826Z"
   },
   {
    "duration": 144,
    "start_time": "2024-07-10T14:27:45.832Z"
   },
   {
    "duration": 10,
    "start_time": "2024-07-10T14:27:45.978Z"
   },
   {
    "duration": 23,
    "start_time": "2024-07-10T14:27:45.990Z"
   },
   {
    "duration": 12,
    "start_time": "2024-07-10T14:27:46.019Z"
   },
   {
    "duration": 15,
    "start_time": "2024-07-10T14:27:46.032Z"
   },
   {
    "duration": 12,
    "start_time": "2024-07-10T14:27:46.049Z"
   },
   {
    "duration": 509,
    "start_time": "2024-07-10T20:48:47.048Z"
   },
   {
    "duration": 4,
    "start_time": "2024-07-10T20:48:47.558Z"
   },
   {
    "duration": 6996,
    "start_time": "2024-07-10T20:48:47.564Z"
   },
   {
    "duration": 3,
    "start_time": "2024-07-10T20:48:54.562Z"
   },
   {
    "duration": 575,
    "start_time": "2024-07-10T20:48:54.567Z"
   },
   {
    "duration": 52,
    "start_time": "2024-07-10T20:48:55.143Z"
   },
   {
    "duration": 65,
    "start_time": "2024-07-10T20:48:55.197Z"
   },
   {
    "duration": 60,
    "start_time": "2024-07-10T20:48:55.264Z"
   },
   {
    "duration": 57,
    "start_time": "2024-07-10T20:48:55.326Z"
   },
   {
    "duration": 54,
    "start_time": "2024-07-10T20:48:55.385Z"
   },
   {
    "duration": 480,
    "start_time": "2024-07-10T21:26:28.816Z"
   },
   {
    "duration": 3,
    "start_time": "2024-07-10T21:26:29.298Z"
   },
   {
    "duration": 7351,
    "start_time": "2024-07-10T21:26:29.302Z"
   },
   {
    "duration": 3,
    "start_time": "2024-07-10T21:26:36.655Z"
   },
   {
    "duration": 524,
    "start_time": "2024-07-10T21:26:36.660Z"
   },
   {
    "duration": 51,
    "start_time": "2024-07-10T21:26:37.185Z"
   },
   {
    "duration": 69,
    "start_time": "2024-07-10T21:26:37.238Z"
   },
   {
    "duration": 55,
    "start_time": "2024-07-10T21:26:37.309Z"
   },
   {
    "duration": 57,
    "start_time": "2024-07-10T21:26:37.365Z"
   },
   {
    "duration": 53,
    "start_time": "2024-07-10T21:26:37.424Z"
   }
  ],
  "kernelspec": {
   "display_name": "Python 3 (ipykernel)",
   "language": "python",
   "name": "python3"
  },
  "language_info": {
   "codemirror_mode": {
    "name": "ipython",
    "version": 3
   },
   "file_extension": ".py",
   "mimetype": "text/x-python",
   "name": "python",
   "nbconvert_exporter": "python",
   "pygments_lexer": "ipython3",
   "version": "3.9.5"
  },
  "toc": {
   "base_numbering": 1,
   "nav_menu": {},
   "number_sections": true,
   "sideBar": true,
   "skip_h1_title": true,
   "title_cell": "Table of Contents",
   "title_sidebar": "Contents",
   "toc_cell": false,
   "toc_position": {},
   "toc_section_display": true,
   "toc_window_display": false
  }
 },
 "nbformat": 4,
 "nbformat_minor": 2
}
