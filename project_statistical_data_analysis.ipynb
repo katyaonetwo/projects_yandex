{
 "cells": [
  {
   "cell_type": "markdown",
   "id": "7cf9ea56",
   "metadata": {},
   "source": [
    "# Статистический анализ данных"
   ]
  },
  {
   "cell_type": "markdown",
   "id": "bac82661",
   "metadata": {},
   "source": [
    "**Описание проекта**\n",
    "\n",
    "В рамках проекта проводится исследование сервиса аренды самокатов GoFast. Основа исследования - данные о пользователях сервиса из нескольких городов, а также об их поездках.\n",
    "\n",
    "*Цель проекта*: провести анализ данных и проверить ряд гипотез, способствующих повышению конкурентосопособности компании на рынке кикшеринга.\n",
    "\n",
    "*Особенности работы сервиса*: Чтобы совершать поездки по городу, пользователи сервиса GoFast пользуются мобильным приложением. Сервисом можно пользоваться:\n",
    "\n",
    "- *без подписки:*\n",
    "\n",
    "абонентская плата отсутствует;\\\n",
    "стоимость одной минуты поездки — 8 рублей;\\\n",
    "стоимость старта (начала поездки) — 50 рублей;\n",
    "\n",
    "- *с подпиской Ultra:*\n",
    "\n",
    "абонентская плата — 199 рублей в месяц;\\\n",
    "стоимость одной минуты поездки — 6 рублей;\\\n",
    "стоимость старта — бесплатно."
   ]
  },
  {
   "cell_type": "markdown",
   "id": "3c720107",
   "metadata": {},
   "source": [
    "**Описание исходных данных**\n",
    "\n",
    "В исходных данных есть информация о пользователях, их поездках и подписках, сгруппированных в файлы.\n",
    "\n",
    "*Пользователи — ‘users_go.csv’:*\n",
    "\n",
    "‘user_id’ — уникальный идентификатор пользователя;\\\n",
    "‘name’ — имя пользователя;\\\n",
    "‘age’ — возраст;\\\n",
    "‘city’ — город;\\\n",
    "‘subscription_type’ — тип подписки (free, ultra).\n",
    "\n",
    "*Поездки — ‘rides_go.csv’:*\n",
    "\n",
    "user_id’ — уникальный идентификатор пользователя;\\\n",
    "‘distance’ — расстояние, которое пользователь проехал в текущей сессии (в метрах);\\\n",
    "‘duration’ — продолжительность сессии (в минутах) — время с того момента, как пользователь нажал кнопку «Начать поездку» до момента, как он нажал кнопку «Завершить поездку»;\\\n",
    "‘date’ — дата совершения поездки.\n",
    "\n",
    "*Подписки — ‘subscriptions_go.csv’:*\n",
    "\n",
    "‘subscription_type’ — тип подписки;\\\n",
    "‘minute_price’ — стоимость одной минуты поездки по данной подписке;\\\n",
    "‘start_ride_price’ — стоимость начала поездки;\\\n",
    "‘subscription_fee’ — стоимость ежемесячного платежа."
   ]
  },
  {
   "cell_type": "markdown",
   "id": "5368bcd3",
   "metadata": {},
   "source": [
    "**Цели исследования**\n",
    "1. Изучить следующие параметры: \n",
    "* Пользователи: возраст, город, тип подписки пользователей;\n",
    "* Поездки: расстояние, длительность, дата поездки;\n",
    "* Подписки: стоимость одной минуты пооздки, стоимость начала поездки, стоимость ежемесячного платежа.\n",
    "2. Произвести предобработку данных: корректировка типов данных, поиск пропусков, дубликатов, выбивающихся значений.\n",
    "3. Добавить в датафрейм \"Поездки\" новый столбец, содержащий информацию о номере месяца, когда была совершена поездка.\n",
    "4. Изучить, визуализировать и описать обнаруженные особенности для следующих параметров:\n",
    "* частота встречаемости городов;\n",
    "* соотношение пользователей с подпиской и без подписки;\n",
    "* возраст пользователей;\n",
    "* расстояние, которое пользователь преодолел за одну поездку;\n",
    "* продолжительность поездок.\n",
    "5. Сформировать объединенный датафрейм, содержащий в себе информацию из датафреймов \"Пользователи\", \"Поездки\", \"Подписки\" в разрезе каждого уникального пользователя о совершенных поездках.\n",
    "6. Сруппировать данные о пользователях в 2 датафрейма в зависимости от типа подписки (с подпиской и без).\n",
    "7. Визуализировать данные о расстоянии и времени поездок для пользователей с подпиской и без. Сделать выводы по выявленным закономерностям.\n",
    "8. Произвести расчет суммарного расстояния, количества поездок и суммарного времени для каждого пользователя за каждый месяц.\n",
    "9. Рассчитать помесячную выручку, которую принёс каждый пользователь.\n",
    "10. Провести проверку следующих гипотез:\n",
    "* Тратят ли пользователи с подпиской больше времени на поездки?\n",
    "* Можно ли сказать, что среднее расстояние, которое проезжают пользователи с подпиской за одну поездку, не превышает 3130 метров?\n",
    "* Будет ли помесячная выручка от пользователей с подпиской по месяцам выше, чем выручка от пользователей без подписки?\n",
    "11. Подготовить итоговые выводы исследования."
   ]
  },
  {
   "cell_type": "markdown",
   "id": "c42cbe00",
   "metadata": {},
   "source": [
    "## Загрузка данных"
   ]
  },
  {
   "cell_type": "code",
   "execution_count": 1,
   "id": "72576667",
   "metadata": {},
   "outputs": [],
   "source": [
    "# импортируем библиотеки\n",
    "import pandas as pd\n",
    "import numpy as np\n",
    "import matplotlib.pyplot as plt\n",
    "from scipy import stats as st"
   ]
  },
  {
   "cell_type": "code",
   "execution_count": 2,
   "id": "eff9f206",
   "metadata": {},
   "outputs": [],
   "source": [
    "#Cоздаем 3 датафрейма с данными о пользователях, поездках и подписках\n",
    "#Присваиваем значения загруженных датасетов для переменных\n",
    "df_users = pd.read_csv('/datasets/users_go.csv') #далее - датафрейм \"Пользователи\"\n",
    "df_rides = pd.read_csv('/datasets/rides_go.csv') #далее - датафрейм \"Поездки\"\n",
    "df_subs = pd.read_csv('/datasets/subscriptions_go.csv') #далее - датафрейм \"Подписки\""
   ]
  },
  {
   "cell_type": "code",
   "execution_count": 3,
   "id": "bbdf2e78",
   "metadata": {},
   "outputs": [
    {
     "data": {
      "text/html": [
       "<div>\n",
       "<style scoped>\n",
       "    .dataframe tbody tr th:only-of-type {\n",
       "        vertical-align: middle;\n",
       "    }\n",
       "\n",
       "    .dataframe tbody tr th {\n",
       "        vertical-align: top;\n",
       "    }\n",
       "\n",
       "    .dataframe thead th {\n",
       "        text-align: right;\n",
       "    }\n",
       "</style>\n",
       "<table border=\"1\" class=\"dataframe\">\n",
       "  <thead>\n",
       "    <tr style=\"text-align: right;\">\n",
       "      <th></th>\n",
       "      <th>user_id</th>\n",
       "      <th>name</th>\n",
       "      <th>age</th>\n",
       "      <th>city</th>\n",
       "      <th>subscription_type</th>\n",
       "    </tr>\n",
       "  </thead>\n",
       "  <tbody>\n",
       "    <tr>\n",
       "      <th>0</th>\n",
       "      <td>1</td>\n",
       "      <td>Кира</td>\n",
       "      <td>22</td>\n",
       "      <td>Тюмень</td>\n",
       "      <td>ultra</td>\n",
       "    </tr>\n",
       "    <tr>\n",
       "      <th>1</th>\n",
       "      <td>2</td>\n",
       "      <td>Станислав</td>\n",
       "      <td>31</td>\n",
       "      <td>Омск</td>\n",
       "      <td>ultra</td>\n",
       "    </tr>\n",
       "    <tr>\n",
       "      <th>2</th>\n",
       "      <td>3</td>\n",
       "      <td>Алексей</td>\n",
       "      <td>20</td>\n",
       "      <td>Москва</td>\n",
       "      <td>ultra</td>\n",
       "    </tr>\n",
       "    <tr>\n",
       "      <th>3</th>\n",
       "      <td>4</td>\n",
       "      <td>Константин</td>\n",
       "      <td>26</td>\n",
       "      <td>Ростов-на-Дону</td>\n",
       "      <td>ultra</td>\n",
       "    </tr>\n",
       "    <tr>\n",
       "      <th>4</th>\n",
       "      <td>5</td>\n",
       "      <td>Адель</td>\n",
       "      <td>28</td>\n",
       "      <td>Омск</td>\n",
       "      <td>ultra</td>\n",
       "    </tr>\n",
       "    <tr>\n",
       "      <th>5</th>\n",
       "      <td>6</td>\n",
       "      <td>Регина</td>\n",
       "      <td>25</td>\n",
       "      <td>Краснодар</td>\n",
       "      <td>ultra</td>\n",
       "    </tr>\n",
       "    <tr>\n",
       "      <th>6</th>\n",
       "      <td>7</td>\n",
       "      <td>Игорь</td>\n",
       "      <td>23</td>\n",
       "      <td>Омск</td>\n",
       "      <td>ultra</td>\n",
       "    </tr>\n",
       "    <tr>\n",
       "      <th>7</th>\n",
       "      <td>8</td>\n",
       "      <td>Юрий</td>\n",
       "      <td>23</td>\n",
       "      <td>Краснодар</td>\n",
       "      <td>ultra</td>\n",
       "    </tr>\n",
       "    <tr>\n",
       "      <th>8</th>\n",
       "      <td>9</td>\n",
       "      <td>Ян</td>\n",
       "      <td>21</td>\n",
       "      <td>Пятигорск</td>\n",
       "      <td>ultra</td>\n",
       "    </tr>\n",
       "    <tr>\n",
       "      <th>9</th>\n",
       "      <td>10</td>\n",
       "      <td>Валерий</td>\n",
       "      <td>18</td>\n",
       "      <td>Екатеринбург</td>\n",
       "      <td>ultra</td>\n",
       "    </tr>\n",
       "  </tbody>\n",
       "</table>\n",
       "</div>"
      ],
      "text/plain": [
       "   user_id        name  age            city subscription_type\n",
       "0        1        Кира   22          Тюмень             ultra\n",
       "1        2   Станислав   31            Омск             ultra\n",
       "2        3     Алексей   20          Москва             ultra\n",
       "3        4  Константин   26  Ростов-на-Дону             ultra\n",
       "4        5       Адель   28            Омск             ultra\n",
       "5        6      Регина   25       Краснодар             ultra\n",
       "6        7       Игорь   23            Омск             ultra\n",
       "7        8        Юрий   23       Краснодар             ultra\n",
       "8        9          Ян   21       Пятигорск             ultra\n",
       "9       10     Валерий   18    Екатеринбург             ultra"
      ]
     },
     "metadata": {},
     "output_type": "display_data"
    },
    {
     "data": {
      "text/html": [
       "<div>\n",
       "<style scoped>\n",
       "    .dataframe tbody tr th:only-of-type {\n",
       "        vertical-align: middle;\n",
       "    }\n",
       "\n",
       "    .dataframe tbody tr th {\n",
       "        vertical-align: top;\n",
       "    }\n",
       "\n",
       "    .dataframe thead th {\n",
       "        text-align: right;\n",
       "    }\n",
       "</style>\n",
       "<table border=\"1\" class=\"dataframe\">\n",
       "  <thead>\n",
       "    <tr style=\"text-align: right;\">\n",
       "      <th></th>\n",
       "      <th>user_id</th>\n",
       "      <th>name</th>\n",
       "      <th>age</th>\n",
       "      <th>city</th>\n",
       "      <th>subscription_type</th>\n",
       "    </tr>\n",
       "  </thead>\n",
       "  <tbody>\n",
       "    <tr>\n",
       "      <th>1555</th>\n",
       "      <td>72</td>\n",
       "      <td>Никита</td>\n",
       "      <td>25</td>\n",
       "      <td>Москва</td>\n",
       "      <td>ultra</td>\n",
       "    </tr>\n",
       "    <tr>\n",
       "      <th>1556</th>\n",
       "      <td>422</td>\n",
       "      <td>Кирилл</td>\n",
       "      <td>27</td>\n",
       "      <td>Сочи</td>\n",
       "      <td>ultra</td>\n",
       "    </tr>\n",
       "    <tr>\n",
       "      <th>1557</th>\n",
       "      <td>611</td>\n",
       "      <td>Владимир</td>\n",
       "      <td>28</td>\n",
       "      <td>Омск</td>\n",
       "      <td>ultra</td>\n",
       "    </tr>\n",
       "    <tr>\n",
       "      <th>1558</th>\n",
       "      <td>1237</td>\n",
       "      <td>Евгения</td>\n",
       "      <td>23</td>\n",
       "      <td>Тюмень</td>\n",
       "      <td>free</td>\n",
       "    </tr>\n",
       "    <tr>\n",
       "      <th>1559</th>\n",
       "      <td>209</td>\n",
       "      <td>Андрей</td>\n",
       "      <td>23</td>\n",
       "      <td>Омск</td>\n",
       "      <td>ultra</td>\n",
       "    </tr>\n",
       "    <tr>\n",
       "      <th>1560</th>\n",
       "      <td>829</td>\n",
       "      <td>Федор</td>\n",
       "      <td>29</td>\n",
       "      <td>Пятигорск</td>\n",
       "      <td>free</td>\n",
       "    </tr>\n",
       "    <tr>\n",
       "      <th>1561</th>\n",
       "      <td>809</td>\n",
       "      <td>Юрий</td>\n",
       "      <td>26</td>\n",
       "      <td>Сочи</td>\n",
       "      <td>free</td>\n",
       "    </tr>\n",
       "    <tr>\n",
       "      <th>1562</th>\n",
       "      <td>307</td>\n",
       "      <td>Ясмина</td>\n",
       "      <td>19</td>\n",
       "      <td>Краснодар</td>\n",
       "      <td>ultra</td>\n",
       "    </tr>\n",
       "    <tr>\n",
       "      <th>1563</th>\n",
       "      <td>47</td>\n",
       "      <td>Юрий</td>\n",
       "      <td>28</td>\n",
       "      <td>Тюмень</td>\n",
       "      <td>ultra</td>\n",
       "    </tr>\n",
       "    <tr>\n",
       "      <th>1564</th>\n",
       "      <td>1045</td>\n",
       "      <td>Артемий</td>\n",
       "      <td>28</td>\n",
       "      <td>Ростов-на-Дону</td>\n",
       "      <td>free</td>\n",
       "    </tr>\n",
       "  </tbody>\n",
       "</table>\n",
       "</div>"
      ],
      "text/plain": [
       "      user_id      name  age            city subscription_type\n",
       "1555       72    Никита   25          Москва             ultra\n",
       "1556      422    Кирилл   27            Сочи             ultra\n",
       "1557      611  Владимир   28            Омск             ultra\n",
       "1558     1237   Евгения   23          Тюмень              free\n",
       "1559      209    Андрей   23            Омск             ultra\n",
       "1560      829     Федор   29       Пятигорск              free\n",
       "1561      809      Юрий   26            Сочи              free\n",
       "1562      307    Ясмина   19       Краснодар             ultra\n",
       "1563       47      Юрий   28          Тюмень             ultra\n",
       "1564     1045   Артемий   28  Ростов-на-Дону              free"
      ]
     },
     "metadata": {},
     "output_type": "display_data"
    },
    {
     "name": "stdout",
     "output_type": "stream",
     "text": [
      "<class 'pandas.core.frame.DataFrame'>\n",
      "RangeIndex: 1565 entries, 0 to 1564\n",
      "Data columns (total 5 columns):\n",
      " #   Column             Non-Null Count  Dtype \n",
      "---  ------             --------------  ----- \n",
      " 0   user_id            1565 non-null   int64 \n",
      " 1   name               1565 non-null   object\n",
      " 2   age                1565 non-null   int64 \n",
      " 3   city               1565 non-null   object\n",
      " 4   subscription_type  1565 non-null   object\n",
      "dtypes: int64(2), object(3)\n",
      "memory usage: 61.3+ KB\n"
     ]
    },
    {
     "data": {
      "text/html": [
       "<div>\n",
       "<style scoped>\n",
       "    .dataframe tbody tr th:only-of-type {\n",
       "        vertical-align: middle;\n",
       "    }\n",
       "\n",
       "    .dataframe tbody tr th {\n",
       "        vertical-align: top;\n",
       "    }\n",
       "\n",
       "    .dataframe thead th {\n",
       "        text-align: right;\n",
       "    }\n",
       "</style>\n",
       "<table border=\"1\" class=\"dataframe\">\n",
       "  <thead>\n",
       "    <tr style=\"text-align: right;\">\n",
       "      <th></th>\n",
       "      <th>user_id</th>\n",
       "      <th>distance</th>\n",
       "      <th>duration</th>\n",
       "      <th>date</th>\n",
       "    </tr>\n",
       "  </thead>\n",
       "  <tbody>\n",
       "    <tr>\n",
       "      <th>0</th>\n",
       "      <td>1</td>\n",
       "      <td>4409.919140</td>\n",
       "      <td>25.599769</td>\n",
       "      <td>2021-01-01</td>\n",
       "    </tr>\n",
       "    <tr>\n",
       "      <th>1</th>\n",
       "      <td>1</td>\n",
       "      <td>2617.592153</td>\n",
       "      <td>15.816871</td>\n",
       "      <td>2021-01-18</td>\n",
       "    </tr>\n",
       "    <tr>\n",
       "      <th>2</th>\n",
       "      <td>1</td>\n",
       "      <td>754.159807</td>\n",
       "      <td>6.232113</td>\n",
       "      <td>2021-04-20</td>\n",
       "    </tr>\n",
       "    <tr>\n",
       "      <th>3</th>\n",
       "      <td>1</td>\n",
       "      <td>2694.783254</td>\n",
       "      <td>18.511000</td>\n",
       "      <td>2021-08-11</td>\n",
       "    </tr>\n",
       "    <tr>\n",
       "      <th>4</th>\n",
       "      <td>1</td>\n",
       "      <td>4028.687306</td>\n",
       "      <td>26.265803</td>\n",
       "      <td>2021-08-28</td>\n",
       "    </tr>\n",
       "    <tr>\n",
       "      <th>5</th>\n",
       "      <td>1</td>\n",
       "      <td>2770.890808</td>\n",
       "      <td>16.650138</td>\n",
       "      <td>2021-10-09</td>\n",
       "    </tr>\n",
       "    <tr>\n",
       "      <th>6</th>\n",
       "      <td>1</td>\n",
       "      <td>3039.020292</td>\n",
       "      <td>14.927879</td>\n",
       "      <td>2021-10-19</td>\n",
       "    </tr>\n",
       "    <tr>\n",
       "      <th>7</th>\n",
       "      <td>1</td>\n",
       "      <td>2842.118050</td>\n",
       "      <td>23.117468</td>\n",
       "      <td>2021-11-06</td>\n",
       "    </tr>\n",
       "    <tr>\n",
       "      <th>8</th>\n",
       "      <td>1</td>\n",
       "      <td>3412.690668</td>\n",
       "      <td>15.238072</td>\n",
       "      <td>2021-11-14</td>\n",
       "    </tr>\n",
       "    <tr>\n",
       "      <th>9</th>\n",
       "      <td>1</td>\n",
       "      <td>748.690645</td>\n",
       "      <td>15.041884</td>\n",
       "      <td>2021-11-22</td>\n",
       "    </tr>\n",
       "  </tbody>\n",
       "</table>\n",
       "</div>"
      ],
      "text/plain": [
       "   user_id     distance   duration        date\n",
       "0        1  4409.919140  25.599769  2021-01-01\n",
       "1        1  2617.592153  15.816871  2021-01-18\n",
       "2        1   754.159807   6.232113  2021-04-20\n",
       "3        1  2694.783254  18.511000  2021-08-11\n",
       "4        1  4028.687306  26.265803  2021-08-28\n",
       "5        1  2770.890808  16.650138  2021-10-09\n",
       "6        1  3039.020292  14.927879  2021-10-19\n",
       "7        1  2842.118050  23.117468  2021-11-06\n",
       "8        1  3412.690668  15.238072  2021-11-14\n",
       "9        1   748.690645  15.041884  2021-11-22"
      ]
     },
     "metadata": {},
     "output_type": "display_data"
    },
    {
     "data": {
      "text/html": [
       "<div>\n",
       "<style scoped>\n",
       "    .dataframe tbody tr th:only-of-type {\n",
       "        vertical-align: middle;\n",
       "    }\n",
       "\n",
       "    .dataframe tbody tr th {\n",
       "        vertical-align: top;\n",
       "    }\n",
       "\n",
       "    .dataframe thead th {\n",
       "        text-align: right;\n",
       "    }\n",
       "</style>\n",
       "<table border=\"1\" class=\"dataframe\">\n",
       "  <thead>\n",
       "    <tr style=\"text-align: right;\">\n",
       "      <th></th>\n",
       "      <th>user_id</th>\n",
       "      <th>distance</th>\n",
       "      <th>duration</th>\n",
       "      <th>date</th>\n",
       "    </tr>\n",
       "  </thead>\n",
       "  <tbody>\n",
       "    <tr>\n",
       "      <th>18058</th>\n",
       "      <td>1534</td>\n",
       "      <td>195.447469</td>\n",
       "      <td>6.469074</td>\n",
       "      <td>2021-06-11</td>\n",
       "    </tr>\n",
       "    <tr>\n",
       "      <th>18059</th>\n",
       "      <td>1534</td>\n",
       "      <td>3214.021065</td>\n",
       "      <td>18.343604</td>\n",
       "      <td>2021-06-18</td>\n",
       "    </tr>\n",
       "    <tr>\n",
       "      <th>18060</th>\n",
       "      <td>1534</td>\n",
       "      <td>3644.708038</td>\n",
       "      <td>20.289416</td>\n",
       "      <td>2021-08-08</td>\n",
       "    </tr>\n",
       "    <tr>\n",
       "      <th>18061</th>\n",
       "      <td>1534</td>\n",
       "      <td>3977.744996</td>\n",
       "      <td>26.916544</td>\n",
       "      <td>2021-08-20</td>\n",
       "    </tr>\n",
       "    <tr>\n",
       "      <th>18062</th>\n",
       "      <td>1534</td>\n",
       "      <td>4928.173852</td>\n",
       "      <td>22.560373</td>\n",
       "      <td>2021-09-13</td>\n",
       "    </tr>\n",
       "    <tr>\n",
       "      <th>18063</th>\n",
       "      <td>1534</td>\n",
       "      <td>3781.098080</td>\n",
       "      <td>19.822962</td>\n",
       "      <td>2021-11-04</td>\n",
       "    </tr>\n",
       "    <tr>\n",
       "      <th>18064</th>\n",
       "      <td>1534</td>\n",
       "      <td>2840.423057</td>\n",
       "      <td>21.409799</td>\n",
       "      <td>2021-11-16</td>\n",
       "    </tr>\n",
       "    <tr>\n",
       "      <th>18065</th>\n",
       "      <td>1534</td>\n",
       "      <td>3826.185507</td>\n",
       "      <td>18.435051</td>\n",
       "      <td>2021-11-18</td>\n",
       "    </tr>\n",
       "    <tr>\n",
       "      <th>18066</th>\n",
       "      <td>1534</td>\n",
       "      <td>2902.308661</td>\n",
       "      <td>16.674362</td>\n",
       "      <td>2021-11-27</td>\n",
       "    </tr>\n",
       "    <tr>\n",
       "      <th>18067</th>\n",
       "      <td>1534</td>\n",
       "      <td>2371.711192</td>\n",
       "      <td>15.893917</td>\n",
       "      <td>2021-12-29</td>\n",
       "    </tr>\n",
       "  </tbody>\n",
       "</table>\n",
       "</div>"
      ],
      "text/plain": [
       "       user_id     distance   duration        date\n",
       "18058     1534   195.447469   6.469074  2021-06-11\n",
       "18059     1534  3214.021065  18.343604  2021-06-18\n",
       "18060     1534  3644.708038  20.289416  2021-08-08\n",
       "18061     1534  3977.744996  26.916544  2021-08-20\n",
       "18062     1534  4928.173852  22.560373  2021-09-13\n",
       "18063     1534  3781.098080  19.822962  2021-11-04\n",
       "18064     1534  2840.423057  21.409799  2021-11-16\n",
       "18065     1534  3826.185507  18.435051  2021-11-18\n",
       "18066     1534  2902.308661  16.674362  2021-11-27\n",
       "18067     1534  2371.711192  15.893917  2021-12-29"
      ]
     },
     "metadata": {},
     "output_type": "display_data"
    },
    {
     "name": "stdout",
     "output_type": "stream",
     "text": [
      "<class 'pandas.core.frame.DataFrame'>\n",
      "RangeIndex: 18068 entries, 0 to 18067\n",
      "Data columns (total 4 columns):\n",
      " #   Column    Non-Null Count  Dtype  \n",
      "---  ------    --------------  -----  \n",
      " 0   user_id   18068 non-null  int64  \n",
      " 1   distance  18068 non-null  float64\n",
      " 2   duration  18068 non-null  float64\n",
      " 3   date      18068 non-null  object \n",
      "dtypes: float64(2), int64(1), object(1)\n",
      "memory usage: 564.8+ KB\n"
     ]
    },
    {
     "data": {
      "text/html": [
       "<div>\n",
       "<style scoped>\n",
       "    .dataframe tbody tr th:only-of-type {\n",
       "        vertical-align: middle;\n",
       "    }\n",
       "\n",
       "    .dataframe tbody tr th {\n",
       "        vertical-align: top;\n",
       "    }\n",
       "\n",
       "    .dataframe thead th {\n",
       "        text-align: right;\n",
       "    }\n",
       "</style>\n",
       "<table border=\"1\" class=\"dataframe\">\n",
       "  <thead>\n",
       "    <tr style=\"text-align: right;\">\n",
       "      <th></th>\n",
       "      <th>subscription_type</th>\n",
       "      <th>minute_price</th>\n",
       "      <th>start_ride_price</th>\n",
       "      <th>subscription_fee</th>\n",
       "    </tr>\n",
       "  </thead>\n",
       "  <tbody>\n",
       "    <tr>\n",
       "      <th>0</th>\n",
       "      <td>free</td>\n",
       "      <td>8</td>\n",
       "      <td>50</td>\n",
       "      <td>0</td>\n",
       "    </tr>\n",
       "    <tr>\n",
       "      <th>1</th>\n",
       "      <td>ultra</td>\n",
       "      <td>6</td>\n",
       "      <td>0</td>\n",
       "      <td>199</td>\n",
       "    </tr>\n",
       "  </tbody>\n",
       "</table>\n",
       "</div>"
      ],
      "text/plain": [
       "  subscription_type  minute_price  start_ride_price  subscription_fee\n",
       "0              free             8                50                 0\n",
       "1             ultra             6                 0               199"
      ]
     },
     "metadata": {},
     "output_type": "display_data"
    },
    {
     "name": "stdout",
     "output_type": "stream",
     "text": [
      "<class 'pandas.core.frame.DataFrame'>\n",
      "RangeIndex: 2 entries, 0 to 1\n",
      "Data columns (total 4 columns):\n",
      " #   Column             Non-Null Count  Dtype \n",
      "---  ------             --------------  ----- \n",
      " 0   subscription_type  2 non-null      object\n",
      " 1   minute_price       2 non-null      int64 \n",
      " 2   start_ride_price   2 non-null      int64 \n",
      " 3   subscription_fee   2 non-null      int64 \n",
      "dtypes: int64(3), object(1)\n",
      "memory usage: 192.0+ bytes\n"
     ]
    }
   ],
   "source": [
    "#Получаем базовую информацию о датафреймах\n",
    "display(df_users.head(10), df_users.tail(10))\n",
    "df_users.info()\n",
    "\n",
    "display(df_rides.head(10), df_rides.tail(10))\n",
    "df_rides.info()\n",
    "\n",
    "display(df_subs.head())\n",
    "df_subs.info()"
   ]
  },
  {
   "cell_type": "code",
   "execution_count": 4,
   "id": "d4cd2c6e",
   "metadata": {},
   "outputs": [
    {
     "data": {
      "text/plain": [
       "user_id              0\n",
       "name                 0\n",
       "age                  0\n",
       "city                 0\n",
       "subscription_type    0\n",
       "dtype: int64"
      ]
     },
     "metadata": {},
     "output_type": "display_data"
    },
    {
     "data": {
      "text/plain": [
       "user_id     0\n",
       "distance    0\n",
       "duration    0\n",
       "date        0\n",
       "dtype: int64"
      ]
     },
     "metadata": {},
     "output_type": "display_data"
    },
    {
     "data": {
      "text/plain": [
       "subscription_type    0\n",
       "minute_price         0\n",
       "start_ride_price     0\n",
       "subscription_fee     0\n",
       "dtype: int64"
      ]
     },
     "metadata": {},
     "output_type": "display_data"
    }
   ],
   "source": [
    "# Количество пропусков в df_users\n",
    "display(df_users.isna().sum())\n",
    "\n",
    "# Количество пропусков в df_rides\n",
    "display(df_rides.isna().sum())\n",
    "\n",
    "# Количество пропусков в df_subs\n",
    "display(df_subs.isna().sum())"
   ]
  },
  {
   "cell_type": "code",
   "execution_count": 5,
   "id": "1b2e4e26",
   "metadata": {
    "scrolled": true
   },
   "outputs": [
    {
     "name": "stdout",
     "output_type": "stream",
     "text": [
      "Количество явных дубликатов в df_users: 31\n",
      "Количество явных дубликатов в df_rides: 0\n",
      "Количество явных дубликатов в df_subs: 0\n"
     ]
    }
   ],
   "source": [
    "# Количество явных дубликатов\n",
    "print('Количество явных дубликатов в df_users:', df_users.duplicated().sum())\n",
    "print('Количество явных дубликатов в df_rides:', df_rides.duplicated().sum())\n",
    "print('Количество явных дубликатов в df_subs:', df_subs.duplicated().sum())"
   ]
  },
  {
   "cell_type": "code",
   "execution_count": 6,
   "id": "e83d45b7",
   "metadata": {
    "scrolled": true
   },
   "outputs": [
    {
     "name": "stdout",
     "output_type": "stream",
     "text": [
      "209     2\n",
      "807     2\n",
      "611     2\n",
      "43      2\n",
      "737     2\n",
      "47      2\n",
      "1198    2\n",
      "829     2\n",
      "924     2\n",
      "153     2\n",
      "635     2\n",
      "72      2\n",
      "909     2\n",
      "908     2\n",
      "136     2\n",
      "1045    2\n",
      "1237    2\n",
      "127     2\n",
      "659     2\n",
      "307     2\n",
      "1245    2\n",
      "121     2\n",
      "666     2\n",
      "108     2\n",
      "297     2\n",
      "809     2\n",
      "293     2\n",
      "16      2\n",
      "422     2\n",
      "403     2\n",
      "204     2\n",
      "Name: user_id, dtype: int64\n"
     ]
    }
   ],
   "source": [
    "# Проверим столбец 'user_id' в df_users по структуре распределения явных дубликатов\n",
    "print(df_users['user_id'].value_counts().head(31))"
   ]
  },
  {
   "cell_type": "code",
   "execution_count": 7,
   "id": "26ee5afb",
   "metadata": {},
   "outputs": [
    {
     "name": "stdout",
     "output_type": "stream",
     "text": [
      "['ultra' 'free']\n",
      "free     846\n",
      "ultra    719\n",
      "Name: subscription_type, dtype: int64\n"
     ]
    }
   ],
   "source": [
    "# Проверим уникальные типы подписок в датафрейме df_users\n",
    "print(df_users['subscription_type'].unique())\n",
    "print(df_users['subscription_type'].value_counts())"
   ]
  },
  {
   "cell_type": "code",
   "execution_count": 8,
   "id": "79e573f0",
   "metadata": {},
   "outputs": [
    {
     "name": "stdout",
     "output_type": "stream",
     "text": [
      "Список уникальных наименований населенных пунктов: 8\n",
      "Пятигорск         226\n",
      "Екатеринбург      206\n",
      "Ростов-на-Дону    202\n",
      "Краснодар         196\n",
      "Сочи              192\n",
      "Омск              186\n",
      "Тюмень            185\n",
      "Москва            172\n",
      "Name: city, dtype: int64\n"
     ]
    }
   ],
   "source": [
    "# Уникальные наименования населенных пунктов в датафрейме df_users\n",
    "print('Список уникальных наименований населенных пунктов:', len(df_users['city'].unique()))\n",
    "print(df_users['city'].value_counts())"
   ]
  },
  {
   "cell_type": "markdown",
   "id": "37d1dc03",
   "metadata": {},
   "source": [
    "**Первичные итоги ознакомления с данными:**\n",
    "\n",
    "1. Датафрейм \"Пользователи\" содержит информацию по 1565 пользователям сервиса, имеющих 5 характеристик (идентификатор пользователя, имя, город, возраст, а также тип подписки). Найден 31 дубликат среди идентификаторов пользователей.\n",
    "2. Датафрейм \"Поездки\" содержит информацию по 18068 поездкам пользователей с учетом 4 характеристик (идентификатор пользователя, расстояние, продолжительность и дата поездки).\n",
    "3. Датафрейм \"Подписки\" содержит информацию по 2 типам подписок, доступным пользователям в зависимости от выбранной стоимости минут, старта поездки и ежемесячного платежа.\n",
    "4. Во всех датафреймах отсутствуют пропуски. Названия столбцов соответствуют стилю snake_case.\n",
    "5. Определены рекомендации в целях корректировки типов данных по следующим датафреймам:\n",
    "- **Поездки**: 'date' - тип данных можно преобразовать в тип даты и времени (datetime64)."
   ]
  },
  {
   "cell_type": "markdown",
   "id": "e95ebca7",
   "metadata": {},
   "source": [
    "## Предобработка данных"
   ]
  },
  {
   "cell_type": "markdown",
   "id": "31707f78",
   "metadata": {},
   "source": [
    "Начнем с обработки явных дубликатов и корректировки типов данных в соответствии с предложенными рекомендациями."
   ]
  },
  {
   "cell_type": "code",
   "execution_count": 9,
   "id": "97910bd2",
   "metadata": {},
   "outputs": [
    {
     "name": "stdout",
     "output_type": "stream",
     "text": [
      "Количество явных дубликатов в df_users: 0\n",
      "Количество уникальных идентификаторов пользователей: 1534\n"
     ]
    }
   ],
   "source": [
    "#Удаляем явные дубликаты в датафрейме 'df_users'\n",
    "df_users = df_users.drop_duplicates()\n",
    "print('Количество явных дубликатов в df_users:', df_users.duplicated().sum())\n",
    "print('Количество уникальных идентификаторов пользователей:', df_users['user_id'].nunique())"
   ]
  },
  {
   "cell_type": "code",
   "execution_count": 10,
   "id": "af6d202c",
   "metadata": {},
   "outputs": [],
   "source": [
    "# Корректировка столбца 'date' в датафейме 'df_rides'\n",
    "df_rides['date'] = pd.to_datetime(df_rides['date'], format='%Y-%m-%d')"
   ]
  },
  {
   "cell_type": "markdown",
   "id": "b7de5647",
   "metadata": {},
   "source": [
    "Добавляем новый столбец с номером месяца на основе столбца 'date' в датафрейме **\"Поездки\"**."
   ]
  },
  {
   "cell_type": "code",
   "execution_count": 11,
   "id": "719b9b11",
   "metadata": {
    "scrolled": true
   },
   "outputs": [],
   "source": [
    "#Создаем новый столбец с номером месяца на основе столбца 'date' в датафрейме df_rides\n",
    "df_rides['month'] = pd.DatetimeIndex(df_rides['date']).month"
   ]
  },
  {
   "cell_type": "markdown",
   "id": "e99b459f",
   "metadata": {},
   "source": [
    "Проверим **результаты** предобработки данных."
   ]
  },
  {
   "cell_type": "code",
   "execution_count": 12,
   "id": "2aa97608",
   "metadata": {},
   "outputs": [
    {
     "name": "stdout",
     "output_type": "stream",
     "text": [
      "<class 'pandas.core.frame.DataFrame'>\n",
      "Int64Index: 1534 entries, 0 to 1533\n",
      "Data columns (total 5 columns):\n",
      " #   Column             Non-Null Count  Dtype \n",
      "---  ------             --------------  ----- \n",
      " 0   user_id            1534 non-null   int64 \n",
      " 1   name               1534 non-null   object\n",
      " 2   age                1534 non-null   int64 \n",
      " 3   city               1534 non-null   object\n",
      " 4   subscription_type  1534 non-null   object\n",
      "dtypes: int64(2), object(3)\n",
      "memory usage: 71.9+ KB\n"
     ]
    },
    {
     "data": {
      "text/html": [
       "<div>\n",
       "<style scoped>\n",
       "    .dataframe tbody tr th:only-of-type {\n",
       "        vertical-align: middle;\n",
       "    }\n",
       "\n",
       "    .dataframe tbody tr th {\n",
       "        vertical-align: top;\n",
       "    }\n",
       "\n",
       "    .dataframe thead th {\n",
       "        text-align: right;\n",
       "    }\n",
       "</style>\n",
       "<table border=\"1\" class=\"dataframe\">\n",
       "  <thead>\n",
       "    <tr style=\"text-align: right;\">\n",
       "      <th></th>\n",
       "      <th>user_id</th>\n",
       "      <th>name</th>\n",
       "      <th>age</th>\n",
       "      <th>city</th>\n",
       "      <th>subscription_type</th>\n",
       "    </tr>\n",
       "  </thead>\n",
       "  <tbody>\n",
       "    <tr>\n",
       "      <th>0</th>\n",
       "      <td>1</td>\n",
       "      <td>Кира</td>\n",
       "      <td>22</td>\n",
       "      <td>Тюмень</td>\n",
       "      <td>ultra</td>\n",
       "    </tr>\n",
       "    <tr>\n",
       "      <th>1</th>\n",
       "      <td>2</td>\n",
       "      <td>Станислав</td>\n",
       "      <td>31</td>\n",
       "      <td>Омск</td>\n",
       "      <td>ultra</td>\n",
       "    </tr>\n",
       "    <tr>\n",
       "      <th>2</th>\n",
       "      <td>3</td>\n",
       "      <td>Алексей</td>\n",
       "      <td>20</td>\n",
       "      <td>Москва</td>\n",
       "      <td>ultra</td>\n",
       "    </tr>\n",
       "    <tr>\n",
       "      <th>3</th>\n",
       "      <td>4</td>\n",
       "      <td>Константин</td>\n",
       "      <td>26</td>\n",
       "      <td>Ростов-на-Дону</td>\n",
       "      <td>ultra</td>\n",
       "    </tr>\n",
       "    <tr>\n",
       "      <th>4</th>\n",
       "      <td>5</td>\n",
       "      <td>Адель</td>\n",
       "      <td>28</td>\n",
       "      <td>Омск</td>\n",
       "      <td>ultra</td>\n",
       "    </tr>\n",
       "  </tbody>\n",
       "</table>\n",
       "</div>"
      ],
      "text/plain": [
       "   user_id        name  age            city subscription_type\n",
       "0        1        Кира   22          Тюмень             ultra\n",
       "1        2   Станислав   31            Омск             ultra\n",
       "2        3     Алексей   20          Москва             ultra\n",
       "3        4  Константин   26  Ростов-на-Дону             ultra\n",
       "4        5       Адель   28            Омск             ultra"
      ]
     },
     "execution_count": 12,
     "metadata": {},
     "output_type": "execute_result"
    }
   ],
   "source": [
    "# Датафрейм df_users\n",
    "df_users.info()\n",
    "df_users.head()"
   ]
  },
  {
   "cell_type": "code",
   "execution_count": 13,
   "id": "6c64073a",
   "metadata": {},
   "outputs": [
    {
     "name": "stdout",
     "output_type": "stream",
     "text": [
      "<class 'pandas.core.frame.DataFrame'>\n",
      "RangeIndex: 18068 entries, 0 to 18067\n",
      "Data columns (total 5 columns):\n",
      " #   Column    Non-Null Count  Dtype         \n",
      "---  ------    --------------  -----         \n",
      " 0   user_id   18068 non-null  int64         \n",
      " 1   distance  18068 non-null  float64       \n",
      " 2   duration  18068 non-null  float64       \n",
      " 3   date      18068 non-null  datetime64[ns]\n",
      " 4   month     18068 non-null  int64         \n",
      "dtypes: datetime64[ns](1), float64(2), int64(2)\n",
      "memory usage: 705.9 KB\n"
     ]
    },
    {
     "data": {
      "text/html": [
       "<div>\n",
       "<style scoped>\n",
       "    .dataframe tbody tr th:only-of-type {\n",
       "        vertical-align: middle;\n",
       "    }\n",
       "\n",
       "    .dataframe tbody tr th {\n",
       "        vertical-align: top;\n",
       "    }\n",
       "\n",
       "    .dataframe thead th {\n",
       "        text-align: right;\n",
       "    }\n",
       "</style>\n",
       "<table border=\"1\" class=\"dataframe\">\n",
       "  <thead>\n",
       "    <tr style=\"text-align: right;\">\n",
       "      <th></th>\n",
       "      <th>user_id</th>\n",
       "      <th>distance</th>\n",
       "      <th>duration</th>\n",
       "      <th>date</th>\n",
       "      <th>month</th>\n",
       "    </tr>\n",
       "  </thead>\n",
       "  <tbody>\n",
       "    <tr>\n",
       "      <th>0</th>\n",
       "      <td>1</td>\n",
       "      <td>4409.919140</td>\n",
       "      <td>25.599769</td>\n",
       "      <td>2021-01-01</td>\n",
       "      <td>1</td>\n",
       "    </tr>\n",
       "    <tr>\n",
       "      <th>1</th>\n",
       "      <td>1</td>\n",
       "      <td>2617.592153</td>\n",
       "      <td>15.816871</td>\n",
       "      <td>2021-01-18</td>\n",
       "      <td>1</td>\n",
       "    </tr>\n",
       "    <tr>\n",
       "      <th>2</th>\n",
       "      <td>1</td>\n",
       "      <td>754.159807</td>\n",
       "      <td>6.232113</td>\n",
       "      <td>2021-04-20</td>\n",
       "      <td>4</td>\n",
       "    </tr>\n",
       "    <tr>\n",
       "      <th>3</th>\n",
       "      <td>1</td>\n",
       "      <td>2694.783254</td>\n",
       "      <td>18.511000</td>\n",
       "      <td>2021-08-11</td>\n",
       "      <td>8</td>\n",
       "    </tr>\n",
       "    <tr>\n",
       "      <th>4</th>\n",
       "      <td>1</td>\n",
       "      <td>4028.687306</td>\n",
       "      <td>26.265803</td>\n",
       "      <td>2021-08-28</td>\n",
       "      <td>8</td>\n",
       "    </tr>\n",
       "  </tbody>\n",
       "</table>\n",
       "</div>"
      ],
      "text/plain": [
       "   user_id     distance   duration       date  month\n",
       "0        1  4409.919140  25.599769 2021-01-01      1\n",
       "1        1  2617.592153  15.816871 2021-01-18      1\n",
       "2        1   754.159807   6.232113 2021-04-20      4\n",
       "3        1  2694.783254  18.511000 2021-08-11      8\n",
       "4        1  4028.687306  26.265803 2021-08-28      8"
      ]
     },
     "execution_count": 13,
     "metadata": {},
     "output_type": "execute_result"
    }
   ],
   "source": [
    "# Датафрейм df_rides\n",
    "df_rides.info()\n",
    "df_rides.head()"
   ]
  },
  {
   "cell_type": "code",
   "execution_count": 14,
   "id": "0c9e3d91",
   "metadata": {},
   "outputs": [
    {
     "name": "stdout",
     "output_type": "stream",
     "text": [
      "<class 'pandas.core.frame.DataFrame'>\n",
      "RangeIndex: 2 entries, 0 to 1\n",
      "Data columns (total 4 columns):\n",
      " #   Column             Non-Null Count  Dtype \n",
      "---  ------             --------------  ----- \n",
      " 0   subscription_type  2 non-null      object\n",
      " 1   minute_price       2 non-null      int64 \n",
      " 2   start_ride_price   2 non-null      int64 \n",
      " 3   subscription_fee   2 non-null      int64 \n",
      "dtypes: int64(3), object(1)\n",
      "memory usage: 192.0+ bytes\n"
     ]
    },
    {
     "data": {
      "text/html": [
       "<div>\n",
       "<style scoped>\n",
       "    .dataframe tbody tr th:only-of-type {\n",
       "        vertical-align: middle;\n",
       "    }\n",
       "\n",
       "    .dataframe tbody tr th {\n",
       "        vertical-align: top;\n",
       "    }\n",
       "\n",
       "    .dataframe thead th {\n",
       "        text-align: right;\n",
       "    }\n",
       "</style>\n",
       "<table border=\"1\" class=\"dataframe\">\n",
       "  <thead>\n",
       "    <tr style=\"text-align: right;\">\n",
       "      <th></th>\n",
       "      <th>subscription_type</th>\n",
       "      <th>minute_price</th>\n",
       "      <th>start_ride_price</th>\n",
       "      <th>subscription_fee</th>\n",
       "    </tr>\n",
       "  </thead>\n",
       "  <tbody>\n",
       "    <tr>\n",
       "      <th>0</th>\n",
       "      <td>free</td>\n",
       "      <td>8</td>\n",
       "      <td>50</td>\n",
       "      <td>0</td>\n",
       "    </tr>\n",
       "    <tr>\n",
       "      <th>1</th>\n",
       "      <td>ultra</td>\n",
       "      <td>6</td>\n",
       "      <td>0</td>\n",
       "      <td>199</td>\n",
       "    </tr>\n",
       "  </tbody>\n",
       "</table>\n",
       "</div>"
      ],
      "text/plain": [
       "  subscription_type  minute_price  start_ride_price  subscription_fee\n",
       "0              free             8                50                 0\n",
       "1             ultra             6                 0               199"
      ]
     },
     "execution_count": 14,
     "metadata": {},
     "output_type": "execute_result"
    }
   ],
   "source": [
    "# Датафрейм df_subs\n",
    "df_subs.info()\n",
    "df_subs.head()"
   ]
  },
  {
   "cell_type": "markdown",
   "id": "4e2329e6",
   "metadata": {},
   "source": [
    "**Итоги предобработки данных:**\n",
    "1. Скорректированы типы данных во всех столбцах, где это возможно технически и логически.\n",
    "2. Обработаны явные дубликаты в датафрейме \"Пользователи\". Неявные дубликаты не выявлены.\n",
    "3. В датафрейм \"Поездки\" добавлен новый столбец 'month', содержащий информацию о номере месяца, когда была совершена поездка (на основе столбца 'date')."
   ]
  },
  {
   "cell_type": "markdown",
   "id": "212593c7",
   "metadata": {},
   "source": [
    "## Исследовательский анализ данных"
   ]
  },
  {
   "cell_type": "markdown",
   "id": "163f0d98",
   "metadata": {},
   "source": [
    "Теперь изучим и визуализируем следующую информацию о пользователях и поездках:\n",
    "- частота встречаемости городов;\n",
    "- соотношение пользователей с подпиской и без подписки;\n",
    "- возраст пользователей;\n",
    "- расстояние, которое пользователь преодолел за одну поездку;\n",
    "- продолжительность поездок."
   ]
  },
  {
   "cell_type": "markdown",
   "id": "2a6f1abb",
   "metadata": {},
   "source": [
    "### Частота встречаемости городов"
   ]
  },
  {
   "cell_type": "code",
   "execution_count": 15,
   "id": "b414a181",
   "metadata": {},
   "outputs": [
    {
     "data": {
      "image/png": "[encoded data removed]",
      "text/plain": [
       "<Figure size 720x288 with 1 Axes>"
      ]
     },
     "metadata": {
      "needs_background": "light"
     },
     "output_type": "display_data"
    },
    {
     "data": {
      "text/html": [
       "<div>\n",
       "<style scoped>\n",
       "    .dataframe tbody tr th:only-of-type {\n",
       "        vertical-align: middle;\n",
       "    }\n",
       "\n",
       "    .dataframe tbody tr th {\n",
       "        vertical-align: top;\n",
       "    }\n",
       "\n",
       "    .dataframe thead th {\n",
       "        text-align: right;\n",
       "    }\n",
       "</style>\n",
       "<table border=\"1\" class=\"dataframe\">\n",
       "  <thead>\n",
       "    <tr style=\"text-align: right;\">\n",
       "      <th></th>\n",
       "      <th>user_id</th>\n",
       "    </tr>\n",
       "    <tr>\n",
       "      <th>city</th>\n",
       "      <th></th>\n",
       "    </tr>\n",
       "  </thead>\n",
       "  <tbody>\n",
       "    <tr>\n",
       "      <th>Пятигорск</th>\n",
       "      <td>219</td>\n",
       "    </tr>\n",
       "    <tr>\n",
       "      <th>Екатеринбург</th>\n",
       "      <td>204</td>\n",
       "    </tr>\n",
       "    <tr>\n",
       "      <th>Ростов-на-Дону</th>\n",
       "      <td>198</td>\n",
       "    </tr>\n",
       "    <tr>\n",
       "      <th>Краснодар</th>\n",
       "      <td>193</td>\n",
       "    </tr>\n",
       "    <tr>\n",
       "      <th>Сочи</th>\n",
       "      <td>189</td>\n",
       "    </tr>\n",
       "    <tr>\n",
       "      <th>Омск</th>\n",
       "      <td>183</td>\n",
       "    </tr>\n",
       "    <tr>\n",
       "      <th>Тюмень</th>\n",
       "      <td>180</td>\n",
       "    </tr>\n",
       "    <tr>\n",
       "      <th>Москва</th>\n",
       "      <td>168</td>\n",
       "    </tr>\n",
       "  </tbody>\n",
       "</table>\n",
       "</div>"
      ],
      "text/plain": [
       "                user_id\n",
       "city                   \n",
       "Пятигорск           219\n",
       "Екатеринбург        204\n",
       "Ростов-на-Дону      198\n",
       "Краснодар           193\n",
       "Сочи                189\n",
       "Омск                183\n",
       "Тюмень              180\n",
       "Москва              168"
      ]
     },
     "metadata": {},
     "output_type": "display_data"
    }
   ],
   "source": [
    "# Строим столбчатую диаграмму\n",
    "df_users_city = df_users.pivot_table(index = 'city', values = 'user_id', aggfunc = 'count')\n",
    "df_users_city = df_users_city.sort_values(by='user_id', ascending = True)\n",
    "df_users_city.plot(kind='barh', figsize = (10,4), title = 'Частота встречаемости городов', color='orange', alpha = 0.7, legend = False, grid = True)\n",
    "plt.xlabel('Количество пользователей')\n",
    "plt.ylabel('Города')\n",
    "plt.show()\n",
    "\n",
    "display(df_users_city.sort_values(by='user_id', ascending = False))"
   ]
  },
  {
   "cell_type": "markdown",
   "id": "03462857",
   "metadata": {},
   "source": [
    "**Выводы о частоте встречаемости городов:**\n",
    "\n",
    "1. Всего в датафрейме \"Пользователи\" представлена статистика по **8 городам** России: Пятигорск, Екатеринбург, Ростов-на-Дону, Краснодар, Сочи, Омск, Тюмень, Москва.\n",
    "2. Городом-лидером по использованию сервиса оказался **Пятигорск** (219 уникальных пользователей). Город с наименьшей популярностью сервиса - **Москва** (168 уникальных пользователей)."
   ]
  },
  {
   "cell_type": "markdown",
   "id": "b7ad4f64",
   "metadata": {},
   "source": [
    "### Соотношение пользователей с подпиской и без подписки"
   ]
  },
  {
   "cell_type": "code",
   "execution_count": 16,
   "id": "a66ec16e",
   "metadata": {},
   "outputs": [
    {
     "data": {
      "image/png": "[encoded data removed]",
      "text/plain": [
       "<Figure size 720x504 with 1 Axes>"
      ]
     },
     "metadata": {},
     "output_type": "display_data"
    },
    {
     "data": {
      "text/html": [
       "<div>\n",
       "<style scoped>\n",
       "    .dataframe tbody tr th:only-of-type {\n",
       "        vertical-align: middle;\n",
       "    }\n",
       "\n",
       "    .dataframe tbody tr th {\n",
       "        vertical-align: top;\n",
       "    }\n",
       "\n",
       "    .dataframe thead th {\n",
       "        text-align: right;\n",
       "    }\n",
       "</style>\n",
       "<table border=\"1\" class=\"dataframe\">\n",
       "  <thead>\n",
       "    <tr style=\"text-align: right;\">\n",
       "      <th></th>\n",
       "      <th>subscription_type</th>\n",
       "      <th>user_id</th>\n",
       "    </tr>\n",
       "  </thead>\n",
       "  <tbody>\n",
       "    <tr>\n",
       "      <th>0</th>\n",
       "      <td>free</td>\n",
       "      <td>835</td>\n",
       "    </tr>\n",
       "    <tr>\n",
       "      <th>1</th>\n",
       "      <td>ultra</td>\n",
       "      <td>699</td>\n",
       "    </tr>\n",
       "  </tbody>\n",
       "</table>\n",
       "</div>"
      ],
      "text/plain": [
       "  subscription_type  user_id\n",
       "0              free      835\n",
       "1             ultra      699"
      ]
     },
     "metadata": {},
     "output_type": "display_data"
    }
   ],
   "source": [
    "# Построим круговую диаграмму для определения соотношения\n",
    "df_users_subs = df_users.pivot_table(index = 'subscription_type', values = 'user_id', aggfunc = 'count').reset_index()\n",
    "df_users_subs.plot(kind = 'pie', y='user_id', label = '', figsize=(10,7), labels = ['free', 'ultra'], title='Количество пользователей с подпиской и без', autopct='%1.1f%%')\n",
    "plt.show()\n",
    "\n",
    "display(df_users_subs)"
   ]
  },
  {
   "cell_type": "markdown",
   "id": "6788fff2",
   "metadata": {},
   "source": [
    "**Выводы о соотношении пользователей с подпиской и без:**\n",
    "\n",
    "1. Всего обладателей тарифа без подписки (тариф **'free') - 835 чел.**, с подпиской (тариф **'ultra') - 699 чел.**.\n",
    "2. Из диаграммы видно, что доля пользователей на тарифе 'free' примерно на 10% превышает долю пользователей на тарифе 'ultra'. \n",
    "В целом доли обеих групп можно считать сопоставимыми в структуре использования сервиса."
   ]
  },
  {
   "cell_type": "markdown",
   "id": "7b91e465",
   "metadata": {},
   "source": [
    "### Возраст пользователей"
   ]
  },
  {
   "cell_type": "code",
   "execution_count": 17,
   "id": "9dd5ec59",
   "metadata": {},
   "outputs": [
    {
     "data": {
      "image/png": "[encoded data removed]",
      "text/plain": [
       "<Figure size 576x360 with 1 Axes>"
      ]
     },
     "metadata": {
      "needs_background": "light"
     },
     "output_type": "display_data"
    },
    {
     "data": {
      "text/plain": [
       "count    1534.000000\n",
       "mean       24.903520\n",
       "std         4.572367\n",
       "min        12.000000\n",
       "25%        22.000000\n",
       "50%        25.000000\n",
       "75%        28.000000\n",
       "max        43.000000\n",
       "Name: age, dtype: float64"
      ]
     },
     "execution_count": 17,
     "metadata": {},
     "output_type": "execute_result"
    }
   ],
   "source": [
    "# Строим гистограмму распределения возрастов пользователей\n",
    "df_users.plot(kind = 'hist', y = 'age', grid=True, figsize = (8,5), bins = 30, legend = False, title = 'Распределение возрастов пользователей')\n",
    "plt.xlabel('Возраст')\n",
    "plt.ylabel('Количество пользователей')\n",
    "plt.show()\n",
    "\n",
    "# Смотрим вспомогательные характеристики для описания возраста \n",
    "df_users['age'].describe()"
   ]
  },
  {
   "cell_type": "markdown",
   "id": "0739d4a7",
   "metadata": {},
   "source": [
    "**Выводы о распределении возрастов пользователей:**\n",
    "\n",
    "1. Услугами сервиса аренды самокатов пользуются люди **от 12 до 43 лет**. \n",
    "2. Из гистограммы видим, что выборка возрастов имеет нормальное распределение. \n",
    "3. Наиболее популярный возраст пользователей - **25 лет**. При этом медиана и среднее значение по выборке фактически совпадают: 25 и 24.9 лет, соответственно."
   ]
  },
  {
   "cell_type": "markdown",
   "id": "cbb632eb",
   "metadata": {},
   "source": [
    "### Расстояние, которое пользователь преодолел за одну поездку"
   ]
  },
  {
   "cell_type": "code",
   "execution_count": 18,
   "id": "2149e834",
   "metadata": {},
   "outputs": [
    {
     "data": {
      "image/png": "[encoded data removed]",
      "text/plain": [
       "<Figure size 576x360 with 1 Axes>"
      ]
     },
     "metadata": {
      "needs_background": "light"
     },
     "output_type": "display_data"
    },
    {
     "data": {
      "text/plain": [
       "count    18068.000000\n",
       "mean      3070.659976\n",
       "std       1116.831209\n",
       "min          0.855683\n",
       "25%       2543.226360\n",
       "50%       3133.609994\n",
       "75%       3776.222735\n",
       "max       7211.007745\n",
       "Name: distance, dtype: float64"
      ]
     },
     "execution_count": 18,
     "metadata": {},
     "output_type": "execute_result"
    }
   ],
   "source": [
    "# Проанализируем параметр 'distance' в датафрейме 'df_rides'\n",
    "# Строим гистограмму распределения пройденного расстояния\n",
    "df_rides.plot(kind = 'hist', y = 'distance', grid=True, figsize = (8,5), bins = 30, legend = False, title = 'Распределение количества поездок по пройденной дистанции')\n",
    "plt.xlabel('Расстояние в метрах')\n",
    "plt.ylabel('Количество поездок')\n",
    "plt.show()\n",
    "\n",
    "# Смотрим вспомогательные характеристики для описания расстояния \n",
    "df_rides['distance'].describe()"
   ]
  },
  {
   "cell_type": "markdown",
   "id": "20f60d89",
   "metadata": {},
   "source": [
    "**Выводы о распределении количества поездок по пройденной дистанции:**\n",
    "\n",
    "1. Диапазон пройденного расстояния за одну поездку варьируется от 1 до 7211 метров.\n",
    "2. Среднее расстояние за одну поездку составляет около 3 км, медианное значение равно 3134 метров.\n",
    "3. На гистограмме виден небольшой колокол вокруг значения 600 метров. Данную закономерность можно объяснить инфраструктурными реалиями небольших городов России: желание быстро добраться из точки А в точку Б там, где не ходит общественный транспорт и/или нет личного траспортного средства."
   ]
  },
  {
   "cell_type": "markdown",
   "id": "6d5a0404",
   "metadata": {},
   "source": [
    "### Продолжительность поездок"
   ]
  },
  {
   "cell_type": "code",
   "execution_count": 19,
   "id": "52987890",
   "metadata": {},
   "outputs": [
    {
     "data": {
      "image/png": "[encoded data removed]",
      "text/plain": [
       "<Figure size 576x360 with 1 Axes>"
      ]
     },
     "metadata": {
      "needs_background": "light"
     },
     "output_type": "display_data"
    },
    {
     "data": {
      "text/plain": [
       "count    18068.000000\n",
       "mean        17.805011\n",
       "std          6.091051\n",
       "min          0.500000\n",
       "25%         13.597563\n",
       "50%         17.678395\n",
       "75%         21.724800\n",
       "max         40.823963\n",
       "Name: duration, dtype: float64"
      ]
     },
     "execution_count": 19,
     "metadata": {},
     "output_type": "execute_result"
    }
   ],
   "source": [
    "# Проанализируем параметр 'duration' в датафрейме 'df_rides'\n",
    "# Строим гистограмму распределения времени на одну поездку\n",
    "df_rides.plot(kind = 'hist', y = 'duration', grid=True, figsize = (8,5), bins = 30, legend = False, title = 'Распределение поездок по продолжительности')\n",
    "plt.xlabel('Время в минутах')\n",
    "plt.ylabel('Количество поездок')\n",
    "plt.show()\n",
    "\n",
    "# Смотрим вспомогательные характеристики для описания продолжительности поездки \n",
    "df_rides['duration'].describe()"
   ]
  },
  {
   "cell_type": "code",
   "execution_count": 20,
   "id": "05a068f8",
   "metadata": {
    "scrolled": true
   },
   "outputs": [
    {
     "data": {
      "text/plain": [
       "count      95.000000\n",
       "mean     5113.176549\n",
       "std       658.254104\n",
       "min      4030.308008\n",
       "25%      4611.510820\n",
       "50%      5052.769411\n",
       "75%      5488.459099\n",
       "max      7211.007745\n",
       "Name: distance, dtype: float64"
      ]
     },
     "execution_count": 20,
     "metadata": {},
     "output_type": "execute_result"
    }
   ],
   "source": [
    "# Внимательнее рассмотрим краткосрочные поездки (до 1 минуты) с точки зрения пройденной дистанции\n",
    "\n",
    "df_rides.query('duration < 1')['distance'].describe()"
   ]
  },
  {
   "cell_type": "markdown",
   "id": "831a5046",
   "metadata": {},
   "source": [
    "Среднее и медианное значения расстояния для 95 поездок продолжительностью до 1 минуты выглядят подозрительно большими. Исключим выявленную аномалию из датафрейма \"Поездки\"."
   ]
  },
  {
   "cell_type": "code",
   "execution_count": 21,
   "id": "6b9b9eb1",
   "metadata": {},
   "outputs": [
    {
     "data": {
      "text/plain": [
       "count    17973.000000\n",
       "mean        17.896480\n",
       "std          5.975424\n",
       "min          2.035632\n",
       "25%         13.670439\n",
       "50%         17.714122\n",
       "75%         21.747016\n",
       "max         40.823963\n",
       "Name: duration, dtype: float64"
      ]
     },
     "execution_count": 21,
     "metadata": {},
     "output_type": "execute_result"
    }
   ],
   "source": [
    "# Удаляем строки с продолжительностью поездки до 1 минуты\n",
    "\n",
    "df_rides = df_rides[df_rides['duration'] > 1]\n",
    "\n",
    "# Смотрим обновленные характеристики по продолжительности поездки\n",
    "df_rides['duration'].describe()"
   ]
  },
  {
   "cell_type": "markdown",
   "id": "e4784ed0",
   "metadata": {},
   "source": [
    "**Выводы о распределении количества поездок по пройденной дистанции:**\n",
    "\n",
    "1. Продолжительность одной поездки варьируется в диапазоне от 2 до 41 минут.\n",
    "2. Из гистограммы видим, что выборка продолжительности поездок имеет нормальное распределение. \n",
    "2. Наиболее встречаемая продолжительность одной поездки (как среднее, так и медианное значение) составляет **18 минут**."
   ]
  },
  {
   "cell_type": "markdown",
   "id": "4ef51331",
   "metadata": {},
   "source": [
    "## Объединение данных"
   ]
  },
  {
   "cell_type": "markdown",
   "id": "50ab0c84",
   "metadata": {},
   "source": [
    "### Объединение данных о пользователях, поездках и подписках"
   ]
  },
  {
   "cell_type": "code",
   "execution_count": 22,
   "id": "094be134",
   "metadata": {
    "scrolled": true
   },
   "outputs": [
    {
     "data": {
      "text/html": [
       "<div>\n",
       "<style scoped>\n",
       "    .dataframe tbody tr th:only-of-type {\n",
       "        vertical-align: middle;\n",
       "    }\n",
       "\n",
       "    .dataframe tbody tr th {\n",
       "        vertical-align: top;\n",
       "    }\n",
       "\n",
       "    .dataframe thead th {\n",
       "        text-align: right;\n",
       "    }\n",
       "</style>\n",
       "<table border=\"1\" class=\"dataframe\">\n",
       "  <thead>\n",
       "    <tr style=\"text-align: right;\">\n",
       "      <th></th>\n",
       "      <th>user_id</th>\n",
       "      <th>name</th>\n",
       "      <th>age</th>\n",
       "      <th>city</th>\n",
       "      <th>subscription_type</th>\n",
       "      <th>distance</th>\n",
       "      <th>duration</th>\n",
       "      <th>date</th>\n",
       "      <th>month</th>\n",
       "      <th>minute_price</th>\n",
       "      <th>start_ride_price</th>\n",
       "      <th>subscription_fee</th>\n",
       "    </tr>\n",
       "  </thead>\n",
       "  <tbody>\n",
       "    <tr>\n",
       "      <th>0</th>\n",
       "      <td>1</td>\n",
       "      <td>Кира</td>\n",
       "      <td>22</td>\n",
       "      <td>Тюмень</td>\n",
       "      <td>ultra</td>\n",
       "      <td>4409.919140</td>\n",
       "      <td>25.599769</td>\n",
       "      <td>2021-01-01</td>\n",
       "      <td>1</td>\n",
       "      <td>6</td>\n",
       "      <td>0</td>\n",
       "      <td>199</td>\n",
       "    </tr>\n",
       "    <tr>\n",
       "      <th>1</th>\n",
       "      <td>1</td>\n",
       "      <td>Кира</td>\n",
       "      <td>22</td>\n",
       "      <td>Тюмень</td>\n",
       "      <td>ultra</td>\n",
       "      <td>2617.592153</td>\n",
       "      <td>15.816871</td>\n",
       "      <td>2021-01-18</td>\n",
       "      <td>1</td>\n",
       "      <td>6</td>\n",
       "      <td>0</td>\n",
       "      <td>199</td>\n",
       "    </tr>\n",
       "    <tr>\n",
       "      <th>2</th>\n",
       "      <td>1</td>\n",
       "      <td>Кира</td>\n",
       "      <td>22</td>\n",
       "      <td>Тюмень</td>\n",
       "      <td>ultra</td>\n",
       "      <td>754.159807</td>\n",
       "      <td>6.232113</td>\n",
       "      <td>2021-04-20</td>\n",
       "      <td>4</td>\n",
       "      <td>6</td>\n",
       "      <td>0</td>\n",
       "      <td>199</td>\n",
       "    </tr>\n",
       "    <tr>\n",
       "      <th>3</th>\n",
       "      <td>1</td>\n",
       "      <td>Кира</td>\n",
       "      <td>22</td>\n",
       "      <td>Тюмень</td>\n",
       "      <td>ultra</td>\n",
       "      <td>2694.783254</td>\n",
       "      <td>18.511000</td>\n",
       "      <td>2021-08-11</td>\n",
       "      <td>8</td>\n",
       "      <td>6</td>\n",
       "      <td>0</td>\n",
       "      <td>199</td>\n",
       "    </tr>\n",
       "    <tr>\n",
       "      <th>4</th>\n",
       "      <td>1</td>\n",
       "      <td>Кира</td>\n",
       "      <td>22</td>\n",
       "      <td>Тюмень</td>\n",
       "      <td>ultra</td>\n",
       "      <td>4028.687306</td>\n",
       "      <td>26.265803</td>\n",
       "      <td>2021-08-28</td>\n",
       "      <td>8</td>\n",
       "      <td>6</td>\n",
       "      <td>0</td>\n",
       "      <td>199</td>\n",
       "    </tr>\n",
       "    <tr>\n",
       "      <th>5</th>\n",
       "      <td>1</td>\n",
       "      <td>Кира</td>\n",
       "      <td>22</td>\n",
       "      <td>Тюмень</td>\n",
       "      <td>ultra</td>\n",
       "      <td>2770.890808</td>\n",
       "      <td>16.650138</td>\n",
       "      <td>2021-10-09</td>\n",
       "      <td>10</td>\n",
       "      <td>6</td>\n",
       "      <td>0</td>\n",
       "      <td>199</td>\n",
       "    </tr>\n",
       "    <tr>\n",
       "      <th>6</th>\n",
       "      <td>1</td>\n",
       "      <td>Кира</td>\n",
       "      <td>22</td>\n",
       "      <td>Тюмень</td>\n",
       "      <td>ultra</td>\n",
       "      <td>3039.020292</td>\n",
       "      <td>14.927879</td>\n",
       "      <td>2021-10-19</td>\n",
       "      <td>10</td>\n",
       "      <td>6</td>\n",
       "      <td>0</td>\n",
       "      <td>199</td>\n",
       "    </tr>\n",
       "    <tr>\n",
       "      <th>7</th>\n",
       "      <td>1</td>\n",
       "      <td>Кира</td>\n",
       "      <td>22</td>\n",
       "      <td>Тюмень</td>\n",
       "      <td>ultra</td>\n",
       "      <td>2842.118050</td>\n",
       "      <td>23.117468</td>\n",
       "      <td>2021-11-06</td>\n",
       "      <td>11</td>\n",
       "      <td>6</td>\n",
       "      <td>0</td>\n",
       "      <td>199</td>\n",
       "    </tr>\n",
       "    <tr>\n",
       "      <th>8</th>\n",
       "      <td>1</td>\n",
       "      <td>Кира</td>\n",
       "      <td>22</td>\n",
       "      <td>Тюмень</td>\n",
       "      <td>ultra</td>\n",
       "      <td>3412.690668</td>\n",
       "      <td>15.238072</td>\n",
       "      <td>2021-11-14</td>\n",
       "      <td>11</td>\n",
       "      <td>6</td>\n",
       "      <td>0</td>\n",
       "      <td>199</td>\n",
       "    </tr>\n",
       "    <tr>\n",
       "      <th>9</th>\n",
       "      <td>1</td>\n",
       "      <td>Кира</td>\n",
       "      <td>22</td>\n",
       "      <td>Тюмень</td>\n",
       "      <td>ultra</td>\n",
       "      <td>748.690645</td>\n",
       "      <td>15.041884</td>\n",
       "      <td>2021-11-22</td>\n",
       "      <td>11</td>\n",
       "      <td>6</td>\n",
       "      <td>0</td>\n",
       "      <td>199</td>\n",
       "    </tr>\n",
       "  </tbody>\n",
       "</table>\n",
       "</div>"
      ],
      "text/plain": [
       "   user_id  name  age    city subscription_type     distance   duration  \\\n",
       "0        1  Кира   22  Тюмень             ultra  4409.919140  25.599769   \n",
       "1        1  Кира   22  Тюмень             ultra  2617.592153  15.816871   \n",
       "2        1  Кира   22  Тюмень             ultra   754.159807   6.232113   \n",
       "3        1  Кира   22  Тюмень             ultra  2694.783254  18.511000   \n",
       "4        1  Кира   22  Тюмень             ultra  4028.687306  26.265803   \n",
       "5        1  Кира   22  Тюмень             ultra  2770.890808  16.650138   \n",
       "6        1  Кира   22  Тюмень             ultra  3039.020292  14.927879   \n",
       "7        1  Кира   22  Тюмень             ultra  2842.118050  23.117468   \n",
       "8        1  Кира   22  Тюмень             ultra  3412.690668  15.238072   \n",
       "9        1  Кира   22  Тюмень             ultra   748.690645  15.041884   \n",
       "\n",
       "        date  month  minute_price  start_ride_price  subscription_fee  \n",
       "0 2021-01-01      1             6                 0               199  \n",
       "1 2021-01-18      1             6                 0               199  \n",
       "2 2021-04-20      4             6                 0               199  \n",
       "3 2021-08-11      8             6                 0               199  \n",
       "4 2021-08-28      8             6                 0               199  \n",
       "5 2021-10-09     10             6                 0               199  \n",
       "6 2021-10-19     10             6                 0               199  \n",
       "7 2021-11-06     11             6                 0               199  \n",
       "8 2021-11-14     11             6                 0               199  \n",
       "9 2021-11-22     11             6                 0               199  "
      ]
     },
     "metadata": {},
     "output_type": "display_data"
    },
    {
     "data": {
      "text/html": [
       "<div>\n",
       "<style scoped>\n",
       "    .dataframe tbody tr th:only-of-type {\n",
       "        vertical-align: middle;\n",
       "    }\n",
       "\n",
       "    .dataframe tbody tr th {\n",
       "        vertical-align: top;\n",
       "    }\n",
       "\n",
       "    .dataframe thead th {\n",
       "        text-align: right;\n",
       "    }\n",
       "</style>\n",
       "<table border=\"1\" class=\"dataframe\">\n",
       "  <thead>\n",
       "    <tr style=\"text-align: right;\">\n",
       "      <th></th>\n",
       "      <th>user_id</th>\n",
       "      <th>name</th>\n",
       "      <th>age</th>\n",
       "      <th>city</th>\n",
       "      <th>subscription_type</th>\n",
       "      <th>distance</th>\n",
       "      <th>duration</th>\n",
       "      <th>date</th>\n",
       "      <th>month</th>\n",
       "      <th>minute_price</th>\n",
       "      <th>start_ride_price</th>\n",
       "      <th>subscription_fee</th>\n",
       "    </tr>\n",
       "  </thead>\n",
       "  <tbody>\n",
       "    <tr>\n",
       "      <th>17963</th>\n",
       "      <td>1534</td>\n",
       "      <td>Альберт</td>\n",
       "      <td>25</td>\n",
       "      <td>Краснодар</td>\n",
       "      <td>free</td>\n",
       "      <td>195.447469</td>\n",
       "      <td>6.469074</td>\n",
       "      <td>2021-06-11</td>\n",
       "      <td>6</td>\n",
       "      <td>8</td>\n",
       "      <td>50</td>\n",
       "      <td>0</td>\n",
       "    </tr>\n",
       "    <tr>\n",
       "      <th>17964</th>\n",
       "      <td>1534</td>\n",
       "      <td>Альберт</td>\n",
       "      <td>25</td>\n",
       "      <td>Краснодар</td>\n",
       "      <td>free</td>\n",
       "      <td>3214.021065</td>\n",
       "      <td>18.343604</td>\n",
       "      <td>2021-06-18</td>\n",
       "      <td>6</td>\n",
       "      <td>8</td>\n",
       "      <td>50</td>\n",
       "      <td>0</td>\n",
       "    </tr>\n",
       "    <tr>\n",
       "      <th>17965</th>\n",
       "      <td>1534</td>\n",
       "      <td>Альберт</td>\n",
       "      <td>25</td>\n",
       "      <td>Краснодар</td>\n",
       "      <td>free</td>\n",
       "      <td>3644.708038</td>\n",
       "      <td>20.289416</td>\n",
       "      <td>2021-08-08</td>\n",
       "      <td>8</td>\n",
       "      <td>8</td>\n",
       "      <td>50</td>\n",
       "      <td>0</td>\n",
       "    </tr>\n",
       "    <tr>\n",
       "      <th>17966</th>\n",
       "      <td>1534</td>\n",
       "      <td>Альберт</td>\n",
       "      <td>25</td>\n",
       "      <td>Краснодар</td>\n",
       "      <td>free</td>\n",
       "      <td>3977.744996</td>\n",
       "      <td>26.916544</td>\n",
       "      <td>2021-08-20</td>\n",
       "      <td>8</td>\n",
       "      <td>8</td>\n",
       "      <td>50</td>\n",
       "      <td>0</td>\n",
       "    </tr>\n",
       "    <tr>\n",
       "      <th>17967</th>\n",
       "      <td>1534</td>\n",
       "      <td>Альберт</td>\n",
       "      <td>25</td>\n",
       "      <td>Краснодар</td>\n",
       "      <td>free</td>\n",
       "      <td>4928.173852</td>\n",
       "      <td>22.560373</td>\n",
       "      <td>2021-09-13</td>\n",
       "      <td>9</td>\n",
       "      <td>8</td>\n",
       "      <td>50</td>\n",
       "      <td>0</td>\n",
       "    </tr>\n",
       "    <tr>\n",
       "      <th>17968</th>\n",
       "      <td>1534</td>\n",
       "      <td>Альберт</td>\n",
       "      <td>25</td>\n",
       "      <td>Краснодар</td>\n",
       "      <td>free</td>\n",
       "      <td>3781.098080</td>\n",
       "      <td>19.822962</td>\n",
       "      <td>2021-11-04</td>\n",
       "      <td>11</td>\n",
       "      <td>8</td>\n",
       "      <td>50</td>\n",
       "      <td>0</td>\n",
       "    </tr>\n",
       "    <tr>\n",
       "      <th>17969</th>\n",
       "      <td>1534</td>\n",
       "      <td>Альберт</td>\n",
       "      <td>25</td>\n",
       "      <td>Краснодар</td>\n",
       "      <td>free</td>\n",
       "      <td>2840.423057</td>\n",
       "      <td>21.409799</td>\n",
       "      <td>2021-11-16</td>\n",
       "      <td>11</td>\n",
       "      <td>8</td>\n",
       "      <td>50</td>\n",
       "      <td>0</td>\n",
       "    </tr>\n",
       "    <tr>\n",
       "      <th>17970</th>\n",
       "      <td>1534</td>\n",
       "      <td>Альберт</td>\n",
       "      <td>25</td>\n",
       "      <td>Краснодар</td>\n",
       "      <td>free</td>\n",
       "      <td>3826.185507</td>\n",
       "      <td>18.435051</td>\n",
       "      <td>2021-11-18</td>\n",
       "      <td>11</td>\n",
       "      <td>8</td>\n",
       "      <td>50</td>\n",
       "      <td>0</td>\n",
       "    </tr>\n",
       "    <tr>\n",
       "      <th>17971</th>\n",
       "      <td>1534</td>\n",
       "      <td>Альберт</td>\n",
       "      <td>25</td>\n",
       "      <td>Краснодар</td>\n",
       "      <td>free</td>\n",
       "      <td>2902.308661</td>\n",
       "      <td>16.674362</td>\n",
       "      <td>2021-11-27</td>\n",
       "      <td>11</td>\n",
       "      <td>8</td>\n",
       "      <td>50</td>\n",
       "      <td>0</td>\n",
       "    </tr>\n",
       "    <tr>\n",
       "      <th>17972</th>\n",
       "      <td>1534</td>\n",
       "      <td>Альберт</td>\n",
       "      <td>25</td>\n",
       "      <td>Краснодар</td>\n",
       "      <td>free</td>\n",
       "      <td>2371.711192</td>\n",
       "      <td>15.893917</td>\n",
       "      <td>2021-12-29</td>\n",
       "      <td>12</td>\n",
       "      <td>8</td>\n",
       "      <td>50</td>\n",
       "      <td>0</td>\n",
       "    </tr>\n",
       "  </tbody>\n",
       "</table>\n",
       "</div>"
      ],
      "text/plain": [
       "       user_id     name  age       city subscription_type     distance  \\\n",
       "17963     1534  Альберт   25  Краснодар              free   195.447469   \n",
       "17964     1534  Альберт   25  Краснодар              free  3214.021065   \n",
       "17965     1534  Альберт   25  Краснодар              free  3644.708038   \n",
       "17966     1534  Альберт   25  Краснодар              free  3977.744996   \n",
       "17967     1534  Альберт   25  Краснодар              free  4928.173852   \n",
       "17968     1534  Альберт   25  Краснодар              free  3781.098080   \n",
       "17969     1534  Альберт   25  Краснодар              free  2840.423057   \n",
       "17970     1534  Альберт   25  Краснодар              free  3826.185507   \n",
       "17971     1534  Альберт   25  Краснодар              free  2902.308661   \n",
       "17972     1534  Альберт   25  Краснодар              free  2371.711192   \n",
       "\n",
       "        duration       date  month  minute_price  start_ride_price  \\\n",
       "17963   6.469074 2021-06-11      6             8                50   \n",
       "17964  18.343604 2021-06-18      6             8                50   \n",
       "17965  20.289416 2021-08-08      8             8                50   \n",
       "17966  26.916544 2021-08-20      8             8                50   \n",
       "17967  22.560373 2021-09-13      9             8                50   \n",
       "17968  19.822962 2021-11-04     11             8                50   \n",
       "17969  21.409799 2021-11-16     11             8                50   \n",
       "17970  18.435051 2021-11-18     11             8                50   \n",
       "17971  16.674362 2021-11-27     11             8                50   \n",
       "17972  15.893917 2021-12-29     12             8                50   \n",
       "\n",
       "       subscription_fee  \n",
       "17963                 0  \n",
       "17964                 0  \n",
       "17965                 0  \n",
       "17966                 0  \n",
       "17967                 0  \n",
       "17968                 0  \n",
       "17969                 0  \n",
       "17970                 0  \n",
       "17971                 0  \n",
       "17972                 0  "
      ]
     },
     "metadata": {},
     "output_type": "display_data"
    },
    {
     "name": "stdout",
     "output_type": "stream",
     "text": [
      "\n",
      "<class 'pandas.core.frame.DataFrame'>\n",
      "Int64Index: 17973 entries, 0 to 17972\n",
      "Data columns (total 12 columns):\n",
      " #   Column             Non-Null Count  Dtype         \n",
      "---  ------             --------------  -----         \n",
      " 0   user_id            17973 non-null  int64         \n",
      " 1   name               17973 non-null  object        \n",
      " 2   age                17973 non-null  int64         \n",
      " 3   city               17973 non-null  object        \n",
      " 4   subscription_type  17973 non-null  object        \n",
      " 5   distance           17973 non-null  float64       \n",
      " 6   duration           17973 non-null  float64       \n",
      " 7   date               17973 non-null  datetime64[ns]\n",
      " 8   month              17973 non-null  int64         \n",
      " 9   minute_price       17973 non-null  int64         \n",
      " 10  start_ride_price   17973 non-null  int64         \n",
      " 11  subscription_fee   17973 non-null  int64         \n",
      "dtypes: datetime64[ns](1), float64(2), int64(6), object(3)\n",
      "memory usage: 1.8+ MB\n",
      "\n"
     ]
    },
    {
     "data": {
      "text/plain": [
       "1236    27\n",
       "1063    26\n",
       "783     26\n",
       "1204    24\n",
       "1531    23\n",
       "        ..\n",
       "644      3\n",
       "104      3\n",
       "412      3\n",
       "342      2\n",
       "366      2\n",
       "Name: user_id, Length: 1534, dtype: int64"
      ]
     },
     "execution_count": 22,
     "metadata": {},
     "output_type": "execute_result"
    }
   ],
   "source": [
    "# Строим общую таблицу с данными из датафреймов 'df_users', 'df_rides', 'df_subs'\n",
    "total_df = df_users.merge(df_rides, on='user_id').merge(df_subs, on='subscription_type')\n",
    "\n",
    "# Проверим базовую информацию о новом датафрейме\n",
    "display(total_df.head(10), total_df.tail(10))\n",
    "print()\n",
    "total_df.info()\n",
    "print()\n",
    "total_df['user_id'].value_counts()"
   ]
  },
  {
   "cell_type": "markdown",
   "id": "e915bc0f",
   "metadata": {},
   "source": [
    "В объединенном датафрейме 'total_df' содержится информация в разрезе каждого уникального пользователя о совершенных поездках в 2021 году. Всего собрано записей - 17973. Максимальное число поездок на одного человека - 27, минимальное - 2."
   ]
  },
  {
   "cell_type": "markdown",
   "id": "c6f4d403",
   "metadata": {},
   "source": [
    "### Группировка данных о пользователях с подпиской и без"
   ]
  },
  {
   "cell_type": "code",
   "execution_count": 23,
   "id": "83d16da0",
   "metadata": {},
   "outputs": [
    {
     "data": {
      "text/html": [
       "<div>\n",
       "<style scoped>\n",
       "    .dataframe tbody tr th:only-of-type {\n",
       "        vertical-align: middle;\n",
       "    }\n",
       "\n",
       "    .dataframe tbody tr th {\n",
       "        vertical-align: top;\n",
       "    }\n",
       "\n",
       "    .dataframe thead th {\n",
       "        text-align: right;\n",
       "    }\n",
       "</style>\n",
       "<table border=\"1\" class=\"dataframe\">\n",
       "  <thead>\n",
       "    <tr style=\"text-align: right;\">\n",
       "      <th></th>\n",
       "      <th>user_id</th>\n",
       "      <th>name</th>\n",
       "      <th>age</th>\n",
       "      <th>city</th>\n",
       "      <th>subscription_type</th>\n",
       "      <th>distance</th>\n",
       "      <th>duration</th>\n",
       "      <th>date</th>\n",
       "      <th>month</th>\n",
       "      <th>minute_price</th>\n",
       "      <th>start_ride_price</th>\n",
       "      <th>subscription_fee</th>\n",
       "    </tr>\n",
       "  </thead>\n",
       "  <tbody>\n",
       "    <tr>\n",
       "      <th>0</th>\n",
       "      <td>1</td>\n",
       "      <td>Кира</td>\n",
       "      <td>22</td>\n",
       "      <td>Тюмень</td>\n",
       "      <td>ultra</td>\n",
       "      <td>4409.919140</td>\n",
       "      <td>25.599769</td>\n",
       "      <td>2021-01-01</td>\n",
       "      <td>1</td>\n",
       "      <td>6</td>\n",
       "      <td>0</td>\n",
       "      <td>199</td>\n",
       "    </tr>\n",
       "    <tr>\n",
       "      <th>1</th>\n",
       "      <td>1</td>\n",
       "      <td>Кира</td>\n",
       "      <td>22</td>\n",
       "      <td>Тюмень</td>\n",
       "      <td>ultra</td>\n",
       "      <td>2617.592153</td>\n",
       "      <td>15.816871</td>\n",
       "      <td>2021-01-18</td>\n",
       "      <td>1</td>\n",
       "      <td>6</td>\n",
       "      <td>0</td>\n",
       "      <td>199</td>\n",
       "    </tr>\n",
       "    <tr>\n",
       "      <th>2</th>\n",
       "      <td>1</td>\n",
       "      <td>Кира</td>\n",
       "      <td>22</td>\n",
       "      <td>Тюмень</td>\n",
       "      <td>ultra</td>\n",
       "      <td>754.159807</td>\n",
       "      <td>6.232113</td>\n",
       "      <td>2021-04-20</td>\n",
       "      <td>4</td>\n",
       "      <td>6</td>\n",
       "      <td>0</td>\n",
       "      <td>199</td>\n",
       "    </tr>\n",
       "    <tr>\n",
       "      <th>3</th>\n",
       "      <td>1</td>\n",
       "      <td>Кира</td>\n",
       "      <td>22</td>\n",
       "      <td>Тюмень</td>\n",
       "      <td>ultra</td>\n",
       "      <td>2694.783254</td>\n",
       "      <td>18.511000</td>\n",
       "      <td>2021-08-11</td>\n",
       "      <td>8</td>\n",
       "      <td>6</td>\n",
       "      <td>0</td>\n",
       "      <td>199</td>\n",
       "    </tr>\n",
       "    <tr>\n",
       "      <th>4</th>\n",
       "      <td>1</td>\n",
       "      <td>Кира</td>\n",
       "      <td>22</td>\n",
       "      <td>Тюмень</td>\n",
       "      <td>ultra</td>\n",
       "      <td>4028.687306</td>\n",
       "      <td>26.265803</td>\n",
       "      <td>2021-08-28</td>\n",
       "      <td>8</td>\n",
       "      <td>6</td>\n",
       "      <td>0</td>\n",
       "      <td>199</td>\n",
       "    </tr>\n",
       "  </tbody>\n",
       "</table>\n",
       "</div>"
      ],
      "text/plain": [
       "   user_id  name  age    city subscription_type     distance   duration  \\\n",
       "0        1  Кира   22  Тюмень             ultra  4409.919140  25.599769   \n",
       "1        1  Кира   22  Тюмень             ultra  2617.592153  15.816871   \n",
       "2        1  Кира   22  Тюмень             ultra   754.159807   6.232113   \n",
       "3        1  Кира   22  Тюмень             ultra  2694.783254  18.511000   \n",
       "4        1  Кира   22  Тюмень             ultra  4028.687306  26.265803   \n",
       "\n",
       "        date  month  minute_price  start_ride_price  subscription_fee  \n",
       "0 2021-01-01      1             6                 0               199  \n",
       "1 2021-01-18      1             6                 0               199  \n",
       "2 2021-04-20      4             6                 0               199  \n",
       "3 2021-08-11      8             6                 0               199  \n",
       "4 2021-08-28      8             6                 0               199  "
      ]
     },
     "metadata": {},
     "output_type": "display_data"
    },
    {
     "name": "stdout",
     "output_type": "stream",
     "text": [
      "Количество поездок пользователей с подпиской (тариф 'ultra'): 6500\n"
     ]
    },
    {
     "data": {
      "text/html": [
       "<div>\n",
       "<style scoped>\n",
       "    .dataframe tbody tr th:only-of-type {\n",
       "        vertical-align: middle;\n",
       "    }\n",
       "\n",
       "    .dataframe tbody tr th {\n",
       "        vertical-align: top;\n",
       "    }\n",
       "\n",
       "    .dataframe thead th {\n",
       "        text-align: right;\n",
       "    }\n",
       "</style>\n",
       "<table border=\"1\" class=\"dataframe\">\n",
       "  <thead>\n",
       "    <tr style=\"text-align: right;\">\n",
       "      <th></th>\n",
       "      <th>user_id</th>\n",
       "      <th>name</th>\n",
       "      <th>age</th>\n",
       "      <th>city</th>\n",
       "      <th>subscription_type</th>\n",
       "      <th>distance</th>\n",
       "      <th>duration</th>\n",
       "      <th>date</th>\n",
       "      <th>month</th>\n",
       "      <th>minute_price</th>\n",
       "      <th>start_ride_price</th>\n",
       "      <th>subscription_fee</th>\n",
       "    </tr>\n",
       "  </thead>\n",
       "  <tbody>\n",
       "    <tr>\n",
       "      <th>6500</th>\n",
       "      <td>700</td>\n",
       "      <td>Айдар</td>\n",
       "      <td>22</td>\n",
       "      <td>Омск</td>\n",
       "      <td>free</td>\n",
       "      <td>2515.690719</td>\n",
       "      <td>14.944286</td>\n",
       "      <td>2021-01-02</td>\n",
       "      <td>1</td>\n",
       "      <td>8</td>\n",
       "      <td>50</td>\n",
       "      <td>0</td>\n",
       "    </tr>\n",
       "    <tr>\n",
       "      <th>6501</th>\n",
       "      <td>700</td>\n",
       "      <td>Айдар</td>\n",
       "      <td>22</td>\n",
       "      <td>Омск</td>\n",
       "      <td>free</td>\n",
       "      <td>846.932642</td>\n",
       "      <td>16.234663</td>\n",
       "      <td>2021-02-01</td>\n",
       "      <td>2</td>\n",
       "      <td>8</td>\n",
       "      <td>50</td>\n",
       "      <td>0</td>\n",
       "    </tr>\n",
       "    <tr>\n",
       "      <th>6502</th>\n",
       "      <td>700</td>\n",
       "      <td>Айдар</td>\n",
       "      <td>22</td>\n",
       "      <td>Омск</td>\n",
       "      <td>free</td>\n",
       "      <td>4004.434142</td>\n",
       "      <td>20.016628</td>\n",
       "      <td>2021-02-04</td>\n",
       "      <td>2</td>\n",
       "      <td>8</td>\n",
       "      <td>50</td>\n",
       "      <td>0</td>\n",
       "    </tr>\n",
       "    <tr>\n",
       "      <th>6503</th>\n",
       "      <td>700</td>\n",
       "      <td>Айдар</td>\n",
       "      <td>22</td>\n",
       "      <td>Омск</td>\n",
       "      <td>free</td>\n",
       "      <td>1205.911290</td>\n",
       "      <td>9.782872</td>\n",
       "      <td>2021-02-10</td>\n",
       "      <td>2</td>\n",
       "      <td>8</td>\n",
       "      <td>50</td>\n",
       "      <td>0</td>\n",
       "    </tr>\n",
       "    <tr>\n",
       "      <th>6504</th>\n",
       "      <td>700</td>\n",
       "      <td>Айдар</td>\n",
       "      <td>22</td>\n",
       "      <td>Омск</td>\n",
       "      <td>free</td>\n",
       "      <td>3047.379435</td>\n",
       "      <td>17.427673</td>\n",
       "      <td>2021-02-14</td>\n",
       "      <td>2</td>\n",
       "      <td>8</td>\n",
       "      <td>50</td>\n",
       "      <td>0</td>\n",
       "    </tr>\n",
       "  </tbody>\n",
       "</table>\n",
       "</div>"
      ],
      "text/plain": [
       "      user_id   name  age  city subscription_type     distance   duration  \\\n",
       "6500      700  Айдар   22  Омск              free  2515.690719  14.944286   \n",
       "6501      700  Айдар   22  Омск              free   846.932642  16.234663   \n",
       "6502      700  Айдар   22  Омск              free  4004.434142  20.016628   \n",
       "6503      700  Айдар   22  Омск              free  1205.911290   9.782872   \n",
       "6504      700  Айдар   22  Омск              free  3047.379435  17.427673   \n",
       "\n",
       "           date  month  minute_price  start_ride_price  subscription_fee  \n",
       "6500 2021-01-02      1             8                50                 0  \n",
       "6501 2021-02-01      2             8                50                 0  \n",
       "6502 2021-02-04      2             8                50                 0  \n",
       "6503 2021-02-10      2             8                50                 0  \n",
       "6504 2021-02-14      2             8                50                 0  "
      ]
     },
     "metadata": {},
     "output_type": "display_data"
    },
    {
     "name": "stdout",
     "output_type": "stream",
     "text": [
      "Количество поездок пользователей без подписки (тариф 'free'): 11473\n",
      "\n",
      "Количество поездок пользователей без подписки (тариф 'free') в 2 раза больше доли поездок пользователей с подпиской (тариф 'ultra')\n"
     ]
    }
   ],
   "source": [
    "# Создаем таблицу с пользователями с подпиской (тариф 'ultra')\n",
    "ultra_subs = total_df.loc[total_df['subscription_type'] == 'ultra']\n",
    "display(ultra_subs.head())\n",
    "print('Количество поездок пользователей с подпиской (тариф \\'ultra\\'):', ultra_subs.shape[0])\n",
    "\n",
    "# Создаем таблицу с пользователями без подписки (тариф 'free')\n",
    "free_subs = total_df.loc[total_df['subscription_type'] == 'free']\n",
    "display(free_subs.head())\n",
    "print('Количество поездок пользователей без подписки (тариф \\'free\\'):', free_subs.shape[0])\n",
    "print()\n",
    "print('Количество поездок пользователей без подписки (тариф \\'free\\') в', round(free_subs.shape[0] / ultra_subs.shape[0]), 'раза больше доли поездок пользователей с подпиской (тариф \\'ultra\\')')"
   ]
  },
  {
   "cell_type": "markdown",
   "id": "b19156e7",
   "metadata": {},
   "source": [
    "### Визуализация данных о расстоянии и времени поездок для пользователей с подпиской и без"
   ]
  },
  {
   "cell_type": "code",
   "execution_count": 24,
   "id": "40b830dd",
   "metadata": {},
   "outputs": [
    {
     "data": {
      "image/png": "[encoded data removed]",
      "text/plain": [
       "<Figure size 720x504 with 1 Axes>"
      ]
     },
     "metadata": {
      "needs_background": "light"
     },
     "output_type": "display_data"
    }
   ],
   "source": [
    "# Построим совмещенный график с гистограммами по расстоянию поездки\n",
    "free_subs['distance'].plot(kind = 'hist', grid=True, figsize = (10,7), bins = 30, label='без подписки')\n",
    "ultra_subs['distance'].plot(kind = 'hist', grid=True, figsize = (10,7), bins = 30, label='с подпиской')\n",
    "plt.title('Дистанция одной поездки для пользователей с подпиской и без')\n",
    "plt.xlabel('Расстояние в метрах')\n",
    "plt.ylabel('Количество пользователей')\n",
    "plt.legend(loc='best')\n",
    "plt.show()"
   ]
  },
  {
   "cell_type": "code",
   "execution_count": 25,
   "id": "6d05c521",
   "metadata": {},
   "outputs": [
    {
     "data": {
      "image/png": "[encoded data removed]",
      "text/plain": [
       "<Figure size 720x504 with 1 Axes>"
      ]
     },
     "metadata": {
      "needs_background": "light"
     },
     "output_type": "display_data"
    }
   ],
   "source": [
    "# Построим совмещенный график с гистограммами по продолжительности поездки\n",
    "free_subs['duration'].plot(kind = 'hist', grid=True, figsize = (10,7), bins = 30, label='без подписки')\n",
    "ultra_subs['duration'].plot(kind = 'hist', grid=True, figsize = (10,7), bins = 30, label='с подпиской')\n",
    "plt.title('Продолжительность одной поездки пользователей с подпиской и без')\n",
    "plt.xlabel('Длительность поездки в минутах')\n",
    "plt.ylabel('Количество пользователей')\n",
    "plt.legend(loc='best')\n",
    "plt.show()"
   ]
  },
  {
   "cell_type": "code",
   "execution_count": 26,
   "id": "e3c4a40d",
   "metadata": {},
   "outputs": [
    {
     "data": {
      "text/html": [
       "<div>\n",
       "<style scoped>\n",
       "    .dataframe tbody tr th:only-of-type {\n",
       "        vertical-align: middle;\n",
       "    }\n",
       "\n",
       "    .dataframe tbody tr th {\n",
       "        vertical-align: top;\n",
       "    }\n",
       "\n",
       "    .dataframe thead th {\n",
       "        text-align: right;\n",
       "    }\n",
       "</style>\n",
       "<table border=\"1\" class=\"dataframe\">\n",
       "  <thead>\n",
       "    <tr style=\"text-align: right;\">\n",
       "      <th></th>\n",
       "      <th>user_id</th>\n",
       "      <th>age</th>\n",
       "      <th>distance</th>\n",
       "      <th>duration</th>\n",
       "      <th>month</th>\n",
       "      <th>minute_price</th>\n",
       "      <th>start_ride_price</th>\n",
       "      <th>subscription_fee</th>\n",
       "    </tr>\n",
       "  </thead>\n",
       "  <tbody>\n",
       "    <tr>\n",
       "      <th>count</th>\n",
       "      <td>-4973.0</td>\n",
       "      <td>-4973.0</td>\n",
       "      <td>-4973.0</td>\n",
       "      <td>-4973.0</td>\n",
       "      <td>-4973.0</td>\n",
       "      <td>-4973.0</td>\n",
       "      <td>-4973.0</td>\n",
       "      <td>-4973.0</td>\n",
       "    </tr>\n",
       "    <tr>\n",
       "      <th>mean</th>\n",
       "      <td>-772.0</td>\n",
       "      <td>0.0</td>\n",
       "      <td>87.0</td>\n",
       "      <td>1.0</td>\n",
       "      <td>-0.0</td>\n",
       "      <td>-2.0</td>\n",
       "      <td>-50.0</td>\n",
       "      <td>199.0</td>\n",
       "    </tr>\n",
       "    <tr>\n",
       "      <th>std</th>\n",
       "      <td>-40.0</td>\n",
       "      <td>0.0</td>\n",
       "      <td>-399.0</td>\n",
       "      <td>-1.0</td>\n",
       "      <td>-0.0</td>\n",
       "      <td>0.0</td>\n",
       "      <td>0.0</td>\n",
       "      <td>0.0</td>\n",
       "    </tr>\n",
       "    <tr>\n",
       "      <th>min</th>\n",
       "      <td>-699.0</td>\n",
       "      <td>0.0</td>\n",
       "      <td>243.0</td>\n",
       "      <td>2.0</td>\n",
       "      <td>0.0</td>\n",
       "      <td>-2.0</td>\n",
       "      <td>-50.0</td>\n",
       "      <td>199.0</td>\n",
       "    </tr>\n",
       "    <tr>\n",
       "      <th>25%</th>\n",
       "      <td>-740.0</td>\n",
       "      <td>0.0</td>\n",
       "      <td>425.0</td>\n",
       "      <td>1.0</td>\n",
       "      <td>0.0</td>\n",
       "      <td>-2.0</td>\n",
       "      <td>-50.0</td>\n",
       "      <td>199.0</td>\n",
       "    </tr>\n",
       "    <tr>\n",
       "      <th>50%</th>\n",
       "      <td>-772.0</td>\n",
       "      <td>0.0</td>\n",
       "      <td>47.0</td>\n",
       "      <td>1.0</td>\n",
       "      <td>-1.0</td>\n",
       "      <td>-2.0</td>\n",
       "      <td>-50.0</td>\n",
       "      <td>199.0</td>\n",
       "    </tr>\n",
       "    <tr>\n",
       "      <th>75%</th>\n",
       "      <td>-804.0</td>\n",
       "      <td>0.0</td>\n",
       "      <td>-323.0</td>\n",
       "      <td>0.0</td>\n",
       "      <td>0.0</td>\n",
       "      <td>-2.0</td>\n",
       "      <td>-50.0</td>\n",
       "      <td>199.0</td>\n",
       "    </tr>\n",
       "    <tr>\n",
       "      <th>max</th>\n",
       "      <td>-835.0</td>\n",
       "      <td>-5.0</td>\n",
       "      <td>-1366.0</td>\n",
       "      <td>6.0</td>\n",
       "      <td>0.0</td>\n",
       "      <td>-2.0</td>\n",
       "      <td>-50.0</td>\n",
       "      <td>199.0</td>\n",
       "    </tr>\n",
       "  </tbody>\n",
       "</table>\n",
       "</div>"
      ],
      "text/plain": [
       "       user_id     age  distance  duration   month  minute_price  \\\n",
       "count  -4973.0 -4973.0   -4973.0   -4973.0 -4973.0       -4973.0   \n",
       "mean    -772.0     0.0      87.0       1.0    -0.0          -2.0   \n",
       "std      -40.0     0.0    -399.0      -1.0    -0.0           0.0   \n",
       "min     -699.0     0.0     243.0       2.0     0.0          -2.0   \n",
       "25%     -740.0     0.0     425.0       1.0     0.0          -2.0   \n",
       "50%     -772.0     0.0      47.0       1.0    -1.0          -2.0   \n",
       "75%     -804.0     0.0    -323.0       0.0     0.0          -2.0   \n",
       "max     -835.0    -5.0   -1366.0       6.0     0.0          -2.0   \n",
       "\n",
       "       start_ride_price  subscription_fee  \n",
       "count           -4973.0           -4973.0  \n",
       "mean              -50.0             199.0  \n",
       "std                 0.0               0.0  \n",
       "min               -50.0             199.0  \n",
       "25%               -50.0             199.0  \n",
       "50%               -50.0             199.0  \n",
       "75%               -50.0             199.0  \n",
       "max               -50.0             199.0  "
      ]
     },
     "metadata": {},
     "output_type": "display_data"
    }
   ],
   "source": [
    "# Посмотрим на разницу в описательных характеристиках датафреймов с подпиской и без\n",
    "display(round(ultra_subs.describe() - free_subs.describe()))"
   ]
  },
  {
   "cell_type": "markdown",
   "id": "120b8907",
   "metadata": {},
   "source": [
    "**Выводы по зависимости расстояния и продолжительности поездки от типа подписки:**\n",
    "1. **Расстояние**: дистанция поездки оказалась сильно зависима от фактора наличия подписки. В среднем пользователи с тарифом \"Ultra\" проезжают за одну поездку на 87 метров больше, чем обладатели тарифа \"Free\". Разрыв между минимальными значениями по подписке и без составляет 399 метров, а между максимальными - 1.4 км. По гистограммам можно выделить два пика распределения частоты поездок. Первый небольшой пик на меньших дистанциях и второй основной пик на больших дистанциях. Так, меньший пик тарифа \"Ultra\" находится в районе 1000 метров, а основной в районе 3100 метров. Меньший пик тарифа \"Free\" расположен в районе 600 метров, а основной - 2500 метров. В целом пики тарифа \"Ultra\" более выражены и имеют меньший разброс, чем на тарифе \"Free\".\n",
    "2. **Продолжительность**: пользователи с тарифом \"Ultra\" катаются дольше обладателей тарифа \"Free\": минимальное время поездки по подписке больше на 2 минуты, а максимальное - больше на 6 минут. Пик распределения частоты поездок по обоим тарифам приходится на 18 минут."
   ]
  },
  {
   "cell_type": "markdown",
   "id": "402d620f",
   "metadata": {},
   "source": [
    "## Подсчёт выручки"
   ]
  },
  {
   "cell_type": "markdown",
   "id": "1e57c23e",
   "metadata": {},
   "source": [
    "5.1 Найдем суммарное расстояние, количество поездок и суммарное время для каждого пользователя за каждый месяц на основе данных из объединенного датафрейма 'total_df'."
   ]
  },
  {
   "cell_type": "code",
   "execution_count": 27,
   "id": "0d33e856",
   "metadata": {},
   "outputs": [
    {
     "data": {
      "text/html": [
       "<div>\n",
       "<style scoped>\n",
       "    .dataframe tbody tr th:only-of-type {\n",
       "        vertical-align: middle;\n",
       "    }\n",
       "\n",
       "    .dataframe tbody tr th {\n",
       "        vertical-align: top;\n",
       "    }\n",
       "\n",
       "    .dataframe thead th {\n",
       "        text-align: right;\n",
       "    }\n",
       "</style>\n",
       "<table border=\"1\" class=\"dataframe\">\n",
       "  <thead>\n",
       "    <tr style=\"text-align: right;\">\n",
       "      <th></th>\n",
       "      <th>user_id</th>\n",
       "      <th>name</th>\n",
       "      <th>age</th>\n",
       "      <th>city</th>\n",
       "      <th>subscription_type</th>\n",
       "      <th>distance</th>\n",
       "      <th>duration</th>\n",
       "      <th>date</th>\n",
       "      <th>month</th>\n",
       "      <th>minute_price</th>\n",
       "      <th>start_ride_price</th>\n",
       "      <th>subscription_fee</th>\n",
       "    </tr>\n",
       "  </thead>\n",
       "  <tbody>\n",
       "    <tr>\n",
       "      <th>0</th>\n",
       "      <td>1</td>\n",
       "      <td>Кира</td>\n",
       "      <td>22</td>\n",
       "      <td>Тюмень</td>\n",
       "      <td>ultra</td>\n",
       "      <td>4409.919140</td>\n",
       "      <td>26</td>\n",
       "      <td>2021-01-01</td>\n",
       "      <td>1</td>\n",
       "      <td>6</td>\n",
       "      <td>0</td>\n",
       "      <td>199</td>\n",
       "    </tr>\n",
       "    <tr>\n",
       "      <th>1</th>\n",
       "      <td>1</td>\n",
       "      <td>Кира</td>\n",
       "      <td>22</td>\n",
       "      <td>Тюмень</td>\n",
       "      <td>ultra</td>\n",
       "      <td>2617.592153</td>\n",
       "      <td>16</td>\n",
       "      <td>2021-01-18</td>\n",
       "      <td>1</td>\n",
       "      <td>6</td>\n",
       "      <td>0</td>\n",
       "      <td>199</td>\n",
       "    </tr>\n",
       "    <tr>\n",
       "      <th>2</th>\n",
       "      <td>1</td>\n",
       "      <td>Кира</td>\n",
       "      <td>22</td>\n",
       "      <td>Тюмень</td>\n",
       "      <td>ultra</td>\n",
       "      <td>754.159807</td>\n",
       "      <td>7</td>\n",
       "      <td>2021-04-20</td>\n",
       "      <td>4</td>\n",
       "      <td>6</td>\n",
       "      <td>0</td>\n",
       "      <td>199</td>\n",
       "    </tr>\n",
       "    <tr>\n",
       "      <th>3</th>\n",
       "      <td>1</td>\n",
       "      <td>Кира</td>\n",
       "      <td>22</td>\n",
       "      <td>Тюмень</td>\n",
       "      <td>ultra</td>\n",
       "      <td>2694.783254</td>\n",
       "      <td>19</td>\n",
       "      <td>2021-08-11</td>\n",
       "      <td>8</td>\n",
       "      <td>6</td>\n",
       "      <td>0</td>\n",
       "      <td>199</td>\n",
       "    </tr>\n",
       "    <tr>\n",
       "      <th>4</th>\n",
       "      <td>1</td>\n",
       "      <td>Кира</td>\n",
       "      <td>22</td>\n",
       "      <td>Тюмень</td>\n",
       "      <td>ultra</td>\n",
       "      <td>4028.687306</td>\n",
       "      <td>27</td>\n",
       "      <td>2021-08-28</td>\n",
       "      <td>8</td>\n",
       "      <td>6</td>\n",
       "      <td>0</td>\n",
       "      <td>199</td>\n",
       "    </tr>\n",
       "  </tbody>\n",
       "</table>\n",
       "</div>"
      ],
      "text/plain": [
       "   user_id  name  age    city subscription_type     distance  duration  \\\n",
       "0        1  Кира   22  Тюмень             ultra  4409.919140        26   \n",
       "1        1  Кира   22  Тюмень             ultra  2617.592153        16   \n",
       "2        1  Кира   22  Тюмень             ultra   754.159807         7   \n",
       "3        1  Кира   22  Тюмень             ultra  2694.783254        19   \n",
       "4        1  Кира   22  Тюмень             ultra  4028.687306        27   \n",
       "\n",
       "        date  month  minute_price  start_ride_price  subscription_fee  \n",
       "0 2021-01-01      1             6                 0               199  \n",
       "1 2021-01-18      1             6                 0               199  \n",
       "2 2021-04-20      4             6                 0               199  \n",
       "3 2021-08-11      8             6                 0               199  \n",
       "4 2021-08-28      8             6                 0               199  "
      ]
     },
     "execution_count": 27,
     "metadata": {},
     "output_type": "execute_result"
    }
   ],
   "source": [
    "# Округлим время поездки до следующего целого числа в столбце 'duration', изменим тип данных на целочисленный\n",
    "total_df['duration'] = np.ceil(total_df['duration'])\n",
    "total_df['duration'] = total_df['duration'].astype('int')\n",
    "total_df.head()"
   ]
  },
  {
   "cell_type": "code",
   "execution_count": 28,
   "id": "69ce1ca6",
   "metadata": {
    "scrolled": true
   },
   "outputs": [
    {
     "data": {
      "text/html": [
       "<div>\n",
       "<style scoped>\n",
       "    .dataframe tbody tr th:only-of-type {\n",
       "        vertical-align: middle;\n",
       "    }\n",
       "\n",
       "    .dataframe tbody tr th {\n",
       "        vertical-align: top;\n",
       "    }\n",
       "\n",
       "    .dataframe thead th {\n",
       "        text-align: right;\n",
       "    }\n",
       "</style>\n",
       "<table border=\"1\" class=\"dataframe\">\n",
       "  <thead>\n",
       "    <tr style=\"text-align: right;\">\n",
       "      <th></th>\n",
       "      <th>user_id</th>\n",
       "      <th>month</th>\n",
       "      <th>distance_count</th>\n",
       "      <th>distance_sum</th>\n",
       "      <th>duration_sum</th>\n",
       "    </tr>\n",
       "  </thead>\n",
       "  <tbody>\n",
       "    <tr>\n",
       "      <th>0</th>\n",
       "      <td>1</td>\n",
       "      <td>1</td>\n",
       "      <td>2</td>\n",
       "      <td>7027.511294</td>\n",
       "      <td>42</td>\n",
       "    </tr>\n",
       "    <tr>\n",
       "      <th>1</th>\n",
       "      <td>1</td>\n",
       "      <td>4</td>\n",
       "      <td>1</td>\n",
       "      <td>754.159807</td>\n",
       "      <td>7</td>\n",
       "    </tr>\n",
       "    <tr>\n",
       "      <th>2</th>\n",
       "      <td>1</td>\n",
       "      <td>8</td>\n",
       "      <td>2</td>\n",
       "      <td>6723.470560</td>\n",
       "      <td>46</td>\n",
       "    </tr>\n",
       "    <tr>\n",
       "      <th>3</th>\n",
       "      <td>1</td>\n",
       "      <td>10</td>\n",
       "      <td>2</td>\n",
       "      <td>5809.911100</td>\n",
       "      <td>32</td>\n",
       "    </tr>\n",
       "    <tr>\n",
       "      <th>4</th>\n",
       "      <td>1</td>\n",
       "      <td>11</td>\n",
       "      <td>3</td>\n",
       "      <td>7003.499363</td>\n",
       "      <td>56</td>\n",
       "    </tr>\n",
       "    <tr>\n",
       "      <th>...</th>\n",
       "      <td>...</td>\n",
       "      <td>...</td>\n",
       "      <td>...</td>\n",
       "      <td>...</td>\n",
       "      <td>...</td>\n",
       "    </tr>\n",
       "    <tr>\n",
       "      <th>11295</th>\n",
       "      <td>1534</td>\n",
       "      <td>6</td>\n",
       "      <td>2</td>\n",
       "      <td>3409.468534</td>\n",
       "      <td>26</td>\n",
       "    </tr>\n",
       "    <tr>\n",
       "      <th>11296</th>\n",
       "      <td>1534</td>\n",
       "      <td>8</td>\n",
       "      <td>2</td>\n",
       "      <td>7622.453034</td>\n",
       "      <td>48</td>\n",
       "    </tr>\n",
       "    <tr>\n",
       "      <th>11297</th>\n",
       "      <td>1534</td>\n",
       "      <td>9</td>\n",
       "      <td>1</td>\n",
       "      <td>4928.173852</td>\n",
       "      <td>23</td>\n",
       "    </tr>\n",
       "    <tr>\n",
       "      <th>11298</th>\n",
       "      <td>1534</td>\n",
       "      <td>11</td>\n",
       "      <td>4</td>\n",
       "      <td>13350.015305</td>\n",
       "      <td>78</td>\n",
       "    </tr>\n",
       "    <tr>\n",
       "      <th>11299</th>\n",
       "      <td>1534</td>\n",
       "      <td>12</td>\n",
       "      <td>1</td>\n",
       "      <td>2371.711192</td>\n",
       "      <td>16</td>\n",
       "    </tr>\n",
       "  </tbody>\n",
       "</table>\n",
       "<p>11300 rows × 5 columns</p>\n",
       "</div>"
      ],
      "text/plain": [
       "       user_id  month  distance_count  distance_sum  duration_sum\n",
       "0            1      1               2   7027.511294            42\n",
       "1            1      4               1    754.159807             7\n",
       "2            1      8               2   6723.470560            46\n",
       "3            1     10               2   5809.911100            32\n",
       "4            1     11               3   7003.499363            56\n",
       "...        ...    ...             ...           ...           ...\n",
       "11295     1534      6               2   3409.468534            26\n",
       "11296     1534      8               2   7622.453034            48\n",
       "11297     1534      9               1   4928.173852            23\n",
       "11298     1534     11               4  13350.015305            78\n",
       "11299     1534     12               1   2371.711192            16\n",
       "\n",
       "[11300 rows x 5 columns]"
      ]
     },
     "execution_count": 28,
     "metadata": {},
     "output_type": "execute_result"
    }
   ],
   "source": [
    "# Создаем сводную таблицу с агрегированными данными по пользователям, месяцам, дистанции и продолжительности поездки\n",
    "\n",
    "users_months_duration = total_df.pivot_table(index=('user_id', 'month'), values=('distance','duration'), aggfunc=('count', 'sum')).reset_index()\n",
    "\n",
    "# Убираем двухэтажные наименования столбцов\n",
    "users_months_duration.columns = ['user_id', 'month', 'distance_count', 'distance_sum', 'duration_count', 'duration_sum']\n",
    "# Удалим из таблицы дубль столбца 'count' (количество поездок)\n",
    "users_months_duration = users_months_duration.drop(columns=['duration_count'])\n",
    "users_months_duration"
   ]
  },
  {
   "cell_type": "markdown",
   "id": "2fc41adc",
   "metadata": {},
   "source": [
    "5.2. Добавим в 'users_months_duration' столбец с помесячной выручкой, которую принёс каждый пользователь.\\\n",
    "Помесячная выручка будет рассчитана по формуле: *стоимость старта поездки * количество поездок + стоимость одной минуты поездки * общая продолжительность всех поездок в минутах + стоимость подписки.*"
   ]
  },
  {
   "cell_type": "code",
   "execution_count": 29,
   "id": "1b506a55",
   "metadata": {},
   "outputs": [
    {
     "data": {
      "text/html": [
       "<div>\n",
       "<style scoped>\n",
       "    .dataframe tbody tr th:only-of-type {\n",
       "        vertical-align: middle;\n",
       "    }\n",
       "\n",
       "    .dataframe tbody tr th {\n",
       "        vertical-align: top;\n",
       "    }\n",
       "\n",
       "    .dataframe thead th {\n",
       "        text-align: right;\n",
       "    }\n",
       "</style>\n",
       "<table border=\"1\" class=\"dataframe\">\n",
       "  <thead>\n",
       "    <tr style=\"text-align: right;\">\n",
       "      <th></th>\n",
       "      <th>user_id</th>\n",
       "      <th>month</th>\n",
       "      <th>distance_count</th>\n",
       "      <th>distance_sum</th>\n",
       "      <th>duration_sum</th>\n",
       "      <th>name</th>\n",
       "      <th>age</th>\n",
       "      <th>city</th>\n",
       "      <th>subscription_type</th>\n",
       "      <th>minute_price</th>\n",
       "      <th>start_ride_price</th>\n",
       "      <th>subscription_fee</th>\n",
       "      <th>revenue</th>\n",
       "    </tr>\n",
       "  </thead>\n",
       "  <tbody>\n",
       "    <tr>\n",
       "      <th>0</th>\n",
       "      <td>1</td>\n",
       "      <td>1</td>\n",
       "      <td>2</td>\n",
       "      <td>7027.511294</td>\n",
       "      <td>42</td>\n",
       "      <td>Кира</td>\n",
       "      <td>22</td>\n",
       "      <td>Тюмень</td>\n",
       "      <td>ultra</td>\n",
       "      <td>6</td>\n",
       "      <td>0</td>\n",
       "      <td>199</td>\n",
       "      <td>451</td>\n",
       "    </tr>\n",
       "    <tr>\n",
       "      <th>1</th>\n",
       "      <td>1</td>\n",
       "      <td>4</td>\n",
       "      <td>1</td>\n",
       "      <td>754.159807</td>\n",
       "      <td>7</td>\n",
       "      <td>Кира</td>\n",
       "      <td>22</td>\n",
       "      <td>Тюмень</td>\n",
       "      <td>ultra</td>\n",
       "      <td>6</td>\n",
       "      <td>0</td>\n",
       "      <td>199</td>\n",
       "      <td>241</td>\n",
       "    </tr>\n",
       "    <tr>\n",
       "      <th>2</th>\n",
       "      <td>1</td>\n",
       "      <td>8</td>\n",
       "      <td>2</td>\n",
       "      <td>6723.470560</td>\n",
       "      <td>46</td>\n",
       "      <td>Кира</td>\n",
       "      <td>22</td>\n",
       "      <td>Тюмень</td>\n",
       "      <td>ultra</td>\n",
       "      <td>6</td>\n",
       "      <td>0</td>\n",
       "      <td>199</td>\n",
       "      <td>475</td>\n",
       "    </tr>\n",
       "    <tr>\n",
       "      <th>3</th>\n",
       "      <td>1</td>\n",
       "      <td>10</td>\n",
       "      <td>2</td>\n",
       "      <td>5809.911100</td>\n",
       "      <td>32</td>\n",
       "      <td>Кира</td>\n",
       "      <td>22</td>\n",
       "      <td>Тюмень</td>\n",
       "      <td>ultra</td>\n",
       "      <td>6</td>\n",
       "      <td>0</td>\n",
       "      <td>199</td>\n",
       "      <td>391</td>\n",
       "    </tr>\n",
       "    <tr>\n",
       "      <th>4</th>\n",
       "      <td>1</td>\n",
       "      <td>11</td>\n",
       "      <td>3</td>\n",
       "      <td>7003.499363</td>\n",
       "      <td>56</td>\n",
       "      <td>Кира</td>\n",
       "      <td>22</td>\n",
       "      <td>Тюмень</td>\n",
       "      <td>ultra</td>\n",
       "      <td>6</td>\n",
       "      <td>0</td>\n",
       "      <td>199</td>\n",
       "      <td>535</td>\n",
       "    </tr>\n",
       "    <tr>\n",
       "      <th>...</th>\n",
       "      <td>...</td>\n",
       "      <td>...</td>\n",
       "      <td>...</td>\n",
       "      <td>...</td>\n",
       "      <td>...</td>\n",
       "      <td>...</td>\n",
       "      <td>...</td>\n",
       "      <td>...</td>\n",
       "      <td>...</td>\n",
       "      <td>...</td>\n",
       "      <td>...</td>\n",
       "      <td>...</td>\n",
       "      <td>...</td>\n",
       "    </tr>\n",
       "    <tr>\n",
       "      <th>11295</th>\n",
       "      <td>1534</td>\n",
       "      <td>6</td>\n",
       "      <td>2</td>\n",
       "      <td>3409.468534</td>\n",
       "      <td>26</td>\n",
       "      <td>Альберт</td>\n",
       "      <td>25</td>\n",
       "      <td>Краснодар</td>\n",
       "      <td>free</td>\n",
       "      <td>8</td>\n",
       "      <td>50</td>\n",
       "      <td>0</td>\n",
       "      <td>308</td>\n",
       "    </tr>\n",
       "    <tr>\n",
       "      <th>11296</th>\n",
       "      <td>1534</td>\n",
       "      <td>8</td>\n",
       "      <td>2</td>\n",
       "      <td>7622.453034</td>\n",
       "      <td>48</td>\n",
       "      <td>Альберт</td>\n",
       "      <td>25</td>\n",
       "      <td>Краснодар</td>\n",
       "      <td>free</td>\n",
       "      <td>8</td>\n",
       "      <td>50</td>\n",
       "      <td>0</td>\n",
       "      <td>484</td>\n",
       "    </tr>\n",
       "    <tr>\n",
       "      <th>11297</th>\n",
       "      <td>1534</td>\n",
       "      <td>9</td>\n",
       "      <td>1</td>\n",
       "      <td>4928.173852</td>\n",
       "      <td>23</td>\n",
       "      <td>Альберт</td>\n",
       "      <td>25</td>\n",
       "      <td>Краснодар</td>\n",
       "      <td>free</td>\n",
       "      <td>8</td>\n",
       "      <td>50</td>\n",
       "      <td>0</td>\n",
       "      <td>234</td>\n",
       "    </tr>\n",
       "    <tr>\n",
       "      <th>11298</th>\n",
       "      <td>1534</td>\n",
       "      <td>11</td>\n",
       "      <td>4</td>\n",
       "      <td>13350.015305</td>\n",
       "      <td>78</td>\n",
       "      <td>Альберт</td>\n",
       "      <td>25</td>\n",
       "      <td>Краснодар</td>\n",
       "      <td>free</td>\n",
       "      <td>8</td>\n",
       "      <td>50</td>\n",
       "      <td>0</td>\n",
       "      <td>824</td>\n",
       "    </tr>\n",
       "    <tr>\n",
       "      <th>11299</th>\n",
       "      <td>1534</td>\n",
       "      <td>12</td>\n",
       "      <td>1</td>\n",
       "      <td>2371.711192</td>\n",
       "      <td>16</td>\n",
       "      <td>Альберт</td>\n",
       "      <td>25</td>\n",
       "      <td>Краснодар</td>\n",
       "      <td>free</td>\n",
       "      <td>8</td>\n",
       "      <td>50</td>\n",
       "      <td>0</td>\n",
       "      <td>178</td>\n",
       "    </tr>\n",
       "  </tbody>\n",
       "</table>\n",
       "<p>11300 rows × 13 columns</p>\n",
       "</div>"
      ],
      "text/plain": [
       "       user_id  month  distance_count  distance_sum  duration_sum     name  \\\n",
       "0            1      1               2   7027.511294            42     Кира   \n",
       "1            1      4               1    754.159807             7     Кира   \n",
       "2            1      8               2   6723.470560            46     Кира   \n",
       "3            1     10               2   5809.911100            32     Кира   \n",
       "4            1     11               3   7003.499363            56     Кира   \n",
       "...        ...    ...             ...           ...           ...      ...   \n",
       "11295     1534      6               2   3409.468534            26  Альберт   \n",
       "11296     1534      8               2   7622.453034            48  Альберт   \n",
       "11297     1534      9               1   4928.173852            23  Альберт   \n",
       "11298     1534     11               4  13350.015305            78  Альберт   \n",
       "11299     1534     12               1   2371.711192            16  Альберт   \n",
       "\n",
       "       age       city subscription_type  minute_price  start_ride_price  \\\n",
       "0       22     Тюмень             ultra             6                 0   \n",
       "1       22     Тюмень             ultra             6                 0   \n",
       "2       22     Тюмень             ultra             6                 0   \n",
       "3       22     Тюмень             ultra             6                 0   \n",
       "4       22     Тюмень             ultra             6                 0   \n",
       "...    ...        ...               ...           ...               ...   \n",
       "11295   25  Краснодар              free             8                50   \n",
       "11296   25  Краснодар              free             8                50   \n",
       "11297   25  Краснодар              free             8                50   \n",
       "11298   25  Краснодар              free             8                50   \n",
       "11299   25  Краснодар              free             8                50   \n",
       "\n",
       "       subscription_fee  revenue  \n",
       "0                   199      451  \n",
       "1                   199      241  \n",
       "2                   199      475  \n",
       "3                   199      391  \n",
       "4                   199      535  \n",
       "...                 ...      ...  \n",
       "11295                 0      308  \n",
       "11296                 0      484  \n",
       "11297                 0      234  \n",
       "11298                 0      824  \n",
       "11299                 0      178  \n",
       "\n",
       "[11300 rows x 13 columns]"
      ]
     },
     "execution_count": 29,
     "metadata": {},
     "output_type": "execute_result"
    }
   ],
   "source": [
    "# Добавим новые данные из датафреймов df_users, df_subs для расчета выручки\n",
    "users_months_duration = users_months_duration.merge(df_users, how='left', on='user_id')\n",
    "users_months_duration = users_months_duration.merge(df_subs, how = 'left', on='subscription_type')\n",
    "\n",
    "# Добавляем столбец с выручкой и считаем выручку для каждого пользователя за каждый месяц\n",
    "users_months_duration['revenue'] = (\n",
    "    (total_df['start_ride_price'] * users_months_duration['distance_count']) \n",
    "    + (total_df['minute_price'] * users_months_duration['duration_sum']) \n",
    "    + total_df['subscription_fee']\n",
    ")\n",
    "\n",
    "#Изменим тип данных по столбцу 'revenue' на целочисленный\n",
    "users_months_duration['revenue'] = users_months_duration['revenue'].astype('int')\n",
    "users_months_duration"
   ]
  },
  {
   "cell_type": "markdown",
   "id": "115ce022",
   "metadata": {},
   "source": [
    "В результате проделанной работы создана агрегированная таблица, содержащая следующие сведения о пользователях сервиса:\n",
    "- distance_count - количество поездок пользователя за месяц;\n",
    "- distance_count - общая дистанция пользователя за месяц;\n",
    "- duration_sum - общая продолжительность поездок пользователя за месяц;\n",
    "- revenue - сумма выручки, которую принёс пользователь за месяц."
   ]
  },
  {
   "cell_type": "markdown",
   "id": "41545ac0",
   "metadata": {},
   "source": [
    "## Проверка гипотез"
   ]
  },
  {
   "cell_type": "markdown",
   "id": "5f03e067",
   "metadata": {},
   "source": [
    "В данном блоке исследуем ряд гипотез, поставленных перед командой аналитики GoFast."
   ]
  },
  {
   "cell_type": "markdown",
   "id": "98f7e2bd",
   "metadata": {},
   "source": [
    "**6.1 Тратят ли пользователи с подпиской больше времени на поездки?**"
   ]
  },
  {
   "cell_type": "markdown",
   "id": "28395671",
   "metadata": {},
   "source": [
    "*Нулевая гипотеза (H0):* Средняя продолжительность поездок с подпиской 'ultra' и 'free' равна.\\\n",
    "*Альтернативная гипотеза (Н1):* Средняя продолжительность поездок с подпиской 'ultra' больше, чем с подпиской 'free'."
   ]
  },
  {
   "cell_type": "code",
   "execution_count": 30,
   "id": "6746083c",
   "metadata": {},
   "outputs": [
    {
     "name": "stdout",
     "output_type": "stream",
     "text": [
      "p-значение: 4.704468074453899e-28\n",
      "Отвергаем нулевую гипотезу\n"
     ]
    }
   ],
   "source": [
    "# Проверим равенство средних 2-х генеральных совокупностей\n",
    "\n",
    "alpha = 0.05 # уровень статистической значимости\n",
    "\n",
    "# Альтенативная гипотеза является правосторонней, используем параметр 'greater'\n",
    "results_6_1 = st.ttest_ind(ultra_subs['duration'], free_subs['duration'], alternative='greater')\n",
    "\n",
    "print('p-значение:', results_6_1.pvalue) # расчет p-value\n",
    "\n",
    "if results_6_1.pvalue < alpha:\n",
    "    print('Отвергаем нулевую гипотезу')\n",
    "else:\n",
    "    print('Не отвергаем нулевую гипотезу')"
   ]
  },
  {
   "cell_type": "code",
   "execution_count": 31,
   "id": "a7c98831",
   "metadata": {},
   "outputs": [
    {
     "name": "stdout",
     "output_type": "stream",
     "text": [
      "Средняя продолжительность поездок c подпиской (в минутах): 18.54\n",
      "Средняя продолжительность поездок без подписки (в минутах): 17.53\n"
     ]
    }
   ],
   "source": [
    "# Контрольная проверка средней продолжительности поездки\n",
    "print('Средняя продолжительность поездок c подпиской (в минутах):', round(ultra_subs['duration'].mean(),2))\n",
    "print('Средняя продолжительность поездок без подписки (в минутах):', round(free_subs['duration'].mean(),2))"
   ]
  },
  {
   "cell_type": "markdown",
   "id": "47e66c6f",
   "metadata": {},
   "source": [
    "**Вывод**: Нулевая гипотеза отвергнута в пользу альтернативной. Таким образом можно утверждать, что *средняя продолжительность поездок с подпиской 'ultra' больше, чем с подпиской 'free'.*"
   ]
  },
  {
   "cell_type": "markdown",
   "id": "027321c4",
   "metadata": {},
   "source": [
    "**6.2 Расстояние одной поездки в 3130 метров - оптимальное с точки зрения износа самоката. Можно ли сказать, что среднее расстояние, которое проезжают пользователи с подпиской за одну поездку, не превышает 3130 метров?**"
   ]
  },
  {
   "cell_type": "markdown",
   "id": "8d35581a",
   "metadata": {},
   "source": [
    "*Нулевая гипотеза (H0):* Среднее расстояние поездки пользователи с подпиской 'ultra' равна 3130 метрам.\\\n",
    "*Альтернативная гипотеза (Н1):*  Среднее расстояние поездки пользователи с подпиской 'ultra' больше 3130 метров."
   ]
  },
  {
   "cell_type": "code",
   "execution_count": 32,
   "id": "932deb02",
   "metadata": {
    "scrolled": true
   },
   "outputs": [
    {
     "name": "stdout",
     "output_type": "stream",
     "text": [
      "p-значение: 0.9195368847849785\n",
      "Не отвергаем нулевую гипотезу\n"
     ]
    }
   ],
   "source": [
    "interested_value = 3130 # значение для сравнения\n",
    "\n",
    "alpha = 0.05 # уровень статистической значимости\n",
    "\n",
    "# Альтенативная гипотеза является правосторонней, используем параметр 'greater'\n",
    "results_6_2 = st.ttest_1samp(ultra_subs['distance'], interested_value, alternative='greater')\n",
    "\n",
    "print('p-значение:', results_6_2.pvalue)\n",
    "\n",
    "if results_6_2.pvalue < alpha:\n",
    "    print('Отвергаем нулевую гипотезу')\n",
    "else:\n",
    "    print('Не отвергаем нулевую гипотезу')"
   ]
  },
  {
   "cell_type": "code",
   "execution_count": 33,
   "id": "73dda499",
   "metadata": {},
   "outputs": [
    {
     "name": "stdout",
     "output_type": "stream",
     "text": [
      "Средняя дистанция поездки по подписке 'ultra' (в метрах): 3115.0\n"
     ]
    }
   ],
   "source": [
    "# Контрольная проверка среднего расстояния поездки\n",
    "print('Средняя дистанция поездки по подписке \\'ultra\\' (в метрах):', round(ultra_subs['distance'].mean(),0))"
   ]
  },
  {
   "cell_type": "markdown",
   "id": "40185835",
   "metadata": {},
   "source": [
    "**Вывод**: Не получилось отвергнуть нулевую гипотезу. Таким образом *средняя дистанция поездки по подписке 'ultra' действительно меньше или равна 3130 метров.*"
   ]
  },
  {
   "cell_type": "markdown",
   "id": "4b97e0ef",
   "metadata": {},
   "source": [
    "**6.3 Будет ли помесячная выручка от пользователей с подпиской по месяцам выше, чем выручка от пользователей без подписки?**"
   ]
  },
  {
   "cell_type": "markdown",
   "id": "bbee1d48",
   "metadata": {},
   "source": [
    "*Нулевая гипотеза (H0):* Средняя помесячная выручка от поездок с использованием подписки 'ultra' и подписки 'free' равны.\\\n",
    "*Альтернативная гипотеза (Н1):*  Средняя помесячная выручка от поездок с использованием подписки 'ultra' выше, чем выручка от подписки 'free'."
   ]
  },
  {
   "cell_type": "code",
   "execution_count": 34,
   "id": "a1c70ab8",
   "metadata": {},
   "outputs": [
    {
     "name": "stdout",
     "output_type": "stream",
     "text": [
      "p-значение: 1.057362827743691e-11\n",
      "Отвергаем нулевую гипотезу\n"
     ]
    }
   ],
   "source": [
    "# Создаем две выборки по типам подписки, где будет рассчитана месячная выручка в разрезе каждого пользователя\n",
    "users_months_duration_ultra = users_months_duration[users_months_duration['subscription_type'] == 'ultra']\n",
    "users_months_duration_free = users_months_duration[users_months_duration['subscription_type'] == 'free']\n",
    "\n",
    "alpha = 0.05 # уровень статистической значимости\n",
    "\n",
    "# Альтенативная гипотеза является правосторонней, используем параметр 'greater'\n",
    "results = st.ttest_ind(users_months_duration_ultra['revenue'], users_months_duration_free['revenue'], alternative='greater')\n",
    "\n",
    "print('p-значение:', results.pvalue)\n",
    "\n",
    "if results.pvalue < alpha:\n",
    "    print('Отвергаем нулевую гипотезу')\n",
    "else:\n",
    "    print('Не отвергаем нулевую гипотезу')"
   ]
  },
  {
   "cell_type": "code",
   "execution_count": 35,
   "id": "b88a5fc5",
   "metadata": {},
   "outputs": [
    {
     "name": "stdout",
     "output_type": "stream",
     "text": [
      "Средняя помесячная выручка от пользователей с подпиской 'ultra' (в рублях): 362.79\n",
      "Средняя помесячная выручка от пользователи без подписки (в рублях): 344.68\n"
     ]
    }
   ],
   "source": [
    "# Контрольная проверка выручки по подписке и без\n",
    "print('Средняя помесячная выручка от пользователей с подпиской \\'ultra\\' (в рублях):', round(users_months_duration_ultra['revenue'].mean(),2))\n",
    "print('Средняя помесячная выручка от пользователи без подписки (в рублях):', round(users_months_duration_free['revenue'].mean(),2))"
   ]
  },
  {
   "cell_type": "markdown",
   "id": "adb4878a",
   "metadata": {},
   "source": [
    "**Вывод**: Нулевая гипотеза отвергнута в пользу альтернативной. Таким образом *средняя помесячная выручка от поездок с использованием подписки 'ultra' действительно выше, чем выручка от пользователей с подпиской 'free'.*"
   ]
  },
  {
   "cell_type": "markdown",
   "id": "ebfc43ce",
   "metadata": {},
   "source": [
    "**6.4 Представьте такую ситуацию: техническая команда сервиса обновила сервера, с которыми взаимодействует мобильное приложение. Она надеется, что из-за этого количество обращений в техподдержку значимо снизилось. Некоторый файл содержит для каждого пользователя данные о количестве обращений до обновления и после него. Какой тест вам понадобился бы для проверки этой гипотезы?**"
   ]
  },
  {
   "cell_type": "markdown",
   "id": "534c6d0f",
   "metadata": {},
   "source": [
    "Поскольку данные содержат статистику обращений по одним и тем же уникальным пользователям, можно сделать вывод о зависимости двух выборок - до и после обновления серверов - между собой. Из этого следует необходимость **проверки гипотез о равенстве средних для зависимых(парных) выборок**. Для этого используем *метод scipy.stats.ttest_rel()* с передачей в него двух параметров: набор данных до обновления серверов и тот же набор после примененных изменений."
   ]
  },
  {
   "cell_type": "markdown",
   "id": "9e3e58e5",
   "metadata": {},
   "source": [
    "# Общий вывод исследования"
   ]
  },
  {
   "cell_type": "markdown",
   "id": "fde71d44",
   "metadata": {},
   "source": [
    "В ходе исследования был проведен анализ данных о пользователях сервиса аренды самокатов GoFast, собранных из 8 городов России по итогам 2021 года.\n",
    "По результатам необходимо отметить, что ключевым фактором, принципиально влияющим на выручку компании, оказался **тип подписки**, который выбирают пользователи на основании своих потребностей. Так, обладатели расширенной подписки \"Ultra\" демонстрируют наиболее углубленную статистику взаимодействия с сервисом, чем пользователи с упрощенным типом подписки \"Free\". Об этом свидетельствуют данные по следующим параметрам использования сервиса:\n",
    "1. *Дистанция поездки* - в среднем пользователи с тарифом \"Ultra\" проезжают за одну поездку на 87 метров больше, чем обладатели тарифа \"Free\". Разрыв между минимальными значениями между \"Ultra\" и \"Free\" составляет 399 метров, а между максимальными - 1.4 км. \n",
    "3. *Продолжительность поездки* - в среднем пользователи с тарифом \"Ultra\" проезжают за одну поездку на 1 минуту дольше обладателей тарифа \"Free\". Минимальное время поездки по подписке \"Ultra\" больше на 2 минуты, а максимальное - больше на 6 минут.\n",
    "\n",
    "В то же время именно обладатели подписки \"Free\" имеют преобладающее значение в структуре использования сервиса (54.4% на тарифе \"Free\" против 45.6% на тарифе \"Ultra\"). Количество поездок пользователей на тарифе \"Free\" в 2 раза превышает долю поездок среди обладателей подписки \"Ultra\" (11.6 тысяч поездок на тарифе \"Free\" против 6.5 тысяч поездок на тарифе \"Ultra\").\n",
    "\n",
    "В целом можно говорить о следующих описательных характеристиках типичного пользователя сервиса:\n",
    "* город пребывания - Пятигорск;\n",
    "* средний возраст пользователя - 25 лет;\n",
    "* средняя продолжительность поездки - 18 минут;\n",
    "* средняя дистанция поездки - 3 км.\n",
    "\n",
    "По завершении аналитической работы были проверены и подтверждены следующие гипотезы:\n",
    "- Средняя продолжительность поездок с подпиской \"Ultra\" больше, чем с подпиской \"Free\".\n",
    "- Средняя дистанция поездки по подписке \"Ultra\" меньше или равна 3130 метров (оптимальное расстояние с точки зрения износа самоката);\n",
    "- Средняя помесячная выручка от поездок с использованием подписки \"Ultra\" выше, чем выручка от подписки \"Free\"."
   ]
  }
 ],
 "metadata": {
  "ExecuteTimeLog": [
   {
    "duration": 1375,
    "start_time": "2024-02-20T12:42:39.514Z"
   },
   {
    "duration": 303,
    "start_time": "2024-02-20T12:53:55.857Z"
   },
   {
    "duration": 59,
    "start_time": "2024-02-20T12:55:22.225Z"
   },
   {
    "duration": 49,
    "start_time": "2024-02-20T12:56:28.647Z"
   },
   {
    "duration": 69,
    "start_time": "2024-02-20T13:02:52.313Z"
   },
   {
    "duration": 10,
    "start_time": "2024-02-20T13:24:35.942Z"
   },
   {
    "duration": 11,
    "start_time": "2024-02-20T13:25:03.412Z"
   },
   {
    "duration": 12,
    "start_time": "2024-02-20T13:25:20.732Z"
   },
   {
    "duration": 14,
    "start_time": "2024-02-20T13:25:31.541Z"
   },
   {
    "duration": 13,
    "start_time": "2024-02-20T13:26:59.104Z"
   },
   {
    "duration": 10,
    "start_time": "2024-02-20T13:27:16.971Z"
   },
   {
    "duration": 15,
    "start_time": "2024-02-20T13:27:42.437Z"
   },
   {
    "duration": 13,
    "start_time": "2024-02-20T13:27:52.464Z"
   },
   {
    "duration": 12,
    "start_time": "2024-02-20T13:28:05.312Z"
   },
   {
    "duration": 11,
    "start_time": "2024-02-20T13:29:00.171Z"
   },
   {
    "duration": 17,
    "start_time": "2024-02-20T13:29:26.913Z"
   },
   {
    "duration": 11,
    "start_time": "2024-02-20T13:34:33.670Z"
   },
   {
    "duration": 7,
    "start_time": "2024-02-20T13:35:04.856Z"
   },
   {
    "duration": 7,
    "start_time": "2024-02-20T13:35:22.328Z"
   },
   {
    "duration": 6,
    "start_time": "2024-02-20T13:35:46.809Z"
   },
   {
    "duration": 46,
    "start_time": "2024-02-21T14:08:05.579Z"
   },
   {
    "duration": 1262,
    "start_time": "2024-02-21T14:08:13.026Z"
   },
   {
    "duration": 188,
    "start_time": "2024-02-21T14:08:14.290Z"
   },
   {
    "duration": 60,
    "start_time": "2024-02-21T14:08:14.480Z"
   },
   {
    "duration": 24,
    "start_time": "2024-02-21T14:08:14.542Z"
   },
   {
    "duration": 12,
    "start_time": "2024-02-21T14:08:14.568Z"
   },
   {
    "duration": 815,
    "start_time": "2024-02-21T14:08:14.582Z"
   },
   {
    "duration": 519,
    "start_time": "2024-02-21T14:08:58.438Z"
   },
   {
    "duration": 980,
    "start_time": "2024-02-21T14:09:13.521Z"
   },
   {
    "duration": 684,
    "start_time": "2024-02-21T14:09:38.669Z"
   },
   {
    "duration": 751,
    "start_time": "2024-02-21T14:13:27.882Z"
   },
   {
    "duration": 625,
    "start_time": "2024-02-21T14:13:39.405Z"
   },
   {
    "duration": 573,
    "start_time": "2024-02-21T14:17:32.469Z"
   },
   {
    "duration": 563,
    "start_time": "2024-02-21T14:19:16.992Z"
   },
   {
    "duration": 674,
    "start_time": "2024-02-21T14:28:50.716Z"
   },
   {
    "duration": 9,
    "start_time": "2024-02-21T14:32:42.600Z"
   },
   {
    "duration": 67,
    "start_time": "2024-02-21T14:33:06.153Z"
   },
   {
    "duration": 15,
    "start_time": "2024-02-21T14:33:14.789Z"
   },
   {
    "duration": 8,
    "start_time": "2024-02-21T14:33:24.396Z"
   },
   {
    "duration": 7,
    "start_time": "2024-02-21T14:33:32.346Z"
   },
   {
    "duration": 8,
    "start_time": "2024-02-21T14:34:09.187Z"
   },
   {
    "duration": 8,
    "start_time": "2024-02-21T14:34:28.661Z"
   },
   {
    "duration": 5,
    "start_time": "2024-02-21T14:43:11.574Z"
   },
   {
    "duration": 4,
    "start_time": "2024-02-21T14:44:07.410Z"
   },
   {
    "duration": 7,
    "start_time": "2024-02-21T14:46:18.402Z"
   },
   {
    "duration": 4,
    "start_time": "2024-02-21T14:46:28.301Z"
   },
   {
    "duration": 5,
    "start_time": "2024-02-21T15:12:28.192Z"
   },
   {
    "duration": 4,
    "start_time": "2024-02-21T15:12:35.433Z"
   },
   {
    "duration": 13,
    "start_time": "2024-02-21T15:14:45.645Z"
   },
   {
    "duration": 11,
    "start_time": "2024-02-21T15:19:15.961Z"
   },
   {
    "duration": 8,
    "start_time": "2024-02-21T15:25:38.720Z"
   },
   {
    "duration": 3,
    "start_time": "2024-02-21T15:25:45.612Z"
   },
   {
    "duration": 76,
    "start_time": "2024-02-21T15:25:45.617Z"
   },
   {
    "duration": 46,
    "start_time": "2024-02-21T15:25:45.695Z"
   },
   {
    "duration": 11,
    "start_time": "2024-02-21T15:25:45.742Z"
   },
   {
    "duration": 16,
    "start_time": "2024-02-21T15:25:45.766Z"
   },
   {
    "duration": 9,
    "start_time": "2024-02-21T15:25:45.784Z"
   },
   {
    "duration": 14,
    "start_time": "2024-02-21T15:25:45.795Z"
   },
   {
    "duration": 15,
    "start_time": "2024-02-21T15:25:45.811Z"
   },
   {
    "duration": 11,
    "start_time": "2024-02-21T15:25:45.828Z"
   },
   {
    "duration": 31,
    "start_time": "2024-02-21T15:25:45.840Z"
   },
   {
    "duration": 932,
    "start_time": "2024-02-21T15:25:45.873Z"
   },
   {
    "duration": 5,
    "start_time": "2024-02-21T15:28:32.199Z"
   },
   {
    "duration": 5,
    "start_time": "2024-02-21T15:28:46.095Z"
   },
   {
    "duration": 4,
    "start_time": "2024-02-21T15:28:50.709Z"
   },
   {
    "duration": 92,
    "start_time": "2024-02-21T15:28:50.714Z"
   },
   {
    "duration": 47,
    "start_time": "2024-02-21T15:28:50.808Z"
   },
   {
    "duration": 11,
    "start_time": "2024-02-21T15:28:50.856Z"
   },
   {
    "duration": 52,
    "start_time": "2024-02-21T15:28:50.869Z"
   },
   {
    "duration": 28,
    "start_time": "2024-02-21T15:28:50.923Z"
   },
   {
    "duration": 51,
    "start_time": "2024-02-21T15:28:50.953Z"
   },
   {
    "duration": 43,
    "start_time": "2024-02-21T15:28:51.006Z"
   },
   {
    "duration": 66,
    "start_time": "2024-02-21T15:28:51.052Z"
   },
   {
    "duration": 54,
    "start_time": "2024-02-21T15:28:51.119Z"
   },
   {
    "duration": 920,
    "start_time": "2024-02-21T15:28:51.174Z"
   },
   {
    "duration": 8,
    "start_time": "2024-02-21T15:29:15.879Z"
   },
   {
    "duration": 4,
    "start_time": "2024-02-21T15:29:31.658Z"
   },
   {
    "duration": 3,
    "start_time": "2024-02-21T15:29:47.101Z"
   },
   {
    "duration": 79,
    "start_time": "2024-02-21T15:29:47.105Z"
   },
   {
    "duration": 53,
    "start_time": "2024-02-21T15:29:47.186Z"
   },
   {
    "duration": 29,
    "start_time": "2024-02-21T15:29:47.241Z"
   },
   {
    "duration": 12,
    "start_time": "2024-02-21T15:29:47.271Z"
   },
   {
    "duration": 20,
    "start_time": "2024-02-21T15:29:47.285Z"
   },
   {
    "duration": 14,
    "start_time": "2024-02-21T15:29:47.307Z"
   },
   {
    "duration": 25,
    "start_time": "2024-02-21T15:29:47.322Z"
   },
   {
    "duration": 21,
    "start_time": "2024-02-21T15:29:47.349Z"
   },
   {
    "duration": 39,
    "start_time": "2024-02-21T15:29:47.371Z"
   },
   {
    "duration": 754,
    "start_time": "2024-02-21T15:29:47.411Z"
   },
   {
    "duration": 7,
    "start_time": "2024-02-21T15:30:00.359Z"
   },
   {
    "duration": 6,
    "start_time": "2024-02-21T15:32:08.094Z"
   },
   {
    "duration": 6,
    "start_time": "2024-02-21T15:32:29.440Z"
   },
   {
    "duration": 4,
    "start_time": "2024-02-21T15:32:41.114Z"
   },
   {
    "duration": 6,
    "start_time": "2024-02-21T15:32:47.455Z"
   },
   {
    "duration": 3,
    "start_time": "2024-02-21T15:32:51.074Z"
   },
   {
    "duration": 74,
    "start_time": "2024-02-21T15:32:51.080Z"
   },
   {
    "duration": 48,
    "start_time": "2024-02-21T15:32:51.156Z"
   },
   {
    "duration": 11,
    "start_time": "2024-02-21T15:32:51.205Z"
   },
   {
    "duration": 15,
    "start_time": "2024-02-21T15:32:51.218Z"
   },
   {
    "duration": 48,
    "start_time": "2024-02-21T15:32:51.234Z"
   },
   {
    "duration": 20,
    "start_time": "2024-02-21T15:32:51.283Z"
   },
   {
    "duration": 11,
    "start_time": "2024-02-21T15:32:51.305Z"
   },
   {
    "duration": 11,
    "start_time": "2024-02-21T15:32:51.317Z"
   },
   {
    "duration": 13,
    "start_time": "2024-02-21T15:32:51.329Z"
   },
   {
    "duration": 15,
    "start_time": "2024-02-21T15:32:51.343Z"
   },
   {
    "duration": 877,
    "start_time": "2024-02-21T15:32:51.359Z"
   },
   {
    "duration": 6,
    "start_time": "2024-02-21T15:33:43.975Z"
   },
   {
    "duration": 3,
    "start_time": "2024-02-21T15:34:53.159Z"
   },
   {
    "duration": 3,
    "start_time": "2024-02-21T15:34:57.857Z"
   },
   {
    "duration": 106,
    "start_time": "2024-02-21T15:34:57.862Z"
   },
   {
    "duration": 46,
    "start_time": "2024-02-21T15:34:57.970Z"
   },
   {
    "duration": 22,
    "start_time": "2024-02-21T15:34:58.018Z"
   },
   {
    "duration": 35,
    "start_time": "2024-02-21T15:34:58.042Z"
   },
   {
    "duration": 52,
    "start_time": "2024-02-21T15:34:58.078Z"
   },
   {
    "duration": 52,
    "start_time": "2024-02-21T15:34:58.132Z"
   },
   {
    "duration": 48,
    "start_time": "2024-02-21T15:34:58.185Z"
   },
   {
    "duration": 44,
    "start_time": "2024-02-21T15:34:58.235Z"
   },
   {
    "duration": 41,
    "start_time": "2024-02-21T15:34:58.281Z"
   },
   {
    "duration": 68,
    "start_time": "2024-02-21T15:34:58.323Z"
   },
   {
    "duration": 817,
    "start_time": "2024-02-21T15:34:58.393Z"
   },
   {
    "duration": 12,
    "start_time": "2024-02-21T15:37:41.815Z"
   },
   {
    "duration": 10,
    "start_time": "2024-02-21T15:37:54.076Z"
   },
   {
    "duration": 4,
    "start_time": "2024-02-21T15:38:02.591Z"
   },
   {
    "duration": 119,
    "start_time": "2024-02-21T15:38:02.597Z"
   },
   {
    "duration": 49,
    "start_time": "2024-02-21T15:38:02.717Z"
   },
   {
    "duration": 11,
    "start_time": "2024-02-21T15:38:02.768Z"
   },
   {
    "duration": 39,
    "start_time": "2024-02-21T15:38:02.781Z"
   },
   {
    "duration": 13,
    "start_time": "2024-02-21T15:38:02.822Z"
   },
   {
    "duration": 29,
    "start_time": "2024-02-21T15:38:02.836Z"
   },
   {
    "duration": 22,
    "start_time": "2024-02-21T15:38:02.866Z"
   },
   {
    "duration": 66,
    "start_time": "2024-02-21T15:38:02.890Z"
   },
   {
    "duration": 38,
    "start_time": "2024-02-21T15:38:02.958Z"
   },
   {
    "duration": 34,
    "start_time": "2024-02-21T15:38:02.998Z"
   },
   {
    "duration": 837,
    "start_time": "2024-02-21T15:38:03.033Z"
   },
   {
    "duration": 6,
    "start_time": "2024-02-21T15:42:05.168Z"
   },
   {
    "duration": 3,
    "start_time": "2024-02-21T15:42:08.553Z"
   },
   {
    "duration": 84,
    "start_time": "2024-02-21T15:42:08.558Z"
   },
   {
    "duration": 51,
    "start_time": "2024-02-21T15:42:08.643Z"
   },
   {
    "duration": 12,
    "start_time": "2024-02-21T15:42:08.696Z"
   },
   {
    "duration": 17,
    "start_time": "2024-02-21T15:42:08.709Z"
   },
   {
    "duration": 8,
    "start_time": "2024-02-21T15:42:08.728Z"
   },
   {
    "duration": 31,
    "start_time": "2024-02-21T15:42:08.738Z"
   },
   {
    "duration": 124,
    "start_time": "2024-02-21T15:42:08.771Z"
   },
   {
    "duration": 15,
    "start_time": "2024-02-21T15:42:08.897Z"
   },
   {
    "duration": 13,
    "start_time": "2024-02-21T15:42:08.914Z"
   },
   {
    "duration": 27,
    "start_time": "2024-02-21T15:42:08.929Z"
   },
   {
    "duration": 796,
    "start_time": "2024-02-21T15:42:08.958Z"
   },
   {
    "duration": 9,
    "start_time": "2024-02-21T15:49:42.618Z"
   },
   {
    "duration": 22,
    "start_time": "2024-02-21T15:50:04.271Z"
   },
   {
    "duration": 16,
    "start_time": "2024-02-21T15:50:22.355Z"
   },
   {
    "duration": 16,
    "start_time": "2024-02-21T15:50:36.996Z"
   },
   {
    "duration": 16,
    "start_time": "2024-02-21T15:50:46.168Z"
   },
   {
    "duration": 20,
    "start_time": "2024-02-21T15:50:57.370Z"
   },
   {
    "duration": 15,
    "start_time": "2024-02-21T15:51:04.935Z"
   },
   {
    "duration": 5,
    "start_time": "2024-02-21T15:51:20.848Z"
   },
   {
    "duration": 15,
    "start_time": "2024-02-21T15:51:50.328Z"
   },
   {
    "duration": 15,
    "start_time": "2024-02-21T15:51:56.322Z"
   },
   {
    "duration": 13,
    "start_time": "2024-02-21T15:52:32.481Z"
   },
   {
    "duration": 15,
    "start_time": "2024-02-21T16:06:49.384Z"
   },
   {
    "duration": 1482,
    "start_time": "2024-02-23T12:00:09.968Z"
   },
   {
    "duration": 283,
    "start_time": "2024-02-23T12:00:11.452Z"
   },
   {
    "duration": 59,
    "start_time": "2024-02-23T12:00:11.737Z"
   },
   {
    "duration": 13,
    "start_time": "2024-02-23T12:00:11.798Z"
   },
   {
    "duration": 11,
    "start_time": "2024-02-23T12:00:11.813Z"
   },
   {
    "duration": 5,
    "start_time": "2024-02-23T12:00:11.825Z"
   },
   {
    "duration": 5,
    "start_time": "2024-02-23T12:00:11.831Z"
   },
   {
    "duration": 10,
    "start_time": "2024-02-23T12:00:11.838Z"
   },
   {
    "duration": 43,
    "start_time": "2024-02-23T12:00:11.850Z"
   },
   {
    "duration": 13,
    "start_time": "2024-02-23T12:00:11.895Z"
   },
   {
    "duration": 9,
    "start_time": "2024-02-23T12:00:11.910Z"
   },
   {
    "duration": 18,
    "start_time": "2024-02-23T12:00:11.921Z"
   },
   {
    "duration": 17,
    "start_time": "2024-02-23T12:00:11.941Z"
   },
   {
    "duration": 44,
    "start_time": "2024-02-23T12:00:11.961Z"
   },
   {
    "duration": 4,
    "start_time": "2024-02-23T12:22:11.395Z"
   },
   {
    "duration": 72,
    "start_time": "2024-02-23T12:22:11.401Z"
   },
   {
    "duration": 56,
    "start_time": "2024-02-23T12:22:11.474Z"
   },
   {
    "duration": 13,
    "start_time": "2024-02-23T12:22:11.531Z"
   },
   {
    "duration": 12,
    "start_time": "2024-02-23T12:22:11.545Z"
   },
   {
    "duration": 4,
    "start_time": "2024-02-23T12:22:11.559Z"
   },
   {
    "duration": 32,
    "start_time": "2024-02-23T12:22:11.564Z"
   },
   {
    "duration": 11,
    "start_time": "2024-02-23T12:22:11.598Z"
   },
   {
    "duration": 9,
    "start_time": "2024-02-23T12:22:11.610Z"
   },
   {
    "duration": 8,
    "start_time": "2024-02-23T12:22:11.621Z"
   },
   {
    "duration": 5,
    "start_time": "2024-02-23T12:22:11.631Z"
   },
   {
    "duration": 16,
    "start_time": "2024-02-23T12:22:11.637Z"
   },
   {
    "duration": 50,
    "start_time": "2024-02-23T12:22:11.655Z"
   },
   {
    "duration": 15,
    "start_time": "2024-02-23T12:22:11.707Z"
   },
   {
    "duration": 129,
    "start_time": "2024-02-23T12:30:52.501Z"
   },
   {
    "duration": 117,
    "start_time": "2024-02-23T12:31:10.057Z"
   },
   {
    "duration": 106,
    "start_time": "2024-02-23T12:31:27.662Z"
   },
   {
    "duration": 100,
    "start_time": "2024-02-23T12:31:50.097Z"
   },
   {
    "duration": 191,
    "start_time": "2024-02-23T12:32:30.240Z"
   },
   {
    "duration": 274,
    "start_time": "2024-02-23T12:32:42.983Z"
   },
   {
    "duration": 179,
    "start_time": "2024-02-23T12:37:02.109Z"
   },
   {
    "duration": 199,
    "start_time": "2024-02-23T12:39:26.314Z"
   },
   {
    "duration": 194,
    "start_time": "2024-02-23T12:39:59.500Z"
   },
   {
    "duration": 200,
    "start_time": "2024-02-23T12:40:07.024Z"
   },
   {
    "duration": 202,
    "start_time": "2024-02-23T12:40:19.404Z"
   },
   {
    "duration": 168,
    "start_time": "2024-02-23T12:43:05.507Z"
   },
   {
    "duration": 270,
    "start_time": "2024-02-23T12:44:06.017Z"
   },
   {
    "duration": 178,
    "start_time": "2024-02-23T12:44:32.025Z"
   },
   {
    "duration": 179,
    "start_time": "2024-02-23T12:44:47.369Z"
   },
   {
    "duration": 198,
    "start_time": "2024-02-23T12:45:57.284Z"
   },
   {
    "duration": 206,
    "start_time": "2024-02-23T12:46:43.995Z"
   },
   {
    "duration": 184,
    "start_time": "2024-02-23T12:48:27.223Z"
   },
   {
    "duration": 161,
    "start_time": "2024-02-23T12:50:44.631Z"
   },
   {
    "duration": 180,
    "start_time": "2024-02-23T12:50:52.123Z"
   },
   {
    "duration": 165,
    "start_time": "2024-02-23T13:09:58.325Z"
   },
   {
    "duration": 173,
    "start_time": "2024-02-23T13:10:05.128Z"
   },
   {
    "duration": 151,
    "start_time": "2024-02-23T13:13:12.674Z"
   },
   {
    "duration": 262,
    "start_time": "2024-02-23T13:13:24.745Z"
   },
   {
    "duration": 146,
    "start_time": "2024-02-23T13:14:44.799Z"
   },
   {
    "duration": 164,
    "start_time": "2024-02-23T13:14:53.033Z"
   },
   {
    "duration": 152,
    "start_time": "2024-02-23T13:15:31.015Z"
   },
   {
    "duration": 159,
    "start_time": "2024-02-23T13:15:51.123Z"
   },
   {
    "duration": 24,
    "start_time": "2024-02-23T13:18:29.361Z"
   },
   {
    "duration": 158,
    "start_time": "2024-02-23T13:18:43.491Z"
   },
   {
    "duration": 148,
    "start_time": "2024-02-23T13:19:17.020Z"
   },
   {
    "duration": 147,
    "start_time": "2024-02-23T13:19:24.314Z"
   },
   {
    "duration": 1590,
    "start_time": "2024-02-23T13:19:46.996Z"
   },
   {
    "duration": 155,
    "start_time": "2024-02-23T13:19:53.140Z"
   },
   {
    "duration": 507,
    "start_time": "2024-02-23T13:22:17.957Z"
   },
   {
    "duration": 163,
    "start_time": "2024-02-23T13:23:31.178Z"
   },
   {
    "duration": 149,
    "start_time": "2024-02-23T13:24:30.142Z"
   },
   {
    "duration": 253,
    "start_time": "2024-02-23T13:24:43.409Z"
   },
   {
    "duration": 159,
    "start_time": "2024-02-23T13:26:17.489Z"
   },
   {
    "duration": 102,
    "start_time": "2024-02-23T13:31:32.341Z"
   },
   {
    "duration": 107,
    "start_time": "2024-02-23T13:31:40.377Z"
   },
   {
    "duration": 150,
    "start_time": "2024-02-23T13:31:50.213Z"
   },
   {
    "duration": 186,
    "start_time": "2024-02-23T13:32:16.818Z"
   },
   {
    "duration": 179,
    "start_time": "2024-02-23T13:32:49.654Z"
   },
   {
    "duration": 148,
    "start_time": "2024-02-23T13:33:18.116Z"
   },
   {
    "duration": 158,
    "start_time": "2024-02-23T13:34:00.512Z"
   },
   {
    "duration": 158,
    "start_time": "2024-02-23T13:37:36.886Z"
   },
   {
    "duration": 171,
    "start_time": "2024-02-23T13:37:46.945Z"
   },
   {
    "duration": 154,
    "start_time": "2024-02-23T13:37:54.909Z"
   },
   {
    "duration": 147,
    "start_time": "2024-02-23T13:39:53.994Z"
   },
   {
    "duration": 162,
    "start_time": "2024-02-23T13:42:17.897Z"
   },
   {
    "duration": 162,
    "start_time": "2024-02-23T13:59:16.695Z"
   },
   {
    "duration": 166,
    "start_time": "2024-02-23T13:59:34.923Z"
   },
   {
    "duration": 308,
    "start_time": "2024-02-23T14:03:18.107Z"
   },
   {
    "duration": 314,
    "start_time": "2024-02-23T14:03:27.797Z"
   },
   {
    "duration": 239,
    "start_time": "2024-02-23T14:03:46.230Z"
   },
   {
    "duration": 212,
    "start_time": "2024-02-23T14:04:02.208Z"
   },
   {
    "duration": 210,
    "start_time": "2024-02-23T14:04:20.800Z"
   },
   {
    "duration": 219,
    "start_time": "2024-02-23T14:04:34.137Z"
   },
   {
    "duration": 198,
    "start_time": "2024-02-23T14:04:44.472Z"
   },
   {
    "duration": 213,
    "start_time": "2024-02-23T14:05:05.881Z"
   },
   {
    "duration": 208,
    "start_time": "2024-02-23T14:05:31.542Z"
   },
   {
    "duration": 229,
    "start_time": "2024-02-23T14:22:22.407Z"
   },
   {
    "duration": 196,
    "start_time": "2024-02-23T14:22:33.686Z"
   },
   {
    "duration": 326,
    "start_time": "2024-02-23T14:22:43.639Z"
   },
   {
    "duration": 226,
    "start_time": "2024-02-23T14:23:48.212Z"
   },
   {
    "duration": 208,
    "start_time": "2024-02-23T14:23:54.859Z"
   },
   {
    "duration": 221,
    "start_time": "2024-02-23T14:24:35.945Z"
   },
   {
    "duration": 228,
    "start_time": "2024-02-23T14:26:07.504Z"
   },
   {
    "duration": 219,
    "start_time": "2024-02-23T14:27:23.351Z"
   },
   {
    "duration": 245,
    "start_time": "2024-02-23T15:01:53.132Z"
   },
   {
    "duration": 25,
    "start_time": "2024-02-23T16:50:42.211Z"
   },
   {
    "duration": 24,
    "start_time": "2024-02-23T16:51:07.343Z"
   },
   {
    "duration": 29,
    "start_time": "2024-02-23T16:51:57.482Z"
   },
   {
    "duration": 37,
    "start_time": "2024-02-23T16:52:58.809Z"
   },
   {
    "duration": 35,
    "start_time": "2024-02-23T16:54:31.076Z"
   },
   {
    "duration": 47,
    "start_time": "2024-02-23T16:58:33.595Z"
   },
   {
    "duration": 87,
    "start_time": "2024-02-23T17:00:15.933Z"
   },
   {
    "duration": 48,
    "start_time": "2024-02-23T17:00:43.725Z"
   },
   {
    "duration": 56,
    "start_time": "2024-02-23T17:05:21.115Z"
   },
   {
    "duration": 49,
    "start_time": "2024-02-23T17:05:36.703Z"
   },
   {
    "duration": 50,
    "start_time": "2024-02-23T17:06:43.855Z"
   },
   {
    "duration": 49,
    "start_time": "2024-02-23T17:07:07.869Z"
   },
   {
    "duration": 50,
    "start_time": "2024-02-23T17:07:17.196Z"
   },
   {
    "duration": 51,
    "start_time": "2024-02-23T17:07:37.781Z"
   },
   {
    "duration": 31,
    "start_time": "2024-02-23T17:17:53.206Z"
   },
   {
    "duration": 41,
    "start_time": "2024-02-23T17:18:22.916Z"
   },
   {
    "duration": 28,
    "start_time": "2024-02-23T17:18:42.433Z"
   },
   {
    "duration": 28,
    "start_time": "2024-02-23T17:19:45.780Z"
   },
   {
    "duration": 40,
    "start_time": "2024-02-23T17:23:02.525Z"
   },
   {
    "duration": 30,
    "start_time": "2024-02-23T17:32:00.291Z"
   },
   {
    "duration": 274,
    "start_time": "2024-02-23T17:41:09.432Z"
   },
   {
    "duration": 293,
    "start_time": "2024-02-23T17:43:27.431Z"
   },
   {
    "duration": 269,
    "start_time": "2024-02-23T17:45:25.614Z"
   },
   {
    "duration": 275,
    "start_time": "2024-02-23T17:45:36.818Z"
   },
   {
    "duration": 272,
    "start_time": "2024-02-23T17:45:42.101Z"
   },
   {
    "duration": 441,
    "start_time": "2024-02-23T17:46:30.323Z"
   },
   {
    "duration": 275,
    "start_time": "2024-02-23T17:46:33.320Z"
   },
   {
    "duration": 300,
    "start_time": "2024-02-23T17:46:45.911Z"
   },
   {
    "duration": 326,
    "start_time": "2024-02-23T17:47:11.106Z"
   },
   {
    "duration": 319,
    "start_time": "2024-02-23T17:47:14.913Z"
   },
   {
    "duration": 309,
    "start_time": "2024-02-23T17:48:13.584Z"
   },
   {
    "duration": 47,
    "start_time": "2024-02-23T17:51:32.187Z"
   },
   {
    "duration": 52,
    "start_time": "2024-02-23T17:53:01.265Z"
   },
   {
    "duration": 15,
    "start_time": "2024-02-23T17:58:11.821Z"
   },
   {
    "duration": 14,
    "start_time": "2024-02-23T17:59:14.012Z"
   },
   {
    "duration": 12,
    "start_time": "2024-02-23T18:00:21.245Z"
   },
   {
    "duration": 58,
    "start_time": "2024-02-23T18:01:55.956Z"
   },
   {
    "duration": 58,
    "start_time": "2024-02-23T18:04:47.146Z"
   },
   {
    "duration": 55,
    "start_time": "2024-02-23T18:04:56.050Z"
   },
   {
    "duration": 54,
    "start_time": "2024-02-23T18:05:15.269Z"
   },
   {
    "duration": 8,
    "start_time": "2024-02-23T19:11:20.968Z"
   },
   {
    "duration": 14,
    "start_time": "2024-02-23T19:20:04.388Z"
   },
   {
    "duration": 136,
    "start_time": "2024-02-24T13:22:59.624Z"
   },
   {
    "duration": 1397,
    "start_time": "2024-02-24T13:23:12.038Z"
   },
   {
    "duration": 287,
    "start_time": "2024-02-24T13:23:13.438Z"
   },
   {
    "duration": 61,
    "start_time": "2024-02-24T13:23:13.727Z"
   },
   {
    "duration": 15,
    "start_time": "2024-02-24T13:23:13.790Z"
   },
   {
    "duration": 13,
    "start_time": "2024-02-24T13:23:13.807Z"
   },
   {
    "duration": 6,
    "start_time": "2024-02-24T13:23:13.821Z"
   },
   {
    "duration": 7,
    "start_time": "2024-02-24T13:23:13.829Z"
   },
   {
    "duration": 5,
    "start_time": "2024-02-24T13:23:13.838Z"
   },
   {
    "duration": 50,
    "start_time": "2024-02-24T13:23:13.845Z"
   },
   {
    "duration": 8,
    "start_time": "2024-02-24T13:23:13.898Z"
   },
   {
    "duration": 6,
    "start_time": "2024-02-24T13:23:13.907Z"
   },
   {
    "duration": 22,
    "start_time": "2024-02-24T13:23:13.914Z"
   },
   {
    "duration": 18,
    "start_time": "2024-02-24T13:23:13.937Z"
   },
   {
    "duration": 41,
    "start_time": "2024-02-24T13:23:13.956Z"
   },
   {
    "duration": 202,
    "start_time": "2024-02-24T13:23:13.998Z"
   },
   {
    "duration": 169,
    "start_time": "2024-02-24T13:23:14.202Z"
   },
   {
    "duration": 209,
    "start_time": "2024-02-24T13:23:14.373Z"
   },
   {
    "duration": 219,
    "start_time": "2024-02-24T13:23:14.590Z"
   },
   {
    "duration": 237,
    "start_time": "2024-02-24T13:23:14.811Z"
   },
   {
    "duration": 63,
    "start_time": "2024-02-24T13:23:15.049Z"
   },
   {
    "duration": 31,
    "start_time": "2024-02-24T13:23:15.113Z"
   },
   {
    "duration": 318,
    "start_time": "2024-02-24T13:23:15.146Z"
   },
   {
    "duration": 386,
    "start_time": "2024-02-24T13:23:15.466Z"
   },
   {
    "duration": 63,
    "start_time": "2024-02-24T13:23:15.853Z"
   },
   {
    "duration": 13,
    "start_time": "2024-02-24T13:23:15.918Z"
   },
   {
    "duration": 91,
    "start_time": "2024-02-24T13:23:15.933Z"
   },
   {
    "duration": 117,
    "start_time": "2024-02-24T13:24:05.515Z"
   },
   {
    "duration": 12,
    "start_time": "2024-02-24T13:24:47.420Z"
   },
   {
    "duration": 11,
    "start_time": "2024-02-24T13:24:54.617Z"
   },
   {
    "duration": 11,
    "start_time": "2024-02-24T13:25:28.254Z"
   },
   {
    "duration": 11,
    "start_time": "2024-02-24T13:25:53.543Z"
   },
   {
    "duration": 38,
    "start_time": "2024-02-24T13:27:26.818Z"
   },
   {
    "duration": 40,
    "start_time": "2024-02-24T13:29:13.107Z"
   },
   {
    "duration": 37,
    "start_time": "2024-02-24T13:30:24.780Z"
   },
   {
    "duration": 38,
    "start_time": "2024-02-24T13:33:20.813Z"
   },
   {
    "duration": 37,
    "start_time": "2024-02-24T13:33:28.543Z"
   },
   {
    "duration": 37,
    "start_time": "2024-02-24T13:33:36.360Z"
   },
   {
    "duration": 37,
    "start_time": "2024-02-24T13:33:58.412Z"
   },
   {
    "duration": 2202,
    "start_time": "2024-02-24T13:49:10.331Z"
   },
   {
    "duration": 1711,
    "start_time": "2024-02-24T13:49:25.380Z"
   },
   {
    "duration": 1637,
    "start_time": "2024-02-24T13:49:41.657Z"
   },
   {
    "duration": 1587,
    "start_time": "2024-02-24T13:49:48.670Z"
   },
   {
    "duration": 1670,
    "start_time": "2024-02-24T13:51:17.173Z"
   },
   {
    "duration": 3,
    "start_time": "2024-02-24T13:56:19.479Z"
   },
   {
    "duration": 70,
    "start_time": "2024-02-24T13:56:19.484Z"
   },
   {
    "duration": 55,
    "start_time": "2024-02-24T13:56:19.556Z"
   },
   {
    "duration": 17,
    "start_time": "2024-02-24T13:56:19.613Z"
   },
   {
    "duration": 13,
    "start_time": "2024-02-24T13:56:19.633Z"
   },
   {
    "duration": 7,
    "start_time": "2024-02-24T13:56:19.648Z"
   },
   {
    "duration": 38,
    "start_time": "2024-02-24T13:56:19.656Z"
   },
   {
    "duration": 7,
    "start_time": "2024-02-24T13:56:19.696Z"
   },
   {
    "duration": 11,
    "start_time": "2024-02-24T13:56:19.705Z"
   },
   {
    "duration": 8,
    "start_time": "2024-02-24T13:56:19.719Z"
   },
   {
    "duration": 9,
    "start_time": "2024-02-24T13:56:19.729Z"
   },
   {
    "duration": 19,
    "start_time": "2024-02-24T13:56:19.739Z"
   },
   {
    "duration": 19,
    "start_time": "2024-02-24T13:56:19.792Z"
   },
   {
    "duration": 15,
    "start_time": "2024-02-24T13:56:19.813Z"
   },
   {
    "duration": 207,
    "start_time": "2024-02-24T13:56:19.830Z"
   },
   {
    "duration": 167,
    "start_time": "2024-02-24T13:56:20.039Z"
   },
   {
    "duration": 203,
    "start_time": "2024-02-24T13:56:20.208Z"
   },
   {
    "duration": 225,
    "start_time": "2024-02-24T13:56:20.413Z"
   },
   {
    "duration": 226,
    "start_time": "2024-02-24T13:56:20.640Z"
   },
   {
    "duration": 67,
    "start_time": "2024-02-24T13:56:20.868Z"
   },
   {
    "duration": 55,
    "start_time": "2024-02-24T13:56:20.937Z"
   },
   {
    "duration": 325,
    "start_time": "2024-02-24T13:56:20.994Z"
   },
   {
    "duration": 318,
    "start_time": "2024-02-24T13:56:21.321Z"
   },
   {
    "duration": 62,
    "start_time": "2024-02-24T13:56:21.641Z"
   },
   {
    "duration": 13,
    "start_time": "2024-02-24T13:56:21.705Z"
   },
   {
    "duration": 1737,
    "start_time": "2024-02-24T13:56:21.719Z"
   },
   {
    "duration": 0,
    "start_time": "2024-02-24T13:56:23.458Z"
   },
   {
    "duration": 41,
    "start_time": "2024-02-24T14:03:40.296Z"
   },
   {
    "duration": 4,
    "start_time": "2024-02-24T14:04:46.370Z"
   },
   {
    "duration": 75,
    "start_time": "2024-02-24T14:04:46.375Z"
   },
   {
    "duration": 57,
    "start_time": "2024-02-24T14:04:46.452Z"
   },
   {
    "duration": 17,
    "start_time": "2024-02-24T14:04:46.511Z"
   },
   {
    "duration": 16,
    "start_time": "2024-02-24T14:04:46.530Z"
   },
   {
    "duration": 6,
    "start_time": "2024-02-24T14:04:46.548Z"
   },
   {
    "duration": 38,
    "start_time": "2024-02-24T14:04:46.556Z"
   },
   {
    "duration": 7,
    "start_time": "2024-02-24T14:04:46.596Z"
   },
   {
    "duration": 31,
    "start_time": "2024-02-24T14:04:46.606Z"
   },
   {
    "duration": 7,
    "start_time": "2024-02-24T14:04:46.639Z"
   },
   {
    "duration": 23,
    "start_time": "2024-02-24T14:04:46.647Z"
   },
   {
    "duration": 35,
    "start_time": "2024-02-24T14:04:46.672Z"
   },
   {
    "duration": 26,
    "start_time": "2024-02-24T14:04:46.709Z"
   },
   {
    "duration": 20,
    "start_time": "2024-02-24T14:04:46.737Z"
   },
   {
    "duration": 199,
    "start_time": "2024-02-24T14:04:46.759Z"
   },
   {
    "duration": 257,
    "start_time": "2024-02-24T14:04:46.959Z"
   },
   {
    "duration": 199,
    "start_time": "2024-02-24T14:04:47.217Z"
   },
   {
    "duration": 226,
    "start_time": "2024-02-24T14:04:47.417Z"
   },
   {
    "duration": 224,
    "start_time": "2024-02-24T14:04:47.645Z"
   },
   {
    "duration": 63,
    "start_time": "2024-02-24T14:04:47.872Z"
   },
   {
    "duration": 63,
    "start_time": "2024-02-24T14:04:47.937Z"
   },
   {
    "duration": 312,
    "start_time": "2024-02-24T14:04:48.002Z"
   },
   {
    "duration": 313,
    "start_time": "2024-02-24T14:04:48.316Z"
   },
   {
    "duration": 64,
    "start_time": "2024-02-24T14:04:48.632Z"
   },
   {
    "duration": 15,
    "start_time": "2024-02-24T14:04:48.698Z"
   },
   {
    "duration": 39,
    "start_time": "2024-02-24T14:04:48.715Z"
   },
   {
    "duration": 0,
    "start_time": "2024-02-24T14:04:48.756Z"
   },
   {
    "duration": 36,
    "start_time": "2024-02-24T14:05:36.087Z"
   },
   {
    "duration": 43,
    "start_time": "2024-02-24T14:07:02.015Z"
   },
   {
    "duration": 19,
    "start_time": "2024-02-24T14:19:22.932Z"
   },
   {
    "duration": 18,
    "start_time": "2024-02-24T14:20:20.096Z"
   },
   {
    "duration": 19,
    "start_time": "2024-02-24T14:21:04.154Z"
   },
   {
    "duration": 40,
    "start_time": "2024-02-24T14:33:39.000Z"
   },
   {
    "duration": 38,
    "start_time": "2024-02-24T14:33:56.245Z"
   },
   {
    "duration": 36,
    "start_time": "2024-02-24T14:36:06.861Z"
   },
   {
    "duration": 35,
    "start_time": "2024-02-24T14:36:36.442Z"
   },
   {
    "duration": 18,
    "start_time": "2024-02-24T14:37:36.329Z"
   },
   {
    "duration": 4,
    "start_time": "2024-02-24T14:38:41.630Z"
   },
   {
    "duration": 98,
    "start_time": "2024-02-24T14:38:41.636Z"
   },
   {
    "duration": 52,
    "start_time": "2024-02-24T14:38:41.735Z"
   },
   {
    "duration": 12,
    "start_time": "2024-02-24T14:38:41.789Z"
   },
   {
    "duration": 11,
    "start_time": "2024-02-24T14:38:41.803Z"
   },
   {
    "duration": 5,
    "start_time": "2024-02-24T14:38:41.815Z"
   },
   {
    "duration": 8,
    "start_time": "2024-02-24T14:38:41.821Z"
   },
   {
    "duration": 7,
    "start_time": "2024-02-24T14:38:41.831Z"
   },
   {
    "duration": 12,
    "start_time": "2024-02-24T14:38:41.839Z"
   },
   {
    "duration": 40,
    "start_time": "2024-02-24T14:38:41.854Z"
   },
   {
    "duration": 11,
    "start_time": "2024-02-24T14:38:41.896Z"
   },
   {
    "duration": 15,
    "start_time": "2024-02-24T14:38:41.909Z"
   },
   {
    "duration": 17,
    "start_time": "2024-02-24T14:38:41.926Z"
   },
   {
    "duration": 14,
    "start_time": "2024-02-24T14:38:41.945Z"
   },
   {
    "duration": 199,
    "start_time": "2024-02-24T14:38:41.961Z"
   },
   {
    "duration": 171,
    "start_time": "2024-02-24T14:38:42.162Z"
   },
   {
    "duration": 222,
    "start_time": "2024-02-24T14:38:42.334Z"
   },
   {
    "duration": 304,
    "start_time": "2024-02-24T14:38:42.558Z"
   },
   {
    "duration": 215,
    "start_time": "2024-02-24T14:38:42.864Z"
   },
   {
    "duration": 56,
    "start_time": "2024-02-24T14:38:43.081Z"
   },
   {
    "duration": 31,
    "start_time": "2024-02-24T14:38:43.138Z"
   },
   {
    "duration": 311,
    "start_time": "2024-02-24T14:38:43.170Z"
   },
   {
    "duration": 330,
    "start_time": "2024-02-24T14:38:43.482Z"
   },
   {
    "duration": 55,
    "start_time": "2024-02-24T14:38:43.814Z"
   },
   {
    "duration": 26,
    "start_time": "2024-02-24T14:38:43.871Z"
   },
   {
    "duration": 37,
    "start_time": "2024-02-24T14:38:43.898Z"
   },
   {
    "duration": 17,
    "start_time": "2024-02-24T14:38:43.936Z"
   },
   {
    "duration": 14,
    "start_time": "2024-02-24T17:24:28.609Z"
   },
   {
    "duration": 6,
    "start_time": "2024-02-24T17:24:55.666Z"
   },
   {
    "duration": 7,
    "start_time": "2024-02-24T17:29:01.405Z"
   },
   {
    "duration": 7,
    "start_time": "2024-02-24T17:29:11.642Z"
   },
   {
    "duration": 6,
    "start_time": "2024-02-24T17:29:21.855Z"
   },
   {
    "duration": 5,
    "start_time": "2024-02-24T17:30:38.060Z"
   },
   {
    "duration": 6,
    "start_time": "2024-02-24T17:31:05.675Z"
   },
   {
    "duration": 6,
    "start_time": "2024-02-24T17:32:18.593Z"
   },
   {
    "duration": 5,
    "start_time": "2024-02-24T17:39:58.831Z"
   },
   {
    "duration": 7,
    "start_time": "2024-02-24T17:41:45.039Z"
   },
   {
    "duration": 5,
    "start_time": "2024-02-24T17:41:56.451Z"
   },
   {
    "duration": 5,
    "start_time": "2024-02-24T17:42:16.442Z"
   },
   {
    "duration": 7,
    "start_time": "2024-02-24T17:51:58.591Z"
   },
   {
    "duration": 6,
    "start_time": "2024-02-24T17:52:14.565Z"
   },
   {
    "duration": 6,
    "start_time": "2024-02-24T17:55:18.433Z"
   },
   {
    "duration": 6,
    "start_time": "2024-02-24T17:55:58.706Z"
   },
   {
    "duration": 6,
    "start_time": "2024-02-24T17:56:03.820Z"
   },
   {
    "duration": 4,
    "start_time": "2024-02-24T17:59:38.796Z"
   },
   {
    "duration": 5,
    "start_time": "2024-02-24T17:59:43.464Z"
   },
   {
    "duration": 53,
    "start_time": "2024-02-24T18:23:50.906Z"
   },
   {
    "duration": 30,
    "start_time": "2024-02-24T18:25:05.869Z"
   },
   {
    "duration": 4,
    "start_time": "2024-02-24T18:25:27.838Z"
   },
   {
    "duration": 69,
    "start_time": "2024-02-24T18:25:27.844Z"
   },
   {
    "duration": 60,
    "start_time": "2024-02-24T18:25:27.915Z"
   },
   {
    "duration": 31,
    "start_time": "2024-02-24T18:25:27.977Z"
   },
   {
    "duration": 16,
    "start_time": "2024-02-24T18:25:28.009Z"
   },
   {
    "duration": 6,
    "start_time": "2024-02-24T18:25:28.027Z"
   },
   {
    "duration": 5,
    "start_time": "2024-02-24T18:25:28.035Z"
   },
   {
    "duration": 6,
    "start_time": "2024-02-24T18:25:28.042Z"
   },
   {
    "duration": 50,
    "start_time": "2024-02-24T18:25:28.050Z"
   },
   {
    "duration": 9,
    "start_time": "2024-02-24T18:25:28.104Z"
   },
   {
    "duration": 14,
    "start_time": "2024-02-24T18:25:28.115Z"
   },
   {
    "duration": 19,
    "start_time": "2024-02-24T18:25:28.131Z"
   },
   {
    "duration": 49,
    "start_time": "2024-02-24T18:25:28.152Z"
   },
   {
    "duration": 20,
    "start_time": "2024-02-24T18:25:28.205Z"
   },
   {
    "duration": 224,
    "start_time": "2024-02-24T18:25:28.227Z"
   },
   {
    "duration": 175,
    "start_time": "2024-02-24T18:25:28.452Z"
   },
   {
    "duration": 232,
    "start_time": "2024-02-24T18:25:28.629Z"
   },
   {
    "duration": 247,
    "start_time": "2024-02-24T18:25:28.863Z"
   },
   {
    "duration": 233,
    "start_time": "2024-02-24T18:25:29.112Z"
   },
   {
    "duration": 66,
    "start_time": "2024-02-24T18:25:29.347Z"
   },
   {
    "duration": 33,
    "start_time": "2024-02-24T18:25:29.415Z"
   },
   {
    "duration": 520,
    "start_time": "2024-02-24T18:25:29.450Z"
   },
   {
    "duration": 387,
    "start_time": "2024-02-24T18:25:29.972Z"
   },
   {
    "duration": 68,
    "start_time": "2024-02-24T18:25:30.361Z"
   },
   {
    "duration": 14,
    "start_time": "2024-02-24T18:25:30.431Z"
   },
   {
    "duration": 79,
    "start_time": "2024-02-24T18:25:30.447Z"
   },
   {
    "duration": 53,
    "start_time": "2024-02-24T18:25:30.528Z"
   },
   {
    "duration": 37,
    "start_time": "2024-02-24T18:25:30.584Z"
   },
   {
    "duration": 73,
    "start_time": "2024-02-24T18:25:30.623Z"
   },
   {
    "duration": 64,
    "start_time": "2024-02-24T18:25:30.698Z"
   },
   {
    "duration": 100,
    "start_time": "2024-02-24T18:25:30.763Z"
   },
   {
    "duration": 64,
    "start_time": "2024-02-24T18:25:30.864Z"
   },
   {
    "duration": 11,
    "start_time": "2024-02-24T18:27:59.164Z"
   },
   {
    "duration": 4,
    "start_time": "2024-02-24T18:35:02.657Z"
   },
   {
    "duration": 5,
    "start_time": "2024-02-24T18:35:55.465Z"
   },
   {
    "duration": 5,
    "start_time": "2024-02-24T18:36:32.797Z"
   },
   {
    "duration": 5,
    "start_time": "2024-02-24T18:36:41.457Z"
   },
   {
    "duration": 7,
    "start_time": "2024-02-24T18:46:15.773Z"
   },
   {
    "duration": 1484,
    "start_time": "2024-02-25T17:15:30.059Z"
   },
   {
    "duration": 287,
    "start_time": "2024-02-25T17:15:31.545Z"
   },
   {
    "duration": 64,
    "start_time": "2024-02-25T17:15:31.834Z"
   },
   {
    "duration": 51,
    "start_time": "2024-02-25T17:15:31.900Z"
   },
   {
    "duration": 44,
    "start_time": "2024-02-25T17:15:31.955Z"
   },
   {
    "duration": 434,
    "start_time": "2024-02-25T17:15:32.002Z"
   },
   {
    "duration": 149,
    "start_time": "2024-02-25T17:15:32.438Z"
   },
   {
    "duration": 197,
    "start_time": "2024-02-25T17:15:32.589Z"
   },
   {
    "duration": 63,
    "start_time": "2024-02-25T17:15:32.788Z"
   },
   {
    "duration": 31,
    "start_time": "2024-02-25T17:15:32.853Z"
   },
   {
    "duration": 13,
    "start_time": "2024-02-25T17:15:32.886Z"
   },
   {
    "duration": 29,
    "start_time": "2024-02-25T17:15:32.900Z"
   },
   {
    "duration": 58,
    "start_time": "2024-02-25T17:15:32.931Z"
   },
   {
    "duration": 17,
    "start_time": "2024-02-25T17:15:32.992Z"
   },
   {
    "duration": 211,
    "start_time": "2024-02-25T17:15:33.011Z"
   },
   {
    "duration": 171,
    "start_time": "2024-02-25T17:15:33.224Z"
   },
   {
    "duration": 210,
    "start_time": "2024-02-25T17:15:33.397Z"
   },
   {
    "duration": 227,
    "start_time": "2024-02-25T17:15:33.608Z"
   },
   {
    "duration": 223,
    "start_time": "2024-02-25T17:15:33.836Z"
   },
   {
    "duration": 59,
    "start_time": "2024-02-25T17:15:34.061Z"
   },
   {
    "duration": 30,
    "start_time": "2024-02-25T17:15:34.122Z"
   },
   {
    "duration": 319,
    "start_time": "2024-02-25T17:15:34.154Z"
   },
   {
    "duration": 412,
    "start_time": "2024-02-25T17:15:34.475Z"
   },
   {
    "duration": 56,
    "start_time": "2024-02-25T17:15:34.889Z"
   },
   {
    "duration": 33,
    "start_time": "2024-02-25T17:15:34.947Z"
   },
   {
    "duration": 40,
    "start_time": "2024-02-25T17:15:34.982Z"
   },
   {
    "duration": 33,
    "start_time": "2024-02-25T17:15:35.024Z"
   },
   {
    "duration": 27,
    "start_time": "2024-02-25T17:15:35.058Z"
   },
   {
    "duration": 13,
    "start_time": "2024-02-25T17:15:35.087Z"
   },
   {
    "duration": 8,
    "start_time": "2024-02-25T17:15:35.101Z"
   },
   {
    "duration": 6,
    "start_time": "2024-02-25T17:15:35.111Z"
   },
   {
    "duration": 14,
    "start_time": "2024-02-25T17:15:35.118Z"
   },
   {
    "duration": 8,
    "start_time": "2024-02-25T17:15:35.134Z"
   },
   {
    "duration": 295,
    "start_time": "2024-02-25T17:32:32.725Z"
   },
   {
    "duration": 5,
    "start_time": "2024-02-25T20:20:06.807Z"
   },
   {
    "duration": 103,
    "start_time": "2024-02-25T20:20:06.814Z"
   },
   {
    "duration": 66,
    "start_time": "2024-02-25T20:20:06.919Z"
   },
   {
    "duration": 12,
    "start_time": "2024-02-25T20:20:06.986Z"
   },
   {
    "duration": 31,
    "start_time": "2024-02-25T20:20:07.000Z"
   },
   {
    "duration": 22,
    "start_time": "2024-02-25T20:20:07.032Z"
   },
   {
    "duration": 18,
    "start_time": "2024-02-25T20:20:07.055Z"
   },
   {
    "duration": 18,
    "start_time": "2024-02-25T20:20:07.075Z"
   },
   {
    "duration": 12,
    "start_time": "2024-02-25T20:20:07.095Z"
   },
   {
    "duration": 10,
    "start_time": "2024-02-25T20:20:07.108Z"
   },
   {
    "duration": 19,
    "start_time": "2024-02-25T20:20:07.120Z"
   },
   {
    "duration": 29,
    "start_time": "2024-02-25T20:20:07.140Z"
   },
   {
    "duration": 49,
    "start_time": "2024-02-25T20:20:07.171Z"
   },
   {
    "duration": 20,
    "start_time": "2024-02-25T20:20:07.224Z"
   },
   {
    "duration": 186,
    "start_time": "2024-02-25T20:20:07.246Z"
   },
   {
    "duration": 181,
    "start_time": "2024-02-25T20:20:07.433Z"
   },
   {
    "duration": 223,
    "start_time": "2024-02-25T20:20:07.616Z"
   },
   {
    "duration": 221,
    "start_time": "2024-02-25T20:20:07.841Z"
   },
   {
    "duration": 225,
    "start_time": "2024-02-25T20:20:08.064Z"
   },
   {
    "duration": 52,
    "start_time": "2024-02-25T20:20:08.290Z"
   },
   {
    "duration": 64,
    "start_time": "2024-02-25T20:20:08.344Z"
   },
   {
    "duration": 343,
    "start_time": "2024-02-25T20:20:08.410Z"
   },
   {
    "duration": 445,
    "start_time": "2024-02-25T20:20:08.754Z"
   },
   {
    "duration": 55,
    "start_time": "2024-02-25T20:20:09.201Z"
   },
   {
    "duration": 30,
    "start_time": "2024-02-25T20:20:09.257Z"
   },
   {
    "duration": 38,
    "start_time": "2024-02-25T20:20:09.289Z"
   },
   {
    "duration": 56,
    "start_time": "2024-02-25T20:20:09.329Z"
   },
   {
    "duration": 6,
    "start_time": "2024-02-25T20:20:09.386Z"
   },
   {
    "duration": 5,
    "start_time": "2024-02-25T20:20:09.393Z"
   },
   {
    "duration": 4,
    "start_time": "2024-02-25T20:20:09.400Z"
   },
   {
    "duration": 3,
    "start_time": "2024-02-25T20:20:09.406Z"
   },
   {
    "duration": 13,
    "start_time": "2024-02-25T20:20:09.411Z"
   },
   {
    "duration": 5,
    "start_time": "2024-02-25T20:20:09.425Z"
   },
   {
    "duration": 4,
    "start_time": "2024-02-25T20:22:31.806Z"
   },
   {
    "duration": 70,
    "start_time": "2024-02-25T20:22:31.813Z"
   },
   {
    "duration": 66,
    "start_time": "2024-02-25T20:22:31.885Z"
   },
   {
    "duration": 38,
    "start_time": "2024-02-25T20:22:31.953Z"
   },
   {
    "duration": 17,
    "start_time": "2024-02-25T20:22:31.994Z"
   },
   {
    "duration": 17,
    "start_time": "2024-02-25T20:22:32.013Z"
   },
   {
    "duration": 22,
    "start_time": "2024-02-25T20:22:32.032Z"
   },
   {
    "duration": 15,
    "start_time": "2024-02-25T20:22:32.056Z"
   },
   {
    "duration": 22,
    "start_time": "2024-02-25T20:22:32.072Z"
   },
   {
    "duration": 11,
    "start_time": "2024-02-25T20:22:32.096Z"
   },
   {
    "duration": 19,
    "start_time": "2024-02-25T20:22:32.109Z"
   },
   {
    "duration": 35,
    "start_time": "2024-02-25T20:22:32.131Z"
   },
   {
    "duration": 46,
    "start_time": "2024-02-25T20:22:32.169Z"
   },
   {
    "duration": 29,
    "start_time": "2024-02-25T20:22:32.218Z"
   },
   {
    "duration": 183,
    "start_time": "2024-02-25T20:22:32.249Z"
   },
   {
    "duration": 180,
    "start_time": "2024-02-25T20:22:32.434Z"
   },
   {
    "duration": 204,
    "start_time": "2024-02-25T20:22:32.616Z"
   },
   {
    "duration": 217,
    "start_time": "2024-02-25T20:22:32.822Z"
   },
   {
    "duration": 214,
    "start_time": "2024-02-25T20:22:33.041Z"
   },
   {
    "duration": 68,
    "start_time": "2024-02-25T20:22:33.257Z"
   },
   {
    "duration": 54,
    "start_time": "2024-02-25T20:22:33.326Z"
   },
   {
    "duration": 334,
    "start_time": "2024-02-25T20:22:33.382Z"
   },
   {
    "duration": 336,
    "start_time": "2024-02-25T20:22:33.718Z"
   },
   {
    "duration": 67,
    "start_time": "2024-02-25T20:22:34.056Z"
   },
   {
    "duration": 14,
    "start_time": "2024-02-25T20:22:34.125Z"
   },
   {
    "duration": 54,
    "start_time": "2024-02-25T20:22:34.140Z"
   },
   {
    "duration": 32,
    "start_time": "2024-02-25T20:22:34.195Z"
   },
   {
    "duration": 5,
    "start_time": "2024-02-25T20:22:34.229Z"
   },
   {
    "duration": 4,
    "start_time": "2024-02-25T20:22:34.236Z"
   },
   {
    "duration": 4,
    "start_time": "2024-02-25T20:22:34.242Z"
   },
   {
    "duration": 35,
    "start_time": "2024-02-25T20:22:34.248Z"
   },
   {
    "duration": 12,
    "start_time": "2024-02-25T20:22:34.285Z"
   },
   {
    "duration": 4,
    "start_time": "2024-02-25T20:22:34.299Z"
   },
   {
    "duration": 31,
    "start_time": "2024-02-25T20:25:33.782Z"
   },
   {
    "duration": 41,
    "start_time": "2024-02-25T20:25:51.950Z"
   },
   {
    "duration": 32,
    "start_time": "2024-02-25T20:29:01.583Z"
   },
   {
    "duration": 36,
    "start_time": "2024-02-25T20:29:41.858Z"
   },
   {
    "duration": 100,
    "start_time": "2024-02-25T20:31:23.574Z"
   },
   {
    "duration": 28,
    "start_time": "2024-02-25T20:32:26.286Z"
   },
   {
    "duration": 30,
    "start_time": "2024-02-25T20:32:47.002Z"
   },
   {
    "duration": 27,
    "start_time": "2024-02-25T20:33:25.891Z"
   },
   {
    "duration": 45,
    "start_time": "2024-02-26T11:40:01.611Z"
   },
   {
    "duration": 1217,
    "start_time": "2024-02-26T11:40:08.177Z"
   },
   {
    "duration": 199,
    "start_time": "2024-02-26T11:40:09.395Z"
   },
   {
    "duration": 55,
    "start_time": "2024-02-26T11:40:09.595Z"
   },
   {
    "duration": 12,
    "start_time": "2024-02-26T11:40:09.652Z"
   },
   {
    "duration": 11,
    "start_time": "2024-02-26T11:40:09.666Z"
   },
   {
    "duration": 4,
    "start_time": "2024-02-26T11:40:09.678Z"
   },
   {
    "duration": 4,
    "start_time": "2024-02-26T11:40:09.684Z"
   },
   {
    "duration": 5,
    "start_time": "2024-02-26T11:40:09.690Z"
   },
   {
    "duration": 43,
    "start_time": "2024-02-26T11:40:09.696Z"
   },
   {
    "duration": 21,
    "start_time": "2024-02-26T11:40:09.740Z"
   },
   {
    "duration": 5,
    "start_time": "2024-02-26T11:40:09.762Z"
   },
   {
    "duration": 17,
    "start_time": "2024-02-26T11:40:09.769Z"
   },
   {
    "duration": 17,
    "start_time": "2024-02-26T11:40:09.787Z"
   },
   {
    "duration": 36,
    "start_time": "2024-02-26T11:40:09.807Z"
   },
   {
    "duration": 186,
    "start_time": "2024-02-26T11:40:09.844Z"
   },
   {
    "duration": 148,
    "start_time": "2024-02-26T11:40:10.032Z"
   },
   {
    "duration": 183,
    "start_time": "2024-02-26T11:40:10.181Z"
   },
   {
    "duration": 204,
    "start_time": "2024-02-26T11:40:10.365Z"
   },
   {
    "duration": 215,
    "start_time": "2024-02-26T11:40:10.571Z"
   },
   {
    "duration": 68,
    "start_time": "2024-02-26T11:40:10.788Z"
   },
   {
    "duration": 31,
    "start_time": "2024-02-26T11:40:10.858Z"
   },
   {
    "duration": 290,
    "start_time": "2024-02-26T11:40:10.890Z"
   },
   {
    "duration": 285,
    "start_time": "2024-02-26T11:40:11.181Z"
   },
   {
    "duration": 49,
    "start_time": "2024-02-26T11:40:11.467Z"
   },
   {
    "duration": 20,
    "start_time": "2024-02-26T11:40:11.518Z"
   },
   {
    "duration": 115,
    "start_time": "2024-02-26T11:40:11.540Z"
   },
   {
    "duration": 29,
    "start_time": "2024-02-26T11:40:11.656Z"
   },
   {
    "duration": 6,
    "start_time": "2024-02-26T11:40:11.686Z"
   },
   {
    "duration": 4,
    "start_time": "2024-02-26T11:40:11.693Z"
   },
   {
    "duration": 7,
    "start_time": "2024-02-26T11:40:11.698Z"
   },
   {
    "duration": 36,
    "start_time": "2024-02-26T11:40:11.706Z"
   },
   {
    "duration": 11,
    "start_time": "2024-02-26T11:40:11.744Z"
   },
   {
    "duration": 5,
    "start_time": "2024-02-26T11:40:11.756Z"
   },
   {
    "duration": 99,
    "start_time": "2024-02-26T11:41:42.085Z"
   },
   {
    "duration": 1008,
    "start_time": "2024-02-26T12:17:53.382Z"
   },
   {
    "duration": 67,
    "start_time": "2024-02-26T12:17:54.392Z"
   },
   {
    "duration": 53,
    "start_time": "2024-02-26T12:17:54.460Z"
   },
   {
    "duration": 19,
    "start_time": "2024-02-26T12:17:54.515Z"
   },
   {
    "duration": 11,
    "start_time": "2024-02-26T12:17:54.535Z"
   },
   {
    "duration": 4,
    "start_time": "2024-02-26T12:17:54.548Z"
   },
   {
    "duration": 7,
    "start_time": "2024-02-26T12:17:54.553Z"
   },
   {
    "duration": 5,
    "start_time": "2024-02-26T12:17:54.562Z"
   },
   {
    "duration": 11,
    "start_time": "2024-02-26T12:17:54.568Z"
   },
   {
    "duration": 6,
    "start_time": "2024-02-26T12:17:54.582Z"
   },
   {
    "duration": 6,
    "start_time": "2024-02-26T12:17:54.589Z"
   },
   {
    "duration": 15,
    "start_time": "2024-02-26T12:17:54.632Z"
   },
   {
    "duration": 16,
    "start_time": "2024-02-26T12:17:54.649Z"
   },
   {
    "duration": 11,
    "start_time": "2024-02-26T12:17:54.667Z"
   },
   {
    "duration": 197,
    "start_time": "2024-02-26T12:17:54.680Z"
   },
   {
    "duration": 140,
    "start_time": "2024-02-26T12:17:54.878Z"
   },
   {
    "duration": 170,
    "start_time": "2024-02-26T12:17:55.020Z"
   },
   {
    "duration": 191,
    "start_time": "2024-02-26T12:17:55.192Z"
   },
   {
    "duration": 195,
    "start_time": "2024-02-26T12:17:55.385Z"
   },
   {
    "duration": 56,
    "start_time": "2024-02-26T12:17:55.581Z"
   },
   {
    "duration": 28,
    "start_time": "2024-02-26T12:17:55.638Z"
   },
   {
    "duration": 316,
    "start_time": "2024-02-26T12:17:55.667Z"
   },
   {
    "duration": 286,
    "start_time": "2024-02-26T12:17:55.985Z"
   },
   {
    "duration": 49,
    "start_time": "2024-02-26T12:17:56.273Z"
   },
   {
    "duration": 12,
    "start_time": "2024-02-26T12:17:56.332Z"
   },
   {
    "duration": 107,
    "start_time": "2024-02-26T12:17:56.345Z"
   },
   {
    "duration": 28,
    "start_time": "2024-02-26T12:17:56.453Z"
   },
   {
    "duration": 4,
    "start_time": "2024-02-26T12:17:56.484Z"
   },
   {
    "duration": 4,
    "start_time": "2024-02-26T12:17:56.489Z"
   },
   {
    "duration": 5,
    "start_time": "2024-02-26T12:17:56.495Z"
   },
   {
    "duration": 13,
    "start_time": "2024-02-26T12:17:56.502Z"
   },
   {
    "duration": 9,
    "start_time": "2024-02-26T12:17:56.533Z"
   },
   {
    "duration": 4,
    "start_time": "2024-02-26T12:17:56.544Z"
   },
   {
    "duration": 1253,
    "start_time": "2024-02-26T15:10:08.070Z"
   },
   {
    "duration": 298,
    "start_time": "2024-02-26T15:10:09.325Z"
   },
   {
    "duration": 51,
    "start_time": "2024-02-26T15:10:09.625Z"
   },
   {
    "duration": 11,
    "start_time": "2024-02-26T15:10:09.677Z"
   },
   {
    "duration": 14,
    "start_time": "2024-02-26T15:10:09.689Z"
   },
   {
    "duration": 4,
    "start_time": "2024-02-26T15:10:09.705Z"
   },
   {
    "duration": 5,
    "start_time": "2024-02-26T15:10:09.711Z"
   },
   {
    "duration": 6,
    "start_time": "2024-02-26T15:10:09.717Z"
   },
   {
    "duration": 42,
    "start_time": "2024-02-26T15:10:09.724Z"
   },
   {
    "duration": 8,
    "start_time": "2024-02-26T15:10:09.768Z"
   },
   {
    "duration": 6,
    "start_time": "2024-02-26T15:10:09.777Z"
   },
   {
    "duration": 16,
    "start_time": "2024-02-26T15:10:09.785Z"
   },
   {
    "duration": 15,
    "start_time": "2024-02-26T15:10:09.802Z"
   },
   {
    "duration": 45,
    "start_time": "2024-02-26T15:10:09.821Z"
   },
   {
    "duration": 174,
    "start_time": "2024-02-26T15:10:09.867Z"
   },
   {
    "duration": 145,
    "start_time": "2024-02-26T15:10:10.043Z"
   },
   {
    "duration": 177,
    "start_time": "2024-02-26T15:10:10.190Z"
   },
   {
    "duration": 196,
    "start_time": "2024-02-26T15:10:10.368Z"
   },
   {
    "duration": 194,
    "start_time": "2024-02-26T15:10:10.565Z"
   },
   {
    "duration": 9,
    "start_time": "2024-02-26T15:10:10.761Z"
   },
   {
    "duration": 112,
    "start_time": "2024-02-26T16:14:32.913Z"
   },
   {
    "duration": 100,
    "start_time": "2024-02-26T16:14:48.746Z"
   },
   {
    "duration": 41,
    "start_time": "2024-02-26T16:15:20.884Z"
   },
   {
    "duration": 1197,
    "start_time": "2024-02-26T16:15:26.202Z"
   },
   {
    "duration": 292,
    "start_time": "2024-02-26T16:15:27.401Z"
   },
   {
    "duration": 54,
    "start_time": "2024-02-26T16:15:27.695Z"
   },
   {
    "duration": 55,
    "start_time": "2024-02-26T16:15:27.751Z"
   },
   {
    "duration": 37,
    "start_time": "2024-02-26T16:15:27.808Z"
   },
   {
    "duration": 5,
    "start_time": "2024-02-26T16:15:27.846Z"
   },
   {
    "duration": 5,
    "start_time": "2024-02-26T16:15:27.853Z"
   },
   {
    "duration": 5,
    "start_time": "2024-02-26T16:15:27.860Z"
   },
   {
    "duration": 14,
    "start_time": "2024-02-26T16:15:27.866Z"
   },
   {
    "duration": 7,
    "start_time": "2024-02-26T16:15:27.881Z"
   },
   {
    "duration": 5,
    "start_time": "2024-02-26T16:15:27.889Z"
   },
   {
    "duration": 15,
    "start_time": "2024-02-26T16:15:27.896Z"
   },
   {
    "duration": 17,
    "start_time": "2024-02-26T16:15:27.912Z"
   },
   {
    "duration": 13,
    "start_time": "2024-02-26T16:15:27.960Z"
   },
   {
    "duration": 178,
    "start_time": "2024-02-26T16:15:27.975Z"
   },
   {
    "duration": 146,
    "start_time": "2024-02-26T16:15:28.158Z"
   },
   {
    "duration": 182,
    "start_time": "2024-02-26T16:15:28.305Z"
   },
   {
    "duration": 208,
    "start_time": "2024-02-26T16:15:28.489Z"
   },
   {
    "duration": 201,
    "start_time": "2024-02-26T16:15:28.698Z"
   },
   {
    "duration": 13,
    "start_time": "2024-02-26T16:15:28.900Z"
   },
   {
    "duration": 58,
    "start_time": "2024-02-26T16:15:28.914Z"
   },
   {
    "duration": 35,
    "start_time": "2024-02-26T16:15:28.974Z"
   },
   {
    "duration": 275,
    "start_time": "2024-02-26T16:15:29.011Z"
   },
   {
    "duration": 374,
    "start_time": "2024-02-26T16:15:29.287Z"
   },
   {
    "duration": 53,
    "start_time": "2024-02-26T16:15:29.663Z"
   },
   {
    "duration": 12,
    "start_time": "2024-02-26T16:15:29.718Z"
   },
   {
    "duration": 57,
    "start_time": "2024-02-26T16:15:29.732Z"
   },
   {
    "duration": 31,
    "start_time": "2024-02-26T16:15:29.790Z"
   },
   {
    "duration": 5,
    "start_time": "2024-02-26T16:15:29.823Z"
   },
   {
    "duration": 32,
    "start_time": "2024-02-26T16:15:29.830Z"
   },
   {
    "duration": 5,
    "start_time": "2024-02-26T16:15:29.863Z"
   },
   {
    "duration": 6,
    "start_time": "2024-02-26T16:15:29.870Z"
   },
   {
    "duration": 10,
    "start_time": "2024-02-26T16:15:29.878Z"
   },
   {
    "duration": 4,
    "start_time": "2024-02-26T16:15:29.890Z"
   },
   {
    "duration": 10,
    "start_time": "2024-02-26T16:18:08.654Z"
   },
   {
    "duration": 11,
    "start_time": "2024-02-26T16:28:57.262Z"
   },
   {
    "duration": 10,
    "start_time": "2024-02-26T16:29:36.893Z"
   },
   {
    "duration": 3,
    "start_time": "2024-02-26T16:29:41.887Z"
   },
   {
    "duration": 87,
    "start_time": "2024-02-26T16:29:41.891Z"
   },
   {
    "duration": 50,
    "start_time": "2024-02-26T16:29:41.979Z"
   },
   {
    "duration": 12,
    "start_time": "2024-02-26T16:29:42.031Z"
   },
   {
    "duration": 10,
    "start_time": "2024-02-26T16:29:42.059Z"
   },
   {
    "duration": 9,
    "start_time": "2024-02-26T16:29:42.070Z"
   },
   {
    "duration": 19,
    "start_time": "2024-02-26T16:29:42.080Z"
   },
   {
    "duration": 17,
    "start_time": "2024-02-26T16:29:42.101Z"
   },
   {
    "duration": 39,
    "start_time": "2024-02-26T16:29:42.119Z"
   },
   {
    "duration": 31,
    "start_time": "2024-02-26T16:29:42.159Z"
   },
   {
    "duration": 42,
    "start_time": "2024-02-26T16:29:42.192Z"
   },
   {
    "duration": 33,
    "start_time": "2024-02-26T16:29:42.235Z"
   },
   {
    "duration": 39,
    "start_time": "2024-02-26T16:29:42.269Z"
   },
   {
    "duration": 22,
    "start_time": "2024-02-26T16:29:42.311Z"
   },
   {
    "duration": 180,
    "start_time": "2024-02-26T16:29:42.334Z"
   },
   {
    "duration": 154,
    "start_time": "2024-02-26T16:29:42.516Z"
   },
   {
    "duration": 191,
    "start_time": "2024-02-26T16:29:42.672Z"
   },
   {
    "duration": 196,
    "start_time": "2024-02-26T16:29:42.864Z"
   },
   {
    "duration": 203,
    "start_time": "2024-02-26T16:29:43.061Z"
   },
   {
    "duration": 9,
    "start_time": "2024-02-26T16:29:43.266Z"
   },
   {
    "duration": 46,
    "start_time": "2024-02-26T16:29:43.276Z"
   },
   {
    "duration": 68,
    "start_time": "2024-02-26T16:29:43.324Z"
   },
   {
    "duration": 29,
    "start_time": "2024-02-26T16:29:43.393Z"
   },
   {
    "duration": 295,
    "start_time": "2024-02-26T16:29:43.423Z"
   },
   {
    "duration": 288,
    "start_time": "2024-02-26T16:29:43.719Z"
   },
   {
    "duration": 52,
    "start_time": "2024-02-26T16:29:44.009Z"
   },
   {
    "duration": 13,
    "start_time": "2024-02-26T16:29:44.062Z"
   },
   {
    "duration": 71,
    "start_time": "2024-02-26T16:29:44.076Z"
   },
   {
    "duration": 48,
    "start_time": "2024-02-26T16:29:44.148Z"
   },
   {
    "duration": 5,
    "start_time": "2024-02-26T16:29:44.198Z"
   },
   {
    "duration": 20,
    "start_time": "2024-02-26T16:29:44.205Z"
   },
   {
    "duration": 30,
    "start_time": "2024-02-26T16:29:44.227Z"
   },
   {
    "duration": 30,
    "start_time": "2024-02-26T16:29:44.259Z"
   },
   {
    "duration": 29,
    "start_time": "2024-02-26T16:29:44.291Z"
   },
   {
    "duration": 25,
    "start_time": "2024-02-26T16:29:44.321Z"
   },
   {
    "duration": 10,
    "start_time": "2024-02-26T16:36:05.326Z"
   },
   {
    "duration": 9,
    "start_time": "2024-02-26T16:36:42.605Z"
   },
   {
    "duration": 10,
    "start_time": "2024-02-26T16:38:14.929Z"
   },
   {
    "duration": 2,
    "start_time": "2024-02-26T16:38:19.701Z"
   },
   {
    "duration": 97,
    "start_time": "2024-02-26T16:38:19.705Z"
   },
   {
    "duration": 48,
    "start_time": "2024-02-26T16:38:19.803Z"
   },
   {
    "duration": 10,
    "start_time": "2024-02-26T16:38:19.853Z"
   },
   {
    "duration": 10,
    "start_time": "2024-02-26T16:38:19.865Z"
   },
   {
    "duration": 4,
    "start_time": "2024-02-26T16:38:19.877Z"
   },
   {
    "duration": 11,
    "start_time": "2024-02-26T16:38:19.882Z"
   },
   {
    "duration": 8,
    "start_time": "2024-02-26T16:38:19.894Z"
   },
   {
    "duration": 24,
    "start_time": "2024-02-26T16:38:19.903Z"
   },
   {
    "duration": 9,
    "start_time": "2024-02-26T16:38:19.929Z"
   },
   {
    "duration": 5,
    "start_time": "2024-02-26T16:38:19.940Z"
   },
   {
    "duration": 15,
    "start_time": "2024-02-26T16:38:19.959Z"
   },
   {
    "duration": 15,
    "start_time": "2024-02-26T16:38:19.975Z"
   },
   {
    "duration": 13,
    "start_time": "2024-02-26T16:38:19.993Z"
   },
   {
    "duration": 188,
    "start_time": "2024-02-26T16:38:20.008Z"
   },
   {
    "duration": 235,
    "start_time": "2024-02-26T16:38:20.198Z"
   },
   {
    "duration": 181,
    "start_time": "2024-02-26T16:38:20.435Z"
   },
   {
    "duration": 201,
    "start_time": "2024-02-26T16:38:20.617Z"
   },
   {
    "duration": 205,
    "start_time": "2024-02-26T16:38:20.819Z"
   },
   {
    "duration": 9,
    "start_time": "2024-02-26T16:38:21.026Z"
   },
   {
    "duration": 24,
    "start_time": "2024-02-26T16:38:21.037Z"
   },
   {
    "duration": 45,
    "start_time": "2024-02-26T16:38:21.062Z"
   },
   {
    "duration": 28,
    "start_time": "2024-02-26T16:38:21.109Z"
   },
   {
    "duration": 311,
    "start_time": "2024-02-26T16:38:21.159Z"
   },
   {
    "duration": 280,
    "start_time": "2024-02-26T16:38:21.471Z"
   },
   {
    "duration": 51,
    "start_time": "2024-02-26T16:38:21.753Z"
   },
   {
    "duration": 13,
    "start_time": "2024-02-26T16:38:21.806Z"
   },
   {
    "duration": 60,
    "start_time": "2024-02-26T16:38:21.821Z"
   },
   {
    "duration": 32,
    "start_time": "2024-02-26T16:38:21.883Z"
   },
   {
    "duration": 5,
    "start_time": "2024-02-26T16:38:21.917Z"
   },
   {
    "duration": 23,
    "start_time": "2024-02-26T16:38:21.924Z"
   },
   {
    "duration": 14,
    "start_time": "2024-02-26T16:38:21.949Z"
   },
   {
    "duration": 28,
    "start_time": "2024-02-26T16:38:21.965Z"
   },
   {
    "duration": 21,
    "start_time": "2024-02-26T16:38:21.995Z"
   },
   {
    "duration": 5,
    "start_time": "2024-02-26T16:38:22.017Z"
   },
   {
    "duration": 1034,
    "start_time": "2024-02-26T16:38:54.989Z"
   },
   {
    "duration": 67,
    "start_time": "2024-02-26T16:38:56.025Z"
   },
   {
    "duration": 50,
    "start_time": "2024-02-26T16:38:56.094Z"
   },
   {
    "duration": 16,
    "start_time": "2024-02-26T16:38:56.145Z"
   },
   {
    "duration": 10,
    "start_time": "2024-02-26T16:38:56.163Z"
   },
   {
    "duration": 20,
    "start_time": "2024-02-26T16:38:56.175Z"
   },
   {
    "duration": 5,
    "start_time": "2024-02-26T16:38:56.196Z"
   },
   {
    "duration": 26,
    "start_time": "2024-02-26T16:38:56.202Z"
   },
   {
    "duration": 15,
    "start_time": "2024-02-26T16:38:56.230Z"
   },
   {
    "duration": 38,
    "start_time": "2024-02-26T16:38:56.246Z"
   },
   {
    "duration": 17,
    "start_time": "2024-02-26T16:38:56.286Z"
   },
   {
    "duration": 16,
    "start_time": "2024-02-26T16:38:56.305Z"
   },
   {
    "duration": 14,
    "start_time": "2024-02-26T16:38:56.323Z"
   },
   {
    "duration": 12,
    "start_time": "2024-02-26T16:38:56.339Z"
   },
   {
    "duration": 187,
    "start_time": "2024-02-26T16:38:56.352Z"
   },
   {
    "duration": 143,
    "start_time": "2024-02-26T16:38:56.540Z"
   },
   {
    "duration": 170,
    "start_time": "2024-02-26T16:38:56.684Z"
   },
   {
    "duration": 192,
    "start_time": "2024-02-26T16:38:56.859Z"
   },
   {
    "duration": 199,
    "start_time": "2024-02-26T16:38:57.052Z"
   },
   {
    "duration": 13,
    "start_time": "2024-02-26T16:38:57.252Z"
   },
   {
    "duration": 8,
    "start_time": "2024-02-26T16:38:57.267Z"
   },
   {
    "duration": 45,
    "start_time": "2024-02-26T16:38:57.276Z"
   },
   {
    "duration": 56,
    "start_time": "2024-02-26T16:38:57.322Z"
   },
   {
    "duration": 272,
    "start_time": "2024-02-26T16:38:57.380Z"
   },
   {
    "duration": 274,
    "start_time": "2024-02-26T16:38:57.654Z"
   },
   {
    "duration": 57,
    "start_time": "2024-02-26T16:38:57.929Z"
   },
   {
    "duration": 13,
    "start_time": "2024-02-26T16:38:57.987Z"
   },
   {
    "duration": 127,
    "start_time": "2024-02-26T16:38:58.001Z"
   },
   {
    "duration": 35,
    "start_time": "2024-02-26T16:38:58.130Z"
   },
   {
    "duration": 4,
    "start_time": "2024-02-26T16:38:58.167Z"
   },
   {
    "duration": 5,
    "start_time": "2024-02-26T16:38:58.173Z"
   },
   {
    "duration": 5,
    "start_time": "2024-02-26T16:38:58.180Z"
   },
   {
    "duration": 13,
    "start_time": "2024-02-26T16:38:58.187Z"
   },
   {
    "duration": 25,
    "start_time": "2024-02-26T16:38:58.202Z"
   },
   {
    "duration": 15,
    "start_time": "2024-02-26T16:38:58.229Z"
   },
   {
    "duration": 9,
    "start_time": "2024-02-26T16:40:38.910Z"
   },
   {
    "duration": 3,
    "start_time": "2024-02-26T16:40:48.844Z"
   },
   {
    "duration": 63,
    "start_time": "2024-02-26T16:40:48.849Z"
   },
   {
    "duration": 58,
    "start_time": "2024-02-26T16:40:48.914Z"
   },
   {
    "duration": 11,
    "start_time": "2024-02-26T16:40:48.974Z"
   },
   {
    "duration": 10,
    "start_time": "2024-02-26T16:40:48.987Z"
   },
   {
    "duration": 4,
    "start_time": "2024-02-26T16:40:48.998Z"
   },
   {
    "duration": 9,
    "start_time": "2024-02-26T16:40:49.003Z"
   },
   {
    "duration": 5,
    "start_time": "2024-02-26T16:40:49.013Z"
   },
   {
    "duration": 39,
    "start_time": "2024-02-26T16:40:49.020Z"
   },
   {
    "duration": 6,
    "start_time": "2024-02-26T16:40:49.061Z"
   },
   {
    "duration": 8,
    "start_time": "2024-02-26T16:40:49.069Z"
   },
   {
    "duration": 16,
    "start_time": "2024-02-26T16:40:49.078Z"
   },
   {
    "duration": 17,
    "start_time": "2024-02-26T16:40:49.095Z"
   },
   {
    "duration": 13,
    "start_time": "2024-02-26T16:40:49.113Z"
   },
   {
    "duration": 161,
    "start_time": "2024-02-26T16:40:49.159Z"
   },
   {
    "duration": 144,
    "start_time": "2024-02-26T16:40:49.321Z"
   },
   {
    "duration": 179,
    "start_time": "2024-02-26T16:40:49.466Z"
   },
   {
    "duration": 198,
    "start_time": "2024-02-26T16:40:49.646Z"
   },
   {
    "duration": 208,
    "start_time": "2024-02-26T16:40:49.845Z"
   },
   {
    "duration": 10,
    "start_time": "2024-02-26T16:40:50.055Z"
   },
   {
    "duration": 8,
    "start_time": "2024-02-26T16:40:50.067Z"
   },
   {
    "duration": 47,
    "start_time": "2024-02-26T16:40:50.076Z"
   },
   {
    "duration": 55,
    "start_time": "2024-02-26T16:40:50.124Z"
   },
   {
    "duration": 282,
    "start_time": "2024-02-26T16:40:50.180Z"
   },
   {
    "duration": 270,
    "start_time": "2024-02-26T16:40:50.463Z"
   },
   {
    "duration": 54,
    "start_time": "2024-02-26T16:40:50.734Z"
   },
   {
    "duration": 13,
    "start_time": "2024-02-26T16:40:50.789Z"
   },
   {
    "duration": 45,
    "start_time": "2024-02-26T16:40:50.805Z"
   },
   {
    "duration": 28,
    "start_time": "2024-02-26T16:40:50.859Z"
   },
   {
    "duration": 5,
    "start_time": "2024-02-26T16:40:50.889Z"
   },
   {
    "duration": 12,
    "start_time": "2024-02-26T16:40:50.896Z"
   },
   {
    "duration": 12,
    "start_time": "2024-02-26T16:40:50.909Z"
   },
   {
    "duration": 9,
    "start_time": "2024-02-26T16:40:50.922Z"
   },
   {
    "duration": 27,
    "start_time": "2024-02-26T16:40:50.932Z"
   },
   {
    "duration": 4,
    "start_time": "2024-02-26T16:40:50.961Z"
   },
   {
    "duration": 4,
    "start_time": "2024-02-26T16:43:29.916Z"
   },
   {
    "duration": 88,
    "start_time": "2024-02-26T16:43:29.922Z"
   },
   {
    "duration": 52,
    "start_time": "2024-02-26T16:43:30.012Z"
   },
   {
    "duration": 22,
    "start_time": "2024-02-26T16:43:30.066Z"
   },
   {
    "duration": 72,
    "start_time": "2024-02-26T16:43:30.091Z"
   },
   {
    "duration": 108,
    "start_time": "2024-02-26T16:43:30.165Z"
   },
   {
    "duration": 41,
    "start_time": "2024-02-26T16:43:30.275Z"
   },
   {
    "duration": 59,
    "start_time": "2024-02-26T16:43:30.317Z"
   },
   {
    "duration": 32,
    "start_time": "2024-02-26T16:43:30.378Z"
   },
   {
    "duration": 51,
    "start_time": "2024-02-26T16:43:30.412Z"
   },
   {
    "duration": 52,
    "start_time": "2024-02-26T16:43:30.464Z"
   },
   {
    "duration": 60,
    "start_time": "2024-02-26T16:43:30.518Z"
   },
   {
    "duration": 55,
    "start_time": "2024-02-26T16:43:30.580Z"
   },
   {
    "duration": 43,
    "start_time": "2024-02-26T16:43:30.638Z"
   },
   {
    "duration": 183,
    "start_time": "2024-02-26T16:43:30.683Z"
   },
   {
    "duration": 147,
    "start_time": "2024-02-26T16:43:30.868Z"
   },
   {
    "duration": 276,
    "start_time": "2024-02-26T16:43:31.016Z"
   },
   {
    "duration": 215,
    "start_time": "2024-02-26T16:43:31.294Z"
   },
   {
    "duration": 198,
    "start_time": "2024-02-26T16:43:31.511Z"
   },
   {
    "duration": 9,
    "start_time": "2024-02-26T16:43:31.710Z"
   },
   {
    "duration": 18,
    "start_time": "2024-02-26T16:43:31.720Z"
   },
   {
    "duration": 53,
    "start_time": "2024-02-26T16:43:31.739Z"
   },
   {
    "duration": 27,
    "start_time": "2024-02-26T16:43:31.794Z"
   },
   {
    "duration": 286,
    "start_time": "2024-02-26T16:43:31.822Z"
   },
   {
    "duration": 274,
    "start_time": "2024-02-26T16:43:32.110Z"
   },
   {
    "duration": 52,
    "start_time": "2024-02-26T16:43:32.386Z"
   },
   {
    "duration": 25,
    "start_time": "2024-02-26T16:43:32.439Z"
   },
   {
    "duration": 34,
    "start_time": "2024-02-26T16:43:32.466Z"
   },
   {
    "duration": 29,
    "start_time": "2024-02-26T16:43:32.501Z"
   },
   {
    "duration": 30,
    "start_time": "2024-02-26T16:43:32.531Z"
   },
   {
    "duration": 8,
    "start_time": "2024-02-26T16:43:32.563Z"
   },
   {
    "duration": 4,
    "start_time": "2024-02-26T16:43:32.573Z"
   },
   {
    "duration": 9,
    "start_time": "2024-02-26T16:43:32.579Z"
   },
   {
    "duration": 28,
    "start_time": "2024-02-26T16:43:32.589Z"
   },
   {
    "duration": 14,
    "start_time": "2024-02-26T16:43:32.619Z"
   },
   {
    "duration": 1116,
    "start_time": "2024-02-26T16:55:52.696Z"
   },
   {
    "duration": 71,
    "start_time": "2024-02-26T16:55:53.813Z"
   },
   {
    "duration": 52,
    "start_time": "2024-02-26T16:55:53.885Z"
   },
   {
    "duration": 24,
    "start_time": "2024-02-26T16:55:53.939Z"
   },
   {
    "duration": 15,
    "start_time": "2024-02-26T16:55:53.965Z"
   },
   {
    "duration": 4,
    "start_time": "2024-02-26T16:55:53.982Z"
   },
   {
    "duration": 17,
    "start_time": "2024-02-26T16:55:53.987Z"
   },
   {
    "duration": 5,
    "start_time": "2024-02-26T16:55:54.006Z"
   },
   {
    "duration": 10,
    "start_time": "2024-02-26T16:55:54.012Z"
   },
   {
    "duration": 34,
    "start_time": "2024-02-26T16:55:54.025Z"
   },
   {
    "duration": 6,
    "start_time": "2024-02-26T16:55:54.061Z"
   },
   {
    "duration": 17,
    "start_time": "2024-02-26T16:55:54.069Z"
   },
   {
    "duration": 20,
    "start_time": "2024-02-26T16:55:54.088Z"
   },
   {
    "duration": 13,
    "start_time": "2024-02-26T16:55:54.110Z"
   },
   {
    "duration": 219,
    "start_time": "2024-02-26T16:55:54.126Z"
   },
   {
    "duration": 171,
    "start_time": "2024-02-26T16:55:54.346Z"
   },
   {
    "duration": 189,
    "start_time": "2024-02-26T16:55:54.519Z"
   },
   {
    "duration": 220,
    "start_time": "2024-02-26T16:55:54.710Z"
   },
   {
    "duration": 211,
    "start_time": "2024-02-26T16:55:54.932Z"
   },
   {
    "duration": 19,
    "start_time": "2024-02-26T16:55:55.145Z"
   },
   {
    "duration": 13,
    "start_time": "2024-02-26T16:55:55.165Z"
   },
   {
    "duration": 49,
    "start_time": "2024-02-26T16:55:55.180Z"
   },
   {
    "duration": 58,
    "start_time": "2024-02-26T16:55:55.230Z"
   },
   {
    "duration": 311,
    "start_time": "2024-02-26T16:55:55.290Z"
   },
   {
    "duration": 303,
    "start_time": "2024-02-26T16:55:55.603Z"
   },
   {
    "duration": 67,
    "start_time": "2024-02-26T16:55:55.908Z"
   },
   {
    "duration": 12,
    "start_time": "2024-02-26T16:55:55.977Z"
   },
   {
    "duration": 39,
    "start_time": "2024-02-26T16:55:55.992Z"
   },
   {
    "duration": 122,
    "start_time": "2024-02-26T16:55:56.033Z"
   },
   {
    "duration": 13,
    "start_time": "2024-02-26T16:55:56.158Z"
   },
   {
    "duration": 5,
    "start_time": "2024-02-26T16:55:56.173Z"
   },
   {
    "duration": 28,
    "start_time": "2024-02-26T16:55:56.180Z"
   },
   {
    "duration": 8,
    "start_time": "2024-02-26T16:55:56.209Z"
   },
   {
    "duration": 11,
    "start_time": "2024-02-26T16:55:56.218Z"
   },
   {
    "duration": 3,
    "start_time": "2024-02-26T16:55:56.231Z"
   }
  ],
  "kernelspec": {
   "display_name": "Python 3 (ipykernel)",
   "language": "python",
   "name": "python3"
  },
  "language_info": {
   "codemirror_mode": {
    "name": "ipython",
    "version": 3
   },
   "file_extension": ".py",
   "mimetype": "text/x-python",
   "name": "python",
   "nbconvert_exporter": "python",
   "pygments_lexer": "ipython3",
   "version": "3.9.5"
  },
  "toc": {
   "base_numbering": 1,
   "nav_menu": {},
   "number_sections": true,
   "sideBar": true,
   "skip_h1_title": true,
   "title_cell": "Table of Contents",
   "title_sidebar": "Contents",
   "toc_cell": false,
   "toc_position": {},
   "toc_section_display": true,
   "toc_window_display": false
  }
 },
 "nbformat": 4,
 "nbformat_minor": 5
}
